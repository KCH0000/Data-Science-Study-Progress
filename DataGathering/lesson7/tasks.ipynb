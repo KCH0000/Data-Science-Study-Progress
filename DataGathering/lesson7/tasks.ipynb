{
 "cells": [
  {
   "cell_type": "markdown",
   "metadata": {},
   "source": [
    "<b>impors"
   ]
  },
  {
   "cell_type": "code",
   "execution_count": 1,
   "metadata": {},
   "outputs": [],
   "source": [
    "import csv\n",
    "import pandas as pd\n",
    "import numpy as np\n",
    "import matplotlib\n",
    "import matplotlib.pyplot as plt\n",
    "from pylab import rcParams\n",
    "from datetime import datetime\n",
    "from pprint import pprint"
   ]
  },
  {
   "cell_type": "markdown",
   "metadata": {},
   "source": [
    "<h2>Урок 7. Открытые данные</h2>\n",
    "<ol>\n",
    "<li>Создать приложение, которое будет из готового файла с данными «Сбербанка» (https://www.sberbank.com/ru/analytics/opendata) выводить результат по параметрам:\n",
    "    <ul>\n",
    "        <li>Тип данных\n",
    "        <li>Интервал дат\n",
    "        <li>Область\n",
    "    </ul>\n",
    "<li>Визуализировать выводимые данные с помощью графика\n",
    "<ul>"
   ]
  },
  {
   "cell_type": "markdown",
   "metadata": {},
   "source": [
    "<b>consts"
   ]
  },
  {
   "cell_type": "code",
   "execution_count": 2,
   "metadata": {},
   "outputs": [],
   "source": [
    "DATASET = 'opendata.csv'\n",
    "ENCODING = 'cp1251'\n",
    "%matplotlib inline\n",
    "rcParams['figure.figsize'] = 15, 9"
   ]
  },
  {
   "cell_type": "markdown",
   "metadata": {},
   "source": [
    "<b>Begin"
   ]
  },
  {
   "cell_type": "code",
   "execution_count": 3,
   "metadata": {},
   "outputs": [
    {
     "data": {
      "text/html": [
       "<div>\n",
       "<style scoped>\n",
       "    .dataframe tbody tr th:only-of-type {\n",
       "        vertical-align: middle;\n",
       "    }\n",
       "\n",
       "    .dataframe tbody tr th {\n",
       "        vertical-align: top;\n",
       "    }\n",
       "\n",
       "    .dataframe thead th {\n",
       "        text-align: right;\n",
       "    }\n",
       "</style>\n",
       "<table border=\"1\" class=\"dataframe\">\n",
       "  <thead>\n",
       "    <tr style=\"text-align: right;\">\n",
       "      <th></th>\n",
       "      <th>name</th>\n",
       "      <th>region</th>\n",
       "      <th>date</th>\n",
       "      <th>value</th>\n",
       "    </tr>\n",
       "  </thead>\n",
       "  <tbody>\n",
       "    <tr>\n",
       "      <th>0</th>\n",
       "      <td>Количество заявок на потребительские кредиты</td>\n",
       "      <td>Россия</td>\n",
       "      <td>2013-01-15</td>\n",
       "      <td>571147</td>\n",
       "    </tr>\n",
       "    <tr>\n",
       "      <th>1</th>\n",
       "      <td>Количество заявок на потребительские кредиты</td>\n",
       "      <td>Россия</td>\n",
       "      <td>2013-02-15</td>\n",
       "      <td>504508</td>\n",
       "    </tr>\n",
       "    <tr>\n",
       "      <th>2</th>\n",
       "      <td>Количество заявок на потребительские кредиты</td>\n",
       "      <td>Россия</td>\n",
       "      <td>2013-03-15</td>\n",
       "      <td>628803</td>\n",
       "    </tr>\n",
       "    <tr>\n",
       "      <th>3</th>\n",
       "      <td>Количество заявок на потребительские кредиты</td>\n",
       "      <td>Россия</td>\n",
       "      <td>2013-04-15</td>\n",
       "      <td>836054</td>\n",
       "    </tr>\n",
       "    <tr>\n",
       "      <th>4</th>\n",
       "      <td>Количество заявок на потребительские кредиты</td>\n",
       "      <td>Россия</td>\n",
       "      <td>2013-05-15</td>\n",
       "      <td>867235</td>\n",
       "    </tr>\n",
       "  </tbody>\n",
       "</table>\n",
       "</div>"
      ],
      "text/plain": [
       "                                           name  region        date   value\n",
       "0  Количество заявок на потребительские кредиты  Россия  2013-01-15  571147\n",
       "1  Количество заявок на потребительские кредиты  Россия  2013-02-15  504508\n",
       "2  Количество заявок на потребительские кредиты  Россия  2013-03-15  628803\n",
       "3  Количество заявок на потребительские кредиты  Россия  2013-04-15  836054\n",
       "4  Количество заявок на потребительские кредиты  Россия  2013-05-15  867235"
      ]
     },
     "execution_count": 3,
     "metadata": {},
     "output_type": "execute_result"
    }
   ],
   "source": [
    "data = pd.read_csv(DATASET, encoding=ENCODING, index_col=False)\n",
    "data.head(5)"
   ]
  },
  {
   "cell_type": "code",
   "execution_count": 4,
   "metadata": {},
   "outputs": [
    {
     "name": "stdout",
     "output_type": "stream",
     "text": [
      "Доступные регионы\n"
     ]
    },
    {
     "data": {
      "text/plain": [
       "array(['Россия', 'Алтайский край', 'Амурская область',\n",
       "       'Архангельская область', 'Астраханская область',\n",
       "       'Белгородская область', 'Брянская область', 'Владимирская область',\n",
       "       'Волгоградская область', 'Вологодская область',\n",
       "       'Воронежская область', 'Еврейская автономная область',\n",
       "       'Забайкальский край', 'Ивановская область', 'Иркутская область',\n",
       "       'Кабардино-Балкарская Республика', 'Калининградская область',\n",
       "       'Калужская область', 'Камчатский край', 'Кемеровская область',\n",
       "       'Кировская область', 'Костромская область', 'Краснодарский край',\n",
       "       'Красноярский край', 'Курганская область', 'Курская область',\n",
       "       'Ленинградская область', 'Липецкая область', 'Магаданская область',\n",
       "       'Москва', 'Московская область', 'Мурманская область',\n",
       "       'Ненецкий автономный округ', 'Нижегородская область',\n",
       "       'Новгородская область', 'Новосибирская область', 'Омская область',\n",
       "       'Оренбургская область', 'Орловская область', 'Пензенская область',\n",
       "       'Пермский край', 'Приморский край', 'Псковская область',\n",
       "       'Республика Адыгея', 'Республика Алтай (Горный Алтай)',\n",
       "       'Республика Башкортостан', 'Республика Бурятия',\n",
       "       'Республика Дагестан', 'Республика Ингушетия',\n",
       "       'Республика Калмыкия', 'Республика Карачаево-Черкессия',\n",
       "       'Республика Карелия', 'Республика Коми', 'Республика Марий Эл',\n",
       "       'Республика Мордовия', 'Республика Саха (Якутия)',\n",
       "       'Республика Северная Осетия-Алания', 'Республика Татарстан',\n",
       "       'Республика Тыва', 'Республика Хакасия', 'Ростовская область',\n",
       "       'Рязанская область', 'Самарская область', 'Санкт-Петербург',\n",
       "       'Саратовская область', 'Сахалинская область',\n",
       "       'Свердловская область', 'Смоленская область',\n",
       "       'Ставропольский край', 'Тамбовская область', 'Тверская область',\n",
       "       'Томская область', 'Тульская область', 'Тюменская область',\n",
       "       'Удмуртская Республика', 'Ульяновская область', 'Хабаровский край',\n",
       "       'Ханты-Мансийский автономный округ — Югра', 'Челябинская область',\n",
       "       'Чеченская Республика', 'Чувашская Республика',\n",
       "       'Чукотский автономный округ', 'Ямало-Ненецкий автономный округ',\n",
       "       'Ярославская область'], dtype=object)"
      ]
     },
     "execution_count": 4,
     "metadata": {},
     "output_type": "execute_result"
    }
   ],
   "source": [
    "print(\"Доступные регионы\")\n",
    "data['region'].unique()"
   ]
  },
  {
   "cell_type": "code",
   "execution_count": 5,
   "metadata": {},
   "outputs": [
    {
     "name": "stdout",
     "output_type": "stream",
     "text": [
      "Доступные Датасеты\n"
     ]
    },
    {
     "data": {
      "text/plain": [
       "array(['Количество заявок на потребительские кредиты',\n",
       "       'Средняя сумма заявки на потребительский кредит',\n",
       "       'Количество заявок на ипотечные кредиты',\n",
       "       'Средняя сумма заявки на ипотечный кредит',\n",
       "       'Количество новых депозитов', 'Средняя сумма нового депозита',\n",
       "       'Средняя зарплата', 'Средняя пенсия',\n",
       "       'В среднем руб. на текущем счете на человека',\n",
       "       'В среднем депозитов в руб. на человека',\n",
       "       'Средние расходы по картам', 'Средний чек в формате Фастфуд',\n",
       "       'Средний чек в формате Ресторан',\n",
       "       'Средние траты в ресторане фастфуд', 'Средние траты в ресторане'],\n",
       "      dtype=object)"
      ]
     },
     "execution_count": 5,
     "metadata": {},
     "output_type": "execute_result"
    }
   ],
   "source": [
    "print(\"Доступные Датасеты\")\n",
    "data['name'].unique()"
   ]
  },
  {
   "cell_type": "code",
   "execution_count": 6,
   "metadata": {},
   "outputs": [
    {
     "name": "stdout",
     "output_type": "stream",
     "text": [
      "Даты доступны между 2013-01-15 - 2019-01-15\n"
     ]
    }
   ],
   "source": [
    "print(f'Даты доступны между {data[\"date\"].min()} - {data[\"date\"].max()}')"
   ]
  },
  {
   "cell_type": "code",
   "execution_count": 7,
   "metadata": {},
   "outputs": [],
   "source": [
    "NAME = 'Количество заявок на ипотечные кредиты'\n",
    "REGION = 'Республика Татарстан'\n",
    "S_DATE = '2013-01-15'\n",
    "E_DATE = '2019-01-15'"
   ]
  },
  {
   "cell_type": "code",
   "execution_count": 8,
   "metadata": {},
   "outputs": [
    {
     "data": {
      "text/html": [
       "<div>\n",
       "<style scoped>\n",
       "    .dataframe tbody tr th:only-of-type {\n",
       "        vertical-align: middle;\n",
       "    }\n",
       "\n",
       "    .dataframe tbody tr th {\n",
       "        vertical-align: top;\n",
       "    }\n",
       "\n",
       "    .dataframe thead th {\n",
       "        text-align: right;\n",
       "    }\n",
       "</style>\n",
       "<table border=\"1\" class=\"dataframe\">\n",
       "  <thead>\n",
       "    <tr style=\"text-align: right;\">\n",
       "      <th></th>\n",
       "      <th>name</th>\n",
       "      <th>region</th>\n",
       "      <th>date</th>\n",
       "      <th>value</th>\n",
       "    </tr>\n",
       "  </thead>\n",
       "  <tbody>\n",
       "    <tr>\n",
       "      <th>16424</th>\n",
       "      <td>Количество заявок на ипотечные кредиты</td>\n",
       "      <td>Республика Татарстан</td>\n",
       "      <td>2013-01-15</td>\n",
       "      <td>1035</td>\n",
       "    </tr>\n",
       "    <tr>\n",
       "      <th>16425</th>\n",
       "      <td>Количество заявок на ипотечные кредиты</td>\n",
       "      <td>Республика Татарстан</td>\n",
       "      <td>2013-02-15</td>\n",
       "      <td>1270</td>\n",
       "    </tr>\n",
       "    <tr>\n",
       "      <th>16426</th>\n",
       "      <td>Количество заявок на ипотечные кредиты</td>\n",
       "      <td>Республика Татарстан</td>\n",
       "      <td>2013-03-15</td>\n",
       "      <td>1534</td>\n",
       "    </tr>\n",
       "    <tr>\n",
       "      <th>16427</th>\n",
       "      <td>Количество заявок на ипотечные кредиты</td>\n",
       "      <td>Республика Татарстан</td>\n",
       "      <td>2013-04-15</td>\n",
       "      <td>1280</td>\n",
       "    </tr>\n",
       "    <tr>\n",
       "      <th>16428</th>\n",
       "      <td>Количество заявок на ипотечные кредиты</td>\n",
       "      <td>Республика Татарстан</td>\n",
       "      <td>2013-05-15</td>\n",
       "      <td>992</td>\n",
       "    </tr>\n",
       "  </tbody>\n",
       "</table>\n",
       "</div>"
      ],
      "text/plain": [
       "                                         name                region  \\\n",
       "16424  Количество заявок на ипотечные кредиты  Республика Татарстан   \n",
       "16425  Количество заявок на ипотечные кредиты  Республика Татарстан   \n",
       "16426  Количество заявок на ипотечные кредиты  Республика Татарстан   \n",
       "16427  Количество заявок на ипотечные кредиты  Республика Татарстан   \n",
       "16428  Количество заявок на ипотечные кредиты  Республика Татарстан   \n",
       "\n",
       "             date  value  \n",
       "16424  2013-01-15   1035  \n",
       "16425  2013-02-15   1270  \n",
       "16426  2013-03-15   1534  \n",
       "16427  2013-04-15   1280  \n",
       "16428  2013-05-15    992  "
      ]
     },
     "execution_count": 8,
     "metadata": {},
     "output_type": "execute_result"
    }
   ],
   "source": [
    "d = data.loc[(data['name'] == NAME) & (data['region'] == REGION) & data['date'].between(S_DATE, E_DATE)]\n",
    "d.head()"
   ]
  },
  {
   "cell_type": "code",
   "execution_count": 9,
   "metadata": {},
   "outputs": [
    {
     "data": {
      "image/png": "[encoded data removed]",
      "text/plain": [
       "<Figure size 1080x648 with 1 Axes>"
      ]
     },
     "metadata": {
      "needs_background": "light"
     },
     "output_type": "display_data"
    }
   ],
   "source": [
    "dates = np.array(d['date'])\n",
    "X = []\n",
    "for date in dates:\n",
    "    X.append(matplotlib.dates.date2num(datetime.strptime(date, '%Y-%m-%d')))\n",
    "X = np.array(X)\n",
    "Y = np.array(d['value'])\n",
    "\n",
    "ax = plt.gca()\n",
    "ax.xaxis.set_minor_locator(matplotlib.dates.MonthLocator([1, 7]))\n",
    "ax.xaxis.set_minor_formatter(matplotlib.dates.DateFormatter('%b'))\n",
    "ax.xaxis.set_major_locator(matplotlib.dates.YearLocator())\n",
    "ax.xaxis.set_major_formatter(matplotlib.dates.DateFormatter('%Y'))\n",
    "ax.tick_params(pad=20)\n",
    "plt.plot(X, Y, color='g')\n",
    "plt.xlabel('Дата', labelpad=5)\n",
    "plt.ylabel('руб.')\n",
    "plt.title(f'{NAME} в {REGION}')\n",
    "plt.grid()"
   ]
  }
 ],
 "metadata": {
  "kernelspec": {
   "display_name": "Python 3",
   "language": "python",
   "name": "python3"
  },
  "language_info": {
   "codemirror_mode": {
    "name": "ipython",
    "version": 3
   },
   "file_extension": ".py",
   "mimetype": "text/x-python",
   "name": "python",
   "nbconvert_exporter": "python",
   "pygments_lexer": "ipython3",
   "version": "3.7.3"
  }
 },
 "nbformat": 4,
 "nbformat_minor": 2
}
