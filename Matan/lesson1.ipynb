{
 "cells": [
  {
   "cell_type": "code",
   "execution_count": 4,
   "metadata": {},
   "outputs": [],
   "source": [
    "from random import randint as rnd\n",
    "from itertools import combinations as comb, product as prod"
   ]
  },
  {
   "cell_type": "markdown",
   "metadata": {},
   "source": [
    "<h2>Задание 1 </h2> <br>\n",
    "<i>\n",
    "Как относятся друг к другу множество и последовательность? (в ответе использовать слова типа: часть, целое, общее, частное, родитель, дочерний субъект и т.д.)\n",
    "<i>"
   ]
  },
  {
   "cell_type": "markdown",
   "metadata": {},
   "source": [
    "<b>Решение:</b> Последовательность это набор элементов множества, таких, что для каждого n принажлежащего N можно сопоставить элемент данного многожества."
   ]
  },
  {
   "cell_type": "markdown",
   "metadata": {},
   "source": [
    "<h2>Задание 2 </h2> <br>\n",
    "Прочитать высказывания математической логики, построить их отрицания и *установить истинность."
   ]
  },
  {
   "cell_type": "markdown",
   "metadata": {},
   "source": [
    "<b>Решение:</b>"
   ]
  },
  {
   "cell_type": "markdown",
   "metadata": {},
   "source": [
    "$\\forall y \\in[0 ; 1] : \\operatorname{sgn}(y)=1$<br>\n",
    "<b>Значение:</b><br>\n",
    "Для любого y в отрезке от 0(включтельно) до 1(включительно) сигунум от y = 1<br>\n",
    "<b>Отрицание:</b><br>\n",
    "$\\exists y \\in[0 ; 1] : \\operatorname{sgn}(y)\\not=1$\n",
    "Существует y в отрезке от 0(включтельно) до 1(включительно) сигунум от y != 1. <br>\n",
    "Действительно такое при y = 0 sgn(y) = 0. <br>\n",
    "Второе утверждение верно => первое ложно."
   ]
  },
  {
   "cell_type": "markdown",
   "metadata": {},
   "source": [
    "$\\forall n \\in \\mathbb{N}>2 : \\exists x, y, z \\in \\mathbb{N} : x^{n}=y^{n}+z^{n}$<br>\n",
    "<b>Значение:</b><br>\n",
    "Для любого натурального числа n больше 2 существуеют натуральные числа x, y, z такие, что выполняется равенство  $x^{n}=y^{n}+z^{n}$<br>\n",
    "<b>Отрицание:</b><br>\n",
    "$\\exists n \\in \\mathbb{N}>2 : \\forall x, y, z \\in \\mathbb{N} : x^{n}\\not=y^{n}+z^{n}$<br>\n",
    "Существует такое натуральное число n, что для любых натуральных чисел x, y, z равенство $x^{n}=y^{n}+z^{n}$ неверно<br>\n",
    "Первое утверждение ложно => второе истино."
   ]
  },
  {
   "cell_type": "markdown",
   "metadata": {},
   "source": [
    "$\\forall x \\in \\mathbb{R} \\exists X \\in \\mathbb{R} : X > x$ <br>\n",
    "<b>Значение:</b><br>\n",
    "Для любого вещественного х существует X, такое что X больше х\n",
    "<b>Отрицание:</b><br>\n",
    "$\\exists x \\in \\mathbb{R} \\forall X \\in \\mathbb{R} : X\\leq x$<br>\n",
    "Существует вещественное х, такое что для любого вещественного Х выволнено неравенство Х мельнше или равно х.<br>\n",
    "Первое утверждение истино => второе ложно"
   ]
  },
  {
   "cell_type": "markdown",
   "metadata": {},
   "source": [
    "$\\forall x \\in \\mathbb{C} \\not \\exists y \\in \\mathbb{C} : x > y \\| x < y$<br>\n",
    "<b>Значение:</b><br>\n",
    "Для любого комплексного х не существует комплексного y такого что выволнено у меньше х или y больше x<br>\n",
    "Сравнительной оперции между комплесными числами не существует, поэтому утвеждение составлено с ошибкой и как следствие отрицания данного утверждения не существует. "
   ]
  },
  {
   "cell_type": "markdown",
   "metadata": {},
   "source": [
    "$\\forall y \\in\\left[0 ; \\frac{\\pi}{2}\\right] \\exists \\varepsilon > 0 : \\sin(y) < \\sin (y+\\varepsilon)$<br>\n",
    "<b>Значение:</b><br>\n",
    "Для любого y в отрезке $\\left[0 ; \\frac{\\pi}{2}\\right]$ существует положительный эпсилон, такой что sin(y) < sin(y + епислон)<br>\n",
    "<b>Отрицание:</b><br>\n",
    "$\\exists y \\in\\left[0 ; \\frac{\\pi}{2}\\right] \\forall \\varepsilon > 0 : \\sin (y) \\geq \\sin (y+\\varepsilon)$<br>\n",
    "При эпсилон равном pi/2 неравенство верно, поэтому утвеждение верно, отрицание не верно. "
   ]
  },
  {
   "cell_type": "markdown",
   "metadata": {},
   "source": [
    "$\\forall y \\in[0 ; \\pi) \\exists \\varepsilon > 0 : \\cos y > \\cos (y+\\varepsilon)$<br>\n",
    "<b>Значение:</b><br>\n",
    "Для любого y в отрезке $[0 ; \\pi)$ сущесвтвует такой эпсилон, что выполняется неравенство  $\\cos y > \\cos (y+\\varepsilon)$<br>\n",
    "<b>Отрицание:</b><br>\n",
    "$\\exists y \\in[0 ; \\pi) \\forall \\varepsilon > 0 : \\cos y \\leq \\cos (y+\\varepsilon)$<br>\n",
    "При эписилон равном пи первое утвеждение будет верно. Значит отрицание не верно"
   ]
  },
  {
   "cell_type": "markdown",
   "metadata": {},
   "source": [
    "$\\exists x : x \\notin\\{\\mathbb{N}, \\mathbb{Z}, \\mathbb{Q}, \\mathbb{R}, \\mathbb{C}\\}$<br>\n",
    "<b>Значение:</b><br>\n",
    "Существует x, которое не принаджлежит множеству комплексных числе и его подмножемтвам.<br>\n",
    "<b>Отрицание:</b><br>\n",
    "$\\forall x : x \\in\\{\\mathbb{N}, \\mathbb{Z}, \\mathbb{Q}, \\mathbb{R}, \\mathbb{C}\\}$<br>\n",
    "Сущесвуют многомерные расширения комплесных чисел, поэтому и сущестует х не принадлежищий множеству комплексных чисел. Утверждение верное"
   ]
  },
  {
   "cell_type": "markdown",
   "metadata": {},
   "source": [
    "<h2>Задание 3 </h2> <br>\n",
    "<i>\n",
    "Даны три множества a,b и с. Необходимо выполнить все изученные виды бинарных операций над всеми комбинациями множеств.\n",
    "<i>"
   ]
  },
  {
   "cell_type": "markdown",
   "metadata": {},
   "source": [
    "<b>Решение:</b> "
   ]
  },
  {
   "cell_type": "code",
   "execution_count": 2,
   "metadata": {},
   "outputs": [],
   "source": [
    "sets = {\n",
    "    'a': set([rnd(0, 10) for _ in range(1, rnd(3, 5))]),\n",
    "    'b': set([rnd(0, 10) for _ in range(1, rnd(3, 5))]),\n",
    "    'c': set([rnd(0, 10) for _ in range(1, rnd(3, 5))])\n",
    "}"
   ]
  },
  {
   "cell_type": "code",
   "execution_count": 9,
   "metadata": {},
   "outputs": [
    {
     "name": "stdout",
     "output_type": "stream",
     "text": [
      "a = {0, 3, 4} \n",
      "b = {1, 7}\n",
      "Объединение: {0, 1, 3, 4, 7}\n",
      "Пересечение: set()\n",
      "Разность: {0, 3, 4}\n",
      "Симметрическая разность: {0, 1, 3, 4, 7}\n"
     ]
    },
    {
     "ename": "NameError",
     "evalue": "name 'decart' is not defined",
     "output_type": "error",
     "traceback": [
      "\u001b[0;31m---------------------------------------------------------------------------\u001b[0m",
      "\u001b[0;31mNameError\u001b[0m                                 Traceback (most recent call last)",
      "\u001b[0;32m<ipython-input-9-3861fe8c6923>\u001b[0m in \u001b[0;36m<module>\u001b[0;34m\u001b[0m\n\u001b[1;32m      9\u001b[0m     \u001b[0mprint\u001b[0m\u001b[0;34m(\u001b[0m\u001b[0;34mf'Разность: {sets[x1] - sets[x2]}'\u001b[0m\u001b[0;34m)\u001b[0m\u001b[0;34m\u001b[0m\u001b[0;34m\u001b[0m\u001b[0m\n\u001b[1;32m     10\u001b[0m     \u001b[0mprint\u001b[0m\u001b[0;34m(\u001b[0m\u001b[0;34mf'Симметрическая разность: {sets[x1] ^ sets[x2]}'\u001b[0m\u001b[0;34m)\u001b[0m\u001b[0;34m\u001b[0m\u001b[0;34m\u001b[0m\u001b[0m\n\u001b[0;32m---> 11\u001b[0;31m     \u001b[0mprint\u001b[0m\u001b[0;34m(\u001b[0m\u001b[0;34mf'Декартово произведение: {decart}'\u001b[0m\u001b[0;34m)\u001b[0m\u001b[0;34m\u001b[0m\u001b[0;34m\u001b[0m\u001b[0m\n\u001b[0m",
      "\u001b[0;31mNameError\u001b[0m: name 'decart' is not defined"
     ]
    }
   ],
   "source": [
    "for set in comb(sets.keys(), 2):\n",
    "    dekart = []\n",
    "    x1, x2 = set\n",
    "    for x in prod(sets[x1], sets[x2]):\n",
    "        dekart.append(x)\n",
    "    print(f'{x1} = {sets[x1]} \\n{x2} = {sets[x2]}')\n",
    "    print(f'Объединение: {sets[x1] | sets[x2]}')\n",
    "    print(f'Пересечение: {sets[x1] & sets[x2]}')\n",
    "    print(f'Разность: {sets[x1] - sets[x2]}')\n",
    "    print(f'Симметрическая разность: {sets[x1] ^ sets[x2]}')\n",
    "    print(f'Декартово произведение: {decart}')"
   ]
  },
  {
   "cell_type": "code",
   "execution_count": null,
   "metadata": {},
   "outputs": [],
   "source": []
  }
 ],
 "metadata": {
  "kernelspec": {
   "display_name": "Python 3",
   "language": "python",
   "name": "python3"
  },
  "language_info": {
   "codemirror_mode": {
    "name": "ipython",
    "version": 3
   },
   "file_extension": ".py",
   "mimetype": "text/x-python",
   "name": "python",
   "nbconvert_exporter": "python",
   "pygments_lexer": "ipython3",
   "version": "3.6.7"
  }
 },
 "nbformat": 4,
 "nbformat_minor": 2
}
