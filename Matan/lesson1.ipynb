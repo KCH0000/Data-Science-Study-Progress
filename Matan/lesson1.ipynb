{
 "cells": [
  {
   "cell_type": "code",
   "execution_count": 29,
   "metadata": {},
   "outputs": [],
   "source": [
    "from random import randint as rnd\n",
    "from itertools import combinations as comb, product as prod\n",
    "from math import factorial as f, sqrt, pi, e"
   ]
  },
  {
   "cell_type": "markdown",
   "metadata": {},
   "source": [
    "<h2>Задание 1 </h2> <br>\n",
    "<i>\n",
    "Как относятся друг к другу множество и последовательность? (в ответе использовать слова типа: часть, целое, общее, частное, родитель, дочерний субъект и т.д.)\n",
    "<i>"
   ]
  },
  {
   "cell_type": "markdown",
   "metadata": {},
   "source": [
    "<b>Решение:</b> Последовательность это набор элементов множества, таких, что для каждого n принажлежащего N можно сопоставить элемент данного многожества."
   ]
  },
  {
   "cell_type": "markdown",
   "metadata": {},
   "source": [
    "<h2>Задание 2 </h2> <br>\n",
    "Прочитать высказывания математической логики, построить их отрицания и *установить истинность."
   ]
  },
  {
   "cell_type": "markdown",
   "metadata": {},
   "source": [
    "<b>Решение:</b>"
   ]
  },
  {
   "cell_type": "markdown",
   "metadata": {},
   "source": [
    "$\\forall y \\in[0 ; 1] : \\operatorname{sgn}(y)=1$<br>\n",
    "<b>Значение:</b><br>\n",
    "Для любого y в отрезке от 0(включтельно) до 1(включительно) сигунум от y = 1<br>\n",
    "<b>Отрицание:</b><br>\n",
    "$\\exists y \\in[0 ; 1] : \\operatorname{sgn}(y)\\not=1$\n",
    "Существует y в отрезке от 0(включтельно) до 1(включительно) сигунум от y != 1. <br>\n",
    "Действительно такое при y = 0 sgn(y) = 0. <br>\n",
    "Второе утверждение верно => первое ложно."
   ]
  },
  {
   "cell_type": "markdown",
   "metadata": {},
   "source": [
    "$\\forall n \\in \\mathbb{N}>2 : \\exists x, y, z \\in \\mathbb{N} : x^{n}=y^{n}+z^{n}$<br>\n",
    "<b>Значение:</b><br>\n",
    "Для любого натурального числа n больше 2 существуеют натуральные числа x, y, z такие, что выполняется равенство  $x^{n}=y^{n}+z^{n}$<br>\n",
    "<b>Отрицание:</b><br>\n",
    "$\\exists n \\in \\mathbb{N}>2 : \\forall x, y, z \\in \\mathbb{N} : x^{n}\\not=y^{n}+z^{n}$<br>\n",
    "Существует такое натуральное число n, что для любых натуральных чисел x, y, z равенство $x^{n}=y^{n}+z^{n}$ неверно<br>\n",
    "Первое утверждение ложно => второе истино."
   ]
  },
  {
   "cell_type": "markdown",
   "metadata": {},
   "source": [
    "$\\forall x \\in \\mathbb{R} \\exists X \\in \\mathbb{R} : X > x$ <br>\n",
    "<b>Значение:</b><br>\n",
    "Для любого вещественного х существует X, такое что X больше х\n",
    "<b>Отрицание:</b><br>\n",
    "$\\exists x \\in \\mathbb{R} \\forall X \\in \\mathbb{R} : X\\leq x$<br>\n",
    "Существует вещественное х, такое что для любого вещественного Х выволнено неравенство Х мельнше или равно х.<br>\n",
    "Первое утверждение истино => второе ложно"
   ]
  },
  {
   "cell_type": "markdown",
   "metadata": {},
   "source": [
    "$\\forall x \\in \\mathbb{C} \\not \\exists y \\in \\mathbb{C} : x > y \\| x < y$<br>\n",
    "<b>Значение:</b><br>\n",
    "Для любого комплексного х не существует комплексного y такого что выволнено у меньше х или y больше x<br>\n",
    "Сравнительной оперции между комплесными числами не существует, поэтому утвеждение составлено с ошибкой и как следствие отрицания данного утверждения не существует. "
   ]
  },
  {
   "cell_type": "markdown",
   "metadata": {},
   "source": [
    "$\\forall y \\in\\left[0 ; \\frac{\\pi}{2}\\right] \\exists \\varepsilon > 0 : \\sin(y) < \\sin (y+\\varepsilon)$<br>\n",
    "<b>Значение:</b><br>\n",
    "Для любого y в отрезке $\\left[0 ; \\frac{\\pi}{2}\\right]$ существует положительный эпсилон, такой что sin(y) < sin(y + епислон)<br>\n",
    "<b>Отрицание:</b><br>\n",
    "$\\exists y \\in\\left[0 ; \\frac{\\pi}{2}\\right] \\forall \\varepsilon > 0 : \\sin (y) \\geq \\sin (y+\\varepsilon)$<br>\n",
    "При эпсилон равном pi/2 неравенство верно, поэтому утвеждение верно, отрицание не верно. "
   ]
  },
  {
   "cell_type": "markdown",
   "metadata": {},
   "source": [
    "$\\forall y \\in[0 ; \\pi) \\exists \\varepsilon > 0 : \\cos y > \\cos (y+\\varepsilon)$<br>\n",
    "<b>Значение:</b><br>\n",
    "Для любого y в отрезке $[0 ; \\pi)$ сущесвтвует такой эпсилон, что выполняется неравенство  $\\cos y > \\cos (y+\\varepsilon)$<br>\n",
    "<b>Отрицание:</b><br>\n",
    "$\\exists y \\in[0 ; \\pi) \\forall \\varepsilon > 0 : \\cos y \\leq \\cos (y+\\varepsilon)$<br>\n",
    "При эписилон равном пи первое утвеждение будет верно. Значит отрицание не верно"
   ]
  },
  {
   "cell_type": "markdown",
   "metadata": {},
   "source": [
    "$\\exists x : x \\notin\\{\\mathbb{N}, \\mathbb{Z}, \\mathbb{Q}, \\mathbb{R}, \\mathbb{C}\\}$<br>\n",
    "<b>Значение:</b><br>\n",
    "Существует x, которое не принаджлежит множеству комплексных числе и его подмножемтвам.<br>\n",
    "<b>Отрицание:</b><br>\n",
    "$\\forall x : x \\in\\{\\mathbb{N}, \\mathbb{Z}, \\mathbb{Q}, \\mathbb{R}, \\mathbb{C}\\}$<br>\n",
    "Сущесвуют многомерные расширения комплесных чисел, поэтому и сущестует х не принадлежищий множеству комплексных чисел. Утверждение верное"
   ]
  },
  {
   "cell_type": "markdown",
   "metadata": {},
   "source": [
    "<h2>Задание 3 </h2> <br>\n",
    "<i>\n",
    "Даны три множества a,b и с. Необходимо выполнить все изученные виды бинарных операций над всеми комбинациями множеств.\n",
    "<i>"
   ]
  },
  {
   "cell_type": "markdown",
   "metadata": {},
   "source": [
    "<b>Решение:</b> "
   ]
  },
  {
   "cell_type": "code",
   "execution_count": 2,
   "metadata": {},
   "outputs": [],
   "source": [
    "sets = {\n",
    "    'a': set([rnd(0, 10) for _ in range(1, rnd(3, 5))]),\n",
    "    'b': set([rnd(0, 10) for _ in range(1, rnd(3, 5))]),\n",
    "    'c': set([rnd(0, 10) for _ in range(1, rnd(3, 5))])\n",
    "}"
   ]
  },
  {
   "cell_type": "code",
   "execution_count": 3,
   "metadata": {},
   "outputs": [
    {
     "name": "stdout",
     "output_type": "stream",
     "text": [
      "a = {1, 3, 4, 7} \n",
      "b = {0, 9, 1}\n",
      "Объединение: {0, 1, 3, 4, 7, 9}\n",
      "Пересечение: {1}\n",
      "Разность: {3, 4, 7}\n",
      "Симметрическая разность: {0, 3, 4, 7, 9}\n",
      "Декартово произведение: [(1, 0), (1, 9), (1, 1), (3, 0), (3, 9), (3, 1), (4, 0), (4, 9), (4, 1), (7, 0), (7, 9), (7, 1)]\n",
      "a = {1, 3, 4, 7} \n",
      "c = {10, 4}\n",
      "Объединение: {1, 3, 4, 7, 10}\n",
      "Пересечение: {4}\n",
      "Разность: {1, 3, 7}\n",
      "Симметрическая разность: {1, 3, 7, 10}\n",
      "Декартово произведение: [(1, 10), (1, 4), (3, 10), (3, 4), (4, 10), (4, 4), (7, 10), (7, 4)]\n",
      "b = {0, 9, 1} \n",
      "c = {10, 4}\n",
      "Объединение: {0, 1, 4, 9, 10}\n",
      "Пересечение: set()\n",
      "Разность: {0, 9, 1}\n",
      "Симметрическая разность: {0, 1, 4, 9, 10}\n",
      "Декартово произведение: [(0, 10), (0, 4), (9, 10), (9, 4), (1, 10), (1, 4)]\n"
     ]
    }
   ],
   "source": [
    "for set in comb(sets.keys(), 2):\n",
    "    x1, x2 = set\n",
    "    dekart = []\n",
    "    for x in prod(sets[x1], sets[x2]):\n",
    "        dekart.append(x)\n",
    "    print(f'{x1} = {sets[x1]} \\n{x2} = {sets[x2]}')\n",
    "    print(f'Объединение: {sets[x1] | sets[x2]}')\n",
    "    print(f'Пересечение: {sets[x1] & sets[x2]}')\n",
    "    print(f'Разность: {sets[x1] - sets[x2]}')\n",
    "    print(f'Симметрическая разность: {sets[x1] ^ sets[x2]}')\n",
    "    print(f'Декартово произведение: {dekart}')"
   ]
  },
  {
   "cell_type": "markdown",
   "metadata": {},
   "source": [
    "<h2>Задание 5 </h2> <br>\n",
    "<i>\n",
    "найти 12-й член заданной неявно последовательности\n",
    "<i>"
   ]
  },
  {
   "cell_type": "markdown",
   "metadata": {},
   "source": [
    "<h2>Задание 4 </h2> <br>\n",
    "<i>\n",
    "Даны 4 последовательности.<br>\n",
    "\n",
    "Необходимо:<br>\n",
    "1) исследовать их на монотонность; <br>\n",
    "2) исследовать на ограниченность;<br>\n",
    "3) найти пятый по счету член.<br>\n",
    "<i>"
   ]
  },
  {
   "cell_type": "markdown",
   "metadata": {},
   "source": [
    "$2^n - n$<br>\n",
    "a(n+1) - a(n) = $2^{n+1} - 2^n$<br>\n",
    "Последательность возрастающая\n",
    "2^ растет сильно быстрее и при предел = бесконечность"
   ]
  },
  {
   "cell_type": "code",
   "execution_count": 40,
   "metadata": {},
   "outputs": [
    {
     "data": {
      "text/plain": [
       "12"
      ]
     },
     "execution_count": 40,
     "metadata": {},
     "output_type": "execute_result"
    }
   ],
   "source": [
    "def task4_1(n=4):\n",
    "    return pow(2, n) - n\n",
    "task4_1()"
   ]
  },
  {
   "cell_type": "markdown",
   "metadata": {},
   "source": [
    "1/(1-n)\n",
    "a(n + 1) - a(n) = -1/2 * (1/(1-n))\n",
    "последователность возратающая\n",
    "Предел  = 0"
   ]
  },
  {
   "cell_type": "code",
   "execution_count": 43,
   "metadata": {},
   "outputs": [
    {
     "data": {
      "text/plain": [
       "-0.3333333333333333"
      ]
     },
     "execution_count": 43,
     "metadata": {},
     "output_type": "execute_result"
    }
   ],
   "source": [
    "def task4_2(n=4):\n",
    "    return 1 / (1-n)\n",
    "task4_2()"
   ]
  },
  {
   "cell_type": "markdown",
   "metadata": {},
   "source": [
    "Третья последовательность не монтонная возратающая с пределом бесконечность"
   ]
  },
  {
   "cell_type": "code",
   "execution_count": 54,
   "metadata": {},
   "outputs": [
    {
     "data": {
      "text/plain": [
       "3.8284271247461903"
      ]
     },
     "execution_count": 54,
     "metadata": {},
     "output_type": "execute_result"
    }
   ],
   "source": [
    "def task4_3(n=4):\n",
    "    return (-1)**n + sqrt(2 * n)\n",
    "task4_3()"
   ]
  },
  {
   "cell_type": "markdown",
   "metadata": {},
   "source": [
    "Четвертая поседователность первым слогаемым можно пренебрече, т.к. он всегода (1)**n = 1. 1/n**2 монотонно убывает к 0, т.к. предел равен 1"
   ]
  },
  {
   "cell_type": "code",
   "execution_count": 58,
   "metadata": {},
   "outputs": [
    {
     "data": {
      "text/plain": [
       "1.0625"
      ]
     },
     "execution_count": 58,
     "metadata": {},
     "output_type": "execute_result"
    }
   ],
   "source": [
    "def task4_3(n=4):\n",
    "    return (-1)**(2*n) + 1/n**2\n",
    "task4_3()"
   ]
  },
  {
   "cell_type": "markdown",
   "metadata": {},
   "source": [
    "<h2>Задание 5 </h2> <br>"
   ]
  },
  {
   "cell_type": "code",
   "execution_count": 9,
   "metadata": {},
   "outputs": [
    {
     "name": "stdout",
     "output_type": "stream",
     "text": [
      "a1: 128\n",
      "a2: 134\n",
      "a3: 140\n",
      "a4: 146\n",
      "a5: 152\n",
      "a6: 158\n",
      "a7: 164\n",
      "a8: 170\n",
      "a9: 176\n",
      "a10: 182\n",
      "a11: 188\n",
      "a12: 194\n"
     ]
    }
   ],
   "source": [
    "def find_task_5(n, a=128, k=0):\n",
    "    if k == n:\n",
    "        return\n",
    "    print(f'a{k+1}: {a}')\n",
    "    find_task_5(n, a+6, k+1)\n",
    "    \n",
    "find_task_5(12)"
   ]
  },
  {
   "cell_type": "markdown",
   "metadata": {},
   "source": [
    "<h2>Задание 6 </h2> <br>\n",
    "<i>\n",
    "На языке Python предложить алгоритм вычисляющий численно предел\n",
    "<i>"
   ]
  },
  {
   "cell_type": "code",
   "execution_count": 38,
   "metadata": {},
   "outputs": [
    {
     "data": {
      "text/plain": [
       "(2.716988425356103, 11779)"
      ]
     },
     "execution_count": 38,
     "metadata": {},
     "output_type": "execute_result"
    }
   ],
   "source": [
    "n, eps = 1, 10e-8\n",
    "x1 = n / pow(f(n), 1 / n)\n",
    "x2 = x1 + 2 * eps\n",
    "while abs(x1 - x2) > eps:\n",
    "    x1, n = x2, n + 1\n",
    "    x2 = n / (pow(2 * pi * n, 1/(2 * n)) * (n/e))\n",
    "x2, n"
   ]
  },
  {
   "cell_type": "code",
   "execution_count": null,
   "metadata": {},
   "outputs": [],
   "source": []
  }
 ],
 "metadata": {
  "kernelspec": {
   "display_name": "Python 3",
   "language": "python",
   "name": "python3"
  },
  "language_info": {
   "codemirror_mode": {
    "name": "ipython",
    "version": 3
   },
   "file_extension": ".py",
   "mimetype": "text/x-python",
   "name": "python",
   "nbconvert_exporter": "python",
   "pygments_lexer": "ipython3",
   "version": "3.6.7"
  }
 },
 "nbformat": 4,
 "nbformat_minor": 2
}
