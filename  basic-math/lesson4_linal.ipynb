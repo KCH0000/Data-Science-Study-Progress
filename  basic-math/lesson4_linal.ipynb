{
 "cells": [
  {
   "cell_type": "code",
   "execution_count": 1,
   "metadata": {},
   "outputs": [],
   "source": [
    "import numpy as np"
   ]
  },
  {
   "cell_type": "markdown",
   "metadata": {},
   "source": [
    "__2.__ Проверить на совместность и выяснить, сколько решений будет иметь система линейных уравнений:\n",
    "\n",
    "   а) $\\begin{cases}\n",
    "3x_{1}-x_{2}+x_{3}=4, \\\\\n",
    "2x_{1}-5x_{2}-3x_{3}=-17, \\\\\n",
    "x_{1}+x_{2}-x_{3}=0;\n",
    "\\end{cases}$\n",
    "    \n",
    "   б) $\\begin{cases}\n",
    "2x_{1}-4x_{2}+6x_{3}=1, \\\\\n",
    "x_{1}-2x_{2}+3x_{3}=-2, \\\\\n",
    "3x_{1}-6x_{2}+9x_{3}=5;\n",
    "\\end{cases}$\n",
    "    \n",
    "   в) $\\begin{cases}\n",
    "x_{1}+2x_{2}+5x_{3}=4, \\\\\n",
    "3x_{1}+x_{2}-8x_{3}=-2. \n",
    "\\end{cases}$"
   ]
  },
  {
   "cell_type": "code",
   "execution_count": 2,
   "metadata": {},
   "outputs": [],
   "source": [
    "def task_2(A, b):\n",
    "    rank_A = np.linalg.matrix_rank(A)\n",
    "    rank_A_ = np.linalg.matrix_rank(np.column_stack((A, b)))\n",
    "    n = A.shape[1]\n",
    "    print(f'Ранк матрицы = {rank_A}')\n",
    "    print(f'Ранк расширенной матрицы = {rank_A_}')\n",
    "    print(f'Количество неизвестных = {n}')\n",
    "    if rank_A == rank_A_ == n:\n",
    "        print('СЛУ имеет единисвенное решение')\n",
    "    elif rank_A == rank_A_ < n:\n",
    "        print('СЛУ имеет бесконечное число решений')\n",
    "    elif rank_A < rank_A_:\n",
    "        print('СЛУ несовместима')\n",
    "    else:\n",
    "        print('К такому жизнь не готовила')"
   ]
  },
  {
   "cell_type": "code",
   "execution_count": 3,
   "metadata": {},
   "outputs": [
    {
     "name": "stdout",
     "output_type": "stream",
     "text": [
      "Ранк матрицы = 3\n",
      "Ранк расширенной матрицы = 3\n",
      "Количество неизвестных = 3\n",
      "СЛУ имеет единисвенное решение\n"
     ]
    }
   ],
   "source": [
    "A = np.array([\n",
    "    [3, -1,  1],\n",
    "    [2, -5, -3],\n",
    "    [1,  1,  1],\n",
    "])\n",
    "b = np.array([4, 17, 0])\n",
    "task_2(A, b)"
   ]
  },
  {
   "cell_type": "code",
   "execution_count": 4,
   "metadata": {},
   "outputs": [
    {
     "name": "stdout",
     "output_type": "stream",
     "text": [
      "Ранк матрицы = 1\n",
      "Ранк расширенной матрицы = 2\n",
      "Количество неизвестных = 3\n",
      "СЛУ несовместима\n"
     ]
    }
   ],
   "source": [
    "A = np.array([\n",
    "    [2, -4,  6],\n",
    "    [1, -2,  3],\n",
    "    [3, -6,  9],\n",
    "])\n",
    "b = np.array([1, -2, 5])\n",
    "task_2(A, b)"
   ]
  },
  {
   "cell_type": "code",
   "execution_count": 5,
   "metadata": {},
   "outputs": [
    {
     "name": "stdout",
     "output_type": "stream",
     "text": [
      "Ранк матрицы = 2\n",
      "Ранк расширенной матрицы = 2\n",
      "Количество неизвестных = 3\n",
      "СЛУ имеет бесконечное число решений\n"
     ]
    }
   ],
   "source": [
    "A = np.array([\n",
    "    [1, 2,  5],\n",
    "    [3, 1, -8],\n",
    "])\n",
    "b = np.array([4, -2])\n",
    "task_2(A, b)"
   ]
  },
  {
   "cell_type": "markdown",
   "metadata": {},
   "source": [
    "__3.__ Проверить на совместность и выяснить, сколько решений будет иметь система линейных уравнений, заданная расширенной матрицей\n",
    "\n",
    "$$\\tilde{A}=\\begin{pmatrix}\n",
    "\\left.\\begin{matrix}\n",
    "1 & 3 & -2 & 4\\\\ \n",
    "0 & 5 & 0 & 1\\\\ \n",
    "0 & 0 & 3 & 0\\\\ \n",
    "0 & 0 & 0 & 2\n",
    "\\end{matrix}\\right|\n",
    "\\begin{matrix}\n",
    "3\\\\ \n",
    "2\\\\\n",
    "4\\\\\n",
    "1\n",
    "\\end{matrix}\n",
    "\\end{pmatrix}.$$"
   ]
  },
  {
   "cell_type": "code",
   "execution_count": 6,
   "metadata": {},
   "outputs": [
    {
     "name": "stdout",
     "output_type": "stream",
     "text": [
      "Ранк матрицы = 4\n",
      "Ранк расширенной матрицы = 4\n",
      "Количество неизвестных = 4\n",
      "СЛУ имеет единисвенное решение\n"
     ]
    }
   ],
   "source": [
    "A = np.array([\n",
    "    [1, 3, -2, 4],\n",
    "    [0, 5,  0, 1],\n",
    "    [0, 0,  3, 0],\n",
    "    [0, 0,  0, 2]\n",
    "])\n",
    "b = np.array([3, 2, 4, 1])\n",
    "task_2(A, b)"
   ]
  },
  {
   "cell_type": "markdown",
   "metadata": {},
   "source": [
    "__4.__ Дана система линейных уравнений, заданная расширенной матрицей\n",
    "\n",
    "$$\\tilde{A}=\\begin{pmatrix}\n",
    "\\left.\\begin{matrix}\n",
    "1 & 2 & 3\\\\ \n",
    "4 & 5 & 6\\\\ \n",
    "7 & 8 & 9\n",
    "\\end{matrix}\\right|\n",
    "\\begin{matrix}\n",
    "a\\\\ \n",
    "b\\\\\n",
    "c\n",
    "\\end{matrix}\n",
    "\\end{pmatrix}.$$\n",
    "\n",
    "Найти соотношение между параметрами $a$, $b$ и $c$, при которых система является несовместной."
   ]
  },
  {
   "cell_type": "code",
   "execution_count": 7,
   "metadata": {},
   "outputs": [
    {
     "name": "stdout",
     "output_type": "stream",
     "text": [
      "Ранк матрицы = 2\n",
      "Ранк расширенной матрицы = 2\n",
      "Количество неизвестных = 3\n",
      "СЛУ имеет бесконечное число решений\n"
     ]
    }
   ],
   "source": [
    "A = np.array([\n",
    "    [1, 2, 3],\n",
    "    [4, 5, 6],\n",
    "    [7, 8, 9],\n",
    "])\n",
    "b = np.array([2, 2, 2])\n",
    "task_2(A, b)"
   ]
  }
 ],
 "metadata": {
  "kernelspec": {
   "display_name": "Python 3",
   "language": "python",
   "name": "python3"
  },
  "language_info": {
   "codemirror_mode": {
    "name": "ipython",
    "version": 3
   },
   "file_extension": ".py",
   "mimetype": "text/x-python",
   "name": "python",
   "nbconvert_exporter": "python",
   "pygments_lexer": "ipython3",
   "version": "3.7.3"
  }
 },
 "nbformat": 4,
 "nbformat_minor": 2
}
