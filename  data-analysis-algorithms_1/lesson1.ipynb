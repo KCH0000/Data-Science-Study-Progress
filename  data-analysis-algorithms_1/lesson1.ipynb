{
 "cells": [
  {
   "cell_type": "code",
   "execution_count": 1,
   "metadata": {},
   "outputs": [],
   "source": [
    "import numpy as np"
   ]
  },
  {
   "cell_type": "markdown",
   "metadata": {},
   "source": [
    "***Подберите скорость обучения (alpha) и количество итераций:***"
   ]
  },
  {
   "cell_type": "code",
   "execution_count": 180,
   "metadata": {},
   "outputs": [],
   "source": [
    "X = np.array([[1, 1, 1, 1, 1,\n",
    "               1, 1, 1, 1, 1],\n",
    "              [1, 1, 2, 1, 3, \n",
    "               0, 5, 10, 1, 2]])\n",
    "\n",
    "y = np.array([45, 55, 50, 59, 65,\n",
    "              35, 75, 80, 50, 60])"
   ]
  },
  {
   "cell_type": "code",
   "execution_count": 181,
   "metadata": {},
   "outputs": [],
   "source": [
    "calc_mse = lambda y, y_pred: np.mean((y - y_pred)**2)"
   ]
  },
  {
   "cell_type": "code",
   "execution_count": 178,
   "metadata": {},
   "outputs": [],
   "source": [
    "def gradient_descent(X, y, W, alpha, eps):\n",
    "    n = X.shape[1]\n",
    "    err = np.inf\n",
    "    err_prev = 0\n",
    "    iters = 0\n",
    "    while abs(err - err_prev) > eps:\n",
    "        y_pred = np.dot(W, X)\n",
    "        err_prev = err\n",
    "        err = calc_mse(y, y_pred)\n",
    "        if err == np.inf:\n",
    "            break\n",
    "        for j in range(W.shape[0]):\n",
    "            W[j] -= alpha * (1/n * 2 * np.sum(X[j] * (y_pred - y)))\n",
    "        iters += 1\n",
    "    return W, err, iters"
   ]
  },
  {
   "cell_type": "code",
   "execution_count": 189,
   "metadata": {},
   "outputs": [
    {
     "name": "stderr",
     "output_type": "stream",
     "text": [
      "/home/kach/projects/gb-ds/ds_env/lib/python3.7/site-packages/ipykernel_launcher.py:1: RuntimeWarning: overflow encountered in square\n",
      "  \"\"\"Entry point for launching an IPython kernel.\n",
      "/home/kach/projects/gb-ds/ds_env/lib/python3.7/site-packages/numpy/core/_methods.py:75: RuntimeWarning: overflow encountered in reduce\n",
      "  ret = umr_sum(arr, axis, dtype, out, keepdims)\n"
     ]
    },
    {
     "data": {
      "text/plain": [
       "(0.06376033966243874,\n",
       " 45.93750006222111,\n",
       " 173,\n",
       " 173,\n",
       " array([47.23184014,  3.91078662]))"
      ]
     },
     "execution_count": 189,
     "metadata": {},
     "output_type": "execute_result"
    }
   ],
   "source": [
    "alpha = 0.0001\n",
    "W = np.array([1, 0.5])\n",
    "W, alpha, n\n",
    "eps = 1e-8\n",
    "alpha = 1\n",
    "iters = np.inf\n",
    "iters_prev = 0\n",
    "err = np.inf\n",
    "while err == np.inf or iters < iters_prev:\n",
    "    iters_prev = iters\n",
    "    W_res, err, iters = gradient_descent(X, y, W.copy(), alpha, eps)\n",
    "    alpha /= 1.001\n",
    "alpha, err, iters_prev, iters, W_res"
   ]
  },
  {
   "cell_type": "code",
   "execution_count": 190,
   "metadata": {},
   "outputs": [
    {
     "data": {
      "text/plain": [
       "(array([47.23183548,  3.91078251]), 45.937500061293136, 173)"
      ]
     },
     "execution_count": 190,
     "metadata": {},
     "output_type": "execute_result"
    }
   ],
   "source": [
    "gradient_descent(X, y, W.copy(), alpha, eps)"
   ]
  },
  {
   "cell_type": "markdown",
   "metadata": {},
   "source": [
    "***Ответ***<br>\n",
    "Наилучшые Альфа и Итерации это 0.064 и 173) <br>\n",
    "Понятно, что так ничето не далеате и в этом смысла никакого. )))."
   ]
  },
  {
   "cell_type": "markdown",
   "metadata": {},
   "source": [
    "*** *2. В этом коде мы избавляемся от итераций по весам, но тут есть ошибка, исправьте ее:***"
   ]
  },
  {
   "cell_type": "code",
   "execution_count": 216,
   "metadata": {},
   "outputs": [
    {
     "name": "stdout",
     "output_type": "stream",
     "text": [
      "0 [ 8.02638943 22.17851549] 3173.15\n",
      "100 [47.18959328  3.92223484] 45.938880779685505\n",
      "200 [47.23209774  3.91072383] 45.93750000129263\n",
      "300 [47.23214281  3.91071429] 45.937500000000014\n",
      "400 [47.23214286  3.91071429] 45.93749999999999\n",
      "500 [47.23214286  3.91071429] 45.9375\n",
      "600 [47.23214286  3.91071429] 45.93749999999999\n",
      "700 [47.23214286  3.91071429] 45.93749999999999\n",
      "800 [47.23214286  3.91071429] 45.93749999999999\n",
      "900 [47.23214286  3.91071429] 45.93749999999999\n"
     ]
    }
   ],
   "source": [
    "W = np.array([1, 0.5])\n",
    "for i in range(1000):\n",
    "    y_pred = np.dot(W, X)\n",
    "    err = calc_mse(y, y_pred)\n",
    "\n",
    "    '''for ii in range(W.shape[0]):\n",
    "    W[ii] -= alpha * (1/n * 2 * np.sum(X[ii] * (y_pred - y)))'''\n",
    "    \n",
    "    W -= (alpha * (1/n * 2 * np.sum(X * (y_pred - y), axis=1)))\n",
    "\n",
    "    if i % 100 == 0:\n",
    "        print(i, W, err)"
   ]
  },
  {
   "cell_type": "markdown",
   "metadata": {},
   "source": [
    "***Задание *3: <br>вместо того, чтобы задавать количество итераций, задайте условие остановки алгоритма - когда ошибка за итерацию\n",
    "начинает изменяться ниже определенного порога (упрощенный аналог параметра tol в линейной регрессии в sklearn).***"
   ]
  },
  {
   "cell_type": "markdown",
   "metadata": {},
   "source": [
    "см. задачу 1. "
   ]
  }
 ],
 "metadata": {
  "kernelspec": {
   "display_name": "Python 3",
   "language": "python",
   "name": "python3"
  },
  "language_info": {
   "codemirror_mode": {
    "name": "ipython",
    "version": 3
   },
   "file_extension": ".py",
   "mimetype": "text/x-python",
   "name": "python",
   "nbconvert_exporter": "python",
   "pygments_lexer": "ipython3",
   "version": "3.7.4"
  }
 },
 "nbformat": 4,
 "nbformat_minor": 2
}
