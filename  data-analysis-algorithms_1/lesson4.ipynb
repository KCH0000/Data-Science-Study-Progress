{
 "cells": [
  {
   "cell_type": "code",
   "execution_count": 10,
   "metadata": {},
   "outputs": [],
   "source": [
    "import matplotlib.pyplot as plt\n",
    "import random\n",
    "\n",
    "from matplotlib.colors import ListedColormap\n",
    "from sklearn import datasets\n",
    "from sklearn import model_selection\n",
    "\n",
    "import numpy as np"
   ]
  },
  {
   "cell_type": "code",
   "execution_count": 2,
   "metadata": {},
   "outputs": [],
   "source": [
    "class Node:\n",
    "    def __init__(self, index, t, true_branch, false_branch):\n",
    "        self.index = index  \n",
    "        self.t = t  \n",
    "        self.true_branch = true_branch  \n",
    "        self.false_branch = false_branch\n",
    "\n",
    "        \n",
    "class Leaf:\n",
    "    def __init__(self, data, labels):\n",
    "        self.data = data\n",
    "        self.labels = labels\n",
    "        self.prediction = self.predict()\n",
    "        \n",
    "    def predict(self):\n",
    "        classes = {}\n",
    "        for label in self.labels:\n",
    "            if label not in classes:\n",
    "                classes[label] = 0\n",
    "            classes[label] += 1\n",
    "        prediction = max(classes, key=classes.get)\n",
    "        return prediction  \n",
    "\n"
   ]
  },
  {
   "cell_type": "code",
   "execution_count": 71,
   "metadata": {},
   "outputs": [],
   "source": [
    "def gini(labels):\n",
    "    classes = {}\n",
    "    for label in labels:\n",
    "        if label not in classes:\n",
    "            classes[label] = 0\n",
    "        classes[label] += 1\n",
    "    impurity = 1\n",
    "    for label in classes:\n",
    "        p = classes[label] / len(labels)\n",
    "        impurity -= p ** 2\n",
    "    return impurity\n",
    "\n",
    "def quality(left_labels, right_labels, current_gini):\n",
    "    p = float(left_labels.shape[0]) / (left_labels.shape[0] + right_labels.shape[0])\n",
    "    return current_gini - p * gini(left_labels) - (1 - p) * gini(right_labels)\n",
    "\n",
    "def accuracy_metric(actual, predicted):\n",
    "    correct = 0\n",
    "    for i in range(len(actual)):\n",
    "        if actual[i] == predicted[i]:\n",
    "            correct += 1\n",
    "    return correct / float(len(actual)) * 100.0"
   ]
  },
  {
   "cell_type": "code",
   "execution_count": 64,
   "metadata": {},
   "outputs": [],
   "source": [
    "class ForesClassifier:\n",
    "    def __init__(self, min_leaf=5):\n",
    "        self.min_leaf = min_leaf\n",
    "    \n",
    "    def __classify_object(self, obj, node):\n",
    "        if isinstance(node, Leaf):\n",
    "            answer = node.prediction\n",
    "            return answer\n",
    "\n",
    "        if obj[node.index] <= node.t:\n",
    "            return self.__classify_object(obj, node.true_branch)\n",
    "        else:\n",
    "            return self.__classify_object(obj, node.false_branch)\n",
    "    \n",
    "    def __split(self, data, labels, index, t):\n",
    "        left = np.where(data[:, index] <= t)\n",
    "        right = np.where(data[:, index] > t)\n",
    "\n",
    "        true_data = data[left]\n",
    "        false_data = data[right]\n",
    "        true_labels = labels[left]\n",
    "        false_labels = labels[right]\n",
    "        return true_data, false_data, true_labels, false_labels\n",
    "    \n",
    "    def __find_best_split(self, data, labels):\n",
    "        min_leaf = self.min_leaf\n",
    "        current_gini = gini(labels)\n",
    "        best_quality = 0\n",
    "        best_t = None\n",
    "        best_index = None\n",
    "        n_features = data.shape[1]\n",
    "\n",
    "        for index in range(n_features):\n",
    "            t_values = [row[index] for row in data]\n",
    "            for t in t_values:\n",
    "                true_data, false_data, true_labels, false_labels = self.__split(data, labels, index, t)\n",
    "                if len(true_data) < min_leaf or len(false_data) < min_leaf:\n",
    "                    continue\n",
    "                current_quality = quality(true_labels, false_labels, current_gini)\n",
    "                if current_quality > best_quality:\n",
    "                    best_quality, best_t, best_index = current_quality, t, index\n",
    "        return best_quality, best_t, best_index\n",
    "    \n",
    "    def fit(self, data, labels):\n",
    "        def build_tree(data, labels):\n",
    "            quality, t, index = self.__find_best_split(data, labels)\n",
    "            if quality == 0:\n",
    "                return Leaf(data, labels)\n",
    "            true_data, false_data, true_labels, false_labels = self.__split(data, labels, index, t)\n",
    "            true_branch = build_tree(true_data, true_labels)\n",
    "            false_branch = build_tree(false_data, false_labels)\n",
    "            return Node(index, t, true_branch, false_branch)\n",
    "        self.__tree = build_tree(data, labels)\n",
    "\n",
    "    def predict(self, data):\n",
    "        classes = []\n",
    "        for obj in data:\n",
    "            prediction = self.__classify_object(obj, self.__tree)\n",
    "            classes.append(prediction)\n",
    "        return classes   \n",
    "    \n",
    "    def __repr__(self):\n",
    "        def print_tree(node, spacing=\"\"):\n",
    "            if isinstance(node, Leaf):\n",
    "                print(spacing + \"Прогноз:\", node.prediction)\n",
    "                return\n",
    "            print(spacing + 'Индекс', str(node.index))\n",
    "            print(spacing + 'Порог', str(node.t))\n",
    "            print (spacing + '--> True:')\n",
    "            print_tree(node.true_branch, spacing + \"  \")\n",
    "            print (spacing + '--> False:')\n",
    "            print_tree(node.false_branch, spacing + \"  \")\n",
    "        print_tree(self.__tree)\n",
    "        return ''"
   ]
  },
  {
   "cell_type": "code",
   "execution_count": 65,
   "metadata": {},
   "outputs": [],
   "source": [
    "classification_data, classification_labels = datasets.make_classification(n_features = 2, n_informative = 2, \n",
    "                                                      n_classes = 2, n_redundant=0, \n",
    "                                                      n_clusters_per_class=1, random_state=5)"
   ]
  },
  {
   "cell_type": "code",
   "execution_count": 66,
   "metadata": {},
   "outputs": [],
   "source": [
    "train_data, test_data, train_labels, test_labels = model_selection.train_test_split(classification_data, \n",
    "                                                                                     classification_labels, \n",
    "                                                                                     test_size = 0.3,\n",
    "                                                                                     random_state = 1)"
   ]
  },
  {
   "cell_type": "code",
   "execution_count": 67,
   "metadata": {},
   "outputs": [],
   "source": [
    "model = ForesClassifier()\n",
    "model.fit(train_data, train_labels)"
   ]
  },
  {
   "cell_type": "code",
   "execution_count": 69,
   "metadata": {
    "scrolled": true
   },
   "outputs": [],
   "source": [
    "train_answers = model.predict(train_data)"
   ]
  },
  {
   "cell_type": "code",
   "execution_count": 70,
   "metadata": {},
   "outputs": [
    {
     "name": "stdout",
     "output_type": "stream",
     "text": [
      "Индекс 0\n",
      "Порог 0.16261402870113306\n",
      "--> True:\n",
      "  Индекс 1\n",
      "  Порог -1.5208896621663803\n",
      "  --> True:\n",
      "    Индекс 0\n",
      "    Порог -0.9478301462477035\n",
      "    --> True:\n",
      "      Прогноз: 0\n",
      "    --> False:\n",
      "      Прогноз: 1\n",
      "  --> False:\n",
      "    Прогноз: 0\n",
      "--> False:\n",
      "  Прогноз: 1\n",
      "\n"
     ]
    }
   ],
   "source": [
    "print(model)"
   ]
  },
  {
   "cell_type": "code",
   "execution_count": 72,
   "metadata": {},
   "outputs": [
    {
     "data": {
      "text/plain": [
       "98.57142857142858"
      ]
     },
     "execution_count": 72,
     "metadata": {},
     "output_type": "execute_result"
    }
   ],
   "source": [
    "train_accuracy = accuracy_metric(train_labels, train_answers)\n",
    "train_accuracy"
   ]
  }
 ],
 "metadata": {
  "kernelspec": {
   "display_name": "Python 3",
   "language": "python",
   "name": "python3"
  },
  "language_info": {
   "codemirror_mode": {
    "name": "ipython",
    "version": 3
   },
   "file_extension": ".py",
   "mimetype": "text/x-python",
   "name": "python",
   "nbconvert_exporter": "python",
   "pygments_lexer": "ipython3",
   "version": "3.7.4"
  }
 },
 "nbformat": 4,
 "nbformat_minor": 2
}
