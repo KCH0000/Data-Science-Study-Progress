{
 "cells": [
  {
   "cell_type": "code",
   "execution_count": 2,
   "metadata": {},
   "outputs": [],
   "source": [
    "import numpy as np\n",
    "from mylib import mse_"
   ]
  },
  {
   "cell_type": "code",
   "execution_count": 3,
   "metadata": {},
   "outputs": [],
   "source": [
    "zp = [35, 45, 190, 200, 40, 70, 54, 150, 120, 110]\n",
    "ks = [401, 574, 874, 919, 459, 739, 653, 902, 746, 832]\n",
    "X = np.array(zp)\n",
    "y = np.array(ks)\n",
    "X_ = X.reshape(1, len(X))\n",
    "y_ = y.reshape(1, len(X))"
   ]
  },
  {
   "cell_type": "markdown",
   "metadata": {},
   "source": [
    "<h2>Задание 1 </h2> <br>\n",
    "<i>\n",
    "Даны значения величины заработной платы заемщиков банка (zp) и значения их поведенческого кредитного скоринга (ks):<br> \n",
    "zp = [35, 45, 190, 200, 40, 70, 54, 150, 120, 110]<br>\n",
    "ks = [401, 574, 874, 919, 459, 739, 653, 902, 746, 832].<br> \n",
    "Используя математические операции, посчитать коэффициенты линейной регрессии, приняв за X заработную плату (то есть, zp - признак), а за y - значения скорингового балла (то есть, ks - целевая переменная). Произвести расчет как с использованием intercept, так и без.\n",
    "</i>"
   ]
  },
  {
   "cell_type": "markdown",
   "metadata": {},
   "source": [
    "<b>Решение</b> c intercept по формуле поска коэфициентов:"
   ]
  },
  {
   "cell_type": "code",
   "execution_count": 5,
   "metadata": {},
   "outputs": [
    {
     "name": "stdout",
     "output_type": "stream",
     "text": [
      "Линейная регрессия y = 2.6205x + 444.1774\n"
     ]
    }
   ],
   "source": [
    "b = ((X * y).mean() - X.mean() * y.mean()) / ((X**2).mean() - X.mean()**2)\n",
    "a = y.mean() - b * X.mean()\n",
    "print(f'Линейная регрессия y = {round(b, 4)}x + {round(a, 4)}')"
   ]
  },
  {
   "cell_type": "markdown",
   "metadata": {},
   "source": [
    "<b>Решение</b> c intercept матричный вариант:"
   ]
  },
  {
   "cell_type": "code",
   "execution_count": 6,
   "metadata": {},
   "outputs": [
    {
     "name": "stdout",
     "output_type": "stream",
     "text": [
      "Линейная регрессия y = 2.6205x + 444.1774\n"
     ]
    }
   ],
   "source": [
    "X_ones = np.vstack([np.ones(len(X)).reshape(1, len(X)), X_])\n",
    "a, b = (np.linalg.inv(X_ones @ X_ones.T) @ X_ones @ y_.T).reshape(2)\n",
    "print(f'Линейная регрессия y = {round(b, 4)}x + {round(a, 4)}')"
   ]
  },
  {
   "cell_type": "markdown",
   "metadata": {},
   "source": [
    "<b>Решение</b> без intercept матричный вариант:"
   ]
  },
  {
   "cell_type": "code",
   "execution_count": 7,
   "metadata": {},
   "outputs": [
    {
     "name": "stdout",
     "output_type": "stream",
     "text": [
      "Линейная регрессия y = 5.8898x + 0\n"
     ]
    }
   ],
   "source": [
    "a = 0\n",
    "b = (np.linalg.inv(X_ @ X_.T) @ X_ @ y_.T)[0, 0]\n",
    "print(f'Линейная регрессия y = {round(b, 4)}x + {round(a, 4)}')"
   ]
  },
  {
   "cell_type": "markdown",
   "metadata": {},
   "source": [
    "<h2>Задание 2 </h2> <br>\n",
    "<i>\n",
    "Посчитать коэффициент линейной регрессии при заработной плате (zp), используя градиентный спуск (без intercept).\n",
    "</i>"
   ]
  },
  {
   "cell_type": "markdown",
   "metadata": {},
   "source": [
    "<b>Решение:</b>"
   ]
  },
  {
   "cell_type": "code",
   "execution_count": 15,
   "metadata": {},
   "outputs": [
    {
     "name": "stdout",
     "output_type": "stream",
     "text": [
      "Линейная регрессия y = 5.8898x + 0\n",
      "430 - итераций\n"
     ]
    }
   ],
   "source": [
    "alpha, w1 = 1e-6, 0.1\n",
    "w1_ = w1 + 2 * alpha\n",
    "unconditional_stop, i = 1000, 0\n",
    "while i <= unconditional_stop and abs(w1 - w1_) > alpha:\n",
    "    w1_, i = w1, i + 1\n",
    "    w1 -= alpha * (2/len(X)) * np.sum((w1 * X - y) * X)\n",
    "a, b = 0, w1\n",
    "print(f'Линейная регрессия y = {round(b, 4)}x + {round(a, 4)}')\n",
    "print(f'{i} - итераций')"
   ]
  },
  {
   "cell_type": "markdown",
   "metadata": {},
   "source": [
    "<h2>Задание 3 </h2> <br>\n",
    "<i>\n",
    "В каких случаях для вычисления доверительных интервалов и проверки статистических гипотез используется таблица значений функции Лапласа, а в каких - таблица критических точек распределения Стьюдента?\n",
    "</i>"
   ]
  },
  {
   "cell_type": "markdown",
   "metadata": {},
   "source": [
    "<b>Решение:</b> Вслучае когда известна дисперия ГЕНЕРАЛЬНОЙ выборки использьтуется таблица Лапласа, если дисперсия генеральной совокупности неизвестна и выборка не позволяет получить ее приближение - используется таблица Стьюдента."
   ]
  },
  {
   "cell_type": "markdown",
   "metadata": {},
   "source": [
    "<h2>Задание 4* </h2> <br>\n",
    "<i>\n",
    "Произвести вычисления как в пункте 2, но с вычислением intercept. Учесть, что изменение коэффициентов должно производиться\n",
    "на каждом шаге одновременно (то есть изменение одного коэффициента не должно влиять на изменение другого во время одной итерации).\n",
    "</i>"
   ]
  },
  {
   "cell_type": "markdown",
   "metadata": {},
   "source": [
    "<b>Решение:</b>"
   ]
  },
  {
   "cell_type": "code",
   "execution_count": 34,
   "metadata": {},
   "outputs": [
    {
     "name": "stdout",
     "output_type": "stream",
     "text": [
      "Линейная регрессия y = 2.6205x + 444.1773\n",
      "634045 - итераций\n"
     ]
    }
   ],
   "source": [
    "alpha, w1, w0, eps = 5e-5, 0.1, 0.1, 1e-10\n",
    "w1_, w0_ = w1 + 2 * eps, w0 + 2 * eps\n",
    "unconditional_stop, i = 1000000, 0\n",
    "while i <= unconditional_stop and abs(w1 - w1_) * abs(w0 - w0_) > eps**2:\n",
    "    w0_, w1_, i = w0, w1, i + 1\n",
    "    w1 -= alpha * (2/len(X)) * np.sum(((w0 + w1 * X) - y) * X)\n",
    "    w0 -= alpha * (2/len(X)) * np.sum((w0 + w1 * X) - y)\n",
    "a, b = w0, w1\n",
    "print(f'Линейная регрессия y = {round(b, 4)}x + {round(a, 4)}')\n",
    "print(f'{i} - итераций')"
   ]
  }
 ],
 "metadata": {
  "kernelspec": {
   "display_name": "Python 3",
   "language": "python",
   "name": "python3"
  },
  "language_info": {
   "codemirror_mode": {
    "name": "ipython",
    "version": 3
   },
   "file_extension": ".py",
   "mimetype": "text/x-python",
   "name": "python",
   "nbconvert_exporter": "python",
   "pygments_lexer": "ipython3",
   "version": "3.6.7"
  }
 },
 "nbformat": 4,
 "nbformat_minor": 2
}
