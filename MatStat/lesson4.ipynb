{
 "cells": [
  {
   "cell_type": "code",
   "execution_count": 1,
   "metadata": {},
   "outputs": [],
   "source": [
    "import numpy as np\n",
    "from math import sqrt\n",
    "from scipy.stats import norm"
   ]
  },
  {
   "cell_type": "markdown",
   "metadata": {},
   "source": [
    "<h2>Задание 1 </h2> <br>\n",
    "<i>\n",
    "Случайная непрерывная величина A имеет равномерное распределение на промежутке (200, 800]. \n",
    "Найдите ее среднее значение и дисперсию.\n",
    "</i>"
   ]
  },
  {
   "cell_type": "markdown",
   "metadata": {},
   "source": [
    "<b>Решение:</b> Воспользуемся прямым формулами М(Х) и D(X) для равномерного распределения непрерывной величны."
   ]
  },
  {
   "cell_type": "code",
   "execution_count": 2,
   "metadata": {},
   "outputs": [],
   "source": [
    "a, b = 200, 800"
   ]
  },
  {
   "cell_type": "code",
   "execution_count": 3,
   "metadata": {},
   "outputs": [
    {
     "name": "stdout",
     "output_type": "stream",
     "text": [
      "Для А М(Х) равно: 500.0\n",
      "Для А D(Х) равно: 30000.0\n"
     ]
    }
   ],
   "source": [
    "M = (a + b) / 2\n",
    "D = (b - a)**2 / 12\n",
    "print(f'Для А М(Х) равно: {M}')\n",
    "print(f'Для А D(Х) равно: {D}')"
   ]
  },
  {
   "cell_type": "markdown",
   "metadata": {},
   "source": [
    "\n",
    "\n",
    "<h2>Задание 2 </h2> <br>\n",
    "<i>\n",
    "О случайной непрерывной величине B известно, что ее дисперсия равна 0.2.\n",
    "Можно ли найти правую границу величины B и ее среднее значение зная, что левая граница равна 0.5?\n",
    "Если да, найдите ее.\n",
    "</i>"
   ]
  },
  {
   "cell_type": "markdown",
   "metadata": {},
   "source": [
    "<b>Решение:</b> В условии задачи ничего не сказано о распределении величины, поэтому и найти правую границу невозможно. Но скорее всего имелось ввиду, что велична В имеет равномерное распределение. Поэтому подставим в формулу дисперсии все известные характеристики и найдем левую границу."
   ]
  },
  {
   "cell_type": "markdown",
   "metadata": {},
   "source": [
    "$$D = \\frac{(b - a)^2}{12} => (b - a)^2 = 12D => $$\n",
    "<br>\n",
    "$$1)\\  b - a = \\sqrt{12D} =>\\ \\ b = \\sqrt{12D} + a$$\n",
    "$$2)\\  a - b = \\sqrt{12D} =>\\ \\ b = a - \\sqrt{12D}$$"
   ]
  },
  {
   "cell_type": "code",
   "execution_count": 4,
   "metadata": {},
   "outputs": [
    {
     "data": {
      "text/plain": [
       "(2.049193338482967, -1.0491933384829668)"
      ]
     },
     "execution_count": 4,
     "metadata": {},
     "output_type": "execute_result"
    }
   ],
   "source": [
    "D, a = 0.2, 0.5\n",
    "b1 = sqrt(12 * D) + a\n",
    "b2 = a - sqrt(12 * D)\n",
    "b1, b2 "
   ]
  },
  {
   "cell_type": "markdown",
   "metadata": {},
   "source": [
    "У нас получилось два корня, но правая граница не может быть меньше левой и должна быть больше 0.5 \n"
   ]
  },
  {
   "cell_type": "code",
   "execution_count": 5,
   "metadata": {},
   "outputs": [
    {
     "name": "stdout",
     "output_type": "stream",
     "text": [
      "Правая граница В = 2.049193338482967\n",
      "M(X) для В = 1.2745966692414834\n"
     ]
    }
   ],
   "source": [
    "M = (a + b1) / 2\n",
    "print(f'Правая граница В = {b1}')\n",
    "print(f'M(X) для В = {M}')"
   ]
  },
  {
   "cell_type": "markdown",
   "metadata": {},
   "source": [
    "<h2>Задание 3 </h2> <br>\n",
    "<i>\n",
    "Непрерывная случайная величина C распределена нормально и задана плотностью распределения\n",
    "f(x) = (1 / (4 * sqrt(2*pi))) * (exp(-(x+2)**2) / 32).<br>\n",
    "Найдите:<br>\n",
    "а). M(X)<br>\n",
    "б). D(X)<br>\n",
    "в). std(X) (среднее квадратичное отклонение)<br>\n",
    "</i>"
   ]
  },
  {
   "cell_type": "markdown",
   "metadata": {},
   "source": [
    "<b>Решение:</b>Сравним функцию плотности распределения С с общем преставлением нормального распредления"
   ]
  },
  {
   "cell_type": "markdown",
   "metadata": {},
   "source": [
    "$$f(x) = \\frac{1}{4\\sqrt{2\\pi}} e^{-\\frac{(x + 2)^2}{32}}$$"
   ]
  },
  {
   "cell_type": "markdown",
   "metadata": {},
   "source": [
    "$$f(x) = \\frac{1}{\\sigma \\sqrt{2 \\pi}} e ^ {- \\frac{(x - a)^2}{2 \\sigma^2}}$$"
   ]
  },
  {
   "cell_type": "markdown",
   "metadata": {},
   "source": [
    "<b>Ответ:</b><br>\n",
    "$M(X) = a = -2$<br>\n",
    "$\\sigma = 4 \\ \\ \\ \\ $Проверим: $2 * 4^2 = 2 * 16 = 32$ <br>\n",
    "$D(X) = \\sigma^2 = 4^2 = 16$"
   ]
  },
  {
   "cell_type": "markdown",
   "metadata": {},
   "source": [
    "<h2>Задание 4 </h2> <br>\n",
    "<i>\n",
    "Рост взрослого населения города X имеет нормальное распределение.<br> \n",
    "Причем, средний рост равен 174 см, а среднее квадратичное отклонение равно 8 см.<br>\n",
    "Какова вероятность того, что случайным образом выбранный взрослый человек имеет рост:<br>\n",
    "а) больше 182 см<br>\n",
    "б) больше 190 см<br>\n",
    "в) от 166 см до 190 см<br>\n",
    "г) от 166 см до 182 см<br>\n",
    "д) от 158 см до 190 см<br>\n",
    "е) не выше 150 см или не ниже 190 см<br>\n",
    "ё) не выше 150 см или не ниже 198 см<br>\n",
    "ж) ниже 166 см.<br>\n",
    "</i>"
   ]
  },
  {
   "cell_type": "markdown",
   "metadata": {},
   "source": [
    "<b>Решение:</b> Воспользуемся библиотекой scipy"
   ]
  },
  {
   "cell_type": "code",
   "execution_count": 6,
   "metadata": {},
   "outputs": [],
   "source": [
    "X = norm(loc=174, scale=8).cdf"
   ]
  },
  {
   "cell_type": "code",
   "execution_count": 7,
   "metadata": {},
   "outputs": [],
   "source": [
    "p1 = 1 - X(182)\n",
    "p2 = 1 - X(190)\n",
    "p3 = X(190) - X(166)\n",
    "p4 = X(182) - X(166)\n",
    "p5 = X(190) - X(158)\n",
    "p6 = X(150) + p2\n",
    "p7 = X(150) + (1 - X(198))\n",
    "p8 = X(166)"
   ]
  },
  {
   "cell_type": "code",
   "execution_count": 8,
   "metadata": {},
   "outputs": [
    {
     "name": "stdout",
     "output_type": "stream",
     "text": [
      "а) больше 182 см:  0.1587\n",
      "б) больше 190 см:  0.0228\n",
      "в) от 166 см до 190 см:  0.8186\n",
      "г) от 166 см до 182 см:  0.6827\n",
      "д) от 158 см до 190 см:  0.9545\n",
      "е) не выше 150 см или не ниже 190 см:  0.0241\n",
      "ё) не выше 150 см или не ниже 198 см:  0.0027\n",
      "ж) ниже 166 см:  0.1587\n"
     ]
    }
   ],
   "source": [
    "print('а) больше 182 см: ', round(p1, 4))\n",
    "print('б) больше 190 см: ', round(p2, 4))\n",
    "print('в) от 166 см до 190 см: ', round(p3, 4))\n",
    "print('г) от 166 см до 182 см: ', round(p4, 4))\n",
    "print('д) от 158 см до 190 см: ', round(p5, 4))\n",
    "print('е) не выше 150 см или не ниже 190 см: ', round(p6, 4))\n",
    "print('ё) не выше 150 см или не ниже 198 см: ', round(p7, 4))\n",
    "print('ж) ниже 166 см: ', round(p8, 4))"
   ]
  },
  {
   "cell_type": "markdown",
   "metadata": {},
   "source": [
    "<h2>Задание 5 </h2> <br>\n",
    "<i>\n",
    "На сколько сигм (средних квадратичных отклонений) отклоняется рост человека, равный 190 см, от \n",
    "математического ожидания роста в популяции, в которой M(X) = 178 см и D(X) = 25 кв.см?\n",
    "</i>"
   ]
  },
  {
   "cell_type": "markdown",
   "metadata": {},
   "source": [
    "<b>Решение:</b> Воспользуемя формулой $$f(x) = \\frac{(x - M)}{\\sigma}$$"
   ]
  },
  {
   "cell_type": "code",
   "execution_count": 9,
   "metadata": {},
   "outputs": [
    {
     "name": "stdout",
     "output_type": "stream",
     "text": [
      "Отклонение на 2.4 сигм\n"
     ]
    }
   ],
   "source": [
    "x, M, sigma = 190, 178, sqrt(25)\n",
    "res = (x - M) / sigma\n",
    "print(f'Отклонение на {res} сигм')"
   ]
  }
 ],
 "metadata": {
  "kernelspec": {
   "display_name": "Python 3",
   "language": "python",
   "name": "python3"
  },
  "language_info": {
   "codemirror_mode": {
    "name": "ipython",
    "version": 3
   },
   "file_extension": ".py",
   "mimetype": "text/x-python",
   "name": "python",
   "nbconvert_exporter": "python",
   "pygments_lexer": "ipython3",
   "version": "3.6.7"
  }
 },
 "nbformat": 4,
 "nbformat_minor": 2
}
