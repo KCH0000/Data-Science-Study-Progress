{
 "cells": [
  {
   "cell_type": "markdown",
   "metadata": {},
   "source": [
    "<i>Импортируем ранее написанные функции</i>"
   ]
  },
  {
   "cell_type": "code",
   "execution_count": 1,
   "metadata": {},
   "outputs": [],
   "source": [
    "from mylib import mean, offset_dispersion, unbiased_dispersion, std_deviation, C\n",
    "import numpy as np"
   ]
  },
  {
   "cell_type": "markdown",
   "metadata": {},
   "source": [
    "<h2>Задание 1 </h2> <br>\n",
    "<i>\n",
    "Даны значения зарплат из выборки выпускников: 100, 80, 75, 77, 89, 33, 45, 25, 65, 17, 30, 24, 57, 55, 70, 75, 65, 84, 90, 150. Посчитать (желательно без использования статистических методов наподобие std, var, mean) <br> \n",
    "    <ul>\n",
    "        <li>среднее арифметическое \n",
    "        <li>среднее квадратичное отклонение\n",
    "        <li>смещенную оценку дисперсии\n",
    "        <li>несмещенную оценку дисперсии\n",
    "</i>"
   ]
  },
  {
   "cell_type": "code",
   "execution_count": 2,
   "metadata": {},
   "outputs": [],
   "source": [
    "salary = [100, 80, 75, 77, 89, 33, 45, 25, 65, 17, 30, 24, 57, 55, 70, 75, 65, 84, 90, 150]"
   ]
  },
  {
   "cell_type": "code",
   "execution_count": 3,
   "metadata": {},
   "outputs": [
    {
     "name": "stdout",
     "output_type": "stream",
     "text": [
      "среднее арифметическое: 65.3\n",
      "среднее квадратичное отклонение: 30.823854398825596\n",
      "смещенная оценка дисперсии: 950.11\n",
      "несмещенна оценка дисперсии: 1000.1157894736842\n"
     ]
    }
   ],
   "source": [
    "print(f'среднее арифметическое: {mean(salary)}')\n",
    "print(f'среднее квадратичное отклонение: {std_deviation(salary)}')\n",
    "print(f'смещенная оценка дисперсии: {offset_dispersion(salary)}')\n",
    "print(f'несмещенна оценка дисперсии: {unbiased_dispersion(salary)}')"
   ]
  },
  {
   "cell_type": "markdown",
   "metadata": {},
   "source": [
    "<h2>Задание 2 </h2> <br>\n",
    "<i>В первом ящике находится 8 мячей, из которых 5 - белые. Во втором ящике - 12 мячей, из которых 5 белых. Из первого ящика вытаскивают случайным образом два мяча, из второго - 4. Какова вероятность того, что 3 мяча белые?"
   ]
  },
  {
   "cell_type": "markdown",
   "metadata": {},
   "source": [
    "<b>Решение:</b> Разберем все случаи, когда выстаскиваются шары и ящиков в разном кол-ве<br>"
   ]
  },
  {
   "cell_type": "code",
   "execution_count": 4,
   "metadata": {},
   "outputs": [],
   "source": [
    "b1_all = 8\n",
    "b2_all = 12\n",
    "b1_white = 5\n",
    "b2_white = 5\n",
    "from_1 = 2\n",
    "from_2 = 4"
   ]
  },
  {
   "cell_type": "code",
   "execution_count": 5,
   "metadata": {},
   "outputs": [
    {
     "name": "stdout",
     "output_type": "stream",
     "text": [
      "Ответ: Вероятность = 0.369\n"
     ]
    }
   ],
   "source": [
    "P = 0\n",
    "n = 3\n",
    "for i in range(n):\n",
    "    P1 = C(b1_white, i) * C(b1_all - b1_white, from_1 - i) / C(b1_all, from_1)\n",
    "    P2 = C(b2_white, n - i) * C(b2_all - b2_white, from_2 + i - n) / C(b2_all, from_2)\n",
    "    P += P1 * P2\n",
    "print(f'Ответ: Вероятность = {np.round(P, 3)}')"
   ]
  },
  {
   "cell_type": "markdown",
   "metadata": {},
   "source": [
    "<h2>Задание 3 </h2> <br>\n",
    "<i>На соревновании по биатлону один из трех спортсменов стреляет и попадает в мишень. Вероятность попадания для первого спортсмена равна 0.9, для второго — 0.8, для третьего — 0.6. Найти вероятность того, что выстрел произведен:<br> a) первым спортсменом <br>б) вторым спортсменом <br>в) третьим спортсменом."
   ]
  },
  {
   "cell_type": "markdown",
   "metadata": {},
   "source": [
    "<b>Решение:</b>Воспользуемся формулой Байеса"
   ]
  },
  {
   "cell_type": "code",
   "execution_count": 6,
   "metadata": {},
   "outputs": [],
   "source": [
    "def task_3_4(p, s):\n",
    "    \"\"\"\n",
    "    Печатает вероятности событий, при условии, что события произошли по формуле Бейеса\n",
    "    p - массив вероятностей\n",
    "    s - массив вероятностей\n",
    "    возращает массив вероятностей\n",
    "    \"\"\"\n",
    "    p, s, n, P = np.array(p), np.array(s), len(p), []\n",
    "    p_sum = (p * s).sum()\n",
    "    for i in range(n):\n",
    "        P.append((s[i] * p[i]) / p_sum)\n",
    "    return P"
   ]
  },
  {
   "cell_type": "code",
   "execution_count": 7,
   "metadata": {},
   "outputs": [
    {
     "name": "stdout",
     "output_type": "stream",
     "text": [
      "Вероятность тоого, что стрелял 1 стрелок = 0.391\n",
      "Вероятность тоого, что стрелял 2 стрелок = 0.348\n",
      "Вероятность тоого, что стрелял 3 стрелок = 0.261\n"
     ]
    },
    {
     "data": {
      "text/plain": [
       "1.0"
      ]
     },
     "execution_count": 7,
     "metadata": {},
     "output_type": "execute_result"
    }
   ],
   "source": [
    "n = 3\n",
    "p = [0.9, 0.8, 0.6]\n",
    "s = [1/3, 1/3, 1/3]\n",
    "P = task_3_4(p, s)\n",
    "for index, answ in enumerate(P):\n",
    "     print(f'Вероятность тоого, что стрелял {index+1} стрелок = {np.round(answ, 3)}')\n",
    "sum(P)"
   ]
  },
  {
   "cell_type": "markdown",
   "metadata": {},
   "source": [
    "<h2>Задание 4 </h2> <br>\n",
    "<i>В университет на факультеты A и B поступило равное количество студентов, а на факультет C студентов поступило столько же, сколько на A и B вместе. Вероятность того, что студент факультета A сдаст первую сессию, равна 0.8. Для студента факультета B эта вероятность равна 0.7, а для студента факультета C - 0.9. Студент сдал первую сессию. Какова вероятность, что он учится: <br>a) на факультете A <br>б) на факультете B <br>в) на факультете C?"
   ]
  },
  {
   "cell_type": "markdown",
   "metadata": {},
   "source": [
    "<b>Решение:</b>Воспользуемся формулой Байеса"
   ]
  },
  {
   "cell_type": "code",
   "execution_count": 8,
   "metadata": {},
   "outputs": [
    {
     "name": "stdout",
     "output_type": "stream",
     "text": [
      "Вероятность тоого, что студент 1 факультета = 0.242\n",
      "Вероятность тоого, что студент 2 факультета = 0.212\n",
      "Вероятность тоого, что студент 3 факультета = 0.545\n"
     ]
    },
    {
     "data": {
      "text/plain": [
       "1.0"
      ]
     },
     "execution_count": 8,
     "metadata": {},
     "output_type": "execute_result"
    }
   ],
   "source": [
    "p = [0.8, 0.7, 0.9]\n",
    "s = [1/4, 1/4, 2/4]\n",
    "P = task_3_4(p, s)\n",
    "for index, answ in enumerate(P):\n",
    "     print(f'Вероятность тоого, что студент {index+1} факультета = {np.round(answ, 3)}')\n",
    "sum(P)"
   ]
  },
  {
   "cell_type": "markdown",
   "metadata": {},
   "source": [
    "<h2>Задание 5 </h2> <br>\n",
    "<i>Устройство состоит из трех деталей. Для первой детали вероятность выйти из строя в первый месяц равна 0.1, для второй - 0.2, для третьей - 0.25. Какова вероятность того, что в первый месяц выйдут из строя:<br>а) все детали <br>б) только две детали <br>в) хотя бы одна деталь <br>г) от одной до двух деталей?"
   ]
  },
  {
   "cell_type": "markdown",
   "metadata": {},
   "source": [
    "<b>Решение:</b><br>\n",
    "    а. События должны произойти одновременно, т.к. это произведение вероятностей<br>\n",
    "    б. Сумма вероятностей того, что две детали выйдут из строя, а третья нет, для всех комбинаций<br>\n",
    "    в. Несовместная вероятность с тем, что все детали не сломаются. <br>\n",
    "    г. Несовместное событие с тем что, сломаются все, не сломаются никакие. <br>"
   ]
  },
  {
   "cell_type": "code",
   "execution_count": 9,
   "metadata": {},
   "outputs": [],
   "source": [
    "p = np.array([0.1, 0.2, 0.25])\n",
    "q = np.ones(3) - p"
   ]
  },
  {
   "cell_type": "code",
   "execution_count": 10,
   "metadata": {},
   "outputs": [
    {
     "name": "stdout",
     "output_type": "stream",
     "text": [
      "Ответ: Вероятность = 0.005\n"
     ]
    }
   ],
   "source": [
    "P = p.prod()\n",
    "print(f'Ответ: Вероятность = {np.round(P, 3)}')"
   ]
  },
  {
   "cell_type": "code",
   "execution_count": 11,
   "metadata": {},
   "outputs": [
    {
     "name": "stdout",
     "output_type": "stream",
     "text": [
      "Ответ: Вероятность = 0.08\n"
     ]
    }
   ],
   "source": [
    "c = np.array([[0, 1, 1], [1,0,1], [1, 1, 0]])\n",
    "P = ((c * p)[c!=0].reshape(3,2).prod(axis=1) * q).sum()\n",
    "print(f'Ответ: Вероятность = {np.round(P, 3)}')"
   ]
  },
  {
   "cell_type": "code",
   "execution_count": 12,
   "metadata": {},
   "outputs": [
    {
     "name": "stdout",
     "output_type": "stream",
     "text": [
      "Ответ: Вероятность = 0.46\n"
     ]
    }
   ],
   "source": [
    "P = 1 - q.prod()\n",
    "print(f'Ответ: Вероятность = {np.round(P, 3)}')"
   ]
  },
  {
   "cell_type": "code",
   "execution_count": 13,
   "metadata": {},
   "outputs": [
    {
     "name": "stdout",
     "output_type": "stream",
     "text": [
      "Ответ: Вероятность = 0.455\n"
     ]
    }
   ],
   "source": [
    "P = 1 - p.prod() - q.prod()\n",
    "print(f'Ответ: Вероятность = {np.round(P, 3)}')"
   ]
  }
 ],
 "metadata": {
  "kernelspec": {
   "display_name": "Python 3",
   "language": "python",
   "name": "python3"
  },
  "language_info": {
   "codemirror_mode": {
    "name": "ipython",
    "version": 3
   },
   "file_extension": ".py",
   "mimetype": "text/x-python",
   "name": "python",
   "nbconvert_exporter": "python",
   "pygments_lexer": "ipython3",
   "version": "3.6.7"
  }
 },
 "nbformat": 4,
 "nbformat_minor": 2
}
