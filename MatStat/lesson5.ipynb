{
 "cells": [
  {
   "cell_type": "code",
   "execution_count": 1,
   "metadata": {},
   "outputs": [],
   "source": [
    "import numpy as np\n",
    "from math import sqrt\n",
    "from scipy.stats import norm, t\n",
    "from mylib import mean, std_unbiased"
   ]
  },
  {
   "cell_type": "markdown",
   "metadata": {},
   "source": [
    "<h2>Задание 1 </h2> <br>\n",
    "<i>\n",
    "Известно, что генеральная совокупность распределена нормально \n",
    "со средним квадратическим отклонением, равным 16. <br>\n",
    "Найти доверительный интервал для оценки математического ожидания a с надежностью 0.95, \n",
    "если выборочная средняя M = 80, а объем выборки n = 256.\n",
    "</i>"
   ]
  },
  {
   "cell_type": "markdown",
   "metadata": {},
   "source": [
    "<b>Решение:</b><h1> $\\delta = \\frac{t_\\lambda * \\sigma}{\\sqrt{n}}$<h1>"
   ]
  },
  {
   "cell_type": "code",
   "execution_count": 2,
   "metadata": {},
   "outputs": [
    {
     "name": "stdout",
     "output_type": "stream",
     "text": [
      "Доверительный интервал: [78.04, 81.96]\n"
     ]
    }
   ],
   "source": [
    "sigma, lambda_, M, n = 16, 0.95, 80, 256\n",
    "t_lambda_ = norm.ppf(lambda_/2 + 0.5)\n",
    "delta = t_lambda_ * sigma / sqrt(n)\n",
    "print(f'Доверительный интервал: [{round(M-delta, 4)}, {round(M+delta, 4)}]')"
   ]
  },
  {
   "cell_type": "markdown",
   "metadata": {},
   "source": [
    "<h2>Задание 2 </h2> <br>\n",
    "<i>\n",
    "В результате 10 независимых измерений некоторой величины X, выполненных с одинаковой точностью, \n",
    "получены опытные данные:<br>\n",
    "6.9, 6.1, 6.2, 6.8, 7.5, 6.3, 6.4, 6.9, 6.7, 6.1<br>\n",
    "Предполагая, что результаты измерений подчинены нормальному закону распределения вероятностей, \n",
    "оценить истинное значение величины X при помощи доверительного интервала, покрывающего это \n",
    "значение с доверительной вероятностью 0,95.\n",
    "</i>"
   ]
  },
  {
   "cell_type": "markdown",
   "metadata": {},
   "source": [
    "<b>Решение:</b>"
   ]
  },
  {
   "cell_type": "code",
   "execution_count": 3,
   "metadata": {},
   "outputs": [
    {
     "name": "stdout",
     "output_type": "stream",
     "text": [
      "Доверительный интервал: [6.3106, 6.8694]\n"
     ]
    }
   ],
   "source": [
    "x = [6.9, 6.1, 6.2, 6.8, 7.5, 6.3, 6.4, 6.9, 6.7, 6.1]\n",
    "sigma = std_unbiased(x)\n",
    "lambda_ = 0.95\n",
    "M = mean(x)\n",
    "n = len(x)\n",
    "t_lambda_ = norm.ppf(lambda_/2 + 0.5)\n",
    "delta = t_lambda_ * sigma / sqrt(n)\n",
    "print(f'Доверительный интервал: [{round(M-delta, 4)}, {round(M+delta, 4)}]')"
   ]
  },
  {
   "cell_type": "markdown",
   "metadata": {},
   "source": [
    "<h2>Задание 3 </h2> <br>\n",
    "<i>\n",
    "Утверждается, что шарики для подшипников, изготовленные автоматическим станком, имеют средний диаметр 17 мм. <br>\n",
    "Используя односторонний критерий с α=0,05, проверить эту гипотезу, если в выборке из n=100 шариков средний диаметр \n",
    "оказался равным 17.5 мм, а дисперсия известна и равна 4 мм\n",
    "</i>"
   ]
  },
  {
   "cell_type": "markdown",
   "metadata": {},
   "source": [
    "<b>Решение:</b> Определим основаную гипотезу H0: M = 17<br>\n",
    "Определим альтернативнкую гипотезу на основании измерений. H1: M > 17 "
   ]
  },
  {
   "cell_type": "code",
   "execution_count": 7,
   "metadata": {},
   "outputs": [
    {
     "name": "stdout",
     "output_type": "stream",
     "text": [
      "H1 отклонение: 2.5. H0 критическое: 1.6449\n"
     ]
    }
   ],
   "source": [
    "sigma, alpha_, n = sqrt(4), 0.05, 100\n",
    "lambda_ = 1 - alpha_ * 2\n",
    "M0, M1 = 17, 17.5\n",
    "delta = M1 - M0\n",
    "t_lambda_ = (delta * sqrt(n)) / sigma\n",
    "t_lambda_crit = norm.ppf(lambda_/2 + 0.5)\n",
    "print(f'H1 отклонение: {round(t_lambda_, 4)}. H0 критическое: {round(t_lambda_crit, 4)}')"
   ]
  },
  {
   "cell_type": "markdown",
   "metadata": {},
   "source": [
    "<b>Ответ:</b> Принимаем альтернативную гипотезу"
   ]
  },
  {
   "cell_type": "markdown",
   "metadata": {},
   "source": [
    "<h2>Задание 4 </h2> <br>\n",
    "<i>\n",
    "Продавец утверждает, что средний вес пачки печенья составляет 200 г. <br>\n",
    "Из партии извлечена выборка из 10 пачек. Вес каждой пачки составляет:<br>\n",
    "202, 203, 199, 197, 195, 201, 200, 204, 194, 190.<br>\n",
    "Известно, что их веса распределены нормально.<br>\n",
    "Верно ли утверждение продавца, если учитывать, что доверительная вероятность равна 99%?\n",
    "</i>"
   ]
  },
  {
   "cell_type": "markdown",
   "metadata": {},
   "source": [
    "<b>Решение:</b>H0: Доверяем продавца и средний вес пачки 200г. <br>\n",
    "Выбиря пачки мы получили, что средний вес 198.5 => H1: средний вес пачки меньше 200г. <br>\n",
    "Двухстороний критерий $\\alpha = 0.01$"
   ]
  },
  {
   "cell_type": "code",
   "execution_count": 8,
   "metadata": {},
   "outputs": [
    {
     "name": "stdout",
     "output_type": "stream",
     "text": [
      "H1 отклонение: 1.0651. H0 критическое: 2.5758\n"
     ]
    }
   ],
   "source": [
    "x = [202, 203, 199, 197, 195, 201, 200, 204, 194, 190]\n",
    "M0, alpha_, n = 200, 0.01, 10\n",
    "lambda_ = 1 - alpha_\n",
    "M1 = mean(x)\n",
    "sigma = std_unbiased(x)\n",
    "delta = M0 - M1\n",
    "t_lambda_ = (delta * sqrt(n)) / sigma\n",
    "t_lambda_crit = norm.ppf(lambda_ / 2 + 0.5)\n",
    "print(f'H1 отклонение: {round(t_lambda_, 4)}. H0 критическое: {round(t_lambda_crit, 4)}')"
   ]
  },
  {
   "cell_type": "markdown",
   "metadata": {},
   "source": [
    "<b>Ответ:</b> Стоит принять слова продовца за веру."
   ]
  }
 ],
 "metadata": {
  "kernelspec": {
   "display_name": "Python 3",
   "language": "python",
   "name": "python3"
  },
  "language_info": {
   "codemirror_mode": {
    "name": "ipython",
    "version": 3
   },
   "file_extension": ".py",
   "mimetype": "text/x-python",
   "name": "python",
   "nbconvert_exporter": "python",
   "pygments_lexer": "ipython3",
   "version": "3.6.7"
  }
 },
 "nbformat": 4,
 "nbformat_minor": 2
}
