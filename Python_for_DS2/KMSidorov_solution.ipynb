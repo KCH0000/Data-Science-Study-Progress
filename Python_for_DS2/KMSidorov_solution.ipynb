{
 "cells": [
  {
   "cell_type": "code",
   "execution_count": 150,
   "metadata": {},
   "outputs": [],
   "source": [
    "import numpy as np\n",
    "import pandas as pd\n",
    "import random\n",
    "import seaborn as sns"
   ]
  },
  {
   "cell_type": "code",
   "execution_count": 151,
   "metadata": {},
   "outputs": [],
   "source": [
    "from itertools import combinations, product\n",
    "from functools import reduce\n",
    "from sklearn.model_selection import train_test_split, KFold, GridSearchCV, RandomizedSearchCV\n",
    "from sklearn.metrics import classification_report, f1_score, precision_score, recall_score\n",
    "from sklearn.preprocessing import StandardScaler, MinMaxScaler\n",
    "from scipy.stats import chi2_contingency, shapiro, probplot, mannwhitneyu\n",
    "from matplotlib import pyplot as plt\n",
    "from tqdm import tqdm, trange\n",
    "%matplotlib inline"
   ]
  },
  {
   "cell_type": "code",
   "execution_count": 152,
   "metadata": {},
   "outputs": [],
   "source": [
    "import xgboost as xgb\n",
    "import catboost as catb\n",
    "import lightgbm as lgbm\n",
    "from sklearn.linear_model import LogisticRegression\n",
    "from sklearn.neighbors import KNeighborsClassifier"
   ]
  },
  {
   "cell_type": "code",
   "execution_count": 153,
   "metadata": {},
   "outputs": [],
   "source": [
    "SAMPLE = 7500\n",
    "\n",
    "def get_classification_report(y_train_true, y_train_pred, y_test_true, y_test_pred):\n",
    "    print('TRAIN\\n' + classification_report(y_train_true, y_train_pred))\n",
    "    print('TEST\\n' + classification_report(y_test_true, y_test_pred))\n",
    "    print('CONFUSION MATRIX\\n')\n",
    "    print(pd.crosstab(y_test_true, y_test_pred))\n",
    "\n",
    "def balance_df_by_target(df, target_name, pr):\n",
    "\n",
    "    target_counts = df[target_name].value_counts()\n",
    "\n",
    "    major_class_name = target_counts.idxmax()\n",
    "    minor_class_name = target_counts.idxmin()\n",
    "\n",
    "    disbalance_coeff = int(target_counts[major_class_name] / target_counts[minor_class_name]) - 1 \n",
    "\n",
    "    for i in range(disbalance_coeff):\n",
    "        sample = df[df[target_name] == minor_class_name].sample(int(target_counts[minor_class_name] * pr))\n",
    "        df = df.append(sample, ignore_index=True)\n",
    "\n",
    "    return df.sample(frac=1) \n",
    "\n",
    "def show_size_matching(df, col):\n",
    "    plt.figure(figsize=(10, 8))\n",
    "\n",
    "    sns.countplot(x=col, hue=TARGET_NAME, data=df)\n",
    "    plt.title(f'{col} grouped by target variable')\n",
    "    plt.legend(title='Target', loc='upper right')\n",
    "\n",
    "    plt.show()\n",
    "\n",
    "def show_chi2_p_vals(df, col):\n",
    "    vals = list(df.loc[~df[col].isna(), col].unique())\n",
    "    res = pd.DataFrame(index=sorted(vals), columns=sorted(vals))\n",
    "    for v1, v2 in product(vals, vals):\n",
    "        main_value_and_target_s = df.loc[df[col].isin([v1, v2]), ['Id', col, TARGET_NAME]]\n",
    "        main_value_table = main_value_and_target_s.pivot_table(values='Id', index=col, columns=TARGET_NAME, aggfunc='count')\n",
    "        _, p, _, _ = chi2_contingency(main_value_table, correction=False)\n",
    "        res.loc[v1, v2] = round(p, 4)\n",
    "    print(res)\n",
    "\n",
    "def get_target_ranges(df, col):\n",
    "    col_with_target_s = df[[col, TARGET_NAME]]\n",
    "    col_s = col_with_target_s[col]\n",
    "    col_target_0 = col_s[col_with_target_s[TARGET_NAME] == 0]\n",
    "    col_target_1 = col_s[col_with_target_s[TARGET_NAME] == 1]\n",
    "    return col_s, col_target_0, col_target_1\n",
    "    \n",
    "def show_plot_matching(df, col):\n",
    "    col_s, col_target_0, col_target_1 = get_target_ranges(df, col)\n",
    "    plt.figure(figsize=(10, 5))\n",
    "\n",
    "    sns.kdeplot(col_target_0, shade=True, label='No default', color='g')\n",
    "    sns.kdeplot(col_target_1, shade=True, label='Default', color='r')\n",
    "\n",
    "    plt.xlabel(col)\n",
    "    plt.title(f'{col} grouped by target variable')\n",
    "    plt.show()\n",
    "\n",
    "def show_shapiro(df, col):\n",
    "    col_s, _, _ = get_target_ranges(df, col)\n",
    "    return shapiro(col_s)\n",
    "\n",
    "def show_normal_matching(df, col):\n",
    "    col_s, _, _ = get_target_ranges(df, col)\n",
    "    plt.figure(figsize=(20, 8))\n",
    "\n",
    "    ax1 = plt.subplot(121)\n",
    "    ax1.set_xlabel(col)\n",
    "    ax1.set_ylabel('Count')\n",
    "    ax1.set_title(f'{col} distribution')\n",
    "    col_s.hist()\n",
    "\n",
    "    plt.subplot(122)\n",
    "    probplot(col_s, dist='norm', plot=plt)\n",
    "    plt.show()\n",
    "\n",
    "def show_confidence_int(df, col):\n",
    "    plt.figure(figsize=(8, 5))\n",
    "\n",
    "    sns.pointplot(x=TARGET_NAME, y=col, data=df[[col, TARGET_NAME]], capsize=.1)\n",
    "\n",
    "    plt.title(f'Confidence intervals (95 %) for {col}')\n",
    "    plt.show()\n",
    "\n",
    "def show_mannwhitneyu(df, col):\n",
    "    _, col_target_0, col_target_1 = get_target_ranges(df, col)\n",
    "    return mannwhitneyu(col_target_0, col_target_1)"
   ]
  },
  {
   "cell_type": "code",
   "execution_count": 154,
   "metadata": {},
   "outputs": [],
   "source": [
    "def mod_Home_Ownership(df, col='Home Ownership'):\n",
    "    df.loc[df[col].isin(['Rent', 'Own Home']), col] = 1\n",
    "    df.loc[df[col].isin(['Have Mortgage', 'Home Mortgage']), col] = 0\n",
    "    \n",
    "    return df\n",
    "\n",
    "def mod_Tax_Liens(df, col='Tax Liens'):\n",
    "    df.loc[df[col].isin([0, 1]), col] = 0\n",
    "    df.loc[df[col] >= 2, col] = 1\n",
    "    df[col] = df[col].astype('int8')\n",
    "    return df\n",
    "\n",
    "def mod_Term(df, col='Term'):\n",
    "    df[col] = df[col].map({'Short Term': '0', 'Long Term': '1'}).astype('int8')\n",
    "    return df\n",
    "\n",
    "def mod_Purpose(df, col='Purpose'):\n",
    "    df.loc[df[col].isin(['take a trip', 'debt consolidation', 'wedding', \n",
    "                         'buy house', 'vacation', 'renewable energy']), col] = 'debt consolidation'\n",
    "    df.loc[df[col].isin(['major purchase', 'buy a car', 'home improvements', 'moving', 'educational expenses']), col] = 'buy a car '\n",
    "    df.loc[df[col].isin(['medical bills', 'other']), col] = 'other'\n",
    "    df.loc[df[col].isin(['business loan', 'small business']), col] = 'bisness'\n",
    "    \n",
    "    uniq = list(df[col].unique())\n",
    "    for name, i in zip(uniq, range(0, len(uniq))):\n",
    "        df.loc[df[col] == name, col] = f'{i}'\n",
    "    df[col] = df[col].astype('str')\n",
    "    \n",
    "    return df\n",
    "\n",
    "def mod_Current_Loan_Amount(df, median, p, col='Current Loan Amount'):\n",
    "    df.loc[df[col] == 99999999.0, col] = 0\n",
    "    df = mod_remove_tail(df, col, p)\n",
    "    return df\n",
    "\n",
    "def mod_Number_of_Credit_Problems(df, col='Number of Credit Problems'):\n",
    "    df.loc[df[col].isin([0, 1]), col] = 0\n",
    "    df.loc[df[col] >= 4, col] = 4\n",
    "    df.loc[df[col].isin([2, 3]), col] = 3\n",
    "    df[col] = df[col].astype('int')\n",
    "    return df\n",
    "\n",
    "def mod_Credit_Score(df, median, col='Credit Score'):\n",
    "    df.loc[df[col] > 800, col] = df[col] / 10\n",
    "    df[col] = df[col].fillna(median)\n",
    "    return df\n",
    "\n",
    "def mod_Annual_Income(df, median, p, col='Annual Income'):\n",
    "#     df[col] = df[col].fillna(median)\n",
    "    df_clear = df.loc[~(df[col].isna()) & (df['Monthly Debt'] > 100), [col, 'Monthly Debt']]\n",
    "    mean_dept_coeff = (df_clear[col] / 12 / df_clear['Monthly Debt']).mean()\n",
    "    df.loc[df[col].isna(), col] = df['Monthly Debt'] * 12 * mean_dept_coeff\n",
    "    df = mod_remove_tail(df, col, p)\n",
    "    return df\n",
    "\n",
    "\n",
    "def mod_Years_in_current_job(df, mode, col='Years in current job'):\n",
    "    df[col] = df[col].fillna(mode)\n",
    "    df.loc[df[col] == '10+ years', [col]] = '10'\n",
    "    df.loc[df[col] == '< 1 year', [col]] = '0'\n",
    "    df[col] = df[col].apply(lambda x: str(x).split()[0])\n",
    "    df[col] = df[col].astype('int')\n",
    "    return df\n",
    "\n",
    "def mod_Bankruptcies(df, col='Bankruptcies'):\n",
    "    df[col] = df[col].fillna(0)\n",
    "    df.loc[df[col] > 2, col] = 2\n",
    "    df[col] = df[col].astype('int8')\n",
    "    return df\n",
    "\n",
    "def mod_Months_since_last_delinquent(df,  med_d, max_d, col='Months since last delinquent'):\n",
    "    extend = 12\n",
    "    df.loc[((df[curr_name].isna()) & df['Number of Credit Problems'] > 0) | (df['Bankruptcies'] > 0), col] = med_d\n",
    "    df[col] = df[col].fillna(max_d + extend)\n",
    "    df.loc[df[col] > max_d, col] = max_d + extend\n",
    "    return df\n",
    "\n",
    "def mod_remove_tail(df, col, quantile_p, left=False):\n",
    "    if left:\n",
    "        df.loc[df[col] < quantile_p, col] = quantile_p\n",
    "        return df\n",
    "    df.loc[df[col] > quantile_p, col] = quantile_p\n",
    "    return df\n",
    "\n",
    "def mod_scaler(df):\n",
    "    scaler = StandardScaler()\n",
    "    df_norm = df.copy()\n",
    "    df_norm[numerical_columns] = scaler.fit_transform(df_norm[numerical_columns])\n",
    "    return df_norm.copy()"
   ]
  },
  {
   "cell_type": "code",
   "execution_count": 155,
   "metadata": {},
   "outputs": [],
   "source": [
    "def add_Number_of_Credit_Problems(df, col='Number of Credit Problems'):\n",
    "    coef = df.loc[(df[col]==4) & (df[TARGET_NAME] != 0), col].count()/df.loc[(df[col]==4) & (df[TARGET_NAME] == 0), col].count()\n",
    "    for i in [6, 7]:\n",
    "        count_rows = df.loc[df[col] == i, col].count()\n",
    "        temp_df = df.loc[(df[col].isin([2, 3, 4, 5]) & (df[TARGET_NAME]==1))].sample(count_rows * int(coef))\n",
    "        temp_df[col] = i\n",
    "        df = df.append(temp_df, ignore_index=True)\n",
    "    return df\n",
    "\n",
    "def add_Tax_Liens(df, col='Tax Liens'):\n",
    "    for i in [6, 7]:\n",
    "        count_rows = df.loc[df[col] == i, col].count()\n",
    "        temp_df = df.loc[(df[col].isin([3, 4, 5]) & (df[TARGET_NAME]==1))].sample(count_rows)\n",
    "        temp_df[col] = i\n",
    "        df = df.append(temp_df, ignore_index=True)\n",
    "    return df"
   ]
  },
  {
   "cell_type": "code",
   "execution_count": 156,
   "metadata": {},
   "outputs": [],
   "source": [
    "def new_Months_since_last_delinquent_dummy(df, col='Months since last delinquent'):\n",
    "    new_col = col + '_dummy'\n",
    "    def discrete(value):\n",
    "        return  {  value == 0: '0',\n",
    "              1 <= value <  3: '1',\n",
    "              3 <= value <  6: '2',\n",
    "              6 <= value < 12: '3',\n",
    "             12 <= value < 36: '4',\n",
    "             36 <= value     : '5',}[True]\n",
    "    df[new_col] = df[col].map(discrete) \n",
    "    return df\n",
    "\n",
    "def new_Credit_Score_bin(df, col='Credit Score'):\n",
    "    bad_gays = df[col].quantile(0.2)\n",
    "    df[col + '_bin'] = df[col].map(lambda x: 1 if x < bad_gays else 0)\n",
    "    return df\n",
    "\n",
    "def new_Bankruptcies_bin(df, col='Bankruptcies'):\n",
    "    df[col + '_bin'] = df[col].map(lambda x: 1 if x != 0 else 0)\n",
    "    return df\n",
    "\n",
    "def new_Bankruptcies_bin2(df,  col='Bankruptcies'):\n",
    "    df[col + '_bin2'] = df[col].map(lambda x: 0 if x < 2  else 1)\n",
    "    return df"
   ]
  },
  {
   "cell_type": "markdown",
   "metadata": {},
   "source": [
    "***Пути, Данные и связанные с ними переменные***"
   ]
  },
  {
   "cell_type": "code",
   "execution_count": 157,
   "metadata": {},
   "outputs": [],
   "source": [
    "DATASET_FILE = 'datasets/train.csv'\n",
    "DATASET_TEST_FILE = 'datasets/test.csv'\n",
    "PRED_OUTPUT_FILE = 'KMSidorov_predictions.csv'"
   ]
  },
  {
   "cell_type": "code",
   "execution_count": 158,
   "metadata": {},
   "outputs": [],
   "source": [
    "drop_columns = ['Id']"
   ]
  },
  {
   "cell_type": "markdown",
   "metadata": {},
   "source": [
    "***Загрузка и первичный осмотр данных***"
   ]
  },
  {
   "cell_type": "code",
   "execution_count": 159,
   "metadata": {
    "scrolled": true
   },
   "outputs": [
    {
     "data": {
      "text/html": [
       "<div>\n",
       "<style scoped>\n",
       "    .dataframe tbody tr th:only-of-type {\n",
       "        vertical-align: middle;\n",
       "    }\n",
       "\n",
       "    .dataframe tbody tr th {\n",
       "        vertical-align: top;\n",
       "    }\n",
       "\n",
       "    .dataframe thead th {\n",
       "        text-align: right;\n",
       "    }\n",
       "</style>\n",
       "<table border=\"1\" class=\"dataframe\">\n",
       "  <thead>\n",
       "    <tr style=\"text-align: right;\">\n",
       "      <th></th>\n",
       "      <th>Id</th>\n",
       "      <th>Home Ownership</th>\n",
       "      <th>Annual Income</th>\n",
       "      <th>Years in current job</th>\n",
       "      <th>Tax Liens</th>\n",
       "      <th>Number of Open Accounts</th>\n",
       "      <th>Years of Credit History</th>\n",
       "      <th>Maximum Open Credit</th>\n",
       "      <th>Number of Credit Problems</th>\n",
       "      <th>Months since last delinquent</th>\n",
       "      <th>Bankruptcies</th>\n",
       "      <th>Purpose</th>\n",
       "      <th>Term</th>\n",
       "      <th>Current Loan Amount</th>\n",
       "      <th>Current Credit Balance</th>\n",
       "      <th>Monthly Debt</th>\n",
       "      <th>Credit Score</th>\n",
       "      <th>Credit Default</th>\n",
       "    </tr>\n",
       "  </thead>\n",
       "  <tbody>\n",
       "    <tr>\n",
       "      <th>0</th>\n",
       "      <td>0</td>\n",
       "      <td>Own Home</td>\n",
       "      <td>482087.0</td>\n",
       "      <td>NaN</td>\n",
       "      <td>0.0</td>\n",
       "      <td>11.0</td>\n",
       "      <td>26.3</td>\n",
       "      <td>685960.0</td>\n",
       "      <td>1.0</td>\n",
       "      <td>NaN</td>\n",
       "      <td>1.0</td>\n",
       "      <td>debt consolidation</td>\n",
       "      <td>Short Term</td>\n",
       "      <td>99999999.0</td>\n",
       "      <td>47386.0</td>\n",
       "      <td>7914.0</td>\n",
       "      <td>749.0</td>\n",
       "      <td>0</td>\n",
       "    </tr>\n",
       "    <tr>\n",
       "      <th>1</th>\n",
       "      <td>1</td>\n",
       "      <td>Own Home</td>\n",
       "      <td>1025487.0</td>\n",
       "      <td>10+ years</td>\n",
       "      <td>0.0</td>\n",
       "      <td>15.0</td>\n",
       "      <td>15.3</td>\n",
       "      <td>1181730.0</td>\n",
       "      <td>0.0</td>\n",
       "      <td>NaN</td>\n",
       "      <td>0.0</td>\n",
       "      <td>debt consolidation</td>\n",
       "      <td>Long Term</td>\n",
       "      <td>264968.0</td>\n",
       "      <td>394972.0</td>\n",
       "      <td>18373.0</td>\n",
       "      <td>737.0</td>\n",
       "      <td>1</td>\n",
       "    </tr>\n",
       "    <tr>\n",
       "      <th>2</th>\n",
       "      <td>2</td>\n",
       "      <td>Home Mortgage</td>\n",
       "      <td>751412.0</td>\n",
       "      <td>8 years</td>\n",
       "      <td>0.0</td>\n",
       "      <td>11.0</td>\n",
       "      <td>35.0</td>\n",
       "      <td>1182434.0</td>\n",
       "      <td>0.0</td>\n",
       "      <td>NaN</td>\n",
       "      <td>0.0</td>\n",
       "      <td>debt consolidation</td>\n",
       "      <td>Short Term</td>\n",
       "      <td>99999999.0</td>\n",
       "      <td>308389.0</td>\n",
       "      <td>13651.0</td>\n",
       "      <td>742.0</td>\n",
       "      <td>0</td>\n",
       "    </tr>\n",
       "    <tr>\n",
       "      <th>3</th>\n",
       "      <td>3</td>\n",
       "      <td>Own Home</td>\n",
       "      <td>805068.0</td>\n",
       "      <td>6 years</td>\n",
       "      <td>0.0</td>\n",
       "      <td>8.0</td>\n",
       "      <td>22.5</td>\n",
       "      <td>147400.0</td>\n",
       "      <td>1.0</td>\n",
       "      <td>NaN</td>\n",
       "      <td>1.0</td>\n",
       "      <td>debt consolidation</td>\n",
       "      <td>Short Term</td>\n",
       "      <td>121396.0</td>\n",
       "      <td>95855.0</td>\n",
       "      <td>11338.0</td>\n",
       "      <td>694.0</td>\n",
       "      <td>0</td>\n",
       "    </tr>\n",
       "    <tr>\n",
       "      <th>4</th>\n",
       "      <td>4</td>\n",
       "      <td>Rent</td>\n",
       "      <td>776264.0</td>\n",
       "      <td>8 years</td>\n",
       "      <td>0.0</td>\n",
       "      <td>13.0</td>\n",
       "      <td>13.6</td>\n",
       "      <td>385836.0</td>\n",
       "      <td>1.0</td>\n",
       "      <td>NaN</td>\n",
       "      <td>0.0</td>\n",
       "      <td>debt consolidation</td>\n",
       "      <td>Short Term</td>\n",
       "      <td>125840.0</td>\n",
       "      <td>93309.0</td>\n",
       "      <td>7180.0</td>\n",
       "      <td>719.0</td>\n",
       "      <td>0</td>\n",
       "    </tr>\n",
       "  </tbody>\n",
       "</table>\n",
       "</div>"
      ],
      "text/plain": [
       "   Id Home Ownership  Annual Income Years in current job  Tax Liens  \\\n",
       "0   0       Own Home       482087.0                  NaN        0.0   \n",
       "1   1       Own Home      1025487.0            10+ years        0.0   \n",
       "2   2  Home Mortgage       751412.0              8 years        0.0   \n",
       "3   3       Own Home       805068.0              6 years        0.0   \n",
       "4   4           Rent       776264.0              8 years        0.0   \n",
       "\n",
       "   Number of Open Accounts  Years of Credit History  Maximum Open Credit  \\\n",
       "0                     11.0                     26.3             685960.0   \n",
       "1                     15.0                     15.3            1181730.0   \n",
       "2                     11.0                     35.0            1182434.0   \n",
       "3                      8.0                     22.5             147400.0   \n",
       "4                     13.0                     13.6             385836.0   \n",
       "\n",
       "   Number of Credit Problems  Months since last delinquent  Bankruptcies  \\\n",
       "0                        1.0                           NaN           1.0   \n",
       "1                        0.0                           NaN           0.0   \n",
       "2                        0.0                           NaN           0.0   \n",
       "3                        1.0                           NaN           1.0   \n",
       "4                        1.0                           NaN           0.0   \n",
       "\n",
       "              Purpose        Term  Current Loan Amount  \\\n",
       "0  debt consolidation  Short Term           99999999.0   \n",
       "1  debt consolidation   Long Term             264968.0   \n",
       "2  debt consolidation  Short Term           99999999.0   \n",
       "3  debt consolidation  Short Term             121396.0   \n",
       "4  debt consolidation  Short Term             125840.0   \n",
       "\n",
       "   Current Credit Balance  Monthly Debt  Credit Score  Credit Default  \n",
       "0                 47386.0        7914.0         749.0               0  \n",
       "1                394972.0       18373.0         737.0               1  \n",
       "2                308389.0       13651.0         742.0               0  \n",
       "3                 95855.0       11338.0         694.0               0  \n",
       "4                 93309.0        7180.0         719.0               0  "
      ]
     },
     "execution_count": 159,
     "metadata": {},
     "output_type": "execute_result"
    }
   ],
   "source": [
    "df_test = pd.read_csv(DATASET_TEST_FILE)\n",
    "df = pd.read_csv(DATASET_FILE)\n",
    "# df = df.set_index('Id')\n",
    "df.head()"
   ]
  },
  {
   "cell_type": "code",
   "execution_count": 160,
   "metadata": {
    "scrolled": false
   },
   "outputs": [
    {
     "name": "stdout",
     "output_type": "stream",
     "text": [
      "<class 'pandas.core.frame.DataFrame'>\n",
      "RangeIndex: 7500 entries, 0 to 7499\n",
      "Data columns (total 18 columns):\n",
      "Id                              7500 non-null int64\n",
      "Home Ownership                  7500 non-null object\n",
      "Annual Income                   5943 non-null float64\n",
      "Years in current job            7129 non-null object\n",
      "Tax Liens                       7500 non-null float64\n",
      "Number of Open Accounts         7500 non-null float64\n",
      "Years of Credit History         7500 non-null float64\n",
      "Maximum Open Credit             7500 non-null float64\n",
      "Number of Credit Problems       7500 non-null float64\n",
      "Months since last delinquent    3419 non-null float64\n",
      "Bankruptcies                    7486 non-null float64\n",
      "Purpose                         7500 non-null object\n",
      "Term                            7500 non-null object\n",
      "Current Loan Amount             7500 non-null float64\n",
      "Current Credit Balance          7500 non-null float64\n",
      "Monthly Debt                    7500 non-null float64\n",
      "Credit Score                    5943 non-null float64\n",
      "Credit Default                  7500 non-null int64\n",
      "dtypes: float64(12), int64(2), object(4)\n",
      "memory usage: 1.0+ MB\n"
     ]
    }
   ],
   "source": [
    "df.info()"
   ]
  },
  {
   "cell_type": "markdown",
   "metadata": {},
   "source": [
    "***Выделим целевуб ппеременную***"
   ]
  },
  {
   "cell_type": "code",
   "execution_count": 161,
   "metadata": {},
   "outputs": [
    {
     "data": {
      "text/plain": [
       "0    5387\n",
       "1    2113\n",
       "Name: Credit Default, dtype: int64"
      ]
     },
     "execution_count": 161,
     "metadata": {},
     "output_type": "execute_result"
    }
   ],
   "source": [
    "TARGET_NAME = 'Credit Default'\n",
    "df[TARGET_NAME].value_counts()"
   ]
  },
  {
   "cell_type": "code",
   "execution_count": 162,
   "metadata": {},
   "outputs": [],
   "source": [
    "# for col in nonbinary_columns:\n",
    "#     print(f'Name:{col}. type: {df[col].dtype}')\n",
    "#     print(f'Количество уникальных элементов {len(df[col].unique())}, всего элементов {len(df[col])}')\n",
    "#     print(df[col].value_counts())\n",
    "#     print('-'*100)"
   ]
  },
  {
   "cell_type": "markdown",
   "metadata": {},
   "source": [
    "<h2 ><span style=\"color:red\">Years in current job</span> BEGIN"
   ]
  },
  {
   "cell_type": "code",
   "execution_count": 163,
   "metadata": {},
   "outputs": [],
   "source": [
    "curr_name = 'Years in current job'"
   ]
  },
  {
   "cell_type": "code",
   "execution_count": 164,
   "metadata": {},
   "outputs": [
    {
     "data": {
      "text/plain": [
       "137"
      ]
     },
     "execution_count": 164,
     "metadata": {},
     "output_type": "execute_result"
    }
   ],
   "source": [
    "df.loc[(df[curr_name].isna()) & (df[TARGET_NAME] == 1), ['Id', curr_name]].count()[0]"
   ]
  },
  {
   "cell_type": "code",
   "execution_count": 165,
   "metadata": {},
   "outputs": [],
   "source": [
    "mode = df[curr_name].mode()[0]\n",
    "df = mod_Years_in_current_job(df, mode)\n",
    "df_test = mod_Years_in_current_job(df_test, mode)"
   ]
  },
  {
   "cell_type": "code",
   "execution_count": 166,
   "metadata": {},
   "outputs": [
    {
     "data": {
      "image/png": "[encoded data removed]",
      "text/plain": [
       "<Figure size 720x576 with 1 Axes>"
      ]
     },
     "metadata": {
      "needs_background": "light"
     },
     "output_type": "display_data"
    }
   ],
   "source": [
    "show_size_matching(df, curr_name)"
   ]
  },
  {
   "cell_type": "code",
   "execution_count": 167,
   "metadata": {},
   "outputs": [
    {
     "name": "stdout",
     "output_type": "stream",
     "text": [
      "        0       1       2       3       4       5       6       7       8   \\\n",
      "0        1  0.9806  0.7323  0.7526  0.9122   0.959  0.7653  0.9429  0.7203   \n",
      "1   0.9806       1  0.7596  0.7786  0.9329  0.9791  0.7537  0.9619  0.7419   \n",
      "2   0.7323  0.7596       1  0.9859  0.8347  0.7797  0.5297  0.8157  0.9358   \n",
      "3   0.7526  0.7786  0.9859       1  0.8515  0.7984  0.5506  0.8319  0.9257   \n",
      "4   0.9122  0.9329  0.8347  0.8515       1   0.953   0.697  0.9743  0.8034   \n",
      "5    0.959  0.9791  0.7797  0.7984   0.953       1  0.7334  0.9813  0.7585   \n",
      "6   0.7653  0.7537  0.5297  0.5506   0.697  0.7334       1  0.7326  0.5478   \n",
      "7   0.9429  0.9619  0.8157  0.8319  0.9743  0.9813  0.7326       1  0.7875   \n",
      "8   0.7203  0.7419  0.9358  0.9257  0.8034  0.7585  0.5478  0.7875       1   \n",
      "9   0.3468  0.3652  0.4786  0.4781   0.409  0.3747  0.2547  0.4076  0.5739   \n",
      "10  0.7558  0.7434  0.4269  0.4638  0.6709  0.7154  0.9278   0.723  0.5007   \n",
      "\n",
      "        9       10  \n",
      "0   0.3468  0.7558  \n",
      "1   0.3652  0.7434  \n",
      "2   0.4786  0.4269  \n",
      "3   0.4781  0.4638  \n",
      "4    0.409  0.6709  \n",
      "5   0.3747  0.7154  \n",
      "6   0.2547  0.9278  \n",
      "7   0.4076   0.723  \n",
      "8   0.5739  0.5007  \n",
      "9        1  0.1962  \n",
      "10  0.1962       1  \n"
     ]
    }
   ],
   "source": [
    "show_chi2_p_vals(df, curr_name)"
   ]
  },
  {
   "cell_type": "code",
   "execution_count": 168,
   "metadata": {},
   "outputs": [
    {
     "data": {
      "text/plain": [
       "MannwhitneyuResult(statistic=5633858.0, pvalue=0.2421340749270156)"
      ]
     },
     "execution_count": 168,
     "metadata": {},
     "output_type": "execute_result"
    }
   ],
   "source": [
    "show_mannwhitneyu(df, curr_name)"
   ]
  },
  {
   "cell_type": "code",
   "execution_count": 169,
   "metadata": {},
   "outputs": [
    {
     "data": {
      "image/png": "[encoded data removed]",
      "text/plain": [
       "<Figure size 576x360 with 1 Axes>"
      ]
     },
     "metadata": {
      "needs_background": "light"
     },
     "output_type": "display_data"
    }
   ],
   "source": [
    "show_confidence_int(df, curr_name)"
   ]
  },
  {
   "cell_type": "code",
   "execution_count": 170,
   "metadata": {},
   "outputs": [],
   "source": [
    "drop_columns.append(curr_name)"
   ]
  },
  {
   "cell_type": "markdown",
   "metadata": {},
   "source": [
    "<h2><span style=\"color:red\">Years in current job</span> END<br>\n",
    "    ________________________________"
   ]
  },
  {
   "cell_type": "markdown",
   "metadata": {},
   "source": [
    "<h2 ><span style=\"color:red\">Bankruptcies</span> BEGIN"
   ]
  },
  {
   "cell_type": "code",
   "execution_count": 171,
   "metadata": {},
   "outputs": [],
   "source": [
    "curr_name = 'Bankruptcies'"
   ]
  },
  {
   "cell_type": "code",
   "execution_count": 172,
   "metadata": {},
   "outputs": [
    {
     "data": {
      "text/plain": [
       "Bankruptcies  Credit Default\n",
       "0.0           0                 4782\n",
       "              1                 1878\n",
       "1.0           0                  569\n",
       "              1                  217\n",
       "2.0           0                   20\n",
       "              1                   11\n",
       "3.0           0                    5\n",
       "              1                    2\n",
       "4.0           0                    1\n",
       "              1                    1\n",
       "dtype: int64"
      ]
     },
     "execution_count": 172,
     "metadata": {},
     "output_type": "execute_result"
    }
   ],
   "source": [
    "df[[curr_name, TARGET_NAME]].groupby([curr_name,TARGET_NAME]).size()"
   ]
  },
  {
   "cell_type": "code",
   "execution_count": 173,
   "metadata": {
    "scrolled": false
   },
   "outputs": [
    {
     "data": {
      "image/png": "[encoded data removed]",
      "text/plain": [
       "<Figure size 720x576 with 1 Axes>"
      ]
     },
     "metadata": {
      "needs_background": "light"
     },
     "output_type": "display_data"
    }
   ],
   "source": [
    "show_size_matching(df, curr_name)"
   ]
  },
  {
   "cell_type": "code",
   "execution_count": 174,
   "metadata": {},
   "outputs": [],
   "source": [
    "df = mod_Bankruptcies(df)\n",
    "df_test = mod_Bankruptcies(df_test)"
   ]
  },
  {
   "cell_type": "code",
   "execution_count": 175,
   "metadata": {},
   "outputs": [
    {
     "name": "stdout",
     "output_type": "stream",
     "text": [
      "        0       1       2\n",
      "0       1  0.7275  0.3408\n",
      "1  0.7275       1  0.3096\n",
      "2  0.3408  0.3096       1\n"
     ]
    }
   ],
   "source": [
    "show_chi2_p_vals(df, curr_name)"
   ]
  },
  {
   "cell_type": "code",
   "execution_count": 176,
   "metadata": {},
   "outputs": [],
   "source": [
    "drop_columns.append(curr_name)"
   ]
  },
  {
   "cell_type": "markdown",
   "metadata": {},
   "source": [
    "<h2><span style=\"color:red\">Bankruptcies</span> END<br>\n",
    "________________________________"
   ]
  },
  {
   "cell_type": "markdown",
   "metadata": {},
   "source": [
    "<h2 ><span style=\"color:red\">Home Ownership </span> BEGIN"
   ]
  },
  {
   "cell_type": "code",
   "execution_count": 177,
   "metadata": {},
   "outputs": [],
   "source": [
    "curr_name = 'Home Ownership'"
   ]
  },
  {
   "cell_type": "code",
   "execution_count": 178,
   "metadata": {},
   "outputs": [
    {
     "data": {
      "text/plain": [
       "count              7500\n",
       "unique                4\n",
       "top       Home Mortgage\n",
       "freq               3637\n",
       "Name: Home Ownership, dtype: object"
      ]
     },
     "execution_count": 178,
     "metadata": {},
     "output_type": "execute_result"
    }
   ],
   "source": [
    "df[curr_name].describe()"
   ]
  },
  {
   "cell_type": "code",
   "execution_count": 179,
   "metadata": {},
   "outputs": [
    {
     "data": {
      "image/png": "[encoded data removed]",
      "text/plain": [
       "<Figure size 720x576 with 1 Axes>"
      ]
     },
     "metadata": {
      "needs_background": "light"
     },
     "output_type": "display_data"
    }
   ],
   "source": [
    "show_size_matching(df, curr_name)"
   ]
  },
  {
   "cell_type": "code",
   "execution_count": 180,
   "metadata": {},
   "outputs": [
    {
     "name": "stdout",
     "output_type": "stream",
     "text": [
      "              Have Mortgage Home Mortgage Own Home    Rent\n",
      "Have Mortgage             1        0.4972   0.3272  0.2749\n",
      "Home Mortgage        0.4972             1   0.0163       0\n",
      "Own Home             0.3272        0.0163        1  0.4139\n",
      "Rent                 0.2749             0   0.4139       1\n"
     ]
    }
   ],
   "source": [
    "show_chi2_p_vals(df, curr_name)"
   ]
  },
  {
   "cell_type": "code",
   "execution_count": 181,
   "metadata": {},
   "outputs": [],
   "source": [
    "df = mod_Home_Ownership(df)\n",
    "df_test = mod_Home_Ownership(df_test)"
   ]
  },
  {
   "cell_type": "code",
   "execution_count": 182,
   "metadata": {},
   "outputs": [
    {
     "name": "stdout",
     "output_type": "stream",
     "text": [
      "   0  1\n",
      "0  1  0\n",
      "1  0  1\n"
     ]
    }
   ],
   "source": [
    "show_chi2_p_vals(df, curr_name)"
   ]
  },
  {
   "cell_type": "markdown",
   "metadata": {},
   "source": [
    "<h2><span style=\"color:red\">Home Ownership</span> END<br>________________________________"
   ]
  },
  {
   "cell_type": "markdown",
   "metadata": {},
   "source": [
    "<h2 ><span style=\"color:red\">Tax Liens</span> BEGIN"
   ]
  },
  {
   "cell_type": "code",
   "execution_count": 183,
   "metadata": {},
   "outputs": [],
   "source": [
    "curr_name = 'Tax Liens'"
   ]
  },
  {
   "cell_type": "code",
   "execution_count": 184,
   "metadata": {},
   "outputs": [],
   "source": [
    "# df = add_Tax_Liens(df)"
   ]
  },
  {
   "cell_type": "code",
   "execution_count": 185,
   "metadata": {},
   "outputs": [
    {
     "data": {
      "text/plain": [
       "array([0., 3., 1., 2., 4., 6., 5., 7.])"
      ]
     },
     "execution_count": 185,
     "metadata": {},
     "output_type": "execute_result"
    }
   ],
   "source": [
    "df[curr_name].unique()"
   ]
  },
  {
   "cell_type": "code",
   "execution_count": 186,
   "metadata": {
    "scrolled": false
   },
   "outputs": [
    {
     "data": {
      "image/png": "[encoded data removed]",
      "text/plain": [
       "<Figure size 720x576 with 1 Axes>"
      ]
     },
     "metadata": {
      "needs_background": "light"
     },
     "output_type": "display_data"
    }
   ],
   "source": [
    "show_size_matching(df.loc[df[curr_name] != 0] , curr_name)"
   ]
  },
  {
   "cell_type": "code",
   "execution_count": 187,
   "metadata": {},
   "outputs": [
    {
     "name": "stderr",
     "output_type": "stream",
     "text": [
      "/home/kach/projects/gb-ds/ds_env/lib/python3.7/site-packages/scipy/stats/contingency.py:244: RuntimeWarning: invalid value encountered in less\n",
      "  if np.any(observed < 0):\n"
     ]
    },
    {
     "name": "stdout",
     "output_type": "stream",
     "text": [
      "        0.0     1.0     2.0     3.0     4.0     5.0  6.0  7.0\n",
      "0.0       1  0.8589  0.0076  0.1224  0.2312  0.4893  NaN  NaN\n",
      "1.0  0.8589       1  0.0374  0.1739   0.278  0.5179  NaN  NaN\n",
      "2.0  0.0076  0.0374       1       1       1       1  NaN  NaN\n",
      "3.0  0.1224  0.1739       1       1       1       1  NaN  NaN\n",
      "4.0  0.2312   0.278       1       1       1       1  NaN  NaN\n",
      "5.0  0.4893  0.5179       1       1       1       1  NaN  NaN\n",
      "6.0     NaN     NaN     NaN     NaN     NaN     NaN    1    1\n",
      "7.0     NaN     NaN     NaN     NaN     NaN     NaN    1    1\n"
     ]
    }
   ],
   "source": [
    "show_chi2_p_vals(df, curr_name)"
   ]
  },
  {
   "cell_type": "code",
   "execution_count": 188,
   "metadata": {},
   "outputs": [],
   "source": [
    "df = mod_Tax_Liens(df)\n",
    "df_test = mod_Tax_Liens(df_test)"
   ]
  },
  {
   "cell_type": "code",
   "execution_count": 189,
   "metadata": {},
   "outputs": [
    {
     "name": "stdout",
     "output_type": "stream",
     "text": [
      "        0       1\n",
      "0       1  0.0026\n",
      "1  0.0026       1\n"
     ]
    }
   ],
   "source": [
    "show_chi2_p_vals(df, curr_name)"
   ]
  },
  {
   "cell_type": "markdown",
   "metadata": {},
   "source": [
    "<h2><span style=\"color:red\">Tax Liens </span> END<br>________________________________"
   ]
  },
  {
   "cell_type": "markdown",
   "metadata": {},
   "source": [
    "<h2 ><span style=\"color:red\">Term</span> BEGIN"
   ]
  },
  {
   "cell_type": "code",
   "execution_count": 190,
   "metadata": {},
   "outputs": [],
   "source": [
    "curr_name = 'Term'"
   ]
  },
  {
   "cell_type": "code",
   "execution_count": 191,
   "metadata": {
    "scrolled": false
   },
   "outputs": [
    {
     "data": {
      "image/png": "[encoded data removed]",
      "text/plain": [
       "<Figure size 720x576 with 1 Axes>"
      ]
     },
     "metadata": {
      "needs_background": "light"
     },
     "output_type": "display_data"
    }
   ],
   "source": [
    "show_size_matching(df, curr_name)"
   ]
  },
  {
   "cell_type": "code",
   "execution_count": 192,
   "metadata": {},
   "outputs": [],
   "source": [
    "df = mod_Term(df)\n",
    "df_test = mod_Term(df_test)"
   ]
  },
  {
   "cell_type": "markdown",
   "metadata": {},
   "source": [
    "<h2><span style=\"color:red\">Term</span> END<br>________________________________"
   ]
  },
  {
   "cell_type": "markdown",
   "metadata": {},
   "source": [
    "<h2 ><span style=\"color:red\">Purpose</span> BEGIN"
   ]
  },
  {
   "cell_type": "code",
   "execution_count": 193,
   "metadata": {},
   "outputs": [],
   "source": [
    "curr_name = 'Purpose'"
   ]
  },
  {
   "cell_type": "code",
   "execution_count": 194,
   "metadata": {},
   "outputs": [
    {
     "data": {
      "text/plain": [
       "debt consolidation      5944\n",
       "other                    665\n",
       "home improvements        412\n",
       "business loan            129\n",
       "buy a car                 96\n",
       "medical bills             71\n",
       "major purchase            40\n",
       "take a trip               37\n",
       "buy house                 34\n",
       "small business            26\n",
       "wedding                   15\n",
       "moving                    11\n",
       "educational expenses      10\n",
       "vacation                   8\n",
       "renewable energy           2\n",
       "Name: Purpose, dtype: int64"
      ]
     },
     "execution_count": 194,
     "metadata": {},
     "output_type": "execute_result"
    }
   ],
   "source": [
    "df[curr_name].value_counts()"
   ]
  },
  {
   "cell_type": "code",
   "execution_count": 195,
   "metadata": {},
   "outputs": [
    {
     "data": {
      "image/png": "[encoded data removed]",
      "text/plain": [
       "<Figure size 720x576 with 1 Axes>"
      ]
     },
     "metadata": {
      "needs_background": "light"
     },
     "output_type": "display_data"
    }
   ],
   "source": [
    "show_size_matching(df.loc[~df[curr_name].isin(['debt consolidation'])], curr_name)"
   ]
  },
  {
   "cell_type": "code",
   "execution_count": 196,
   "metadata": {},
   "outputs": [
    {
     "name": "stdout",
     "output_type": "stream",
     "text": [
      "                     business loan buy a car buy house debt consolidation  \\\n",
      "business loan                    1    0.0061     0.086             0.0002   \n",
      "buy a car                   0.0061         1    0.8655             0.5397   \n",
      "buy house                    0.086    0.8655         1             0.8604   \n",
      "debt consolidation          0.0002    0.5397    0.8604                  1   \n",
      "educational expenses        0.0427    0.2876    0.2746             0.2087   \n",
      "home improvements           0.0004    0.8071    0.9739             0.4794   \n",
      "major purchase              0.0218    0.7566    0.6916             0.4536   \n",
      "medical bills               0.1052     0.392    0.6351              0.555   \n",
      "moving                      0.1131    0.6175    0.5782             0.4757   \n",
      "other                       0.0037    0.3508     0.694             0.3275   \n",
      "renewable energy               NaN       NaN       NaN                NaN   \n",
      "small business               0.294    0.0048    0.0307             0.0032   \n",
      "take a trip                 0.0864    0.8102    0.9578             0.9139   \n",
      "vacation                    0.3261         1    0.9322             0.8585   \n",
      "wedding                     0.2339    0.8901    0.9886             0.9203   \n",
      "\n",
      "                     educational expenses home improvements major purchase  \\\n",
      "business loan                      0.0427            0.0004         0.0218   \n",
      "buy a car                          0.2876            0.8071         0.7566   \n",
      "buy house                          0.2746            0.9739         0.6916   \n",
      "debt consolidation                 0.2087            0.4794         0.4536   \n",
      "educational expenses                    1            0.2471         0.3768   \n",
      "home improvements                  0.2471                 1         0.6087   \n",
      "major purchase                     0.3768            0.6087              1   \n",
      "medical bills                      0.1682            0.4024         0.3387   \n",
      "moving                             0.5926             0.549         0.7578   \n",
      "other                              0.1761            0.2273         0.3359   \n",
      "renewable energy                      NaN               NaN            NaN   \n",
      "small business                     0.0168            0.0023          0.009   \n",
      "take a trip                        0.2592            0.9142         0.6453   \n",
      "vacation                           0.3961            0.9384         0.8779   \n",
      "wedding                            0.3074            0.9687          0.746   \n",
      "\n",
      "                     medical bills  moving   other renewable energy  \\\n",
      "business loan               0.1052  0.1131  0.0037              NaN   \n",
      "buy a car                    0.392  0.6175  0.3508              NaN   \n",
      "buy house                   0.6351  0.5782   0.694              NaN   \n",
      "debt consolidation           0.555  0.4757  0.3275              NaN   \n",
      "educational expenses        0.1682  0.5926  0.1761              NaN   \n",
      "home improvements           0.4024   0.549  0.2273              NaN   \n",
      "major purchase              0.3387  0.7578  0.3359              NaN   \n",
      "medical bills                    1  0.3851  0.8114              NaN   \n",
      "moving                      0.3851       1  0.4089              NaN   \n",
      "other                       0.8114  0.4089       1              NaN   \n",
      "renewable energy               NaN     NaN     NaN                1   \n",
      "small business               0.039  0.0453  0.0085              NaN   \n",
      "take a trip                 0.6689   0.552   0.736              NaN   \n",
      "vacation                    0.7271  0.7189  0.7757              NaN   \n",
      "wedding                     0.7407  0.6119   0.804              NaN   \n",
      "\n",
      "                     small business take a trip vacation wedding  \n",
      "business loan                 0.294      0.0864   0.3261  0.2339  \n",
      "buy a car                    0.0048      0.8102        1  0.8901  \n",
      "buy house                    0.0307      0.9578   0.9322  0.9886  \n",
      "debt consolidation           0.0032      0.9139   0.8585  0.9203  \n",
      "educational expenses         0.0168      0.2592   0.3961  0.3074  \n",
      "home improvements            0.0023      0.9142   0.9384  0.9687  \n",
      "major purchase                0.009      0.6453   0.8779   0.746  \n",
      "medical bills                 0.039      0.6689   0.7271  0.7407  \n",
      "moving                       0.0453       0.552   0.7189  0.6119  \n",
      "other                        0.0085       0.736   0.7757   0.804  \n",
      "renewable energy                NaN         NaN      NaN     NaN  \n",
      "small business                    1      0.0309   0.1529  0.0912  \n",
      "take a trip                  0.0309           1   0.9064  0.9788  \n",
      "vacation                     0.1529      0.9064        1  0.9309  \n",
      "wedding                      0.0912      0.9788   0.9309       1  \n"
     ]
    }
   ],
   "source": [
    "show_chi2_p_vals(df, curr_name)"
   ]
  },
  {
   "cell_type": "code",
   "execution_count": 197,
   "metadata": {},
   "outputs": [],
   "source": [
    "df = mod_Purpose(df)\n",
    "df_test = mod_Purpose(df_test)"
   ]
  },
  {
   "cell_type": "code",
   "execution_count": 198,
   "metadata": {},
   "outputs": [
    {
     "name": "stdout",
     "output_type": "stream",
     "text": [
      "        0       1       2       3\n",
      "0       1  0.2725   0.198       0\n",
      "1  0.2725       1  0.0754  0.0004\n",
      "2   0.198  0.0754       1       0\n",
      "3       0  0.0004       0       1\n"
     ]
    }
   ],
   "source": [
    "show_chi2_p_vals(df, curr_name)"
   ]
  },
  {
   "cell_type": "markdown",
   "metadata": {},
   "source": [
    "<h2><span style=\"color:red\">Purpose</span> END<br>________________________________"
   ]
  },
  {
   "cell_type": "markdown",
   "metadata": {},
   "source": [
    "<h2 ><span style=\"color:red\">Months since last delinquent</span> BEGIN"
   ]
  },
  {
   "cell_type": "code",
   "execution_count": 199,
   "metadata": {},
   "outputs": [],
   "source": [
    "curr_name = 'Months since last delinquent'"
   ]
  },
  {
   "cell_type": "code",
   "execution_count": 200,
   "metadata": {},
   "outputs": [],
   "source": [
    "df = mod_Months_since_last_delinquent(df, df[curr_name].median(), df[curr_name].max())\n",
    "df_test = mod_Months_since_last_delinquent(df_test, df[curr_name].median(), df[curr_name].max())"
   ]
  },
  {
   "cell_type": "code",
   "execution_count": 201,
   "metadata": {},
   "outputs": [
    {
     "data": {
      "image/png": "[encoded data removed]",
      "text/plain": [
       "<Figure size 720x360 with 1 Axes>"
      ]
     },
     "metadata": {
      "needs_background": "light"
     },
     "output_type": "display_data"
    }
   ],
   "source": [
    "show_plot_matching(df, curr_name)"
   ]
  },
  {
   "cell_type": "code",
   "execution_count": 202,
   "metadata": {},
   "outputs": [
    {
     "data": {
      "text/plain": [
       "MannwhitneyuResult(statistic=5644722.0, pvalue=0.2790417928304931)"
      ]
     },
     "execution_count": 202,
     "metadata": {},
     "output_type": "execute_result"
    }
   ],
   "source": [
    "show_mannwhitneyu(df, curr_name)"
   ]
  },
  {
   "cell_type": "code",
   "execution_count": 203,
   "metadata": {},
   "outputs": [],
   "source": [
    "drop_columns.append(curr_name)"
   ]
  },
  {
   "cell_type": "markdown",
   "metadata": {},
   "source": [
    "<h2><span style=\"color:red\">Months since last delinquent</span> END<br>________________________________"
   ]
  },
  {
   "cell_type": "markdown",
   "metadata": {},
   "source": [
    "<h2 ><span style=\"color:red\">Number of Credit Problems</span> BEGIN"
   ]
  },
  {
   "cell_type": "code",
   "execution_count": 204,
   "metadata": {},
   "outputs": [],
   "source": [
    "curr_name = 'Number of Credit Problems'"
   ]
  },
  {
   "cell_type": "code",
   "execution_count": 205,
   "metadata": {},
   "outputs": [],
   "source": [
    "# df = add_Number_of_Credit_Problems(df)"
   ]
  },
  {
   "cell_type": "code",
   "execution_count": 206,
   "metadata": {},
   "outputs": [
    {
     "data": {
      "image/png": "[encoded data removed]",
      "text/plain": [
       "<Figure size 720x576 with 1 Axes>"
      ]
     },
     "metadata": {
      "needs_background": "light"
     },
     "output_type": "display_data"
    }
   ],
   "source": [
    "show_size_matching(df.loc[df[curr_name] != 0], curr_name)"
   ]
  },
  {
   "cell_type": "code",
   "execution_count": 207,
   "metadata": {
    "scrolled": true
   },
   "outputs": [
    {
     "name": "stdout",
     "output_type": "stream",
     "text": [
      "        0.0     1.0     2.0     3.0     4.0     5.0  6.0  7.0\n",
      "0.0       1  0.6493  0.1139   0.117    0.01   0.087  NaN  NaN\n",
      "1.0  0.6493       1  0.0959  0.1007  0.0087  0.0786  NaN  NaN\n",
      "2.0  0.1139  0.0959       1  0.6366   0.066  0.2524  NaN  NaN\n",
      "3.0   0.117  0.1007  0.6366       1  0.1519  0.4028  NaN  NaN\n",
      "4.0    0.01  0.0087   0.066  0.1519       1  0.6963  NaN  NaN\n",
      "5.0   0.087  0.0786  0.2524  0.4028  0.6963       1  NaN  NaN\n",
      "6.0     NaN     NaN     NaN     NaN     NaN     NaN    1    1\n",
      "7.0     NaN     NaN     NaN     NaN     NaN     NaN    1    1\n"
     ]
    }
   ],
   "source": [
    "show_chi2_p_vals(df, curr_name)"
   ]
  },
  {
   "cell_type": "code",
   "execution_count": 208,
   "metadata": {},
   "outputs": [],
   "source": [
    "df = mod_Number_of_Credit_Problems(df)\n",
    "df_test = mod_Number_of_Credit_Problems(df_test)"
   ]
  },
  {
   "cell_type": "code",
   "execution_count": 209,
   "metadata": {},
   "outputs": [
    {
     "name": "stdout",
     "output_type": "stream",
     "text": [
      "        0       3       4\n",
      "0       1   0.029  0.0453\n",
      "3   0.029       1  0.3408\n",
      "4  0.0453  0.3408       1\n"
     ]
    }
   ],
   "source": [
    "show_chi2_p_vals(df, curr_name)"
   ]
  },
  {
   "cell_type": "markdown",
   "metadata": {},
   "source": [
    "<h2><span style=\"color:red\">Number of Credit Problems</span> END<br>________________________________"
   ]
  },
  {
   "cell_type": "markdown",
   "metadata": {},
   "source": [
    "<h2 ><span style=\"color:red\">Years of Credit History</span> BEGIN"
   ]
  },
  {
   "cell_type": "code",
   "execution_count": 210,
   "metadata": {},
   "outputs": [],
   "source": [
    "curr_name = 'Years of Credit History'"
   ]
  },
  {
   "cell_type": "code",
   "execution_count": 211,
   "metadata": {},
   "outputs": [],
   "source": [
    "quantile_p = int(df[curr_name].quantile(0.70))\n",
    "df = mod_remove_tail(df, curr_name, quantile_p )\n",
    "df_test = mod_remove_tail(df_test, curr_name, quantile_p)"
   ]
  },
  {
   "cell_type": "code",
   "execution_count": 212,
   "metadata": {},
   "outputs": [
    {
     "data": {
      "image/png": "[encoded data removed]",
      "text/plain": [
       "<Figure size 720x360 with 1 Axes>"
      ]
     },
     "metadata": {
      "needs_background": "light"
     },
     "output_type": "display_data"
    }
   ],
   "source": [
    "show_plot_matching(df, curr_name)"
   ]
  },
  {
   "cell_type": "code",
   "execution_count": 213,
   "metadata": {},
   "outputs": [
    {
     "name": "stderr",
     "output_type": "stream",
     "text": [
      "/home/kach/projects/gb-ds/ds_env/lib/python3.7/site-packages/scipy/stats/morestats.py:1660: UserWarning: p-value may not be accurate for N > 5000.\n",
      "  warnings.warn(\"p-value may not be accurate for N > 5000.\")\n"
     ]
    },
    {
     "data": {
      "text/plain": [
       "(0.873212993144989, 0.0)"
      ]
     },
     "execution_count": 213,
     "metadata": {},
     "output_type": "execute_result"
    }
   ],
   "source": [
    "show_shapiro(df, curr_name)"
   ]
  },
  {
   "cell_type": "code",
   "execution_count": 214,
   "metadata": {},
   "outputs": [
    {
     "data": {
      "text/plain": [
       "MannwhitneyuResult(statistic=5418894.5, pvalue=0.000496846647787775)"
      ]
     },
     "execution_count": 214,
     "metadata": {},
     "output_type": "execute_result"
    }
   ],
   "source": [
    "show_mannwhitneyu(df, curr_name)"
   ]
  },
  {
   "cell_type": "code",
   "execution_count": 215,
   "metadata": {},
   "outputs": [
    {
     "data": {
      "image/png": "[encoded data removed]",
      "text/plain": [
       "<Figure size 576x360 with 1 Axes>"
      ]
     },
     "metadata": {
      "needs_background": "light"
     },
     "output_type": "display_data"
    }
   ],
   "source": [
    "show_confidence_int(df, curr_name)"
   ]
  },
  {
   "cell_type": "markdown",
   "metadata": {},
   "source": [
    "<h2><span style=\"color:red\">Years of Credit History</span> END<br>________________________________"
   ]
  },
  {
   "cell_type": "markdown",
   "metadata": {},
   "source": [
    "<h2 ><span style=\"color:red\">Current Loan Amount</span> BEGIN"
   ]
  },
  {
   "cell_type": "code",
   "execution_count": 216,
   "metadata": {},
   "outputs": [],
   "source": [
    "curr_name = 'Current Loan Amount'"
   ]
  },
  {
   "cell_type": "code",
   "execution_count": 217,
   "metadata": {},
   "outputs": [],
   "source": [
    "quantile_p = int(df[curr_name].quantile(0.90))\n",
    "median = df.loc[df[curr_name] < 900000, curr_name].median() \n",
    "df = mod_Current_Loan_Amount(df, median, quantile_p)\n",
    "df_test = mod_Current_Loan_Amount(df_test, median, quantile_p)"
   ]
  },
  {
   "cell_type": "code",
   "execution_count": 218,
   "metadata": {},
   "outputs": [
    {
     "data": {
      "image/png": "[encoded data removed]",
      "text/plain": [
       "<Figure size 720x360 with 1 Axes>"
      ]
     },
     "metadata": {
      "needs_background": "light"
     },
     "output_type": "display_data"
    }
   ],
   "source": [
    "show_plot_matching(df, curr_name)"
   ]
  },
  {
   "cell_type": "code",
   "execution_count": 219,
   "metadata": {},
   "outputs": [
    {
     "data": {
      "text/plain": [
       "(0.9484855532646179, 2.802596928649634e-45)"
      ]
     },
     "execution_count": 219,
     "metadata": {},
     "output_type": "execute_result"
    }
   ],
   "source": [
    "show_shapiro(df, curr_name)"
   ]
  },
  {
   "cell_type": "code",
   "execution_count": 220,
   "metadata": {},
   "outputs": [
    {
     "data": {
      "text/plain": [
       "MannwhitneyuResult(statistic=4375163.0, pvalue=2.8328712625384193e-55)"
      ]
     },
     "execution_count": 220,
     "metadata": {},
     "output_type": "execute_result"
    }
   ],
   "source": [
    "show_mannwhitneyu(df, curr_name)"
   ]
  },
  {
   "cell_type": "code",
   "execution_count": 221,
   "metadata": {},
   "outputs": [
    {
     "data": {
      "image/png": "[encoded data removed]",
      "text/plain": [
       "<Figure size 576x360 with 1 Axes>"
      ]
     },
     "metadata": {
      "needs_background": "light"
     },
     "output_type": "display_data"
    }
   ],
   "source": [
    "show_confidence_int(df, curr_name)"
   ]
  },
  {
   "cell_type": "markdown",
   "metadata": {},
   "source": [
    "<h2><span style=\"color:red\">Current Loan Amount</span> END<br>________________________________"
   ]
  },
  {
   "cell_type": "markdown",
   "metadata": {},
   "source": [
    "<h2 ><span style=\"color:red\">Monthly Debt</span> BEGIN"
   ]
  },
  {
   "cell_type": "code",
   "execution_count": 222,
   "metadata": {},
   "outputs": [],
   "source": [
    "curr_name = 'Monthly Debt'"
   ]
  },
  {
   "cell_type": "code",
   "execution_count": 223,
   "metadata": {},
   "outputs": [],
   "source": [
    "quantile_p = int(df[curr_name].quantile(0.85))\n",
    "df = mod_remove_tail(df, curr_name, quantile_p)\n",
    "df_test = mod_remove_tail(df_test, curr_name, quantile_p)"
   ]
  },
  {
   "cell_type": "code",
   "execution_count": 224,
   "metadata": {},
   "outputs": [
    {
     "data": {
      "image/png": "[encoded data removed]",
      "text/plain": [
       "<Figure size 720x360 with 1 Axes>"
      ]
     },
     "metadata": {
      "needs_background": "light"
     },
     "output_type": "display_data"
    }
   ],
   "source": [
    "show_plot_matching(df, curr_name)"
   ]
  },
  {
   "cell_type": "code",
   "execution_count": 225,
   "metadata": {},
   "outputs": [
    {
     "data": {
      "text/plain": [
       "MannwhitneyuResult(statistic=5534447.5, pvalue=0.031200239461042216)"
      ]
     },
     "execution_count": 225,
     "metadata": {},
     "output_type": "execute_result"
    }
   ],
   "source": [
    "show_mannwhitneyu(df, curr_name)"
   ]
  },
  {
   "cell_type": "code",
   "execution_count": 226,
   "metadata": {},
   "outputs": [
    {
     "data": {
      "image/png": "[encoded data removed]",
      "text/plain": [
       "<Figure size 576x360 with 1 Axes>"
      ]
     },
     "metadata": {
      "needs_background": "light"
     },
     "output_type": "display_data"
    }
   ],
   "source": [
    "show_confidence_int(df, curr_name)"
   ]
  },
  {
   "cell_type": "markdown",
   "metadata": {},
   "source": [
    "<h2><span style=\"color:red\">Monthly Debt</span> END<br>________________________________"
   ]
  },
  {
   "cell_type": "markdown",
   "metadata": {},
   "source": [
    "<h2 ><span style=\"color:red\">Current Credit Balance</span> BEGIN"
   ]
  },
  {
   "cell_type": "code",
   "execution_count": 227,
   "metadata": {},
   "outputs": [],
   "source": [
    "curr_name = 'Current Credit Balance'"
   ]
  },
  {
   "cell_type": "code",
   "execution_count": 228,
   "metadata": {},
   "outputs": [],
   "source": [
    "quantile_p = int(df[curr_name].quantile(0.99))\n",
    "df = mod_remove_tail(df, curr_name, quantile_p)\n",
    "df_test = mod_remove_tail(df_test, curr_name, quantile_p)"
   ]
  },
  {
   "cell_type": "code",
   "execution_count": 229,
   "metadata": {},
   "outputs": [
    {
     "data": {
      "image/png": "[encoded data removed]",
      "text/plain": [
       "<Figure size 720x360 with 1 Axes>"
      ]
     },
     "metadata": {
      "needs_background": "light"
     },
     "output_type": "display_data"
    }
   ],
   "source": [
    "show_plot_matching(df, curr_name)"
   ]
  },
  {
   "cell_type": "code",
   "execution_count": 230,
   "metadata": {},
   "outputs": [
    {
     "data": {
      "text/plain": [
       "MannwhitneyuResult(statistic=5688008.0, pvalue=0.484127151318837)"
      ]
     },
     "execution_count": 230,
     "metadata": {},
     "output_type": "execute_result"
    }
   ],
   "source": [
    "show_mannwhitneyu(df, curr_name)"
   ]
  },
  {
   "cell_type": "code",
   "execution_count": 231,
   "metadata": {},
   "outputs": [
    {
     "data": {
      "image/png": "[encoded data removed]",
      "text/plain": [
       "<Figure size 576x360 with 1 Axes>"
      ]
     },
     "metadata": {
      "needs_background": "light"
     },
     "output_type": "display_data"
    }
   ],
   "source": [
    "show_confidence_int(df, curr_name)"
   ]
  },
  {
   "cell_type": "code",
   "execution_count": 232,
   "metadata": {},
   "outputs": [],
   "source": [
    "drop_columns.append(curr_name)"
   ]
  },
  {
   "cell_type": "markdown",
   "metadata": {},
   "source": [
    "<h2><span style=\"color:red\">Current Credit Balance</span> END<br>________________________________"
   ]
  },
  {
   "cell_type": "markdown",
   "metadata": {},
   "source": [
    "<h2 ><span style=\"color:red\">Maximum Open Credit</span> BEGIN"
   ]
  },
  {
   "cell_type": "code",
   "execution_count": 233,
   "metadata": {},
   "outputs": [],
   "source": [
    "curr_name = 'Maximum Open Credit'"
   ]
  },
  {
   "cell_type": "code",
   "execution_count": 234,
   "metadata": {},
   "outputs": [
    {
     "data": {
      "text/plain": [
       "count    7.500000e+03\n",
       "mean     9.451537e+05\n",
       "std      1.602622e+07\n",
       "min      0.000000e+00\n",
       "25%      2.792295e+05\n",
       "50%      4.781590e+05\n",
       "75%      7.935015e+05\n",
       "max      1.304726e+09\n",
       "Name: Maximum Open Credit, dtype: float64"
      ]
     },
     "execution_count": 234,
     "metadata": {},
     "output_type": "execute_result"
    }
   ],
   "source": [
    "df[curr_name].describe()"
   ]
  },
  {
   "cell_type": "code",
   "execution_count": 235,
   "metadata": {},
   "outputs": [],
   "source": [
    "quantile_p = int(df[curr_name].quantile(0.80))\n",
    "df = mod_remove_tail(df, curr_name, quantile_p)\n",
    "df_test = mod_remove_tail(df_test, curr_name, quantile_p)"
   ]
  },
  {
   "cell_type": "code",
   "execution_count": 236,
   "metadata": {},
   "outputs": [
    {
     "data": {
      "image/png": "[encoded data removed]",
      "text/plain": [
       "<Figure size 720x360 with 1 Axes>"
      ]
     },
     "metadata": {
      "needs_background": "light"
     },
     "output_type": "display_data"
    }
   ],
   "source": [
    "show_plot_matching(df, curr_name)"
   ]
  },
  {
   "cell_type": "code",
   "execution_count": 237,
   "metadata": {},
   "outputs": [
    {
     "data": {
      "text/plain": [
       "MannwhitneyuResult(statistic=5242524.0, pvalue=4.5836369369943376e-08)"
      ]
     },
     "execution_count": 237,
     "metadata": {},
     "output_type": "execute_result"
    }
   ],
   "source": [
    "show_mannwhitneyu(df, curr_name)"
   ]
  },
  {
   "cell_type": "code",
   "execution_count": 238,
   "metadata": {},
   "outputs": [
    {
     "data": {
      "image/png": "[encoded data removed]",
      "text/plain": [
       "<Figure size 576x360 with 1 Axes>"
      ]
     },
     "metadata": {
      "needs_background": "light"
     },
     "output_type": "display_data"
    }
   ],
   "source": [
    "show_confidence_int(df, curr_name)"
   ]
  },
  {
   "cell_type": "markdown",
   "metadata": {},
   "source": [
    "<h2><span style=\"color:red\">Maximum Open Credit</span> END<br>________________________________"
   ]
  },
  {
   "cell_type": "markdown",
   "metadata": {},
   "source": [
    "<h2 ><span style=\"color:red\">Number of Open Accounts</span> BEGIN"
   ]
  },
  {
   "cell_type": "code",
   "execution_count": 239,
   "metadata": {},
   "outputs": [],
   "source": [
    "curr_name = 'Number of Open Accounts'"
   ]
  },
  {
   "cell_type": "code",
   "execution_count": 240,
   "metadata": {},
   "outputs": [],
   "source": [
    "quantile_p = int(df[curr_name].quantile(0.7))\n",
    "df = mod_remove_tail(df, curr_name, quantile_p)\n",
    "df_test = mod_remove_tail(df_test, curr_name, quantile_p)"
   ]
  },
  {
   "cell_type": "code",
   "execution_count": 241,
   "metadata": {},
   "outputs": [
    {
     "data": {
      "image/png": "[encoded data removed]",
      "text/plain": [
       "<Figure size 720x360 with 1 Axes>"
      ]
     },
     "metadata": {
      "needs_background": "light"
     },
     "output_type": "display_data"
    }
   ],
   "source": [
    "show_plot_matching(df, curr_name)"
   ]
  },
  {
   "cell_type": "code",
   "execution_count": 242,
   "metadata": {},
   "outputs": [
    {
     "data": {
      "text/plain": [
       "MannwhitneyuResult(statistic=5468323.0, pvalue=0.0035057186838006443)"
      ]
     },
     "execution_count": 242,
     "metadata": {},
     "output_type": "execute_result"
    }
   ],
   "source": [
    "show_mannwhitneyu(df, curr_name)"
   ]
  },
  {
   "cell_type": "code",
   "execution_count": 243,
   "metadata": {},
   "outputs": [
    {
     "data": {
      "image/png": "[encoded data removed]",
      "text/plain": [
       "<Figure size 576x360 with 1 Axes>"
      ]
     },
     "metadata": {
      "needs_background": "light"
     },
     "output_type": "display_data"
    }
   ],
   "source": [
    "show_confidence_int(df, curr_name)"
   ]
  },
  {
   "cell_type": "markdown",
   "metadata": {},
   "source": [
    "<h2><span style=\"color:red\">Number of Open Accounts</span> END<br>________________________________"
   ]
  },
  {
   "cell_type": "markdown",
   "metadata": {},
   "source": [
    "<h2 ><span style=\"color:red\">Credit Score</span> BEGIN"
   ]
  },
  {
   "cell_type": "code",
   "execution_count": 244,
   "metadata": {},
   "outputs": [],
   "source": [
    "curr_name = 'Credit Score'"
   ]
  },
  {
   "cell_type": "code",
   "execution_count": 245,
   "metadata": {},
   "outputs": [],
   "source": [
    "median = df[curr_name].median()\n",
    "df = mod_Credit_Score(df, median)\n",
    "df_test = mod_Credit_Score(df_test, median)"
   ]
  },
  {
   "cell_type": "code",
   "execution_count": 246,
   "metadata": {},
   "outputs": [],
   "source": [
    "quantile_p = int(df[curr_name].quantile(0.95))\n",
    "df = mod_remove_tail(df, curr_name, quantile_p)\n",
    "df_test = mod_remove_tail(df_test, curr_name, quantile_p)\n",
    "\n",
    "quantile_p = int(df[curr_name].quantile(0.03))\n",
    "df = mod_remove_tail(df, curr_name, quantile_p, left=True)\n",
    "df_test = mod_remove_tail(df_test, curr_name, quantile_p, left=True)"
   ]
  },
  {
   "cell_type": "code",
   "execution_count": 247,
   "metadata": {},
   "outputs": [
    {
     "data": {
      "image/png": "[encoded data removed]",
      "text/plain": [
       "<Figure size 720x360 with 1 Axes>"
      ]
     },
     "metadata": {
      "needs_background": "light"
     },
     "output_type": "display_data"
    }
   ],
   "source": [
    "show_plot_matching(df, curr_name)"
   ]
  },
  {
   "cell_type": "code",
   "execution_count": 248,
   "metadata": {},
   "outputs": [
    {
     "data": {
      "text/plain": [
       "MannwhitneyuResult(statistic=4435682.5, pvalue=5.754972474742408e-51)"
      ]
     },
     "execution_count": 248,
     "metadata": {},
     "output_type": "execute_result"
    }
   ],
   "source": [
    "show_mannwhitneyu(df, curr_name)"
   ]
  },
  {
   "cell_type": "code",
   "execution_count": 249,
   "metadata": {},
   "outputs": [
    {
     "data": {
      "image/png": "[encoded data removed]",
      "text/plain": [
       "<Figure size 576x360 with 1 Axes>"
      ]
     },
     "metadata": {
      "needs_background": "light"
     },
     "output_type": "display_data"
    }
   ],
   "source": [
    "show_confidence_int(df, curr_name)"
   ]
  },
  {
   "cell_type": "markdown",
   "metadata": {},
   "source": [
    "<h2><span style=\"color:red\">Credit Score</span> END<br>________________________________"
   ]
  },
  {
   "cell_type": "markdown",
   "metadata": {},
   "source": [
    "<h2 ><span style=\"color:red\">Annual Income</span> BEGIN"
   ]
  },
  {
   "cell_type": "code",
   "execution_count": 250,
   "metadata": {},
   "outputs": [],
   "source": [
    "curr_name = 'Annual Income'"
   ]
  },
  {
   "cell_type": "code",
   "execution_count": 251,
   "metadata": {},
   "outputs": [],
   "source": [
    "median = df[curr_name].median()\n",
    "p = int(df[curr_name].quantile(0.80))\n",
    "df = mod_Annual_Income(df, median, p)\n",
    "df_test = mod_Annual_Income(df_test, median, p)"
   ]
  },
  {
   "cell_type": "code",
   "execution_count": 252,
   "metadata": {},
   "outputs": [
    {
     "data": {
      "text/plain": [
       "1787071"
      ]
     },
     "execution_count": 252,
     "metadata": {},
     "output_type": "execute_result"
    }
   ],
   "source": [
    "p"
   ]
  },
  {
   "cell_type": "code",
   "execution_count": 253,
   "metadata": {},
   "outputs": [
    {
     "data": {
      "image/png": "[encoded data removed]",
      "text/plain": [
       "<Figure size 720x360 with 1 Axes>"
      ]
     },
     "metadata": {
      "needs_background": "light"
     },
     "output_type": "display_data"
    }
   ],
   "source": [
    "show_plot_matching(df, curr_name)"
   ]
  },
  {
   "cell_type": "code",
   "execution_count": 254,
   "metadata": {},
   "outputs": [
    {
     "data": {
      "text/plain": [
       "MannwhitneyuResult(statistic=5261933.0, pvalue=1.376181599637444e-07)"
      ]
     },
     "execution_count": 254,
     "metadata": {},
     "output_type": "execute_result"
    }
   ],
   "source": [
    "show_mannwhitneyu(df, curr_name)"
   ]
  },
  {
   "cell_type": "markdown",
   "metadata": {},
   "source": [
    "<h2><span style=\"color:red\">Annual Income</span> END<br>________________________________"
   ]
  },
  {
   "cell_type": "markdown",
   "metadata": {},
   "source": [
    "<h2 ><span style=\"color:red\">NEW NAMES</span> BEGIN"
   ]
  },
  {
   "cell_type": "code",
   "execution_count": 255,
   "metadata": {},
   "outputs": [],
   "source": [
    "new_names = {new_Credit_Score_bin:{}, \n",
    "             new_Months_since_last_delinquent_dummy: {},\n",
    "             new_Bankruptcies_bin:{},\n",
    "             new_Bankruptcies_bin2: {}\n",
    "            }\n",
    "\n",
    "for new_col, params in new_names.items():\n",
    "    df = new_col(df, **params)\n",
    "    df_test = new_col(df_test, **params)"
   ]
  },
  {
   "cell_type": "markdown",
   "metadata": {},
   "source": [
    "<h2><span style=\"color:red\">NEW NAMES</span> END<br>________________________________"
   ]
  },
  {
   "cell_type": "code",
   "execution_count": 256,
   "metadata": {
    "scrolled": false
   },
   "outputs": [
    {
     "name": "stdout",
     "output_type": "stream",
     "text": [
      "<class 'pandas.core.frame.DataFrame'>\n",
      "RangeIndex: 7500 entries, 0 to 7499\n",
      "Data columns (total 21 columns):\n",
      "Home Ownership                        7500 non-null int64\n",
      "Annual Income                         7500 non-null float64\n",
      "Years in current job                  7500 non-null int64\n",
      "Tax Liens                             7500 non-null int8\n",
      "Number of Open Accounts               7500 non-null float64\n",
      "Years of Credit History               7500 non-null float64\n",
      "Maximum Open Credit                   7500 non-null float64\n",
      "Number of Credit Problems             7500 non-null int64\n",
      "Months since last delinquent          7500 non-null float64\n",
      "Bankruptcies                          7500 non-null int8\n",
      "Purpose                               7500 non-null object\n",
      "Term                                  7500 non-null int8\n",
      "Current Loan Amount                   7500 non-null float64\n",
      "Current Credit Balance                7500 non-null float64\n",
      "Monthly Debt                          7500 non-null float64\n",
      "Credit Score                          7500 non-null float64\n",
      "Credit Default                        7500 non-null int64\n",
      "Credit Score_bin                      7500 non-null int64\n",
      "Months since last delinquent_dummy    7500 non-null object\n",
      "Bankruptcies_bin                      7500 non-null int64\n",
      "Bankruptcies_bin2                     7500 non-null int64\n",
      "dtypes: float64(9), int64(7), int8(3), object(2)\n",
      "memory usage: 1.1+ MB\n"
     ]
    }
   ],
   "source": [
    "df_final = df.drop(columns=['Id']).copy()\n",
    "df_final.info()"
   ]
  },
  {
   "cell_type": "code",
   "execution_count": 257,
   "metadata": {},
   "outputs": [
    {
     "name": "stdout",
     "output_type": "stream",
     "text": [
      "<class 'pandas.core.frame.DataFrame'>\n",
      "RangeIndex: 2500 entries, 0 to 2499\n",
      "Data columns (total 20 columns):\n",
      "Home Ownership                        2500 non-null int64\n",
      "Annual Income                         2500 non-null float64\n",
      "Years in current job                  2500 non-null int64\n",
      "Tax Liens                             2500 non-null int8\n",
      "Number of Open Accounts               2500 non-null float64\n",
      "Years of Credit History               2500 non-null float64\n",
      "Maximum Open Credit                   2500 non-null float64\n",
      "Number of Credit Problems             2500 non-null int64\n",
      "Months since last delinquent          2500 non-null float64\n",
      "Bankruptcies                          2500 non-null int8\n",
      "Purpose                               2500 non-null object\n",
      "Term                                  2500 non-null int8\n",
      "Current Loan Amount                   2500 non-null float64\n",
      "Current Credit Balance                2500 non-null float64\n",
      "Monthly Debt                          2500 non-null float64\n",
      "Credit Score                          2500 non-null float64\n",
      "Credit Score_bin                      2500 non-null int64\n",
      "Months since last delinquent_dummy    2500 non-null object\n",
      "Bankruptcies_bin                      2500 non-null int64\n",
      "Bankruptcies_bin2                     2500 non-null int64\n",
      "dtypes: float64(9), int64(6), int8(3), object(2)\n",
      "memory usage: 339.4+ KB\n"
     ]
    }
   ],
   "source": [
    "df_final_test = df_test.drop(columns=['Id']).copy()\n",
    "df_final_test.info()"
   ]
  },
  {
   "cell_type": "markdown",
   "metadata": {},
   "source": [
    "***Выделим бинарные переменные***"
   ]
  },
  {
   "cell_type": "code",
   "execution_count": 258,
   "metadata": {},
   "outputs": [
    {
     "data": {
      "text/plain": [
       "['Home Ownership',\n",
       " 'Tax Liens',\n",
       " 'Term',\n",
       " 'Credit Score_bin',\n",
       " 'Bankruptcies_bin',\n",
       " 'Bankruptcies_bin2']"
      ]
     },
     "execution_count": 258,
     "metadata": {},
     "output_type": "execute_result"
    }
   ],
   "source": [
    "binary_columns = [c for c in df_final.columns if len(df_final[c].unique()) < 3]\n",
    "binary_columns.remove(TARGET_NAME)\n",
    "binary_columns"
   ]
  },
  {
   "cell_type": "code",
   "execution_count": 259,
   "metadata": {},
   "outputs": [
    {
     "data": {
      "text/html": [
       "<div>\n",
       "<style scoped>\n",
       "    .dataframe tbody tr th:only-of-type {\n",
       "        vertical-align: middle;\n",
       "    }\n",
       "\n",
       "    .dataframe tbody tr th {\n",
       "        vertical-align: top;\n",
       "    }\n",
       "\n",
       "    .dataframe thead th {\n",
       "        text-align: right;\n",
       "    }\n",
       "</style>\n",
       "<table border=\"1\" class=\"dataframe\">\n",
       "  <thead>\n",
       "    <tr style=\"text-align: right;\">\n",
       "      <th></th>\n",
       "      <th>Home Ownership</th>\n",
       "      <th>Tax Liens</th>\n",
       "      <th>Term</th>\n",
       "      <th>Credit Score_bin</th>\n",
       "      <th>Bankruptcies_bin</th>\n",
       "      <th>Bankruptcies_bin2</th>\n",
       "    </tr>\n",
       "  </thead>\n",
       "  <tbody>\n",
       "    <tr>\n",
       "      <th>count</th>\n",
       "      <td>7500.000000</td>\n",
       "      <td>7500.000000</td>\n",
       "      <td>7500.000000</td>\n",
       "      <td>7500.000000</td>\n",
       "      <td>7500.000000</td>\n",
       "      <td>7500.000000</td>\n",
       "    </tr>\n",
       "    <tr>\n",
       "      <th>mean</th>\n",
       "      <td>0.513467</td>\n",
       "      <td>0.006800</td>\n",
       "      <td>0.259200</td>\n",
       "      <td>0.193200</td>\n",
       "      <td>0.110133</td>\n",
       "      <td>0.005333</td>\n",
       "    </tr>\n",
       "    <tr>\n",
       "      <th>std</th>\n",
       "      <td>0.499852</td>\n",
       "      <td>0.082187</td>\n",
       "      <td>0.438225</td>\n",
       "      <td>0.394835</td>\n",
       "      <td>0.313077</td>\n",
       "      <td>0.072840</td>\n",
       "    </tr>\n",
       "    <tr>\n",
       "      <th>min</th>\n",
       "      <td>0.000000</td>\n",
       "      <td>0.000000</td>\n",
       "      <td>0.000000</td>\n",
       "      <td>0.000000</td>\n",
       "      <td>0.000000</td>\n",
       "      <td>0.000000</td>\n",
       "    </tr>\n",
       "    <tr>\n",
       "      <th>25%</th>\n",
       "      <td>0.000000</td>\n",
       "      <td>0.000000</td>\n",
       "      <td>0.000000</td>\n",
       "      <td>0.000000</td>\n",
       "      <td>0.000000</td>\n",
       "      <td>0.000000</td>\n",
       "    </tr>\n",
       "    <tr>\n",
       "      <th>50%</th>\n",
       "      <td>1.000000</td>\n",
       "      <td>0.000000</td>\n",
       "      <td>0.000000</td>\n",
       "      <td>0.000000</td>\n",
       "      <td>0.000000</td>\n",
       "      <td>0.000000</td>\n",
       "    </tr>\n",
       "    <tr>\n",
       "      <th>75%</th>\n",
       "      <td>1.000000</td>\n",
       "      <td>0.000000</td>\n",
       "      <td>1.000000</td>\n",
       "      <td>0.000000</td>\n",
       "      <td>0.000000</td>\n",
       "      <td>0.000000</td>\n",
       "    </tr>\n",
       "    <tr>\n",
       "      <th>max</th>\n",
       "      <td>1.000000</td>\n",
       "      <td>1.000000</td>\n",
       "      <td>1.000000</td>\n",
       "      <td>1.000000</td>\n",
       "      <td>1.000000</td>\n",
       "      <td>1.000000</td>\n",
       "    </tr>\n",
       "  </tbody>\n",
       "</table>\n",
       "</div>"
      ],
      "text/plain": [
       "       Home Ownership    Tax Liens         Term  Credit Score_bin  \\\n",
       "count     7500.000000  7500.000000  7500.000000       7500.000000   \n",
       "mean         0.513467     0.006800     0.259200          0.193200   \n",
       "std          0.499852     0.082187     0.438225          0.394835   \n",
       "min          0.000000     0.000000     0.000000          0.000000   \n",
       "25%          0.000000     0.000000     0.000000          0.000000   \n",
       "50%          1.000000     0.000000     0.000000          0.000000   \n",
       "75%          1.000000     0.000000     1.000000          0.000000   \n",
       "max          1.000000     1.000000     1.000000          1.000000   \n",
       "\n",
       "       Bankruptcies_bin  Bankruptcies_bin2  \n",
       "count       7500.000000        7500.000000  \n",
       "mean           0.110133           0.005333  \n",
       "std            0.313077           0.072840  \n",
       "min            0.000000           0.000000  \n",
       "25%            0.000000           0.000000  \n",
       "50%            0.000000           0.000000  \n",
       "75%            0.000000           0.000000  \n",
       "max            1.000000           1.000000  "
      ]
     },
     "execution_count": 259,
     "metadata": {},
     "output_type": "execute_result"
    }
   ],
   "source": [
    "df[binary_columns] = df[binary_columns].astype('uint8')\n",
    "df_test[binary_columns] = df_test[binary_columns].astype('uint8')\n",
    "df[binary_columns].describe()"
   ]
  },
  {
   "cell_type": "markdown",
   "metadata": {},
   "source": [
    "***Выделим дамми переменные***"
   ]
  },
  {
   "cell_type": "code",
   "execution_count": 260,
   "metadata": {},
   "outputs": [
    {
     "data": {
      "text/plain": [
       "['Number of Credit Problems',\n",
       " 'Bankruptcies',\n",
       " 'Purpose',\n",
       " 'Months since last delinquent_dummy']"
      ]
     },
     "execution_count": 260,
     "metadata": {},
     "output_type": "execute_result"
    }
   ],
   "source": [
    "nonbinary_columns = [c for c in df_final.columns if len(df_final[c].unique()) in range(3, 10)]\n",
    "nonbinary_columns"
   ]
  },
  {
   "cell_type": "code",
   "execution_count": 261,
   "metadata": {},
   "outputs": [
    {
     "name": "stdout",
     "output_type": "stream",
     "text": [
      "<class 'pandas.core.frame.DataFrame'>\n",
      "RangeIndex: 7500 entries, 0 to 7499\n",
      "Data columns (total 4 columns):\n",
      "Number of Credit Problems             7500 non-null object\n",
      "Bankruptcies                          7500 non-null object\n",
      "Purpose                               7500 non-null object\n",
      "Months since last delinquent_dummy    7500 non-null object\n",
      "dtypes: object(4)\n",
      "memory usage: 234.5+ KB\n"
     ]
    }
   ],
   "source": [
    "df_final[nonbinary_columns] = df_final[nonbinary_columns].astype('str')\n",
    "df_final_test[nonbinary_columns] = df_final_test[nonbinary_columns].astype('str')\n",
    "df_final[nonbinary_columns].info()"
   ]
  },
  {
   "cell_type": "markdown",
   "metadata": {},
   "source": [
    "***Рассмотрим числовые переменные***"
   ]
  },
  {
   "cell_type": "code",
   "execution_count": 262,
   "metadata": {},
   "outputs": [
    {
     "name": "stdout",
     "output_type": "stream",
     "text": [
      "<class 'pandas.core.frame.DataFrame'>\n",
      "RangeIndex: 7500 entries, 0 to 7499\n",
      "Data columns (total 10 columns):\n",
      "Annual Income                   7500 non-null float64\n",
      "Current Credit Balance          7500 non-null float64\n",
      "Credit Score                    7500 non-null float64\n",
      "Months since last delinquent    7500 non-null float64\n",
      "Number of Open Accounts         7500 non-null float64\n",
      "Maximum Open Credit             7500 non-null float64\n",
      "Years of Credit History         7500 non-null float64\n",
      "Monthly Debt                    7500 non-null float64\n",
      "Years in current job            7500 non-null int64\n",
      "Current Loan Amount             7500 non-null float64\n",
      "dtypes: float64(9), int64(1)\n",
      "memory usage: 586.0 KB\n"
     ]
    }
   ],
   "source": [
    "numerical_columns = list(set(df_final.columns) - set(binary_columns) - set(nonbinary_columns) - set([TARGET_NAME]))\n",
    "df[numerical_columns].info()"
   ]
  },
  {
   "cell_type": "code",
   "execution_count": 263,
   "metadata": {},
   "outputs": [],
   "source": [
    "nonbinary_dummy_data = pd.get_dummies(df_final[nonbinary_columns])"
   ]
  },
  {
   "cell_type": "code",
   "execution_count": 264,
   "metadata": {},
   "outputs": [],
   "source": [
    "binary_data = df_final[binary_columns]"
   ]
  },
  {
   "cell_type": "code",
   "execution_count": 265,
   "metadata": {},
   "outputs": [],
   "source": [
    "numerical_data = df_final[numerical_columns]"
   ]
  },
  {
   "cell_type": "code",
   "execution_count": 266,
   "metadata": {
    "scrolled": true
   },
   "outputs": [
    {
     "data": {
      "text/html": [
       "<div>\n",
       "<style scoped>\n",
       "    .dataframe tbody tr th:only-of-type {\n",
       "        vertical-align: middle;\n",
       "    }\n",
       "\n",
       "    .dataframe tbody tr th {\n",
       "        vertical-align: top;\n",
       "    }\n",
       "\n",
       "    .dataframe thead th {\n",
       "        text-align: right;\n",
       "    }\n",
       "</style>\n",
       "<table border=\"1\" class=\"dataframe\">\n",
       "  <thead>\n",
       "    <tr style=\"text-align: right;\">\n",
       "      <th></th>\n",
       "      <th>Annual Income</th>\n",
       "      <th>Current Credit Balance</th>\n",
       "      <th>Credit Score</th>\n",
       "      <th>Months since last delinquent</th>\n",
       "      <th>Number of Open Accounts</th>\n",
       "      <th>Maximum Open Credit</th>\n",
       "      <th>Years of Credit History</th>\n",
       "      <th>Monthly Debt</th>\n",
       "      <th>Years in current job</th>\n",
       "      <th>Current Loan Amount</th>\n",
       "      <th>...</th>\n",
       "      <th>Purpose_1</th>\n",
       "      <th>Purpose_2</th>\n",
       "      <th>Purpose_3</th>\n",
       "      <th>Months since last delinquent_dummy_0</th>\n",
       "      <th>Months since last delinquent_dummy_1</th>\n",
       "      <th>Months since last delinquent_dummy_2</th>\n",
       "      <th>Months since last delinquent_dummy_3</th>\n",
       "      <th>Months since last delinquent_dummy_4</th>\n",
       "      <th>Months since last delinquent_dummy_5</th>\n",
       "      <th>Credit Default</th>\n",
       "    </tr>\n",
       "  </thead>\n",
       "  <tbody>\n",
       "    <tr>\n",
       "      <th>0</th>\n",
       "      <td>482087.0</td>\n",
       "      <td>47386.0</td>\n",
       "      <td>748.0</td>\n",
       "      <td>32.0</td>\n",
       "      <td>11.0</td>\n",
       "      <td>685960.0</td>\n",
       "      <td>20.0</td>\n",
       "      <td>7914.0</td>\n",
       "      <td>10</td>\n",
       "      <td>0.0</td>\n",
       "      <td>...</td>\n",
       "      <td>0</td>\n",
       "      <td>0</td>\n",
       "      <td>0</td>\n",
       "      <td>0</td>\n",
       "      <td>0</td>\n",
       "      <td>0</td>\n",
       "      <td>0</td>\n",
       "      <td>1</td>\n",
       "      <td>0</td>\n",
       "      <td>0</td>\n",
       "    </tr>\n",
       "    <tr>\n",
       "      <th>1</th>\n",
       "      <td>1025487.0</td>\n",
       "      <td>394972.0</td>\n",
       "      <td>737.0</td>\n",
       "      <td>130.0</td>\n",
       "      <td>13.0</td>\n",
       "      <td>891409.0</td>\n",
       "      <td>15.3</td>\n",
       "      <td>18373.0</td>\n",
       "      <td>10</td>\n",
       "      <td>264968.0</td>\n",
       "      <td>...</td>\n",
       "      <td>0</td>\n",
       "      <td>0</td>\n",
       "      <td>0</td>\n",
       "      <td>0</td>\n",
       "      <td>0</td>\n",
       "      <td>0</td>\n",
       "      <td>0</td>\n",
       "      <td>0</td>\n",
       "      <td>1</td>\n",
       "      <td>1</td>\n",
       "    </tr>\n",
       "    <tr>\n",
       "      <th>2</th>\n",
       "      <td>751412.0</td>\n",
       "      <td>308389.0</td>\n",
       "      <td>742.0</td>\n",
       "      <td>130.0</td>\n",
       "      <td>11.0</td>\n",
       "      <td>891409.0</td>\n",
       "      <td>20.0</td>\n",
       "      <td>13651.0</td>\n",
       "      <td>8</td>\n",
       "      <td>0.0</td>\n",
       "      <td>...</td>\n",
       "      <td>0</td>\n",
       "      <td>0</td>\n",
       "      <td>0</td>\n",
       "      <td>0</td>\n",
       "      <td>0</td>\n",
       "      <td>0</td>\n",
       "      <td>0</td>\n",
       "      <td>0</td>\n",
       "      <td>1</td>\n",
       "      <td>0</td>\n",
       "    </tr>\n",
       "    <tr>\n",
       "      <th>3</th>\n",
       "      <td>805068.0</td>\n",
       "      <td>95855.0</td>\n",
       "      <td>694.0</td>\n",
       "      <td>32.0</td>\n",
       "      <td>8.0</td>\n",
       "      <td>147400.0</td>\n",
       "      <td>20.0</td>\n",
       "      <td>11338.0</td>\n",
       "      <td>6</td>\n",
       "      <td>121396.0</td>\n",
       "      <td>...</td>\n",
       "      <td>0</td>\n",
       "      <td>0</td>\n",
       "      <td>0</td>\n",
       "      <td>0</td>\n",
       "      <td>0</td>\n",
       "      <td>0</td>\n",
       "      <td>0</td>\n",
       "      <td>1</td>\n",
       "      <td>0</td>\n",
       "      <td>0</td>\n",
       "    </tr>\n",
       "    <tr>\n",
       "      <th>4</th>\n",
       "      <td>776264.0</td>\n",
       "      <td>93309.0</td>\n",
       "      <td>719.0</td>\n",
       "      <td>32.0</td>\n",
       "      <td>13.0</td>\n",
       "      <td>385836.0</td>\n",
       "      <td>13.6</td>\n",
       "      <td>7180.0</td>\n",
       "      <td>8</td>\n",
       "      <td>125840.0</td>\n",
       "      <td>...</td>\n",
       "      <td>0</td>\n",
       "      <td>0</td>\n",
       "      <td>0</td>\n",
       "      <td>0</td>\n",
       "      <td>0</td>\n",
       "      <td>0</td>\n",
       "      <td>0</td>\n",
       "      <td>1</td>\n",
       "      <td>0</td>\n",
       "      <td>0</td>\n",
       "    </tr>\n",
       "  </tbody>\n",
       "</table>\n",
       "<p>5 rows × 33 columns</p>\n",
       "</div>"
      ],
      "text/plain": [
       "   Annual Income  Current Credit Balance  Credit Score  \\\n",
       "0       482087.0                 47386.0         748.0   \n",
       "1      1025487.0                394972.0         737.0   \n",
       "2       751412.0                308389.0         742.0   \n",
       "3       805068.0                 95855.0         694.0   \n",
       "4       776264.0                 93309.0         719.0   \n",
       "\n",
       "   Months since last delinquent  Number of Open Accounts  Maximum Open Credit  \\\n",
       "0                          32.0                     11.0             685960.0   \n",
       "1                         130.0                     13.0             891409.0   \n",
       "2                         130.0                     11.0             891409.0   \n",
       "3                          32.0                      8.0             147400.0   \n",
       "4                          32.0                     13.0             385836.0   \n",
       "\n",
       "   Years of Credit History  Monthly Debt  Years in current job  \\\n",
       "0                     20.0        7914.0                    10   \n",
       "1                     15.3       18373.0                    10   \n",
       "2                     20.0       13651.0                     8   \n",
       "3                     20.0       11338.0                     6   \n",
       "4                     13.6        7180.0                     8   \n",
       "\n",
       "   Current Loan Amount  ...  Purpose_1  Purpose_2  Purpose_3  \\\n",
       "0                  0.0  ...          0          0          0   \n",
       "1             264968.0  ...          0          0          0   \n",
       "2                  0.0  ...          0          0          0   \n",
       "3             121396.0  ...          0          0          0   \n",
       "4             125840.0  ...          0          0          0   \n",
       "\n",
       "   Months since last delinquent_dummy_0  Months since last delinquent_dummy_1  \\\n",
       "0                                     0                                     0   \n",
       "1                                     0                                     0   \n",
       "2                                     0                                     0   \n",
       "3                                     0                                     0   \n",
       "4                                     0                                     0   \n",
       "\n",
       "   Months since last delinquent_dummy_2  Months since last delinquent_dummy_3  \\\n",
       "0                                     0                                     0   \n",
       "1                                     0                                     0   \n",
       "2                                     0                                     0   \n",
       "3                                     0                                     0   \n",
       "4                                     0                                     0   \n",
       "\n",
       "   Months since last delinquent_dummy_4  Months since last delinquent_dummy_5  \\\n",
       "0                                     1                                     0   \n",
       "1                                     0                                     1   \n",
       "2                                     0                                     1   \n",
       "3                                     1                                     0   \n",
       "4                                     1                                     0   \n",
       "\n",
       "   Credit Default  \n",
       "0               0  \n",
       "1               1  \n",
       "2               0  \n",
       "3               0  \n",
       "4               0  \n",
       "\n",
       "[5 rows x 33 columns]"
      ]
     },
     "execution_count": 266,
     "metadata": {},
     "output_type": "execute_result"
    }
   ],
   "source": [
    "df_final = pd.concat([numerical_data, binary_data, nonbinary_dummy_data, df_final[TARGET_NAME]], axis=1)\n",
    "df_final.head()"
   ]
  },
  {
   "cell_type": "code",
   "execution_count": 267,
   "metadata": {},
   "outputs": [
    {
     "data": {
      "text/html": [
       "<div>\n",
       "<style scoped>\n",
       "    .dataframe tbody tr th:only-of-type {\n",
       "        vertical-align: middle;\n",
       "    }\n",
       "\n",
       "    .dataframe tbody tr th {\n",
       "        vertical-align: top;\n",
       "    }\n",
       "\n",
       "    .dataframe thead th {\n",
       "        text-align: right;\n",
       "    }\n",
       "</style>\n",
       "<table border=\"1\" class=\"dataframe\">\n",
       "  <thead>\n",
       "    <tr style=\"text-align: right;\">\n",
       "      <th></th>\n",
       "      <th>Annual Income</th>\n",
       "      <th>Current Credit Balance</th>\n",
       "      <th>Credit Score</th>\n",
       "      <th>Months since last delinquent</th>\n",
       "      <th>Number of Open Accounts</th>\n",
       "      <th>Maximum Open Credit</th>\n",
       "      <th>Years of Credit History</th>\n",
       "      <th>Monthly Debt</th>\n",
       "      <th>Years in current job</th>\n",
       "      <th>Current Loan Amount</th>\n",
       "      <th>...</th>\n",
       "      <th>Purpose_1</th>\n",
       "      <th>Purpose_2</th>\n",
       "      <th>Purpose_3</th>\n",
       "      <th>Months since last delinquent_dummy_0</th>\n",
       "      <th>Months since last delinquent_dummy_1</th>\n",
       "      <th>Months since last delinquent_dummy_2</th>\n",
       "      <th>Months since last delinquent_dummy_3</th>\n",
       "      <th>Months since last delinquent_dummy_4</th>\n",
       "      <th>Months since last delinquent_dummy_5</th>\n",
       "      <th>Credit Default</th>\n",
       "    </tr>\n",
       "  </thead>\n",
       "  <tbody>\n",
       "    <tr>\n",
       "      <th>0</th>\n",
       "      <td>482087.0</td>\n",
       "      <td>47386.0</td>\n",
       "      <td>748.0</td>\n",
       "      <td>32.0</td>\n",
       "      <td>11.0</td>\n",
       "      <td>685960.0</td>\n",
       "      <td>20.0</td>\n",
       "      <td>7914.0</td>\n",
       "      <td>10</td>\n",
       "      <td>0.0</td>\n",
       "      <td>...</td>\n",
       "      <td>0</td>\n",
       "      <td>0</td>\n",
       "      <td>0</td>\n",
       "      <td>0</td>\n",
       "      <td>0</td>\n",
       "      <td>0</td>\n",
       "      <td>0</td>\n",
       "      <td>1</td>\n",
       "      <td>0</td>\n",
       "      <td>0</td>\n",
       "    </tr>\n",
       "    <tr>\n",
       "      <th>1</th>\n",
       "      <td>1025487.0</td>\n",
       "      <td>394972.0</td>\n",
       "      <td>737.0</td>\n",
       "      <td>130.0</td>\n",
       "      <td>13.0</td>\n",
       "      <td>891409.0</td>\n",
       "      <td>15.3</td>\n",
       "      <td>18373.0</td>\n",
       "      <td>10</td>\n",
       "      <td>264968.0</td>\n",
       "      <td>...</td>\n",
       "      <td>0</td>\n",
       "      <td>0</td>\n",
       "      <td>0</td>\n",
       "      <td>0</td>\n",
       "      <td>0</td>\n",
       "      <td>0</td>\n",
       "      <td>0</td>\n",
       "      <td>0</td>\n",
       "      <td>1</td>\n",
       "      <td>1</td>\n",
       "    </tr>\n",
       "    <tr>\n",
       "      <th>2</th>\n",
       "      <td>751412.0</td>\n",
       "      <td>308389.0</td>\n",
       "      <td>742.0</td>\n",
       "      <td>130.0</td>\n",
       "      <td>11.0</td>\n",
       "      <td>891409.0</td>\n",
       "      <td>20.0</td>\n",
       "      <td>13651.0</td>\n",
       "      <td>8</td>\n",
       "      <td>0.0</td>\n",
       "      <td>...</td>\n",
       "      <td>0</td>\n",
       "      <td>0</td>\n",
       "      <td>0</td>\n",
       "      <td>0</td>\n",
       "      <td>0</td>\n",
       "      <td>0</td>\n",
       "      <td>0</td>\n",
       "      <td>0</td>\n",
       "      <td>1</td>\n",
       "      <td>0</td>\n",
       "    </tr>\n",
       "    <tr>\n",
       "      <th>3</th>\n",
       "      <td>805068.0</td>\n",
       "      <td>95855.0</td>\n",
       "      <td>694.0</td>\n",
       "      <td>32.0</td>\n",
       "      <td>8.0</td>\n",
       "      <td>147400.0</td>\n",
       "      <td>20.0</td>\n",
       "      <td>11338.0</td>\n",
       "      <td>6</td>\n",
       "      <td>121396.0</td>\n",
       "      <td>...</td>\n",
       "      <td>0</td>\n",
       "      <td>0</td>\n",
       "      <td>0</td>\n",
       "      <td>0</td>\n",
       "      <td>0</td>\n",
       "      <td>0</td>\n",
       "      <td>0</td>\n",
       "      <td>1</td>\n",
       "      <td>0</td>\n",
       "      <td>0</td>\n",
       "    </tr>\n",
       "    <tr>\n",
       "      <th>4</th>\n",
       "      <td>776264.0</td>\n",
       "      <td>93309.0</td>\n",
       "      <td>719.0</td>\n",
       "      <td>32.0</td>\n",
       "      <td>13.0</td>\n",
       "      <td>385836.0</td>\n",
       "      <td>13.6</td>\n",
       "      <td>7180.0</td>\n",
       "      <td>8</td>\n",
       "      <td>125840.0</td>\n",
       "      <td>...</td>\n",
       "      <td>0</td>\n",
       "      <td>0</td>\n",
       "      <td>0</td>\n",
       "      <td>0</td>\n",
       "      <td>0</td>\n",
       "      <td>0</td>\n",
       "      <td>0</td>\n",
       "      <td>1</td>\n",
       "      <td>0</td>\n",
       "      <td>0</td>\n",
       "    </tr>\n",
       "  </tbody>\n",
       "</table>\n",
       "<p>5 rows × 33 columns</p>\n",
       "</div>"
      ],
      "text/plain": [
       "   Annual Income  Current Credit Balance  Credit Score  \\\n",
       "0       482087.0                 47386.0         748.0   \n",
       "1      1025487.0                394972.0         737.0   \n",
       "2       751412.0                308389.0         742.0   \n",
       "3       805068.0                 95855.0         694.0   \n",
       "4       776264.0                 93309.0         719.0   \n",
       "\n",
       "   Months since last delinquent  Number of Open Accounts  Maximum Open Credit  \\\n",
       "0                          32.0                     11.0             685960.0   \n",
       "1                         130.0                     13.0             891409.0   \n",
       "2                         130.0                     11.0             891409.0   \n",
       "3                          32.0                      8.0             147400.0   \n",
       "4                          32.0                     13.0             385836.0   \n",
       "\n",
       "   Years of Credit History  Monthly Debt  Years in current job  \\\n",
       "0                     20.0        7914.0                    10   \n",
       "1                     15.3       18373.0                    10   \n",
       "2                     20.0       13651.0                     8   \n",
       "3                     20.0       11338.0                     6   \n",
       "4                     13.6        7180.0                     8   \n",
       "\n",
       "   Current Loan Amount  ...  Purpose_1  Purpose_2  Purpose_3  \\\n",
       "0                  0.0  ...          0          0          0   \n",
       "1             264968.0  ...          0          0          0   \n",
       "2                  0.0  ...          0          0          0   \n",
       "3             121396.0  ...          0          0          0   \n",
       "4             125840.0  ...          0          0          0   \n",
       "\n",
       "   Months since last delinquent_dummy_0  Months since last delinquent_dummy_1  \\\n",
       "0                                     0                                     0   \n",
       "1                                     0                                     0   \n",
       "2                                     0                                     0   \n",
       "3                                     0                                     0   \n",
       "4                                     0                                     0   \n",
       "\n",
       "   Months since last delinquent_dummy_2  Months since last delinquent_dummy_3  \\\n",
       "0                                     0                                     0   \n",
       "1                                     0                                     0   \n",
       "2                                     0                                     0   \n",
       "3                                     0                                     0   \n",
       "4                                     0                                     0   \n",
       "\n",
       "   Months since last delinquent_dummy_4  Months since last delinquent_dummy_5  \\\n",
       "0                                     1                                     0   \n",
       "1                                     0                                     1   \n",
       "2                                     0                                     1   \n",
       "3                                     1                                     0   \n",
       "4                                     1                                     0   \n",
       "\n",
       "   Credit Default  \n",
       "0               0  \n",
       "1               1  \n",
       "2               0  \n",
       "3               0  \n",
       "4               0  \n",
       "\n",
       "[5 rows x 33 columns]"
      ]
     },
     "execution_count": 267,
     "metadata": {},
     "output_type": "execute_result"
    }
   ],
   "source": [
    "nonbinary_dummy_data_test = pd.get_dummies(df_final_test[nonbinary_columns])\n",
    "binary_data_test = df_final_test[binary_columns]\n",
    "numerical_data_test = df_final_test[numerical_columns]\n",
    "df_final_test = pd.concat([numerical_data_test, binary_data_test, nonbinary_dummy_data_test], axis=1)\n",
    "df_final.head()"
   ]
  },
  {
   "cell_type": "code",
   "execution_count": 268,
   "metadata": {},
   "outputs": [
    {
     "data": {
      "text/plain": [
       "['Id',\n",
       " 'Years in current job',\n",
       " 'Bankruptcies',\n",
       " 'Months since last delinquent',\n",
       " 'Current Credit Balance']"
      ]
     },
     "execution_count": 268,
     "metadata": {},
     "output_type": "execute_result"
    }
   ],
   "source": [
    "drop_columns"
   ]
  },
  {
   "cell_type": "code",
   "execution_count": 269,
   "metadata": {
    "scrolled": false
   },
   "outputs": [
    {
     "data": {
      "image/png": "[encoded data removed]",
      "text/plain": [
       "<Figure size 720x576 with 1 Axes>"
      ]
     },
     "metadata": {
      "needs_background": "light"
     },
     "output_type": "display_data"
    }
   ],
   "source": [
    "BASE_FEATURE_NAMES = df_final.columns.tolist()\n",
    "corr_with_target = df_final[BASE_FEATURE_NAMES].corr().iloc[:-1, -1].sort_values(ascending=False)\n",
    "\n",
    "plt.figure(figsize=(10, 8))\n",
    "\n",
    "sns.barplot(x=corr_with_target.values[:], y=corr_with_target.index[:])\n",
    "\n",
    "plt.title('Correlation with target variable')\n",
    "plt.show()"
   ]
  },
  {
   "cell_type": "code",
   "execution_count": 270,
   "metadata": {},
   "outputs": [],
   "source": [
    "scaled = True\n",
    "df_final_scaled = mod_scaler(df_final)\n",
    "df_final_test_scaled = mod_scaler(df_final_test)"
   ]
  },
  {
   "cell_type": "code",
   "execution_count": 271,
   "metadata": {
    "scrolled": false
   },
   "outputs": [
    {
     "name": "stdout",
     "output_type": "stream",
     "text": [
      "'Term',\n",
      "'Current Loan Amount',\n",
      "'Credit Score',\n",
      "'Credit Score_bin',\n",
      "'Home Ownership',\n",
      "'Maximum Open Credit',\n",
      "'Annual Income',\n",
      "'Purpose_3',\n",
      "'Years of Credit History',\n",
      "'Tax Liens',\n",
      "'Number of Credit Problems_0',\n",
      "'Number of Open Accounts',\n",
      "'Number of Credit Problems_3',\n",
      "'Number of Credit Problems_4',\n",
      "'Monthly Debt',\n",
      "'Months since last delinquent_dummy_2',\n",
      "'Purpose_2',\n",
      "'Months since last delinquent_dummy_4',\n",
      "'Purpose_0',\n",
      "'Purpose_1',\n",
      "'Current Credit Balance',\n",
      "'Bankruptcies_bin2',\n",
      "'Bankruptcies_2',\n",
      "'Months since last delinquent_dummy_1',\n",
      "'Months since last delinquent_dummy_3',\n",
      "'Months since last delinquent',\n",
      "'Years in current job',\n",
      "'Months since last delinquent_dummy_0',\n",
      "'Months since last delinquent_dummy_5',\n",
      "'Bankruptcies_1',\n",
      "'Bankruptcies_bin',\n",
      "'Bankruptcies_0',\n"
     ]
    }
   ],
   "source": [
    "for c in corr_with_target.abs().sort_values(ascending = False).index:\n",
    "    print(f'\\'{c}\\',')"
   ]
  },
  {
   "cell_type": "code",
   "execution_count": 272,
   "metadata": {},
   "outputs": [],
   "source": [
    "FEATURE_NAMES_SELECTED = [\n",
    "'Term',\n",
    "'Current Loan Amount',\n",
    "'Credit Score',\n",
    "'Credit Score_bin',\n",
    "'Home Ownership',\n",
    "'Maximum Open Credit',\n",
    "'Annual Income',\n",
    "'Purpose_3',\n",
    "'Years of Credit History',\n",
    "'Tax Liens',\n",
    "'Number of Credit Problems_0',\n",
    "'Number of Open Accounts',\n",
    "'Number of Credit Problems_3',\n",
    "'Number of Credit Problems_4',\n",
    "'Monthly Debt',\n",
    "'Months since last delinquent_dummy_2',\n",
    "'Purpose_2',\n",
    "'Months since last delinquent_dummy_4',\n",
    "'Purpose_0',\n",
    "'Purpose_1',\n",
    "# 'Current Credit Balance',\n",
    "'Bankruptcies_2',\n",
    "'Bankruptcies_bin2',\n",
    "'Months since last delinquent_dummy_1',\n",
    "'Months since last delinquent_dummy_3',\n",
    "'Months since last delinquent',\n",
    "'Years in current job',\n",
    "# 'Months since last delinquent_dummy_0',\n",
    "# 'Months since last delinquent_dummy_5',\n",
    "# 'Bankruptcies_1',\n",
    "# 'Bankruptcies_bin',\n",
    "# 'Bankruptcies_0',\n",
    "]\n"
   ]
  },
  {
   "cell_type": "code",
   "execution_count": 273,
   "metadata": {},
   "outputs": [
    {
     "data": {
      "text/plain": [
       "['Id',\n",
       " 'Years in current job',\n",
       " 'Bankruptcies',\n",
       " 'Months since last delinquent',\n",
       " 'Current Credit Balance']"
      ]
     },
     "execution_count": 273,
     "metadata": {},
     "output_type": "execute_result"
    }
   ],
   "source": [
    "drop_columns"
   ]
  },
  {
   "cell_type": "code",
   "execution_count": 274,
   "metadata": {},
   "outputs": [
    {
     "data": {
      "text/html": [
       "<div>\n",
       "<style scoped>\n",
       "    .dataframe tbody tr th:only-of-type {\n",
       "        vertical-align: middle;\n",
       "    }\n",
       "\n",
       "    .dataframe tbody tr th {\n",
       "        vertical-align: top;\n",
       "    }\n",
       "\n",
       "    .dataframe thead th {\n",
       "        text-align: right;\n",
       "    }\n",
       "</style>\n",
       "<table border=\"1\" class=\"dataframe\">\n",
       "  <thead>\n",
       "    <tr style=\"text-align: right;\">\n",
       "      <th></th>\n",
       "      <th>Term</th>\n",
       "      <th>Current Loan Amount</th>\n",
       "      <th>Credit Score</th>\n",
       "      <th>Credit Score_bin</th>\n",
       "      <th>Home Ownership</th>\n",
       "      <th>Maximum Open Credit</th>\n",
       "      <th>Annual Income</th>\n",
       "      <th>Purpose_3</th>\n",
       "      <th>Years of Credit History</th>\n",
       "      <th>Tax Liens</th>\n",
       "      <th>...</th>\n",
       "      <th>Purpose_2</th>\n",
       "      <th>Months since last delinquent_dummy_4</th>\n",
       "      <th>Purpose_0</th>\n",
       "      <th>Purpose_1</th>\n",
       "      <th>Bankruptcies_2</th>\n",
       "      <th>Bankruptcies_bin2</th>\n",
       "      <th>Months since last delinquent_dummy_1</th>\n",
       "      <th>Months since last delinquent_dummy_3</th>\n",
       "      <th>Months since last delinquent</th>\n",
       "      <th>Years in current job</th>\n",
       "    </tr>\n",
       "  </thead>\n",
       "  <tbody>\n",
       "    <tr>\n",
       "      <th>0</th>\n",
       "      <td>0</td>\n",
       "      <td>-1.380382</td>\n",
       "      <td>1.091055</td>\n",
       "      <td>0</td>\n",
       "      <td>1</td>\n",
       "      <td>0.635664</td>\n",
       "      <td>-1.687713</td>\n",
       "      <td>0</td>\n",
       "      <td>0.979307</td>\n",
       "      <td>0</td>\n",
       "      <td>...</td>\n",
       "      <td>0</td>\n",
       "      <td>1</td>\n",
       "      <td>1</td>\n",
       "      <td>0</td>\n",
       "      <td>0</td>\n",
       "      <td>0</td>\n",
       "      <td>0</td>\n",
       "      <td>0</td>\n",
       "      <td>-0.937873</td>\n",
       "      <td>1.075647</td>\n",
       "    </tr>\n",
       "    <tr>\n",
       "      <th>1</th>\n",
       "      <td>1</td>\n",
       "      <td>-0.041483</td>\n",
       "      <td>0.612741</td>\n",
       "      <td>0</td>\n",
       "      <td>1</td>\n",
       "      <td>1.388906</td>\n",
       "      <td>-0.498114</td>\n",
       "      <td>0</td>\n",
       "      <td>-0.247066</td>\n",
       "      <td>0</td>\n",
       "      <td>...</td>\n",
       "      <td>0</td>\n",
       "      <td>0</td>\n",
       "      <td>1</td>\n",
       "      <td>0</td>\n",
       "      <td>0</td>\n",
       "      <td>0</td>\n",
       "      <td>0</td>\n",
       "      <td>0</td>\n",
       "      <td>1.013839</td>\n",
       "      <td>1.075647</td>\n",
       "    </tr>\n",
       "    <tr>\n",
       "      <th>2</th>\n",
       "      <td>0</td>\n",
       "      <td>-1.380382</td>\n",
       "      <td>0.830156</td>\n",
       "      <td>0</td>\n",
       "      <td>0</td>\n",
       "      <td>1.388906</td>\n",
       "      <td>-1.098113</td>\n",
       "      <td>0</td>\n",
       "      <td>0.979307</td>\n",
       "      <td>0</td>\n",
       "      <td>...</td>\n",
       "      <td>0</td>\n",
       "      <td>0</td>\n",
       "      <td>1</td>\n",
       "      <td>0</td>\n",
       "      <td>0</td>\n",
       "      <td>0</td>\n",
       "      <td>0</td>\n",
       "      <td>0</td>\n",
       "      <td>1.013839</td>\n",
       "      <td>0.526268</td>\n",
       "    </tr>\n",
       "    <tr>\n",
       "      <th>3</th>\n",
       "      <td>0</td>\n",
       "      <td>-0.766961</td>\n",
       "      <td>-1.257033</td>\n",
       "      <td>1</td>\n",
       "      <td>1</td>\n",
       "      <td>-1.338870</td>\n",
       "      <td>-0.980650</td>\n",
       "      <td>0</td>\n",
       "      <td>0.979307</td>\n",
       "      <td>0</td>\n",
       "      <td>...</td>\n",
       "      <td>0</td>\n",
       "      <td>1</td>\n",
       "      <td>1</td>\n",
       "      <td>0</td>\n",
       "      <td>0</td>\n",
       "      <td>0</td>\n",
       "      <td>0</td>\n",
       "      <td>0</td>\n",
       "      <td>-0.937873</td>\n",
       "      <td>-0.023111</td>\n",
       "    </tr>\n",
       "    <tr>\n",
       "      <th>4</th>\n",
       "      <td>0</td>\n",
       "      <td>-0.744505</td>\n",
       "      <td>-0.169955</td>\n",
       "      <td>0</td>\n",
       "      <td>1</td>\n",
       "      <td>-0.464687</td>\n",
       "      <td>-1.043707</td>\n",
       "      <td>0</td>\n",
       "      <td>-0.690648</td>\n",
       "      <td>0</td>\n",
       "      <td>...</td>\n",
       "      <td>0</td>\n",
       "      <td>1</td>\n",
       "      <td>1</td>\n",
       "      <td>0</td>\n",
       "      <td>0</td>\n",
       "      <td>0</td>\n",
       "      <td>0</td>\n",
       "      <td>0</td>\n",
       "      <td>-0.937873</td>\n",
       "      <td>0.526268</td>\n",
       "    </tr>\n",
       "  </tbody>\n",
       "</table>\n",
       "<p>5 rows × 26 columns</p>\n",
       "</div>"
      ],
      "text/plain": [
       "   Term  Current Loan Amount  Credit Score  Credit Score_bin  Home Ownership  \\\n",
       "0     0            -1.380382      1.091055                 0               1   \n",
       "1     1            -0.041483      0.612741                 0               1   \n",
       "2     0            -1.380382      0.830156                 0               0   \n",
       "3     0            -0.766961     -1.257033                 1               1   \n",
       "4     0            -0.744505     -0.169955                 0               1   \n",
       "\n",
       "   Maximum Open Credit  Annual Income  Purpose_3  Years of Credit History  \\\n",
       "0             0.635664      -1.687713          0                 0.979307   \n",
       "1             1.388906      -0.498114          0                -0.247066   \n",
       "2             1.388906      -1.098113          0                 0.979307   \n",
       "3            -1.338870      -0.980650          0                 0.979307   \n",
       "4            -0.464687      -1.043707          0                -0.690648   \n",
       "\n",
       "   Tax Liens  ...  Purpose_2  Months since last delinquent_dummy_4  Purpose_0  \\\n",
       "0          0  ...          0                                     1          1   \n",
       "1          0  ...          0                                     0          1   \n",
       "2          0  ...          0                                     0          1   \n",
       "3          0  ...          0                                     1          1   \n",
       "4          0  ...          0                                     1          1   \n",
       "\n",
       "   Purpose_1  Bankruptcies_2  Bankruptcies_bin2  \\\n",
       "0          0               0                  0   \n",
       "1          0               0                  0   \n",
       "2          0               0                  0   \n",
       "3          0               0                  0   \n",
       "4          0               0                  0   \n",
       "\n",
       "   Months since last delinquent_dummy_1  Months since last delinquent_dummy_3  \\\n",
       "0                                     0                                     0   \n",
       "1                                     0                                     0   \n",
       "2                                     0                                     0   \n",
       "3                                     0                                     0   \n",
       "4                                     0                                     0   \n",
       "\n",
       "   Months since last delinquent  Years in current job  \n",
       "0                     -0.937873              1.075647  \n",
       "1                      1.013839              1.075647  \n",
       "2                      1.013839              0.526268  \n",
       "3                     -0.937873             -0.023111  \n",
       "4                     -0.937873              0.526268  \n",
       "\n",
       "[5 rows x 26 columns]"
      ]
     },
     "execution_count": 274,
     "metadata": {},
     "output_type": "execute_result"
    }
   ],
   "source": [
    "scaled = True\n",
    "X = df_final_scaled[FEATURE_NAMES_SELECTED] if scaled else df_final[FEATURE_NAMES_SELECTED]\n",
    "y = df_final_scaled[TARGET_NAME] if scaled else df_final[TARGET_NAME]\n",
    "X_train, X_test, y_train, y_test = train_test_split(X, y, shuffle=True, test_size=0.25, random_state=211)\n",
    "X.head()"
   ]
  },
  {
   "cell_type": "code",
   "execution_count": 275,
   "metadata": {},
   "outputs": [
    {
     "data": {
      "text/plain": [
       "0    4047\n",
       "1    3156\n",
       "Name: Credit Default, dtype: int64"
      ]
     },
     "execution_count": 275,
     "metadata": {},
     "output_type": "execute_result"
    }
   ],
   "source": [
    "df_for_balancing = pd.concat([X_train, y_train], axis=1)\n",
    "df_balanced = balance_df_by_target(df_for_balancing, TARGET_NAME, 1)\n",
    "    \n",
    "X_train = df_balanced.drop(columns=TARGET_NAME)\n",
    "y_train = df_balanced[TARGET_NAME]\n",
    "df_balanced[TARGET_NAME].value_counts()"
   ]
  },
  {
   "cell_type": "code",
   "execution_count": 287,
   "metadata": {},
   "outputs": [
    {
     "name": "stdout",
     "output_type": "stream",
     "text": [
      "TRAIN\n",
      "              precision    recall  f1-score   support\n",
      "\n",
      "           0       0.69      0.73      0.71      4047\n",
      "           1       0.63      0.59      0.61      3156\n",
      "\n",
      "    accuracy                           0.67      7203\n",
      "   macro avg       0.66      0.66      0.66      7203\n",
      "weighted avg       0.66      0.67      0.67      7203\n",
      "\n",
      "TEST\n",
      "              precision    recall  f1-score   support\n",
      "\n",
      "           0       0.81      0.71      0.76      1340\n",
      "           1       0.44      0.58      0.50       535\n",
      "\n",
      "    accuracy                           0.67      1875\n",
      "   macro avg       0.63      0.64      0.63      1875\n",
      "weighted avg       0.70      0.67      0.68      1875\n",
      "\n",
      "CONFUSION MATRIX\n",
      "\n",
      "col_0           0.0  1.0\n",
      "Credit Default          \n",
      "0               952  388\n",
      "1               226  309\n",
      "0.5016233766233766\n"
     ]
    }
   ],
   "source": [
    "params = {\n",
    "    \"learning_rate\":0.01,\n",
    "    \"max_depth\": 2,\n",
    "    \"n_estimators\": 1650\n",
    "}\n",
    "\n",
    "MODEL = lgbm.LGBMClassifier\n",
    "\n",
    "model = MODEL(**params, silent=True, random_state=21)\n",
    "model.fit(X_train, y_train)\n",
    "\n",
    "y_train_pred = model.predict(X_train)\n",
    "y_test_pred = model.predict(X_test)\n",
    "\n",
    "get_classification_report(y_train, y_train_pred, y_test, y_test_pred)\n",
    "print(f1_score(y_test, y_test_pred))"
   ]
  },
  {
   "cell_type": "code",
   "execution_count": 285,
   "metadata": {},
   "outputs": [
    {
     "name": "stderr",
     "output_type": "stream",
     "text": [
      "100%| ██████████ |25/25|00:00| , | Max_f1=0.51406 | last_f1=0.49473 | best={'learning_rate': 0.01, 'max_depth': 2, 'n_estimators': 1650} |                                         current={'learning_rate': 0.01, 'max_depth': 2, 'n_estimators': 2650}\n"
     ]
    },
    {
     "data": {
      "text/plain": [
       "(0.5140562248995983,\n",
       " {'learning_rate': 0.01, 'max_depth': 2, 'n_estimators': 1650})"
      ]
     },
     "execution_count": 285,
     "metadata": {},
     "output_type": "execute_result"
    }
   ],
   "source": [
    "gred_params = {\n",
    "    \"learning_rate\": [0.01],\n",
    "    \"max_depth\": [2,],\n",
    "    \"n_estimators\": range(250, 2651, 100)\n",
    "}\n",
    "\n",
    "MODEL = lgbm.LGBMClassifier\n",
    "\n",
    "def gred_model(modelClassifier, gred_params, X_train, y_train, X_test, y_test):\n",
    "    max_f1 = result = 0\n",
    "    max_params = params = {}\n",
    "    iter_len = reduce(lambda x, y: x*y, [len(p) for p in gred_params.values()])\n",
    "    with tqdm(product(*gred_params.values()), \n",
    "              total=iter_len,  \n",
    "              bar_format='{l_bar} {bar} |{n_fmt}/{total_fmt}|{remaining}| {postfix}') as gred_dicts:\n",
    "        for i in gred_dicts:\n",
    "            params = dict(zip(gred_params.keys(), i))\n",
    "            model = modelClassifier(**params, random_state=21, eval_metric=\"F1\", silent=True)\n",
    "            model.fit(X_train, y_train)\n",
    "            y_test_pred = model.predict(X_test)\n",
    "            result = f1_score(y_test, y_test_pred)\n",
    "            if result > max_f1:\n",
    "                max_f1 = result\n",
    "                max_params = params\n",
    "            gred_dicts.set_postfix_str(s=f'| Max_f1={round(max_f1, 5)} | last_f1={round(result, 5)} | best={max_params} | \\\n",
    "                                        current={params}', refresh=True)\n",
    "    return max_f1, max_params\n",
    "def gred_names(modelClassifier, gred_params, X_train, y_train, X_test, y_test, output='output.csv'):\n",
    "    between = 5\n",
    "    test_names = FEATURE_NAMES_SELECTED[:between]\n",
    "    f1_prev = 0\n",
    "    for name in FEATURE_NAMES_SELECTED[between:]:\n",
    "        test_names.append(name)\n",
    "        X = df_final_scaled[test_names]\n",
    "        y = df_final_scaled[TARGET_NAME]\n",
    "        X_train, X_test, y_train, y_test = train_test_split(X, y, shuffle=True, test_size=0.2, random_state=211)\n",
    "\n",
    "        df_for_balancing = pd.concat([X_train, y_train], axis=1)\n",
    "        df_balanced = balance_df_by_target(df_for_balancing, TARGET_NAME, 1)\n",
    "\n",
    "        X_train = df_balanced.drop(columns=TARGET_NAME)\n",
    "        y_train = df_balanced[TARGET_NAME]\n",
    "        \n",
    "        f1, params = gred_model(modelClassifier, gred_params, X_train, y_train, X_test, y_test)\n",
    "        with open(output, 'a') as file:\n",
    "            file.write(f'{name},{f1},{f1 > f1_prev}\\n')\n",
    "        f1_prev = f1\n",
    "\n",
    "# gred_names(MODEL, gred_params, X_train, y_train, X_test, y_test, output='output.csv')\n",
    "gred_model(MODEL, gred_params, X_train, y_train, X_test, y_test)"
   ]
  },
  {
   "cell_type": "code",
   "execution_count": 278,
   "metadata": {
    "scrolled": true
   },
   "outputs": [
    {
     "data": {
      "text/plain": [
       "0    5387\n",
       "1    4226\n",
       "Name: Credit Default, dtype: int64"
      ]
     },
     "execution_count": 278,
     "metadata": {},
     "output_type": "execute_result"
    }
   ],
   "source": [
    "df_for_balancing = pd.concat([X, y], axis=1)\n",
    "df_balanced = balance_df_by_target(df_for_balancing, TARGET_NAME, 1)\n",
    "    \n",
    "X_full_train = df_balanced.drop(columns=TARGET_NAME)\n",
    "y_full_train = df_balanced[TARGET_NAME]\n",
    "df_balanced[TARGET_NAME].value_counts()"
   ]
  },
  {
   "cell_type": "code",
   "execution_count": 279,
   "metadata": {},
   "outputs": [
    {
     "data": {
      "text/plain": [
       "LGBMClassifier(boosting_type='gbdt', class_weight=None, colsample_bytree=1.0,\n",
       "               importance_type='split', learning_rate=0.01, max_depth=2,\n",
       "               min_child_samples=20, min_child_weight=0.001, min_split_gain=0.0,\n",
       "               n_estimators=2450, n_jobs=-1, num_leaves=31, objective=None,\n",
       "               random_state=21, reg_alpha=0.0, reg_lambda=0.0, silent=True,\n",
       "               subsample=1.0, subsample_for_bin=200000, subsample_freq=0)"
      ]
     },
     "execution_count": 279,
     "metadata": {},
     "output_type": "execute_result"
    }
   ],
   "source": [
    "model.fit(X_full_train, y_full_train)"
   ]
  },
  {
   "cell_type": "code",
   "execution_count": 280,
   "metadata": {},
   "outputs": [],
   "source": [
    "y_pred = model.predict(df_final_test_scaled[FEATURE_NAMES_SELECTED])"
   ]
  },
  {
   "cell_type": "code",
   "execution_count": 281,
   "metadata": {},
   "outputs": [
    {
     "data": {
      "text/plain": [
       "(865, 696, 3033)"
      ]
     },
     "execution_count": 281,
     "metadata": {},
     "output_type": "execute_result"
    }
   ],
   "source": [
    "sum(y_pred), sum(y_test_pred), sum(y_train_pred)"
   ]
  },
  {
   "cell_type": "code",
   "execution_count": 282,
   "metadata": {},
   "outputs": [
    {
     "data": {
      "text/plain": [
       "2500"
      ]
     },
     "execution_count": 282,
     "metadata": {},
     "output_type": "execute_result"
    }
   ],
   "source": [
    "len(y_pred)"
   ]
  },
  {
   "cell_type": "code",
   "execution_count": 283,
   "metadata": {},
   "outputs": [],
   "source": [
    "df_test[TARGET_NAME] = y_pred"
   ]
  },
  {
   "cell_type": "code",
   "execution_count": 284,
   "metadata": {},
   "outputs": [],
   "source": [
    "df_test[['Id', TARGET_NAME]].astype('int').to_csv(PRED_OUTPUT_FILE, index=None)"
   ]
  },
  {
   "cell_type": "code",
   "execution_count": null,
   "metadata": {},
   "outputs": [],
   "source": []
  }
 ],
 "metadata": {
  "kernelspec": {
   "display_name": "Python 3",
   "language": "python",
   "name": "python3"
  },
  "language_info": {
   "codemirror_mode": {
    "name": "ipython",
    "version": 3
   },
   "file_extension": ".py",
   "mimetype": "text/x-python",
   "name": "python",
   "nbconvert_exporter": "python",
   "pygments_lexer": "ipython3",
   "version": "3.7.4"
  }
 },
 "nbformat": 4,
 "nbformat_minor": 2
}
