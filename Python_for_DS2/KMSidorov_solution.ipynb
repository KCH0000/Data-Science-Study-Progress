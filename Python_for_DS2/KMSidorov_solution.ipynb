{
 "cells": [
  {
   "cell_type": "code",
   "execution_count": 5865,
   "metadata": {},
   "outputs": [],
   "source": [
    "import numpy as np\n",
    "import pandas as pd\n",
    "import random\n",
    "import seaborn as sns"
   ]
  },
  {
   "cell_type": "code",
   "execution_count": 5866,
   "metadata": {},
   "outputs": [],
   "source": [
    "from itertools import combinations, product\n",
    "from functools import reduce\n",
    "from sklearn.model_selection import train_test_split, KFold, StratifiedKFold, GridSearchCV, RandomizedSearchCV\n",
    "from sklearn.metrics import classification_report, f1_score, precision_score, recall_score\n",
    "from sklearn.preprocessing import StandardScaler, MinMaxScaler, Normalizer\n",
    "from scipy.stats import chi2_contingency, shapiro, probplot, mannwhitneyu\n",
    "from matplotlib import pyplot as plt\n",
    "from sklearn.feature_selection import RFECV\n",
    "from tqdm import tqdm, trange\n",
    "%matplotlib inline"
   ]
  },
  {
   "cell_type": "code",
   "execution_count": 5867,
   "metadata": {},
   "outputs": [],
   "source": [
    "import xgboost as xgb\n",
    "import catboost as catb\n",
    "import lightgbm as lgbm\n",
    "from sklearn.linear_model import LogisticRegression\n",
    "from sklearn.neighbors import KNeighborsClassifier"
   ]
  },
  {
   "cell_type": "code",
   "execution_count": 5868,
   "metadata": {},
   "outputs": [],
   "source": [
    "SAMPLE = 7500\n",
    "\n",
    "def get_classification_report(y_train_true, y_train_pred, y_test_true, y_test_pred):\n",
    "    print('TRAIN\\n' + classification_report(y_train_true, y_train_pred))\n",
    "    print('TEST\\n' + classification_report(y_test_true, y_test_pred))\n",
    "    print('CONFUSION MATRIX\\n')\n",
    "    print(pd.crosstab(y_test_true, y_test_pred))\n",
    "\n",
    "def balance_df_by_target(df, target_name, pr):\n",
    "\n",
    "    target_counts = df[target_name].value_counts()\n",
    "\n",
    "    major_class_name = target_counts.idxmax()\n",
    "    minor_class_name = target_counts.idxmin()\n",
    "\n",
    "    disbalance_coeff = int(target_counts[major_class_name] / target_counts[minor_class_name]) - 1 \n",
    "\n",
    "    for i in range(disbalance_coeff):\n",
    "        sample = df[df[target_name] == minor_class_name].sample(int(target_counts[minor_class_name] * pr))\n",
    "        df = df.append(sample, ignore_index=True)\n",
    "\n",
    "    return df.sample(frac=1) \n",
    "\n",
    "def show_size_matching(df, col):\n",
    "    plt.figure(figsize=(10, 8))\n",
    "\n",
    "    sns.countplot(x=col, hue=TARGET_NAME, data=df)\n",
    "    plt.title(f'{col} grouped by target variable')\n",
    "    plt.legend(title='Target', loc='upper right')\n",
    "\n",
    "    plt.show()\n",
    "\n",
    "def show_chi2_p_vals(df, col):\n",
    "    vals = list(df.loc[~df[col].isna(), col].unique())\n",
    "    res = pd.DataFrame(index=sorted(vals), columns=sorted(vals))\n",
    "    for v1, v2 in product(vals, vals):\n",
    "        main_value_and_target_s = df.loc[df[col].isin([v1, v2]), ['Id', col, TARGET_NAME]]\n",
    "        main_value_table = main_value_and_target_s.pivot_table(values='Id', index=col, columns=TARGET_NAME, aggfunc='count')\n",
    "        _, p, _, _ = chi2_contingency(main_value_table, correction=False)\n",
    "        res.loc[v1, v2] = round(p, 4)\n",
    "    print(res)\n",
    "\n",
    "def get_target_ranges(df, col, func=False):\n",
    "    col_with_target_s = df[[col, TARGET_NAME]]\n",
    "    col_s = col_with_target_s[col]\n",
    "    col_target_0 = col_s[col_with_target_s[TARGET_NAME] == 0]\n",
    "    col_target_1 = col_s[col_with_target_s[TARGET_NAME] == 1]\n",
    "    if func:\n",
    "        col_target_0 = func(col_target_0)\n",
    "        col_target_1 = func(col_target_1)\n",
    "    return col_s, col_target_0, col_target_1\n",
    "    \n",
    "def show_plot_matching(df, col, func=False):\n",
    "    col_s, col_target_0, col_target_1 = get_target_ranges(df, col, func)\n",
    "    plt.figure(figsize=(10, 5))\n",
    "\n",
    "    sns.kdeplot(col_target_0, shade=True, label='No default', color='g')\n",
    "    sns.kdeplot(col_target_1, shade=True, label='Default', color='r')\n",
    "\n",
    "    plt.xlabel(col)\n",
    "    plt.title(f'{col} grouped by target variable')\n",
    "    plt.show()\n",
    "\n",
    "def show_shapiro(df, col):\n",
    "    col_s, _, _ = get_target_ranges(df, col)\n",
    "    return shapiro(col_s)\n",
    "\n",
    "def show_normal_matching(df, col):\n",
    "    col_s, _, _ = get_target_ranges(df, col)\n",
    "    plt.figure(figsize=(20, 8))\n",
    "\n",
    "    ax1 = plt.subplot(121)\n",
    "    ax1.set_xlabel(col)\n",
    "    ax1.set_ylabel('Count')\n",
    "    ax1.set_title(f'{col} distribution')\n",
    "    col_s.hist()\n",
    "\n",
    "    plt.subplot(122)\n",
    "    probplot(col_s, dist='norm', plot=plt)\n",
    "    plt.show()\n",
    "\n",
    "def show_confidence_int(df, col):\n",
    "    plt.figure(figsize=(8, 5))\n",
    "\n",
    "    sns.pointplot(x=TARGET_NAME, y=col, data=df[[col, TARGET_NAME]], capsize=.1)\n",
    "\n",
    "    plt.title(f'Confidence intervals (95 %) for {col}')\n",
    "    plt.show()\n",
    "\n",
    "def show_mannwhitneyu(df, col):\n",
    "    _, col_target_0, col_target_1 = get_target_ranges(df, col)\n",
    "    return mannwhitneyu(col_target_0, col_target_1)"
   ]
  },
  {
   "cell_type": "code",
   "execution_count": 5869,
   "metadata": {},
   "outputs": [],
   "source": [
    "def mod_Home_Ownership(df, col='Home Ownership'):\n",
    "    df.loc[df[col].isin(['Own Home']), col] = '1'\n",
    "    df.loc[df[col].isin(['Rent']), col] = '2'\n",
    "    df.loc[df[col].isin(['Home Mortgage']), col] = '3'\n",
    "    df.loc[df[col].isin(['Have Mortgage']), col] = '4'\n",
    "    return df\n",
    "\n",
    "def mod_Tax_Liens(df, col='Tax Liens'):\n",
    "    df.loc[df[col].isin([0, 1]), col] = 0\n",
    "    df.loc[df[col] >= 2, col] = 1\n",
    "    df[col] = df[col].astype('int8')\n",
    "    return df\n",
    "\n",
    "def mod_Term(df, col='Term'):\n",
    "    df[col] = df[col].map({'Short Term': '0', 'Long Term': '1'}).astype('int8')\n",
    "    return df\n",
    "\n",
    "def mod_Purpose(df, col='Purpose'):\n",
    "    df.loc[df[col].isin(['debt consolidation']), col] = 'debt consolidation'\n",
    "    df.loc[df[col].isin(['buy house', 'wedding', 'home improvements', 'take a trip']), col] = 'buy house'\n",
    "    df.loc[df[col].isin(['buy a car', 'vacation']), col] = 'buy a car'\n",
    "    df.loc[df[col].isin(['moving', 'major purchase', 'educational expenses']), col] = 'moving'\n",
    "    df.loc[df[col].isin(['buy a car', 'buy house']), col] = 'buy a car'\n",
    "    df.loc[df[col].isin(['other', 'medical bills']), col] = 'other'\n",
    "    return df\n",
    "\n",
    "def mod_Current_Loan_Amount(df, median, p, col='Current Loan Amount'):\n",
    "    df.loc[df[col] == 99999999.0, col] = 0\n",
    "    df = mod_remove_tail(df, col, p)\n",
    "    df[col] = np.log1p(df[col])\n",
    "    return df\n",
    "\n",
    "def mod_Number_of_Credit_Problems(df, col='Number of Credit Problems'):\n",
    "    df.loc[df[col].isin([0, 1]), col] = 0\n",
    "#     df.loc[df[col].isin([2, 3]), col] = 3\n",
    "    df.loc[df[col] > 3, col] = 4\n",
    "    df[col] = df[col].astype('int')\n",
    "    return df\n",
    "\n",
    "def mod_Credit_Score(df, median, col='Credit Score'):\n",
    "    df[col] = df[col].fillna(median)\n",
    "    return df\n",
    "\n",
    "def mod_Annual_Income(df, median, p, col='Annual Income'):\n",
    "    df[col] = df[col].fillna(median)\n",
    "#     df_clear = df.loc[~(df[col].isna()) & (df['Monthly Debt'] > 100), [col, 'Monthly Debt']]\n",
    "#     mean_dept_coeff = (df_clear[col] / 12 / df_clear['Monthly Debt']).mean()\n",
    "#     df.loc[df[col].isna(), col] = df['Monthly Debt'] * 12 * mean_dept_coeff\n",
    "    df = mod_remove_tail(df, col, p)\n",
    "    return df\n",
    "\n",
    "\n",
    "def mod_Years_in_current_job(df, mode, col='Years in current job'):\n",
    "    df[col] = df[col].fillna(mode)\n",
    "    df.loc[df[col] == '10+ years', [col]] = '10'\n",
    "    df.loc[df[col] == '< 1 year', [col]] = '0'\n",
    "    df[col] = df[col].apply(lambda x: str(x).split()[0])\n",
    "    df[col] = df[col].astype('int')\n",
    "    return df\n",
    "\n",
    "def mod_Bankruptcies(df, col='Bankruptcies'):\n",
    "    df[col] = df[col].fillna(-10)\n",
    "    df.loc[df[col] < 2, col] = 0\n",
    "    df.loc[df[col] > 2, col] = 1\n",
    "    df[col] = df[col].astype('int8')\n",
    "    return df\n",
    "\n",
    "def mod_Months_since_last_delinquent(df,  med_d, max_d, col='Months since last delinquent'):\n",
    "    extend = 12\n",
    "#     df.loc[((df[curr_name].isna()) & df['Number of Credit Problems'] > 0) | (df['Bankruptcies'] > 0), col] = med_d\n",
    "    df[col] = df[col].fillna(-10)\n",
    "    df.loc[df[col] > max_d, col] = max_d\n",
    "    return df\n",
    "\n",
    "def mod_Current_Credit_Balance(df, p, col='Current Credit Balance'):\n",
    "    df = mod_remove_tail(df, col, p)\n",
    "    df[col] = np.log1p(df[col])\n",
    "    return df\n",
    "\n",
    "def mod_Maximum_Open_Credit(df, p, col='Maximum Open Credit'):\n",
    "    df = mod_remove_tail(df, col, p)\n",
    "    df[col] = np.log1p(df[col])\n",
    "    return df\n",
    "\n",
    "def mod_remove_tail(df, col, quantile_p, left=False):\n",
    "    if left:\n",
    "        df.loc[df[col] < quantile_p, col] = quantile_p\n",
    "        return df\n",
    "    df.loc[df[col] > quantile_p, col] = quantile_p\n",
    "    return df\n",
    "\n",
    "def mod_scaler(df, cols, scaler_func):\n",
    "    scaler = scaler_func()\n",
    "    df_norm = df.copy()\n",
    "    df_norm[cols] = scaler.fit_transform(df_norm[cols])\n",
    "    return df_norm"
   ]
  },
  {
   "cell_type": "code",
   "execution_count": 5870,
   "metadata": {},
   "outputs": [],
   "source": [
    "def add_Number_of_Credit_Problems(df, col='Number of Credit Problems'):\n",
    "    coef = df.loc[(df[col]==4) & (df[TARGET_NAME] != 0), col].count()/df.loc[(df[col]==4) & (df[TARGET_NAME] == 0), col].count()\n",
    "    for i in [6, 7]:\n",
    "        count_rows = df.loc[df[col] == i, col].count()\n",
    "        temp_df = df.loc[(df[col].isin([2, 3, 4, 5]) & (df[TARGET_NAME]==1))].sample(count_rows * int(coef))\n",
    "        temp_df[col] = i\n",
    "        df = df.append(temp_df, ignore_index=True)\n",
    "    return df\n",
    "\n",
    "def add_Tax_Liens(df, col='Tax Liens'):\n",
    "    for i in [6, 7]:\n",
    "        count_rows = df.loc[df[col] == i, col].count()\n",
    "        temp_df = df.loc[(df[col].isin([3, 4, 5]) & (df[TARGET_NAME]==1))].sample(count_rows)\n",
    "        temp_df[col] = i\n",
    "        df = df.append(temp_df, ignore_index=True)\n",
    "    return df"
   ]
  },
  {
   "cell_type": "code",
   "execution_count": 5871,
   "metadata": {},
   "outputs": [],
   "source": [
    "def new_Months_since_last_delinquent_dummy(df, col='Months since last delinquent'):\n",
    "    new_col = col + '_dummy'\n",
    "    def discrete(value):\n",
    "        return  {  \n",
    "                   value == -10:'-1',\n",
    "                   value == 0: '0',\n",
    "              1 <= value <  3: '1',\n",
    "              3 <= value <  6: '2',\n",
    "              6 <= value < 12: '3',\n",
    "             12 <= value < 36: '4',\n",
    "             36 <= value     : '5',}[True]\n",
    "    df[new_col] = df[col].map(discrete) \n",
    "    return df\n",
    "\n",
    "def new_Credit_Score_bin(df, col='Credit Score'):\n",
    "    def discrete(value):\n",
    "        return  {  \n",
    "                   value == -10       :'-1',\n",
    "                   value <= bad_gays  : '1',\n",
    "        bad_gays < value              : '0',}[True]\n",
    "    bad_gays = df.loc[df[col] > 0, col].quantile(0.2)\n",
    "    df[col + '_bin'] = df[col].map(discrete)\n",
    "    return df\n",
    "\n",
    "def new_Bankruptcies_bin(df, col='Bankruptcies'):\n",
    "    def discrete(value):\n",
    "        return  {  \n",
    "                   value == -10:'-1',\n",
    "                   value ==  0 : '1',\n",
    "                0 < value      : '0',}[True]\n",
    "    df[col + '_bin'] = df[col].map(discrete)\n",
    "    return df\n",
    "\n",
    "def new_Bankruptcies_bin2(df,  col='Bankruptcies'):\n",
    "    df[col + '_bin2'] = df[col].map(lambda x: 0 if x < 2  else 1)\n",
    "    return df"
   ]
  },
  {
   "cell_type": "markdown",
   "metadata": {},
   "source": [
    "***Пути, Данные и связанные с ними переменные***"
   ]
  },
  {
   "cell_type": "code",
   "execution_count": 5872,
   "metadata": {},
   "outputs": [],
   "source": [
    "DATASET_FILE = 'datasets/train.csv'\n",
    "DATASET_TEST_FILE = 'datasets/test.csv'\n",
    "PRED_OUTPUT_FILE = 'KMSidorov_predictions.csv'"
   ]
  },
  {
   "cell_type": "code",
   "execution_count": 5873,
   "metadata": {},
   "outputs": [],
   "source": [
    "drop_columns = []"
   ]
  },
  {
   "cell_type": "markdown",
   "metadata": {},
   "source": [
    "***Загрузка и первичный осмотр данных***"
   ]
  },
  {
   "cell_type": "code",
   "execution_count": 5874,
   "metadata": {
    "scrolled": true
   },
   "outputs": [
    {
     "data": {
      "text/html": [
       "<div>\n",
       "<style scoped>\n",
       "    .dataframe tbody tr th:only-of-type {\n",
       "        vertical-align: middle;\n",
       "    }\n",
       "\n",
       "    .dataframe tbody tr th {\n",
       "        vertical-align: top;\n",
       "    }\n",
       "\n",
       "    .dataframe thead th {\n",
       "        text-align: right;\n",
       "    }\n",
       "</style>\n",
       "<table border=\"1\" class=\"dataframe\">\n",
       "  <thead>\n",
       "    <tr style=\"text-align: right;\">\n",
       "      <th></th>\n",
       "      <th>Id</th>\n",
       "      <th>Home Ownership</th>\n",
       "      <th>Annual Income</th>\n",
       "      <th>Years in current job</th>\n",
       "      <th>Tax Liens</th>\n",
       "      <th>Number of Open Accounts</th>\n",
       "      <th>Years of Credit History</th>\n",
       "      <th>Maximum Open Credit</th>\n",
       "      <th>Number of Credit Problems</th>\n",
       "      <th>Months since last delinquent</th>\n",
       "      <th>Bankruptcies</th>\n",
       "      <th>Purpose</th>\n",
       "      <th>Term</th>\n",
       "      <th>Current Loan Amount</th>\n",
       "      <th>Current Credit Balance</th>\n",
       "      <th>Monthly Debt</th>\n",
       "      <th>Credit Score</th>\n",
       "      <th>Credit Default</th>\n",
       "    </tr>\n",
       "  </thead>\n",
       "  <tbody>\n",
       "    <tr>\n",
       "      <th>0</th>\n",
       "      <td>0</td>\n",
       "      <td>Own Home</td>\n",
       "      <td>482087.0</td>\n",
       "      <td>NaN</td>\n",
       "      <td>0.0</td>\n",
       "      <td>11.0</td>\n",
       "      <td>26.3</td>\n",
       "      <td>685960.0</td>\n",
       "      <td>1.0</td>\n",
       "      <td>NaN</td>\n",
       "      <td>1.0</td>\n",
       "      <td>debt consolidation</td>\n",
       "      <td>Short Term</td>\n",
       "      <td>99999999.0</td>\n",
       "      <td>47386.0</td>\n",
       "      <td>7914.0</td>\n",
       "      <td>749.0</td>\n",
       "      <td>0</td>\n",
       "    </tr>\n",
       "    <tr>\n",
       "      <th>1</th>\n",
       "      <td>1</td>\n",
       "      <td>Own Home</td>\n",
       "      <td>1025487.0</td>\n",
       "      <td>10+ years</td>\n",
       "      <td>0.0</td>\n",
       "      <td>15.0</td>\n",
       "      <td>15.3</td>\n",
       "      <td>1181730.0</td>\n",
       "      <td>0.0</td>\n",
       "      <td>NaN</td>\n",
       "      <td>0.0</td>\n",
       "      <td>debt consolidation</td>\n",
       "      <td>Long Term</td>\n",
       "      <td>264968.0</td>\n",
       "      <td>394972.0</td>\n",
       "      <td>18373.0</td>\n",
       "      <td>737.0</td>\n",
       "      <td>1</td>\n",
       "    </tr>\n",
       "    <tr>\n",
       "      <th>2</th>\n",
       "      <td>2</td>\n",
       "      <td>Home Mortgage</td>\n",
       "      <td>751412.0</td>\n",
       "      <td>8 years</td>\n",
       "      <td>0.0</td>\n",
       "      <td>11.0</td>\n",
       "      <td>35.0</td>\n",
       "      <td>1182434.0</td>\n",
       "      <td>0.0</td>\n",
       "      <td>NaN</td>\n",
       "      <td>0.0</td>\n",
       "      <td>debt consolidation</td>\n",
       "      <td>Short Term</td>\n",
       "      <td>99999999.0</td>\n",
       "      <td>308389.0</td>\n",
       "      <td>13651.0</td>\n",
       "      <td>742.0</td>\n",
       "      <td>0</td>\n",
       "    </tr>\n",
       "    <tr>\n",
       "      <th>3</th>\n",
       "      <td>3</td>\n",
       "      <td>Own Home</td>\n",
       "      <td>805068.0</td>\n",
       "      <td>6 years</td>\n",
       "      <td>0.0</td>\n",
       "      <td>8.0</td>\n",
       "      <td>22.5</td>\n",
       "      <td>147400.0</td>\n",
       "      <td>1.0</td>\n",
       "      <td>NaN</td>\n",
       "      <td>1.0</td>\n",
       "      <td>debt consolidation</td>\n",
       "      <td>Short Term</td>\n",
       "      <td>121396.0</td>\n",
       "      <td>95855.0</td>\n",
       "      <td>11338.0</td>\n",
       "      <td>694.0</td>\n",
       "      <td>0</td>\n",
       "    </tr>\n",
       "    <tr>\n",
       "      <th>4</th>\n",
       "      <td>4</td>\n",
       "      <td>Rent</td>\n",
       "      <td>776264.0</td>\n",
       "      <td>8 years</td>\n",
       "      <td>0.0</td>\n",
       "      <td>13.0</td>\n",
       "      <td>13.6</td>\n",
       "      <td>385836.0</td>\n",
       "      <td>1.0</td>\n",
       "      <td>NaN</td>\n",
       "      <td>0.0</td>\n",
       "      <td>debt consolidation</td>\n",
       "      <td>Short Term</td>\n",
       "      <td>125840.0</td>\n",
       "      <td>93309.0</td>\n",
       "      <td>7180.0</td>\n",
       "      <td>719.0</td>\n",
       "      <td>0</td>\n",
       "    </tr>\n",
       "  </tbody>\n",
       "</table>\n",
       "</div>"
      ],
      "text/plain": [
       "   Id Home Ownership  Annual Income Years in current job  Tax Liens  \\\n",
       "0   0       Own Home       482087.0                  NaN        0.0   \n",
       "1   1       Own Home      1025487.0            10+ years        0.0   \n",
       "2   2  Home Mortgage       751412.0              8 years        0.0   \n",
       "3   3       Own Home       805068.0              6 years        0.0   \n",
       "4   4           Rent       776264.0              8 years        0.0   \n",
       "\n",
       "   Number of Open Accounts  Years of Credit History  Maximum Open Credit  \\\n",
       "0                     11.0                     26.3             685960.0   \n",
       "1                     15.0                     15.3            1181730.0   \n",
       "2                     11.0                     35.0            1182434.0   \n",
       "3                      8.0                     22.5             147400.0   \n",
       "4                     13.0                     13.6             385836.0   \n",
       "\n",
       "   Number of Credit Problems  Months since last delinquent  Bankruptcies  \\\n",
       "0                        1.0                           NaN           1.0   \n",
       "1                        0.0                           NaN           0.0   \n",
       "2                        0.0                           NaN           0.0   \n",
       "3                        1.0                           NaN           1.0   \n",
       "4                        1.0                           NaN           0.0   \n",
       "\n",
       "              Purpose        Term  Current Loan Amount  \\\n",
       "0  debt consolidation  Short Term           99999999.0   \n",
       "1  debt consolidation   Long Term             264968.0   \n",
       "2  debt consolidation  Short Term           99999999.0   \n",
       "3  debt consolidation  Short Term             121396.0   \n",
       "4  debt consolidation  Short Term             125840.0   \n",
       "\n",
       "   Current Credit Balance  Monthly Debt  Credit Score  Credit Default  \n",
       "0                 47386.0        7914.0         749.0               0  \n",
       "1                394972.0       18373.0         737.0               1  \n",
       "2                308389.0       13651.0         742.0               0  \n",
       "3                 95855.0       11338.0         694.0               0  \n",
       "4                 93309.0        7180.0         719.0               0  "
      ]
     },
     "execution_count": 5874,
     "metadata": {},
     "output_type": "execute_result"
    }
   ],
   "source": [
    "df_test = pd.read_csv(DATASET_TEST_FILE)\n",
    "df = pd.read_csv(DATASET_FILE)\n",
    "# df = df.set_index('Id')\n",
    "df.head()"
   ]
  },
  {
   "cell_type": "code",
   "execution_count": 5875,
   "metadata": {
    "scrolled": false
   },
   "outputs": [
    {
     "name": "stdout",
     "output_type": "stream",
     "text": [
      "<class 'pandas.core.frame.DataFrame'>\n",
      "RangeIndex: 7500 entries, 0 to 7499\n",
      "Data columns (total 18 columns):\n",
      "Id                              7500 non-null int64\n",
      "Home Ownership                  7500 non-null object\n",
      "Annual Income                   5943 non-null float64\n",
      "Years in current job            7129 non-null object\n",
      "Tax Liens                       7500 non-null float64\n",
      "Number of Open Accounts         7500 non-null float64\n",
      "Years of Credit History         7500 non-null float64\n",
      "Maximum Open Credit             7500 non-null float64\n",
      "Number of Credit Problems       7500 non-null float64\n",
      "Months since last delinquent    3419 non-null float64\n",
      "Bankruptcies                    7486 non-null float64\n",
      "Purpose                         7500 non-null object\n",
      "Term                            7500 non-null object\n",
      "Current Loan Amount             7500 non-null float64\n",
      "Current Credit Balance          7500 non-null float64\n",
      "Monthly Debt                    7500 non-null float64\n",
      "Credit Score                    5943 non-null float64\n",
      "Credit Default                  7500 non-null int64\n",
      "dtypes: float64(12), int64(2), object(4)\n",
      "memory usage: 1.0+ MB\n"
     ]
    }
   ],
   "source": [
    "df.info()"
   ]
  },
  {
   "cell_type": "code",
   "execution_count": 5876,
   "metadata": {},
   "outputs": [
    {
     "name": "stdout",
     "output_type": "stream",
     "text": [
      "<class 'pandas.core.frame.DataFrame'>\n",
      "RangeIndex: 2500 entries, 0 to 2499\n",
      "Data columns (total 17 columns):\n",
      "Id                              2500 non-null int64\n",
      "Home Ownership                  2500 non-null object\n",
      "Annual Income                   1987 non-null float64\n",
      "Years in current job            2414 non-null object\n",
      "Tax Liens                       2500 non-null float64\n",
      "Number of Open Accounts         2500 non-null float64\n",
      "Years of Credit History         2500 non-null float64\n",
      "Maximum Open Credit             2500 non-null float64\n",
      "Number of Credit Problems       2500 non-null float64\n",
      "Months since last delinquent    1142 non-null float64\n",
      "Bankruptcies                    2497 non-null float64\n",
      "Purpose                         2500 non-null object\n",
      "Term                            2500 non-null object\n",
      "Current Loan Amount             2500 non-null float64\n",
      "Current Credit Balance          2500 non-null float64\n",
      "Monthly Debt                    2500 non-null float64\n",
      "Credit Score                    1987 non-null float64\n",
      "dtypes: float64(12), int64(1), object(4)\n",
      "memory usage: 332.1+ KB\n"
     ]
    }
   ],
   "source": [
    "df_test.info()"
   ]
  },
  {
   "cell_type": "markdown",
   "metadata": {},
   "source": [
    "***Выделим целевуб ппеременную***"
   ]
  },
  {
   "cell_type": "code",
   "execution_count": 5877,
   "metadata": {},
   "outputs": [
    {
     "data": {
      "text/plain": [
       "0    5387\n",
       "1    2113\n",
       "Name: Credit Default, dtype: int64"
      ]
     },
     "execution_count": 5877,
     "metadata": {},
     "output_type": "execute_result"
    }
   ],
   "source": [
    "TARGET_NAME = 'Credit Default'\n",
    "df[TARGET_NAME].value_counts()"
   ]
  },
  {
   "cell_type": "code",
   "execution_count": 5878,
   "metadata": {},
   "outputs": [],
   "source": [
    "# for col in nonbinary_columns:\n",
    "#     print(f'Name:{col}. type: {df[col].dtype}')\n",
    "#     print(f'Количество уникальных элементов {len(df[col].unique())}, всего элементов {len(df[col])}')\n",
    "#     print(df[col].value_counts())\n",
    "#     print('-'*100)"
   ]
  },
  {
   "cell_type": "markdown",
   "metadata": {},
   "source": [
    "<h2 ><span style=\"color:red\">Years in current job</span> BEGIN"
   ]
  },
  {
   "cell_type": "code",
   "execution_count": 5879,
   "metadata": {},
   "outputs": [],
   "source": [
    "curr_name = 'Years in current job'"
   ]
  },
  {
   "cell_type": "code",
   "execution_count": 5880,
   "metadata": {},
   "outputs": [
    {
     "data": {
      "text/plain": [
       "137"
      ]
     },
     "execution_count": 5880,
     "metadata": {},
     "output_type": "execute_result"
    }
   ],
   "source": [
    "df.loc[(df[curr_name].isna()) & (df[TARGET_NAME] == 1), ['Id', curr_name]].count()[0]"
   ]
  },
  {
   "cell_type": "code",
   "execution_count": 5881,
   "metadata": {
    "scrolled": true
   },
   "outputs": [
    {
     "data": {
      "text/plain": [
       "0"
      ]
     },
     "execution_count": 5881,
     "metadata": {},
     "output_type": "execute_result"
    }
   ],
   "source": [
    "df_test.loc[df_test[curr_name].isna(), curr_name].count()"
   ]
  },
  {
   "cell_type": "code",
   "execution_count": 5882,
   "metadata": {},
   "outputs": [],
   "source": [
    "mode = df[curr_name].mode()[0]\n",
    "df = mod_Years_in_current_job(df, mode)\n",
    "df_test = mod_Years_in_current_job(df_test, mode)"
   ]
  },
  {
   "cell_type": "code",
   "execution_count": 5883,
   "metadata": {},
   "outputs": [
    {
     "data": {
      "image/png": "[encoded data removed]",
      "text/plain": [
       "<Figure size 720x576 with 1 Axes>"
      ]
     },
     "metadata": {
      "needs_background": "light"
     },
     "output_type": "display_data"
    }
   ],
   "source": [
    "show_size_matching(df, curr_name)"
   ]
  },
  {
   "cell_type": "code",
   "execution_count": 5884,
   "metadata": {},
   "outputs": [
    {
     "name": "stdout",
     "output_type": "stream",
     "text": [
      "        0       1       2       3       4       5       6       7       8   \\\n",
      "0        1  0.9806  0.7323  0.7526  0.9122   0.959  0.7653  0.9429  0.7203   \n",
      "1   0.9806       1  0.7596  0.7786  0.9329  0.9791  0.7537  0.9619  0.7419   \n",
      "2   0.7323  0.7596       1  0.9859  0.8347  0.7797  0.5297  0.8157  0.9358   \n",
      "3   0.7526  0.7786  0.9859       1  0.8515  0.7984  0.5506  0.8319  0.9257   \n",
      "4   0.9122  0.9329  0.8347  0.8515       1   0.953   0.697  0.9743  0.8034   \n",
      "5    0.959  0.9791  0.7797  0.7984   0.953       1  0.7334  0.9813  0.7585   \n",
      "6   0.7653  0.7537  0.5297  0.5506   0.697  0.7334       1  0.7326  0.5478   \n",
      "7   0.9429  0.9619  0.8157  0.8319  0.9743  0.9813  0.7326       1  0.7875   \n",
      "8   0.7203  0.7419  0.9358  0.9257  0.8034  0.7585  0.5478  0.7875       1   \n",
      "9   0.3468  0.3652  0.4786  0.4781   0.409  0.3747  0.2547  0.4076  0.5739   \n",
      "10  0.7558  0.7434  0.4269  0.4638  0.6709  0.7154  0.9278   0.723  0.5007   \n",
      "\n",
      "        9       10  \n",
      "0   0.3468  0.7558  \n",
      "1   0.3652  0.7434  \n",
      "2   0.4786  0.4269  \n",
      "3   0.4781  0.4638  \n",
      "4    0.409  0.6709  \n",
      "5   0.3747  0.7154  \n",
      "6   0.2547  0.9278  \n",
      "7   0.4076   0.723  \n",
      "8   0.5739  0.5007  \n",
      "9        1  0.1962  \n",
      "10  0.1962       1  \n"
     ]
    }
   ],
   "source": [
    "show_chi2_p_vals(df, curr_name)"
   ]
  },
  {
   "cell_type": "code",
   "execution_count": 5885,
   "metadata": {},
   "outputs": [
    {
     "data": {
      "text/plain": [
       "MannwhitneyuResult(statistic=5633858.0, pvalue=0.2421340749270156)"
      ]
     },
     "execution_count": 5885,
     "metadata": {},
     "output_type": "execute_result"
    }
   ],
   "source": [
    "show_mannwhitneyu(df, curr_name)"
   ]
  },
  {
   "cell_type": "code",
   "execution_count": 5886,
   "metadata": {},
   "outputs": [],
   "source": [
    "# show_confidence_int(df, curr_name)"
   ]
  },
  {
   "cell_type": "code",
   "execution_count": 5887,
   "metadata": {},
   "outputs": [
    {
     "data": {
      "text/plain": [
       "(7500, 18)"
      ]
     },
     "execution_count": 5887,
     "metadata": {},
     "output_type": "execute_result"
    }
   ],
   "source": [
    "df.shape"
   ]
  },
  {
   "cell_type": "markdown",
   "metadata": {},
   "source": [
    "<h2><span style=\"color:red\">Years in current job</span> END<br>\n",
    "    ________________________________"
   ]
  },
  {
   "cell_type": "markdown",
   "metadata": {},
   "source": [
    "<h2 ><span style=\"color:red\">Bankruptcies</span> BEGIN"
   ]
  },
  {
   "cell_type": "code",
   "execution_count": 5888,
   "metadata": {},
   "outputs": [],
   "source": [
    "curr_name = 'Bankruptcies'"
   ]
  },
  {
   "cell_type": "code",
   "execution_count": 5889,
   "metadata": {},
   "outputs": [
    {
     "data": {
      "text/plain": [
       "4"
      ]
     },
     "execution_count": 5889,
     "metadata": {},
     "output_type": "execute_result"
    }
   ],
   "source": [
    "df.loc[(df[curr_name].isna()) & (df[TARGET_NAME] == 1), ['Id', curr_name]].count()[0]"
   ]
  },
  {
   "cell_type": "code",
   "execution_count": 5890,
   "metadata": {},
   "outputs": [
    {
     "data": {
      "text/plain": [
       "0"
      ]
     },
     "execution_count": 5890,
     "metadata": {},
     "output_type": "execute_result"
    }
   ],
   "source": [
    "df_test.loc[df_test[curr_name].isna(), curr_name].count()"
   ]
  },
  {
   "cell_type": "code",
   "execution_count": 5891,
   "metadata": {},
   "outputs": [
    {
     "data": {
      "text/plain": [
       "Bankruptcies  Credit Default\n",
       "0.0           0                 4782\n",
       "              1                 1878\n",
       "1.0           0                  569\n",
       "              1                  217\n",
       "2.0           0                   20\n",
       "              1                   11\n",
       "3.0           0                    5\n",
       "              1                    2\n",
       "4.0           0                    1\n",
       "              1                    1\n",
       "dtype: int64"
      ]
     },
     "execution_count": 5891,
     "metadata": {},
     "output_type": "execute_result"
    }
   ],
   "source": [
    "df[[curr_name, TARGET_NAME]].groupby([curr_name,TARGET_NAME]).size()"
   ]
  },
  {
   "cell_type": "code",
   "execution_count": 5892,
   "metadata": {
    "scrolled": false
   },
   "outputs": [
    {
     "data": {
      "image/png": "[encoded data removed]",
      "text/plain": [
       "<Figure size 720x576 with 1 Axes>"
      ]
     },
     "metadata": {
      "needs_background": "light"
     },
     "output_type": "display_data"
    }
   ],
   "source": [
    "show_size_matching(df, curr_name)"
   ]
  },
  {
   "cell_type": "code",
   "execution_count": 5893,
   "metadata": {},
   "outputs": [],
   "source": [
    "df = mod_Bankruptcies(df)\n",
    "df_test = mod_Bankruptcies(df_test)"
   ]
  },
  {
   "cell_type": "code",
   "execution_count": 5894,
   "metadata": {},
   "outputs": [
    {
     "name": "stdout",
     "output_type": "stream",
     "text": [
      "        0       1       2\n",
      "0       1   0.729  0.3641\n",
      "1   0.729       1  0.9052\n",
      "2  0.3641  0.9052       1\n"
     ]
    }
   ],
   "source": [
    "show_chi2_p_vals(df, curr_name)"
   ]
  },
  {
   "cell_type": "code",
   "execution_count": 5895,
   "metadata": {},
   "outputs": [],
   "source": [
    "drop_columns.append(curr_name)"
   ]
  },
  {
   "cell_type": "code",
   "execution_count": 5896,
   "metadata": {},
   "outputs": [
    {
     "data": {
      "text/plain": [
       "(7500, 18)"
      ]
     },
     "execution_count": 5896,
     "metadata": {},
     "output_type": "execute_result"
    }
   ],
   "source": [
    "df.shape"
   ]
  },
  {
   "cell_type": "markdown",
   "metadata": {},
   "source": [
    "<h2><span style=\"color:red\">Bankruptcies</span> END<br>\n",
    "________________________________"
   ]
  },
  {
   "cell_type": "markdown",
   "metadata": {},
   "source": [
    "<h2 ><span style=\"color:red\">Home Ownership </span> BEGIN"
   ]
  },
  {
   "cell_type": "code",
   "execution_count": 5897,
   "metadata": {},
   "outputs": [],
   "source": [
    "curr_name = 'Home Ownership'"
   ]
  },
  {
   "cell_type": "code",
   "execution_count": 5898,
   "metadata": {},
   "outputs": [
    {
     "data": {
      "text/plain": [
       "count              7500\n",
       "unique                4\n",
       "top       Home Mortgage\n",
       "freq               3637\n",
       "Name: Home Ownership, dtype: object"
      ]
     },
     "execution_count": 5898,
     "metadata": {},
     "output_type": "execute_result"
    }
   ],
   "source": [
    "df[curr_name].describe()"
   ]
  },
  {
   "cell_type": "code",
   "execution_count": 5899,
   "metadata": {},
   "outputs": [
    {
     "data": {
      "image/png": "[encoded data removed]",
      "text/plain": [
       "<Figure size 720x576 with 1 Axes>"
      ]
     },
     "metadata": {
      "needs_background": "light"
     },
     "output_type": "display_data"
    }
   ],
   "source": [
    "show_size_matching(df, curr_name)"
   ]
  },
  {
   "cell_type": "code",
   "execution_count": 5900,
   "metadata": {},
   "outputs": [
    {
     "name": "stdout",
     "output_type": "stream",
     "text": [
      "              Have Mortgage Home Mortgage Own Home    Rent\n",
      "Have Mortgage             1        0.4972   0.3272  0.2749\n",
      "Home Mortgage        0.4972             1   0.0163       0\n",
      "Own Home             0.3272        0.0163        1  0.4139\n",
      "Rent                 0.2749             0   0.4139       1\n"
     ]
    }
   ],
   "source": [
    "show_chi2_p_vals(df, curr_name)"
   ]
  },
  {
   "cell_type": "code",
   "execution_count": 5901,
   "metadata": {},
   "outputs": [],
   "source": [
    "df = mod_Home_Ownership(df)\n",
    "df_test = mod_Home_Ownership(df_test)"
   ]
  },
  {
   "cell_type": "code",
   "execution_count": 5902,
   "metadata": {
    "scrolled": true
   },
   "outputs": [
    {
     "name": "stdout",
     "output_type": "stream",
     "text": [
      "        1       2       3       4\n",
      "1       1  0.4139  0.0163  0.3272\n",
      "2  0.4139       1       0  0.2749\n",
      "3  0.0163       0       1  0.4972\n",
      "4  0.3272  0.2749  0.4972       1\n"
     ]
    }
   ],
   "source": [
    "show_chi2_p_vals(df, curr_name)"
   ]
  },
  {
   "cell_type": "code",
   "execution_count": 5903,
   "metadata": {},
   "outputs": [
    {
     "data": {
      "text/plain": [
       "(7500, 18)"
      ]
     },
     "execution_count": 5903,
     "metadata": {},
     "output_type": "execute_result"
    }
   ],
   "source": [
    "df.shape"
   ]
  },
  {
   "cell_type": "markdown",
   "metadata": {},
   "source": [
    "<h2><span style=\"color:red\">Home Ownership</span> END<br>________________________________"
   ]
  },
  {
   "cell_type": "markdown",
   "metadata": {},
   "source": [
    "<h2 ><span style=\"color:red\">Tax Liens</span> BEGIN"
   ]
  },
  {
   "cell_type": "code",
   "execution_count": 5904,
   "metadata": {},
   "outputs": [],
   "source": [
    "curr_name = 'Tax Liens'"
   ]
  },
  {
   "cell_type": "code",
   "execution_count": 5905,
   "metadata": {},
   "outputs": [
    {
     "data": {
      "text/plain": [
       "array([0., 3., 1., 2., 4., 6., 5., 7.])"
      ]
     },
     "execution_count": 5905,
     "metadata": {},
     "output_type": "execute_result"
    }
   ],
   "source": [
    "df[curr_name].unique()"
   ]
  },
  {
   "cell_type": "code",
   "execution_count": 5906,
   "metadata": {
    "scrolled": false
   },
   "outputs": [
    {
     "data": {
      "image/png": "[encoded data removed]",
      "text/plain": [
       "<Figure size 720x576 with 1 Axes>"
      ]
     },
     "metadata": {
      "needs_background": "light"
     },
     "output_type": "display_data"
    }
   ],
   "source": [
    "show_size_matching(df.loc[df[curr_name] != 0] , curr_name)"
   ]
  },
  {
   "cell_type": "code",
   "execution_count": 5907,
   "metadata": {},
   "outputs": [],
   "source": [
    "df = df.loc[df[curr_name] <=5]"
   ]
  },
  {
   "cell_type": "code",
   "execution_count": 5908,
   "metadata": {},
   "outputs": [
    {
     "name": "stdout",
     "output_type": "stream",
     "text": [
      "        0.0     1.0     2.0     3.0     4.0     5.0\n",
      "0.0       1  0.8589  0.0076  0.1224  0.2312  0.4893\n",
      "1.0  0.8589       1  0.0374  0.1739   0.278  0.5179\n",
      "2.0  0.0076  0.0374       1       1       1       1\n",
      "3.0  0.1224  0.1739       1       1       1       1\n",
      "4.0  0.2312   0.278       1       1       1       1\n",
      "5.0  0.4893  0.5179       1       1       1       1\n"
     ]
    }
   ],
   "source": [
    "show_chi2_p_vals(df, curr_name)"
   ]
  },
  {
   "cell_type": "code",
   "execution_count": 5909,
   "metadata": {},
   "outputs": [],
   "source": [
    "df = mod_Tax_Liens(df)\n",
    "df_test = mod_Tax_Liens(df_test)"
   ]
  },
  {
   "cell_type": "code",
   "execution_count": 5910,
   "metadata": {},
   "outputs": [
    {
     "name": "stdout",
     "output_type": "stream",
     "text": [
      "        0       1\n",
      "0       1  0.0008\n",
      "1  0.0008       1\n"
     ]
    }
   ],
   "source": [
    "show_chi2_p_vals(df, curr_name)"
   ]
  },
  {
   "cell_type": "code",
   "execution_count": 5911,
   "metadata": {},
   "outputs": [
    {
     "data": {
      "text/plain": [
       "(7497, 18)"
      ]
     },
     "execution_count": 5911,
     "metadata": {},
     "output_type": "execute_result"
    }
   ],
   "source": [
    "df.shape"
   ]
  },
  {
   "cell_type": "markdown",
   "metadata": {},
   "source": [
    "<h2><span style=\"color:red\">Tax Liens </span> END<br>________________________________"
   ]
  },
  {
   "cell_type": "markdown",
   "metadata": {},
   "source": [
    "<h2 ><span style=\"color:red\">Term</span> BEGIN"
   ]
  },
  {
   "cell_type": "code",
   "execution_count": 5912,
   "metadata": {},
   "outputs": [],
   "source": [
    "curr_name = 'Term'"
   ]
  },
  {
   "cell_type": "code",
   "execution_count": 5913,
   "metadata": {},
   "outputs": [
    {
     "data": {
      "text/plain": [
       "Short Term    1861\n",
       "Long Term      639\n",
       "Name: Term, dtype: int64"
      ]
     },
     "execution_count": 5913,
     "metadata": {},
     "output_type": "execute_result"
    }
   ],
   "source": [
    "df_test[curr_name].value_counts()"
   ]
  },
  {
   "cell_type": "code",
   "execution_count": 5914,
   "metadata": {
    "scrolled": false
   },
   "outputs": [
    {
     "data": {
      "image/png": "[encoded data removed]",
      "text/plain": [
       "<Figure size 720x576 with 1 Axes>"
      ]
     },
     "metadata": {
      "needs_background": "light"
     },
     "output_type": "display_data"
    }
   ],
   "source": [
    "show_size_matching(df, curr_name)"
   ]
  },
  {
   "cell_type": "code",
   "execution_count": 5915,
   "metadata": {},
   "outputs": [],
   "source": [
    "df = mod_Term(df)\n",
    "df_test = mod_Term(df_test)"
   ]
  },
  {
   "cell_type": "code",
   "execution_count": 5916,
   "metadata": {},
   "outputs": [
    {
     "data": {
      "text/plain": [
       "(7497, 18)"
      ]
     },
     "execution_count": 5916,
     "metadata": {},
     "output_type": "execute_result"
    }
   ],
   "source": [
    "df.shape"
   ]
  },
  {
   "cell_type": "markdown",
   "metadata": {},
   "source": [
    "<h2><span style=\"color:red\">Term</span> END<br>________________________________"
   ]
  },
  {
   "cell_type": "markdown",
   "metadata": {},
   "source": [
    "<h2 ><span style=\"color:red\">Purpose</span> BEGIN"
   ]
  },
  {
   "cell_type": "code",
   "execution_count": 5917,
   "metadata": {},
   "outputs": [],
   "source": [
    "curr_name = 'Purpose'"
   ]
  },
  {
   "cell_type": "code",
   "execution_count": 5918,
   "metadata": {},
   "outputs": [
    {
     "data": {
      "text/plain": [
       "debt consolidation      5942\n",
       "other                    665\n",
       "home improvements        412\n",
       "business loan            129\n",
       "buy a car                 96\n",
       "medical bills             70\n",
       "major purchase            40\n",
       "take a trip               37\n",
       "buy house                 34\n",
       "small business            26\n",
       "wedding                   15\n",
       "moving                    11\n",
       "educational expenses      10\n",
       "vacation                   8\n",
       "renewable energy           2\n",
       "Name: Purpose, dtype: int64"
      ]
     },
     "execution_count": 5918,
     "metadata": {},
     "output_type": "execute_result"
    }
   ],
   "source": [
    "df[curr_name].value_counts()"
   ]
  },
  {
   "cell_type": "code",
   "execution_count": 5919,
   "metadata": {},
   "outputs": [
    {
     "data": {
      "image/png": "[encoded data removed]",
      "text/plain": [
       "<Figure size 720x576 with 1 Axes>"
      ]
     },
     "metadata": {
      "needs_background": "light"
     },
     "output_type": "display_data"
    }
   ],
   "source": [
    "show_size_matching(df.loc[~df[curr_name].isin(['debt consolidation'])], curr_name)"
   ]
  },
  {
   "cell_type": "code",
   "execution_count": 5920,
   "metadata": {},
   "outputs": [
    {
     "data": {
      "text/plain": [
       "0"
      ]
     },
     "execution_count": 5920,
     "metadata": {},
     "output_type": "execute_result"
    }
   ],
   "source": [
    "df_test.loc[df_test[curr_name] == 'renewable energy', curr_name].count()"
   ]
  },
  {
   "cell_type": "code",
   "execution_count": 5921,
   "metadata": {},
   "outputs": [],
   "source": [
    "df = df.loc[df[curr_name] != 'renewable energy']"
   ]
  },
  {
   "cell_type": "code",
   "execution_count": 5922,
   "metadata": {
    "scrolled": false
   },
   "outputs": [
    {
     "name": "stdout",
     "output_type": "stream",
     "text": [
      "                     business loan buy a car buy house debt consolidation  \\\n",
      "business loan                    1    0.0061     0.086             0.0002   \n",
      "buy a car                   0.0061         1    0.8655             0.5384   \n",
      "buy house                    0.086    0.8655         1             0.8594   \n",
      "debt consolidation          0.0002    0.5384    0.8594                  1   \n",
      "educational expenses        0.0427    0.2876    0.2746             0.2085   \n",
      "home improvements           0.0004    0.8071    0.9739             0.4769   \n",
      "major purchase              0.0218    0.7566    0.6916             0.4528   \n",
      "medical bills               0.1211    0.3608    0.6041             0.5051   \n",
      "moving                      0.1131    0.6175    0.5782             0.4753   \n",
      "other                       0.0037    0.3508     0.694             0.3301   \n",
      "small business               0.294    0.0048    0.0307             0.0032   \n",
      "take a trip                 0.0864    0.8102    0.9578             0.9129   \n",
      "vacation                    0.3261         1    0.9322             0.8581   \n",
      "wedding                     0.2339    0.8901    0.9886             0.9196   \n",
      "\n",
      "                     educational expenses home improvements major purchase  \\\n",
      "business loan                      0.0427            0.0004         0.0218   \n",
      "buy a car                          0.2876            0.8071         0.7566   \n",
      "buy house                          0.2746            0.9739         0.6916   \n",
      "debt consolidation                 0.2085            0.4769         0.4528   \n",
      "educational expenses                    1            0.2471         0.3768   \n",
      "home improvements                  0.2471                 1         0.6087   \n",
      "major purchase                     0.3768            0.6087              1   \n",
      "medical bills                      0.1614            0.3634         0.3167   \n",
      "moving                             0.5926             0.549         0.7578   \n",
      "other                              0.1761            0.2273         0.3359   \n",
      "small business                     0.0168            0.0023          0.009   \n",
      "take a trip                        0.2592            0.9142         0.6453   \n",
      "vacation                           0.3961            0.9384         0.8779   \n",
      "wedding                            0.3074            0.9687          0.746   \n",
      "\n",
      "                     medical bills  moving   other small business take a trip  \\\n",
      "business loan               0.1211  0.1131  0.0037          0.294      0.0864   \n",
      "buy a car                   0.3608  0.6175  0.3508         0.0048      0.8102   \n",
      "buy house                   0.6041  0.5782   0.694         0.0307      0.9578   \n",
      "debt consolidation          0.5051  0.4753  0.3301         0.0032      0.9129   \n",
      "educational expenses        0.1614  0.5926  0.1761         0.0168      0.2592   \n",
      "home improvements           0.3634   0.549  0.2273         0.0023      0.9142   \n",
      "major purchase              0.3167  0.7578  0.3359          0.009      0.6453   \n",
      "medical bills                    1  0.3711  0.7535         0.0438      0.6362   \n",
      "moving                      0.3711       1  0.4089         0.0453       0.552   \n",
      "other                       0.7535  0.4089       1         0.0085       0.736   \n",
      "small business              0.0438  0.0453  0.0085              1      0.0309   \n",
      "take a trip                 0.6362   0.552   0.736         0.0309           1   \n",
      "vacation                     0.709  0.7189  0.7757         0.1529      0.9064   \n",
      "wedding                     0.7164  0.6119   0.804         0.0912      0.9788   \n",
      "\n",
      "                     vacation wedding  \n",
      "business loan          0.3261  0.2339  \n",
      "buy a car                   1  0.8901  \n",
      "buy house              0.9322  0.9886  \n",
      "debt consolidation     0.8581  0.9196  \n",
      "educational expenses   0.3961  0.3074  \n",
      "home improvements      0.9384  0.9687  \n",
      "major purchase         0.8779   0.746  \n",
      "medical bills           0.709  0.7164  \n",
      "moving                 0.7189  0.6119  \n",
      "other                  0.7757   0.804  \n",
      "small business         0.1529  0.0912  \n",
      "take a trip            0.9064  0.9788  \n",
      "vacation                    1  0.9309  \n",
      "wedding                0.9309       1  \n"
     ]
    }
   ],
   "source": [
    "show_chi2_p_vals(df, curr_name)"
   ]
  },
  {
   "cell_type": "code",
   "execution_count": 5923,
   "metadata": {},
   "outputs": [],
   "source": [
    "df = mod_Purpose(df)\n",
    "df_test = mod_Purpose(df_test)"
   ]
  },
  {
   "cell_type": "code",
   "execution_count": 5924,
   "metadata": {
    "scrolled": false
   },
   "outputs": [
    {
     "name": "stdout",
     "output_type": "stream",
     "text": [
      "                   business loan buy a car debt consolidation  moving   other  \\\n",
      "business loan                  1    0.0002             0.0002   0.002  0.0038   \n",
      "buy a car                 0.0002         1             0.3588  0.2739  0.1327   \n",
      "debt consolidation        0.0002    0.3588                  1  0.1566  0.2645   \n",
      "moving                     0.002    0.2739             0.1566       1  0.0941   \n",
      "other                     0.0038    0.1327             0.2645  0.0941       1   \n",
      "small business             0.294    0.0018             0.0032  0.0014  0.0089   \n",
      "\n",
      "                   small business  \n",
      "business loan               0.294  \n",
      "buy a car                  0.0018  \n",
      "debt consolidation         0.0032  \n",
      "moving                     0.0014  \n",
      "other                      0.0089  \n",
      "small business                  1  \n"
     ]
    }
   ],
   "source": [
    "show_chi2_p_vals(df, curr_name)"
   ]
  },
  {
   "cell_type": "code",
   "execution_count": 5925,
   "metadata": {},
   "outputs": [],
   "source": [
    "# for i in chi:\n",
    "#     print(i, sorted(chi[i])[-2])"
   ]
  },
  {
   "cell_type": "code",
   "execution_count": 5926,
   "metadata": {},
   "outputs": [
    {
     "data": {
      "text/plain": [
       "(7495, 18)"
      ]
     },
     "execution_count": 5926,
     "metadata": {},
     "output_type": "execute_result"
    }
   ],
   "source": [
    "df.shape"
   ]
  },
  {
   "cell_type": "markdown",
   "metadata": {},
   "source": [
    "<h2><span style=\"color:red\">Purpose</span> END<br>________________________________"
   ]
  },
  {
   "cell_type": "markdown",
   "metadata": {},
   "source": [
    "<h2 ><span style=\"color:red\">Months since last delinquent</span> BEGIN"
   ]
  },
  {
   "cell_type": "code",
   "execution_count": 5927,
   "metadata": {},
   "outputs": [],
   "source": [
    "curr_name = 'Months since last delinquent'"
   ]
  },
  {
   "cell_type": "code",
   "execution_count": 5928,
   "metadata": {},
   "outputs": [
    {
     "data": {
      "text/plain": [
       "82.0"
      ]
     },
     "execution_count": 5928,
     "metadata": {},
     "output_type": "execute_result"
    }
   ],
   "source": [
    "df_test[curr_name].max()"
   ]
  },
  {
   "cell_type": "code",
   "execution_count": 5929,
   "metadata": {},
   "outputs": [
    {
     "data": {
      "text/plain": [
       "4"
      ]
     },
     "execution_count": 5929,
     "metadata": {},
     "output_type": "execute_result"
    }
   ],
   "source": [
    "df.loc[(df[curr_name] > df_test[curr_name].max()) & (df[TARGET_NAME] == 0), curr_name].count()"
   ]
  },
  {
   "cell_type": "code",
   "execution_count": 5930,
   "metadata": {},
   "outputs": [],
   "source": [
    "df = mod_Months_since_last_delinquent(df, df[curr_name].median(), df_test[curr_name].max())\n",
    "df_test = mod_Months_since_last_delinquent(df_test, df[curr_name].median(), df_test[curr_name].max())"
   ]
  },
  {
   "cell_type": "code",
   "execution_count": 5931,
   "metadata": {},
   "outputs": [
    {
     "data": {
      "text/plain": [
       "82.0"
      ]
     },
     "execution_count": 5931,
     "metadata": {},
     "output_type": "execute_result"
    }
   ],
   "source": [
    "df.loc[df[TARGET_NAME] == 1, curr_name].max()"
   ]
  },
  {
   "cell_type": "code",
   "execution_count": 5932,
   "metadata": {},
   "outputs": [],
   "source": [
    "df = df.loc[df[curr_name] < 83]"
   ]
  },
  {
   "cell_type": "code",
   "execution_count": 5933,
   "metadata": {},
   "outputs": [
    {
     "data": {
      "image/png": "[encoded data removed]",
      "text/plain": [
       "<Figure size 720x360 with 1 Axes>"
      ]
     },
     "metadata": {
      "needs_background": "light"
     },
     "output_type": "display_data"
    }
   ],
   "source": [
    "show_plot_matching(df, curr_name)"
   ]
  },
  {
   "cell_type": "code",
   "execution_count": 5934,
   "metadata": {},
   "outputs": [
    {
     "data": {
      "text/plain": [
       "MannwhitneyuResult(statistic=5606448.0, pvalue=0.1611791506508266)"
      ]
     },
     "execution_count": 5934,
     "metadata": {},
     "output_type": "execute_result"
    }
   ],
   "source": [
    "show_mannwhitneyu(df, curr_name)"
   ]
  },
  {
   "cell_type": "code",
   "execution_count": 5935,
   "metadata": {},
   "outputs": [],
   "source": [
    "drop_columns.append(curr_name)"
   ]
  },
  {
   "cell_type": "code",
   "execution_count": 5936,
   "metadata": {},
   "outputs": [
    {
     "data": {
      "text/plain": [
       "(7495, 18)"
      ]
     },
     "execution_count": 5936,
     "metadata": {},
     "output_type": "execute_result"
    }
   ],
   "source": [
    "df.shape"
   ]
  },
  {
   "cell_type": "markdown",
   "metadata": {},
   "source": [
    "<h2><span style=\"color:red\">Months since last delinquent</span> END<br>________________________________"
   ]
  },
  {
   "cell_type": "markdown",
   "metadata": {},
   "source": [
    "<h2 ><span style=\"color:red\">Number of Credit Problems</span> BEGIN"
   ]
  },
  {
   "cell_type": "code",
   "execution_count": 5937,
   "metadata": {},
   "outputs": [],
   "source": [
    "curr_name = 'Number of Credit Problems'"
   ]
  },
  {
   "cell_type": "code",
   "execution_count": 5938,
   "metadata": {},
   "outputs": [
    {
     "data": {
      "text/plain": [
       "0.0     2177\n",
       "1.0      280\n",
       "2.0       29\n",
       "3.0        7\n",
       "5.0        4\n",
       "15.0       1\n",
       "4.0        1\n",
       "7.0        1\n",
       "Name: Number of Credit Problems, dtype: int64"
      ]
     },
     "execution_count": 5938,
     "metadata": {},
     "output_type": "execute_result"
    }
   ],
   "source": [
    "df_test[curr_name].value_counts()"
   ]
  },
  {
   "cell_type": "code",
   "execution_count": 5939,
   "metadata": {},
   "outputs": [],
   "source": [
    "df = df.loc[df[curr_name] < 6]"
   ]
  },
  {
   "cell_type": "code",
   "execution_count": 5940,
   "metadata": {},
   "outputs": [
    {
     "data": {
      "image/png": "[encoded data removed]",
      "text/plain": [
       "<Figure size 720x576 with 1 Axes>"
      ]
     },
     "metadata": {
      "needs_background": "light"
     },
     "output_type": "display_data"
    }
   ],
   "source": [
    "show_size_matching(df.loc[df[curr_name] != 0], curr_name)"
   ]
  },
  {
   "cell_type": "code",
   "execution_count": 5941,
   "metadata": {
    "scrolled": true
   },
   "outputs": [
    {
     "name": "stdout",
     "output_type": "stream",
     "text": [
      "        0.0     1.0     2.0     3.0     4.0     5.0\n",
      "0.0       1  0.6592  0.1127  0.1163    0.01  0.0867\n",
      "1.0  0.6592       1  0.0959  0.1007  0.0087  0.0786\n",
      "2.0  0.1127  0.0959       1  0.6366   0.066  0.2524\n",
      "3.0  0.1163  0.1007  0.6366       1  0.1519  0.4028\n",
      "4.0    0.01  0.0087   0.066  0.1519       1  0.6963\n",
      "5.0  0.0867  0.0786  0.2524  0.4028  0.6963       1\n"
     ]
    }
   ],
   "source": [
    "show_chi2_p_vals(df, curr_name)"
   ]
  },
  {
   "cell_type": "code",
   "execution_count": 5942,
   "metadata": {},
   "outputs": [],
   "source": [
    "df = mod_Number_of_Credit_Problems(df)\n",
    "df_test = mod_Number_of_Credit_Problems(df_test)"
   ]
  },
  {
   "cell_type": "code",
   "execution_count": 5943,
   "metadata": {
    "scrolled": true
   },
   "outputs": [
    {
     "name": "stdout",
     "output_type": "stream",
     "text": [
      "        0       2       3       4\n",
      "0       1   0.108  0.1132  0.0021\n",
      "2   0.108       1  0.6366  0.0411\n",
      "3  0.1132  0.6366       1  0.1352\n",
      "4  0.0021  0.0411  0.1352       1\n"
     ]
    }
   ],
   "source": [
    "show_chi2_p_vals(df, curr_name)"
   ]
  },
  {
   "cell_type": "code",
   "execution_count": 5944,
   "metadata": {},
   "outputs": [
    {
     "data": {
      "text/plain": [
       "(7493, 18)"
      ]
     },
     "execution_count": 5944,
     "metadata": {},
     "output_type": "execute_result"
    }
   ],
   "source": [
    "df.shape"
   ]
  },
  {
   "cell_type": "markdown",
   "metadata": {},
   "source": [
    "<h2><span style=\"color:red\">Number of Credit Problems</span> END<br>________________________________"
   ]
  },
  {
   "cell_type": "markdown",
   "metadata": {},
   "source": [
    "<h2 ><span style=\"color:red\">Years of Credit History</span> BEGIN"
   ]
  },
  {
   "cell_type": "code",
   "execution_count": 5945,
   "metadata": {},
   "outputs": [],
   "source": [
    "curr_name = 'Years of Credit History'"
   ]
  },
  {
   "cell_type": "code",
   "execution_count": 5946,
   "metadata": {},
   "outputs": [
    {
     "data": {
      "text/plain": [
       "(53.4, 40)"
      ]
     },
     "execution_count": 5946,
     "metadata": {},
     "output_type": "execute_result"
    }
   ],
   "source": [
    "df_test[curr_name].max(), int(df[curr_name].quantile(0.99))"
   ]
  },
  {
   "cell_type": "code",
   "execution_count": 5947,
   "metadata": {},
   "outputs": [],
   "source": [
    "quantile_p = int(df[curr_name].quantile(0.99))\n",
    "df = mod_remove_tail(df, curr_name, quantile_p )\n",
    "df_test = mod_remove_tail(df_test, curr_name, quantile_p)"
   ]
  },
  {
   "cell_type": "code",
   "execution_count": 5948,
   "metadata": {},
   "outputs": [
    {
     "data": {
      "text/plain": [
       "40.0"
      ]
     },
     "execution_count": 5948,
     "metadata": {},
     "output_type": "execute_result"
    }
   ],
   "source": [
    "df[curr_name].max()"
   ]
  },
  {
   "cell_type": "code",
   "execution_count": 5949,
   "metadata": {},
   "outputs": [
    {
     "data": {
      "image/png": "[encoded data removed]",
      "text/plain": [
       "<Figure size 720x360 with 1 Axes>"
      ]
     },
     "metadata": {
      "needs_background": "light"
     },
     "output_type": "display_data"
    }
   ],
   "source": [
    "show_plot_matching(df, curr_name)"
   ]
  },
  {
   "cell_type": "code",
   "execution_count": 5950,
   "metadata": {},
   "outputs": [
    {
     "data": {
      "text/plain": [
       "MannwhitneyuResult(statistic=5447978.0, pvalue=0.0028645486538197854)"
      ]
     },
     "execution_count": 5950,
     "metadata": {},
     "output_type": "execute_result"
    }
   ],
   "source": [
    "show_mannwhitneyu(df, curr_name)"
   ]
  },
  {
   "cell_type": "code",
   "execution_count": 5951,
   "metadata": {
    "scrolled": true
   },
   "outputs": [
    {
     "data": {
      "image/png": "[encoded data removed]",
      "text/plain": [
       "<Figure size 576x360 with 1 Axes>"
      ]
     },
     "metadata": {
      "needs_background": "light"
     },
     "output_type": "display_data"
    }
   ],
   "source": [
    "show_confidence_int(df, curr_name)"
   ]
  },
  {
   "cell_type": "code",
   "execution_count": 5952,
   "metadata": {},
   "outputs": [
    {
     "data": {
      "text/plain": [
       "(7493, 18)"
      ]
     },
     "execution_count": 5952,
     "metadata": {},
     "output_type": "execute_result"
    }
   ],
   "source": [
    "df.shape"
   ]
  },
  {
   "cell_type": "markdown",
   "metadata": {},
   "source": [
    "<h2><span style=\"color:red\">Years of Credit History</span> END<br>________________________________"
   ]
  },
  {
   "cell_type": "markdown",
   "metadata": {},
   "source": [
    "<h2 ><span style=\"color:red\">Current Loan Amount</span> BEGIN"
   ]
  },
  {
   "cell_type": "code",
   "execution_count": 5953,
   "metadata": {},
   "outputs": [],
   "source": [
    "curr_name = 'Current Loan Amount'"
   ]
  },
  {
   "cell_type": "code",
   "execution_count": 5954,
   "metadata": {},
   "outputs": [
    {
     "data": {
      "text/plain": [
       "(869, 297)"
      ]
     },
     "execution_count": 5954,
     "metadata": {},
     "output_type": "execute_result"
    }
   ],
   "source": [
    "df.loc[df[curr_name] == 99999999.0, curr_name].count(), df_test.loc[df_test[curr_name] == 99999999.0, curr_name].count()"
   ]
  },
  {
   "cell_type": "code",
   "execution_count": 5955,
   "metadata": {},
   "outputs": [],
   "source": [
    "quantile_p = int(df[curr_name].quantile(0.95))\n",
    "median = df.loc[df[curr_name] < 900000, curr_name].median() \n",
    "df = mod_Current_Loan_Amount(df, median, quantile_p)\n",
    "df_test = mod_Current_Loan_Amount(df_test, median, quantile_p)"
   ]
  },
  {
   "cell_type": "code",
   "execution_count": 5956,
   "metadata": {},
   "outputs": [
    {
     "data": {
      "image/png": "[encoded data removed]",
      "text/plain": [
       "<Figure size 720x360 with 1 Axes>"
      ]
     },
     "metadata": {
      "needs_background": "light"
     },
     "output_type": "display_data"
    }
   ],
   "source": [
    "show_plot_matching(df, curr_name)"
   ]
  },
  {
   "cell_type": "code",
   "execution_count": 5957,
   "metadata": {},
   "outputs": [
    {
     "data": {
      "text/plain": [
       "9.974551610967133"
      ]
     },
     "execution_count": 5957,
     "metadata": {},
     "output_type": "execute_result"
    }
   ],
   "source": [
    "df.loc[df[TARGET_NAME] == 1, curr_name].min()"
   ]
  },
  {
   "cell_type": "code",
   "execution_count": 5958,
   "metadata": {},
   "outputs": [],
   "source": [
    "# df = df.loc[df[curr_name] >= 10]"
   ]
  },
  {
   "cell_type": "code",
   "execution_count": 5959,
   "metadata": {},
   "outputs": [
    {
     "data": {
      "text/plain": [
       "(7493, 18)"
      ]
     },
     "execution_count": 5959,
     "metadata": {},
     "output_type": "execute_result"
    }
   ],
   "source": [
    "df.shape"
   ]
  },
  {
   "cell_type": "code",
   "execution_count": 5960,
   "metadata": {},
   "outputs": [
    {
     "data": {
      "text/plain": [
       "MannwhitneyuResult(statistic=4361447.0, pvalue=1.1355355574409653e-55)"
      ]
     },
     "execution_count": 5960,
     "metadata": {},
     "output_type": "execute_result"
    }
   ],
   "source": [
    "show_mannwhitneyu(df, curr_name)"
   ]
  },
  {
   "cell_type": "code",
   "execution_count": 5961,
   "metadata": {
    "scrolled": true
   },
   "outputs": [
    {
     "data": {
      "image/png": "[encoded data removed]",
      "text/plain": [
       "<Figure size 576x360 with 1 Axes>"
      ]
     },
     "metadata": {
      "needs_background": "light"
     },
     "output_type": "display_data"
    }
   ],
   "source": [
    "show_confidence_int(df, curr_name)"
   ]
  },
  {
   "cell_type": "code",
   "execution_count": 5962,
   "metadata": {},
   "outputs": [
    {
     "data": {
      "text/plain": [
       "(7493, 18)"
      ]
     },
     "execution_count": 5962,
     "metadata": {},
     "output_type": "execute_result"
    }
   ],
   "source": [
    "df.shape"
   ]
  },
  {
   "cell_type": "markdown",
   "metadata": {},
   "source": [
    "<h2><span style=\"color:red\">Current Loan Amount</span> END<br>________________________________"
   ]
  },
  {
   "cell_type": "markdown",
   "metadata": {},
   "source": [
    "<h2 ><span style=\"color:red\">Monthly Debt</span> BEGIN"
   ]
  },
  {
   "cell_type": "code",
   "execution_count": 5963,
   "metadata": {},
   "outputs": [],
   "source": [
    "curr_name = 'Monthly Debt'"
   ]
  },
  {
   "cell_type": "code",
   "execution_count": 5964,
   "metadata": {},
   "outputs": [
    {
     "data": {
      "text/plain": [
       "(136679.0, 93555.0, 136679)"
      ]
     },
     "execution_count": 5964,
     "metadata": {},
     "output_type": "execute_result"
    }
   ],
   "source": [
    "df[curr_name].max(), df_test[curr_name].max(), int(df[curr_name].quantile(1))"
   ]
  },
  {
   "cell_type": "code",
   "execution_count": 5965,
   "metadata": {},
   "outputs": [
    {
     "data": {
      "text/plain": [
       "2"
      ]
     },
     "execution_count": 5965,
     "metadata": {},
     "output_type": "execute_result"
    }
   ],
   "source": [
    "df.loc[(df[curr_name] > df_test[curr_name].max()) & (df[TARGET_NAME] == 1), curr_name].count()"
   ]
  },
  {
   "cell_type": "code",
   "execution_count": 5966,
   "metadata": {},
   "outputs": [],
   "source": [
    "df = df.loc[df[curr_name] <= df_test[curr_name].max()]"
   ]
  },
  {
   "cell_type": "code",
   "execution_count": 5967,
   "metadata": {},
   "outputs": [],
   "source": [
    "quantile_p = df_test[curr_name].max()\n",
    "df = mod_remove_tail(df, curr_name, quantile_p)\n",
    "df_test = mod_remove_tail(df_test, curr_name, quantile_p)"
   ]
  },
  {
   "cell_type": "code",
   "execution_count": 5968,
   "metadata": {},
   "outputs": [
    {
     "data": {
      "image/png": "[encoded data removed]",
      "text/plain": [
       "<Figure size 720x360 with 1 Axes>"
      ]
     },
     "metadata": {
      "needs_background": "light"
     },
     "output_type": "display_data"
    }
   ],
   "source": [
    "show_plot_matching(df, curr_name)"
   ]
  },
  {
   "cell_type": "code",
   "execution_count": 5969,
   "metadata": {},
   "outputs": [
    {
     "data": {
      "text/plain": [
       "MannwhitneyuResult(statistic=5504867.0, pvalue=0.025498089169700484)"
      ]
     },
     "execution_count": 5969,
     "metadata": {},
     "output_type": "execute_result"
    }
   ],
   "source": [
    "show_mannwhitneyu(df, curr_name)"
   ]
  },
  {
   "cell_type": "code",
   "execution_count": 5970,
   "metadata": {
    "scrolled": true
   },
   "outputs": [
    {
     "data": {
      "image/png": "[encoded data removed]",
      "text/plain": [
       "<Figure size 576x360 with 1 Axes>"
      ]
     },
     "metadata": {
      "needs_background": "light"
     },
     "output_type": "display_data"
    }
   ],
   "source": [
    "show_confidence_int(df, curr_name)"
   ]
  },
  {
   "cell_type": "code",
   "execution_count": 5971,
   "metadata": {},
   "outputs": [
    {
     "data": {
      "text/plain": [
       "(7485, 18)"
      ]
     },
     "execution_count": 5971,
     "metadata": {},
     "output_type": "execute_result"
    }
   ],
   "source": [
    "df.shape"
   ]
  },
  {
   "cell_type": "markdown",
   "metadata": {},
   "source": [
    "<h2><span style=\"color:red\">Monthly Debt</span> END<br>________________________________"
   ]
  },
  {
   "cell_type": "markdown",
   "metadata": {},
   "source": [
    "<h2 ><span style=\"color:red\">Current Credit Balance</span> BEGIN"
   ]
  },
  {
   "cell_type": "code",
   "execution_count": 5972,
   "metadata": {},
   "outputs": [],
   "source": [
    "curr_name = 'Current Credit Balance'"
   ]
  },
  {
   "cell_type": "code",
   "execution_count": 5973,
   "metadata": {},
   "outputs": [
    {
     "data": {
      "text/plain": [
       "(6506797.0, 6030087.0, 1446194)"
      ]
     },
     "execution_count": 5973,
     "metadata": {},
     "output_type": "execute_result"
    }
   ],
   "source": [
    "df[curr_name].max(), df_test[curr_name].max(), int(df[curr_name].quantile(0.99))"
   ]
  },
  {
   "cell_type": "code",
   "execution_count": 5974,
   "metadata": {},
   "outputs": [],
   "source": [
    "quantile_p = 6000000\n",
    "df = mod_Current_Credit_Balance(df,  quantile_p)\n",
    "df_test = mod_Current_Credit_Balance(df_test, quantile_p)"
   ]
  },
  {
   "cell_type": "code",
   "execution_count": 5975,
   "metadata": {},
   "outputs": [
    {
     "data": {
      "image/png": "[encoded data removed]",
      "text/plain": [
       "<Figure size 720x360 with 1 Axes>"
      ]
     },
     "metadata": {
      "needs_background": "light"
     },
     "output_type": "display_data"
    }
   ],
   "source": [
    "show_plot_matching(df, curr_name)"
   ]
  },
  {
   "cell_type": "code",
   "execution_count": 5976,
   "metadata": {},
   "outputs": [
    {
     "data": {
      "text/plain": [
       "MannwhitneyuResult(statistic=5668815.0, pvalue=0.49916275545058497)"
      ]
     },
     "execution_count": 5976,
     "metadata": {},
     "output_type": "execute_result"
    }
   ],
   "source": [
    "show_mannwhitneyu(df, curr_name)"
   ]
  },
  {
   "cell_type": "code",
   "execution_count": 5977,
   "metadata": {},
   "outputs": [
    {
     "data": {
      "image/png": "[encoded data removed]",
      "text/plain": [
       "<Figure size 576x360 with 1 Axes>"
      ]
     },
     "metadata": {
      "needs_background": "light"
     },
     "output_type": "display_data"
    }
   ],
   "source": [
    "show_confidence_int(df, curr_name)"
   ]
  },
  {
   "cell_type": "code",
   "execution_count": 5978,
   "metadata": {},
   "outputs": [],
   "source": [
    "drop_columns.append(curr_name)"
   ]
  },
  {
   "cell_type": "code",
   "execution_count": 5979,
   "metadata": {},
   "outputs": [
    {
     "data": {
      "text/plain": [
       "(7485, 18)"
      ]
     },
     "execution_count": 5979,
     "metadata": {},
     "output_type": "execute_result"
    }
   ],
   "source": [
    "df.shape"
   ]
  },
  {
   "cell_type": "markdown",
   "metadata": {},
   "source": [
    "<h2><span style=\"color:red\">Current Credit Balance</span> END<br>________________________________"
   ]
  },
  {
   "cell_type": "markdown",
   "metadata": {},
   "source": [
    "<h2 ><span style=\"color:red\">Maximum Open Credit</span> BEGIN"
   ]
  },
  {
   "cell_type": "code",
   "execution_count": 5980,
   "metadata": {},
   "outputs": [],
   "source": [
    "curr_name = 'Maximum Open Credit'"
   ]
  },
  {
   "cell_type": "code",
   "execution_count": 5981,
   "metadata": {},
   "outputs": [
    {
     "data": {
      "text/plain": [
       "(1304726170.0, 54484386.0, 3487804)"
      ]
     },
     "execution_count": 5981,
     "metadata": {},
     "output_type": "execute_result"
    }
   ],
   "source": [
    "df[curr_name].max(), df_test[curr_name].max(), int(df[curr_name].quantile(0.99))"
   ]
  },
  {
   "cell_type": "code",
   "execution_count": 5982,
   "metadata": {},
   "outputs": [
    {
     "data": {
      "text/plain": [
       "10"
      ]
     },
     "execution_count": 5982,
     "metadata": {},
     "output_type": "execute_result"
    }
   ],
   "source": [
    "df.loc[(df[curr_name] == 0) & (df[TARGET_NAME] == 1), curr_name].count()"
   ]
  },
  {
   "cell_type": "code",
   "execution_count": 5983,
   "metadata": {},
   "outputs": [],
   "source": [
    "# df = df.loc[df[curr_name] != 0]"
   ]
  },
  {
   "cell_type": "code",
   "execution_count": 5984,
   "metadata": {},
   "outputs": [],
   "source": [
    "quantile_p = df_test[curr_name].max()\n",
    "df = mod_Maximum_Open_Credit(df, quantile_p)\n",
    "df_test = mod_Maximum_Open_Credit(df_test, quantile_p)"
   ]
  },
  {
   "cell_type": "code",
   "execution_count": 5985,
   "metadata": {},
   "outputs": [
    {
     "data": {
      "image/png": "[encoded data removed]",
      "text/plain": [
       "<Figure size 720x360 with 1 Axes>"
      ]
     },
     "metadata": {
      "needs_background": "light"
     },
     "output_type": "display_data"
    }
   ],
   "source": [
    "show_plot_matching(df, curr_name)"
   ]
  },
  {
   "cell_type": "code",
   "execution_count": 5986,
   "metadata": {},
   "outputs": [
    {
     "data": {
      "text/plain": [
       "15.708525980648124"
      ]
     },
     "execution_count": 5986,
     "metadata": {},
     "output_type": "execute_result"
    }
   ],
   "source": [
    "df.loc[df[TARGET_NAME] == 1, curr_name].max()"
   ]
  },
  {
   "cell_type": "code",
   "execution_count": 5987,
   "metadata": {},
   "outputs": [],
   "source": [
    "df =  df.loc[df[curr_name] < 16]"
   ]
  },
  {
   "cell_type": "code",
   "execution_count": 5988,
   "metadata": {},
   "outputs": [
    {
     "data": {
      "text/plain": [
       "MannwhitneyuResult(statistic=5213520.0, pvalue=1.5054683653488653e-07)"
      ]
     },
     "execution_count": 5988,
     "metadata": {},
     "output_type": "execute_result"
    }
   ],
   "source": [
    "show_mannwhitneyu(df, curr_name)"
   ]
  },
  {
   "cell_type": "code",
   "execution_count": 5989,
   "metadata": {
    "scrolled": true
   },
   "outputs": [
    {
     "data": {
      "image/png": "[encoded data removed]",
      "text/plain": [
       "<Figure size 576x360 with 1 Axes>"
      ]
     },
     "metadata": {
      "needs_background": "light"
     },
     "output_type": "display_data"
    }
   ],
   "source": [
    "show_confidence_int(df, curr_name)"
   ]
  },
  {
   "cell_type": "code",
   "execution_count": 5990,
   "metadata": {},
   "outputs": [
    {
     "data": {
      "text/plain": [
       "(7460, 18)"
      ]
     },
     "execution_count": 5990,
     "metadata": {},
     "output_type": "execute_result"
    }
   ],
   "source": [
    "df.shape"
   ]
  },
  {
   "cell_type": "markdown",
   "metadata": {},
   "source": [
    "<h2><span style=\"color:red\">Maximum Open Credit</span> END<br>________________________________"
   ]
  },
  {
   "cell_type": "markdown",
   "metadata": {},
   "source": [
    "<h2 ><span style=\"color:red\">Number of Open Accounts</span> BEGIN"
   ]
  },
  {
   "cell_type": "code",
   "execution_count": 5991,
   "metadata": {},
   "outputs": [],
   "source": [
    "curr_name = 'Number of Open Accounts'"
   ]
  },
  {
   "cell_type": "code",
   "execution_count": 5992,
   "metadata": {},
   "outputs": [
    {
     "data": {
      "text/plain": [
       "(43.0, 48.0, 26)"
      ]
     },
     "execution_count": 5992,
     "metadata": {},
     "output_type": "execute_result"
    }
   ],
   "source": [
    "df[curr_name].max(), df_test[curr_name].max(), int(df[curr_name].quantile(0.99))"
   ]
  },
  {
   "cell_type": "code",
   "execution_count": 5993,
   "metadata": {},
   "outputs": [
    {
     "data": {
      "text/plain": [
       "0"
      ]
     },
     "execution_count": 5993,
     "metadata": {},
     "output_type": "execute_result"
    }
   ],
   "source": [
    "df.loc[(df[curr_name] == 0) & (df[TARGET_NAME] == 1), curr_name].count()"
   ]
  },
  {
   "cell_type": "code",
   "execution_count": 5994,
   "metadata": {},
   "outputs": [],
   "source": [
    "df = df.loc[df[curr_name] != 0]"
   ]
  },
  {
   "cell_type": "code",
   "execution_count": 5995,
   "metadata": {},
   "outputs": [],
   "source": [
    "quantile_p = 43\n",
    "df = mod_remove_tail(df, curr_name, quantile_p)\n",
    "df_test = mod_remove_tail(df_test, curr_name, quantile_p)"
   ]
  },
  {
   "cell_type": "code",
   "execution_count": 5996,
   "metadata": {},
   "outputs": [
    {
     "data": {
      "image/png": "[encoded data removed]",
      "text/plain": [
       "<Figure size 720x360 with 1 Axes>"
      ]
     },
     "metadata": {
      "needs_background": "light"
     },
     "output_type": "display_data"
    }
   ],
   "source": [
    "show_plot_matching(df, curr_name)"
   ]
  },
  {
   "cell_type": "code",
   "execution_count": 5997,
   "metadata": {},
   "outputs": [
    {
     "data": {
      "text/plain": [
       "MannwhitneyuResult(statistic=5410429.0, pvalue=0.0027261480511604668)"
      ]
     },
     "execution_count": 5997,
     "metadata": {},
     "output_type": "execute_result"
    }
   ],
   "source": [
    "show_mannwhitneyu(df, curr_name)"
   ]
  },
  {
   "cell_type": "code",
   "execution_count": 5998,
   "metadata": {
    "scrolled": true
   },
   "outputs": [
    {
     "data": {
      "image/png": "[encoded data removed]",
      "text/plain": [
       "<Figure size 576x360 with 1 Axes>"
      ]
     },
     "metadata": {
      "needs_background": "light"
     },
     "output_type": "display_data"
    }
   ],
   "source": [
    "show_confidence_int(df, curr_name)"
   ]
  },
  {
   "cell_type": "code",
   "execution_count": 5999,
   "metadata": {},
   "outputs": [
    {
     "data": {
      "text/plain": [
       "(7460, 18)"
      ]
     },
     "execution_count": 5999,
     "metadata": {},
     "output_type": "execute_result"
    }
   ],
   "source": [
    "df.shape"
   ]
  },
  {
   "cell_type": "markdown",
   "metadata": {},
   "source": [
    "<h2><span style=\"color:red\">Number of Open Accounts</span> END<br>________________________________"
   ]
  },
  {
   "cell_type": "markdown",
   "metadata": {},
   "source": [
    "<h2 ><span style=\"color:red\">Credit Score</span> BEGIN"
   ]
  },
  {
   "cell_type": "code",
   "execution_count": 6000,
   "metadata": {},
   "outputs": [],
   "source": [
    "curr_name = 'Credit Score'"
   ]
  },
  {
   "cell_type": "code",
   "execution_count": 6001,
   "metadata": {},
   "outputs": [
    {
     "data": {
      "text/plain": [
       "0    1024\n",
       "1     526\n",
       "Name: Credit Default, dtype: int64"
      ]
     },
     "execution_count": 6001,
     "metadata": {},
     "output_type": "execute_result"
    }
   ],
   "source": [
    "df.loc[df[curr_name].isna(), TARGET_NAME].value_counts()"
   ]
  },
  {
   "cell_type": "code",
   "execution_count": 6003,
   "metadata": {},
   "outputs": [],
   "source": [
    "median = df[curr_name].median()\n",
    "df = mod_Credit_Score(df, median)\n",
    "df_test = mod_Credit_Score(df_test, median)"
   ]
  },
  {
   "cell_type": "code",
   "execution_count": 6004,
   "metadata": {},
   "outputs": [
    {
     "data": {
      "text/plain": [
       "(7510.0, 7480.0, 7370)"
      ]
     },
     "execution_count": 6004,
     "metadata": {},
     "output_type": "execute_result"
    }
   ],
   "source": [
    "df[curr_name].max(), df_test[curr_name].max(), int(df[curr_name].quantile(0.99))"
   ]
  },
  {
   "cell_type": "code",
   "execution_count": 6005,
   "metadata": {},
   "outputs": [
    {
     "data": {
      "image/png": "[encoded data removed]",
      "text/plain": [
       "<Figure size 720x360 with 1 Axes>"
      ]
     },
     "metadata": {
      "needs_background": "light"
     },
     "output_type": "display_data"
    }
   ],
   "source": [
    "show_plot_matching(df, curr_name)"
   ]
  },
  {
   "cell_type": "code",
   "execution_count": 6006,
   "metadata": {},
   "outputs": [
    {
     "data": {
      "text/plain": [
       "MannwhitneyuResult(statistic=5506656.5, pvalue=0.05132626918984399)"
      ]
     },
     "execution_count": 6006,
     "metadata": {},
     "output_type": "execute_result"
    }
   ],
   "source": [
    "show_mannwhitneyu(df, curr_name)"
   ]
  },
  {
   "cell_type": "code",
   "execution_count": 6007,
   "metadata": {
    "scrolled": true
   },
   "outputs": [
    {
     "data": {
      "image/png": "[encoded data removed]",
      "text/plain": [
       "<Figure size 576x360 with 1 Axes>"
      ]
     },
     "metadata": {
      "needs_background": "light"
     },
     "output_type": "display_data"
    }
   ],
   "source": [
    "show_confidence_int(df, curr_name)"
   ]
  },
  {
   "cell_type": "code",
   "execution_count": 6008,
   "metadata": {},
   "outputs": [
    {
     "data": {
      "text/plain": [
       "(7460, 18)"
      ]
     },
     "execution_count": 6008,
     "metadata": {},
     "output_type": "execute_result"
    }
   ],
   "source": [
    "df.shape"
   ]
  },
  {
   "cell_type": "markdown",
   "metadata": {},
   "source": [
    "<h2><span style=\"color:red\">Credit Score</span> END<br>________________________________"
   ]
  },
  {
   "cell_type": "markdown",
   "metadata": {},
   "source": [
    "<h2 ><span style=\"color:red\">Annual Income</span> BEGIN"
   ]
  },
  {
   "cell_type": "code",
   "execution_count": 6009,
   "metadata": {},
   "outputs": [],
   "source": [
    "curr_name = 'Annual Income'"
   ]
  },
  {
   "cell_type": "code",
   "execution_count": 6010,
   "metadata": {
    "scrolled": true
   },
   "outputs": [
    {
     "data": {
      "text/plain": [
       "0    1024\n",
       "1     526\n",
       "Name: Credit Default, dtype: int64"
      ]
     },
     "execution_count": 6010,
     "metadata": {},
     "output_type": "execute_result"
    }
   ],
   "source": [
    "df.loc[df[curr_name].isna(), TARGET_NAME].value_counts()"
   ]
  },
  {
   "cell_type": "code",
   "execution_count": 6011,
   "metadata": {},
   "outputs": [
    {
     "data": {
      "text/plain": [
       "(10149344.0, 14975610.0, 4378224)"
      ]
     },
     "execution_count": 6011,
     "metadata": {},
     "output_type": "execute_result"
    }
   ],
   "source": [
    "df[curr_name].max(), df_test[curr_name].max(), int(df[curr_name].quantile(0.99))"
   ]
  },
  {
   "cell_type": "code",
   "execution_count": 6012,
   "metadata": {},
   "outputs": [
    {
     "data": {
      "text/plain": [
       "(164597.0, 106533.0, 326971)"
      ]
     },
     "execution_count": 6012,
     "metadata": {},
     "output_type": "execute_result"
    }
   ],
   "source": [
    "df[curr_name].min(), df_test[curr_name].min(), int(df[curr_name].quantile(0.01))"
   ]
  },
  {
   "cell_type": "code",
   "execution_count": 6013,
   "metadata": {},
   "outputs": [],
   "source": [
    "median = -10\n",
    "p = df_test[curr_name].max()\n",
    "df = mod_Annual_Income(df, median, p)\n",
    "df_test = mod_Annual_Income(df_test, median, p)"
   ]
  },
  {
   "cell_type": "code",
   "execution_count": 6014,
   "metadata": {},
   "outputs": [
    {
     "data": {
      "image/png": "[encoded data removed]",
      "text/plain": [
       "<Figure size 720x360 with 1 Axes>"
      ]
     },
     "metadata": {
      "needs_background": "light"
     },
     "output_type": "display_data"
    }
   ],
   "source": [
    "show_plot_matching(df, curr_name)"
   ]
  },
  {
   "cell_type": "code",
   "execution_count": 6015,
   "metadata": {},
   "outputs": [
    {
     "data": {
      "text/plain": [
       "MannwhitneyuResult(statistic=4825423.5, pvalue=5.631696713148737e-23)"
      ]
     },
     "execution_count": 6015,
     "metadata": {},
     "output_type": "execute_result"
    }
   ],
   "source": [
    "show_mannwhitneyu(df, curr_name)"
   ]
  },
  {
   "cell_type": "code",
   "execution_count": 6016,
   "metadata": {},
   "outputs": [
    {
     "data": {
      "text/plain": [
       "(7460, 18)"
      ]
     },
     "execution_count": 6016,
     "metadata": {},
     "output_type": "execute_result"
    }
   ],
   "source": [
    "df.shape"
   ]
  },
  {
   "cell_type": "markdown",
   "metadata": {},
   "source": [
    "<h2><span style=\"color:red\">Annual Income</span> END<br>________________________________"
   ]
  },
  {
   "cell_type": "markdown",
   "metadata": {},
   "source": [
    "<h2 ><span style=\"color:red\">NEW NAMES</span> BEGIN"
   ]
  },
  {
   "cell_type": "code",
   "execution_count": 6017,
   "metadata": {},
   "outputs": [],
   "source": [
    "new_names = {new_Credit_Score_bin:{}, \n",
    "             new_Months_since_last_delinquent_dummy: {},\n",
    "             new_Bankruptcies_bin:{},\n",
    "             new_Bankruptcies_bin2: {},\n",
    "            }\n",
    "\n",
    "# for new_col, params in new_names.items():\n",
    "#     df = new_col(df, **params)\n",
    "#     df_test = new_col(df_test, **params)"
   ]
  },
  {
   "cell_type": "markdown",
   "metadata": {},
   "source": [
    "<h2><span style=\"color:red\">NEW NAMES</span> END<br>________________________________"
   ]
  },
  {
   "cell_type": "markdown",
   "metadata": {},
   "source": [
    "***Выделим бинарные переменные***"
   ]
  },
  {
   "cell_type": "code",
   "execution_count": 6018,
   "metadata": {},
   "outputs": [
    {
     "data": {
      "text/plain": [
       "['Tax Liens', 'Term']"
      ]
     },
     "execution_count": 6018,
     "metadata": {},
     "output_type": "execute_result"
    }
   ],
   "source": [
    "binary_columns = [c for c in df.columns if set(df[c].unique()) == set([0, 1])]\n",
    "binary_columns.remove(TARGET_NAME)\n",
    "binary_columns"
   ]
  },
  {
   "cell_type": "code",
   "execution_count": 6019,
   "metadata": {},
   "outputs": [
    {
     "name": "stdout",
     "output_type": "stream",
     "text": [
      "<class 'pandas.core.frame.DataFrame'>\n",
      "Int64Index: 7460 entries, 0 to 7499\n",
      "Data columns (total 2 columns):\n",
      "Tax Liens    7460 non-null uint8\n",
      "Term         7460 non-null uint8\n",
      "dtypes: uint8(2)\n",
      "memory usage: 392.9 KB\n"
     ]
    }
   ],
   "source": [
    "df[binary_columns] = df[binary_columns].astype('uint8')\n",
    "df_test[binary_columns] = df_test[binary_columns].astype('uint8')\n",
    "\n",
    "df[binary_columns].info()"
   ]
  },
  {
   "cell_type": "markdown",
   "metadata": {},
   "source": [
    "***Выделим дамми переменные***"
   ]
  },
  {
   "cell_type": "code",
   "execution_count": 6020,
   "metadata": {},
   "outputs": [
    {
     "data": {
      "text/plain": [
       "['Home Ownership', 'Purpose']"
      ]
     },
     "execution_count": 6020,
     "metadata": {},
     "output_type": "execute_result"
    }
   ],
   "source": [
    "nonbinary_columns = [c for c in df.columns if df[c].dtypes == 'object']\n",
    "nonbinary_columns"
   ]
  },
  {
   "cell_type": "markdown",
   "metadata": {},
   "source": [
    "***Рассмотрим числовые переменные***"
   ]
  },
  {
   "cell_type": "code",
   "execution_count": 6021,
   "metadata": {
    "scrolled": true
   },
   "outputs": [
    {
     "name": "stdout",
     "output_type": "stream",
     "text": [
      "<class 'pandas.core.frame.DataFrame'>\n",
      "Int64Index: 7460 entries, 0 to 7499\n",
      "Data columns (total 12 columns):\n",
      "Number of Open Accounts         7460 non-null float64\n",
      "Bankruptcies                    7460 non-null int8\n",
      "Credit Score                    7460 non-null float64\n",
      "Number of Credit Problems       7460 non-null int64\n",
      "Years in current job            7460 non-null int64\n",
      "Months since last delinquent    7460 non-null float64\n",
      "Maximum Open Credit             7460 non-null float64\n",
      "Monthly Debt                    7460 non-null float64\n",
      "Current Loan Amount             7460 non-null float64\n",
      "Annual Income                   7460 non-null float64\n",
      "Current Credit Balance          7460 non-null float64\n",
      "Years of Credit History         7460 non-null float64\n",
      "dtypes: float64(9), int64(2), int8(1)\n",
      "memory usage: 1.0 MB\n"
     ]
    }
   ],
   "source": [
    "numerical_columns = list(set(df.columns) - set(binary_columns) - set(nonbinary_columns) - set([TARGET_NAME, 'Id']))\n",
    "df[numerical_columns].info()"
   ]
  },
  {
   "cell_type": "markdown",
   "metadata": {},
   "source": [
    "***ПОЯВЛЕНИЕ ФИЛЬНАЛЬНОГО DF***"
   ]
  },
  {
   "cell_type": "code",
   "execution_count": 6022,
   "metadata": {
    "scrolled": true
   },
   "outputs": [],
   "source": [
    "nonbinary_dummy_data = pd.get_dummies(df[nonbinary_columns])\n",
    "binary_data = df[binary_columns]\n",
    "numerical_data = df[numerical_columns]\n",
    "\n",
    "df_final = pd.concat([numerical_data, binary_data, nonbinary_dummy_data, df[TARGET_NAME]], axis=1).copy()"
   ]
  },
  {
   "cell_type": "code",
   "execution_count": 6023,
   "metadata": {},
   "outputs": [],
   "source": [
    "nonbinary_dummy_data_test = pd.get_dummies(df_test[nonbinary_columns])\n",
    "binary_data_test = df_test[binary_columns]\n",
    "numerical_data_test = df_test[numerical_columns]\n",
    "\n",
    "df_final_test = pd.concat([numerical_data_test, binary_data_test, nonbinary_dummy_data_test], axis=1).copy()"
   ]
  },
  {
   "cell_type": "code",
   "execution_count": 6024,
   "metadata": {},
   "outputs": [],
   "source": [
    "# df_final = df_final.drop(columns=drop_columns)\n",
    "# df_final_test = df_final_test.drop(columns=drop_columns)\n",
    "# numerical_columns = list(set(numerical_columns) - set(drop_columns))"
   ]
  },
  {
   "cell_type": "code",
   "execution_count": 6025,
   "metadata": {},
   "outputs": [
    {
     "data": {
      "image/png": "[encoded data removed]",
      "text/plain": [
       "<Figure size 720x576 with 1 Axes>"
      ]
     },
     "metadata": {
      "needs_background": "light"
     },
     "output_type": "display_data"
    }
   ],
   "source": [
    "BASE_FEATURE_NAMES = df_final.columns.tolist()\n",
    "corr_with_target = df_final[BASE_FEATURE_NAMES].corr().iloc[:-1, -1].sort_values(ascending=False)\n",
    "\n",
    "plt.figure(figsize=(10, 8))\n",
    "\n",
    "sns.barplot(x=corr_with_target.values[:], y=corr_with_target.index[:])\n",
    "\n",
    "plt.title('Correlation with target variable')\n",
    "plt.show()"
   ]
  },
  {
   "cell_type": "code",
   "execution_count": 6026,
   "metadata": {
    "scrolled": false
   },
   "outputs": [
    {
     "data": {
      "text/plain": [
       "Credit Score                    0.376397\n",
       "Current Loan Amount             0.234404\n",
       "Term                            0.182424\n",
       "Annual Income                   0.107638\n",
       "Home Ownership_3                0.064078\n",
       "Home Ownership_2                0.059317\n",
       "Purpose_business loan           0.043943\n",
       "Tax Liens                       0.041811\n",
       "Number of Credit Problems       0.040248\n",
       "Purpose_small business          0.033588\n",
       "Number of Open Accounts         0.030533\n",
       "Monthly Debt                    0.022371\n",
       "Years of Credit History         0.020501\n",
       "Purpose_moving                  0.016538\n",
       "Maximum Open Credit             0.016484\n",
       "Purpose_debt consolidation      0.016444\n",
       "Current Credit Balance          0.016436\n",
       "Purpose_other                   0.012647\n",
       "Bankruptcies                    0.012466\n",
       "Purpose_buy a car               0.012212\n",
       "Months since last delinquent    0.011465\n",
       "Home Ownership_1                0.010700\n",
       "Home Ownership_4                0.008609\n",
       "Years in current job            0.007357\n",
       "Name: Credit Default, dtype: float64"
      ]
     },
     "execution_count": 6026,
     "metadata": {},
     "output_type": "execute_result"
    }
   ],
   "source": [
    "corr_with_target.abs().sort_values(ascending=False)"
   ]
  },
  {
   "cell_type": "markdown",
   "metadata": {},
   "source": [
    "***Нормализация данных***"
   ]
  },
  {
   "cell_type": "code",
   "execution_count": 6027,
   "metadata": {},
   "outputs": [],
   "source": [
    "scaler_metod = MinMaxScaler\n",
    "\n",
    "df_final_scaled = mod_scaler(df_final, numerical_columns, scaler_metod)\n",
    "df_final_test_scaled = mod_scaler(df_final_test, numerical_columns, scaler_metod)"
   ]
  },
  {
   "cell_type": "code",
   "execution_count": 6028,
   "metadata": {},
   "outputs": [],
   "source": [
    "scaled = True\n",
    "X = df_final_scaled.drop(columns=[TARGET_NAME]) if scaled else df_final.drop(columns=[TARGET_NAME])\n",
    "y = df_final_scaled[TARGET_NAME] if scaled else df_final[TARGET_NAME]\n",
    "\n",
    "X_train, X_test, y_train, y_test = train_test_split(X, y, shuffle=True, test_size=0.30, random_state=21, stratify=y)"
   ]
  },
  {
   "cell_type": "markdown",
   "metadata": {},
   "source": [
    "***Отбор признаков***"
   ]
  },
  {
   "cell_type": "code",
   "execution_count": 6029,
   "metadata": {},
   "outputs": [
    {
     "data": {
      "text/plain": [
       "0    3746\n",
       "1    2952\n",
       "Name: Credit Default, dtype: int64"
      ]
     },
     "execution_count": 6029,
     "metadata": {},
     "output_type": "execute_result"
    }
   ],
   "source": [
    "df_for_balancing = pd.concat([X_train, y_train], axis=1)\n",
    "df_balanced = balance_df_by_target(df_for_balancing, TARGET_NAME, 1)\n",
    "    \n",
    "X_train = df_balanced.drop(columns=TARGET_NAME)\n",
    "y_train = df_balanced[TARGET_NAME]\n",
    "df_balanced[TARGET_NAME].value_counts()"
   ]
  },
  {
   "cell_type": "code",
   "execution_count": 6030,
   "metadata": {},
   "outputs": [],
   "source": [
    "ALL_NAMES = True\n",
    "\n",
    "if not ALL_NAMES:\n",
    "    MODEL = lgbm.LGBMClassifier\n",
    "\n",
    "    cv = StratifiedKFold(n_splits=3, shuffle=True, random_state=21)\n",
    "    model = MODEL(random_state=21)\n",
    "\n",
    "    rf = RFECV(model, cv=cv,  n_jobs=-1, scoring='f1')\n",
    "    rf.fit(X_train, y_train)"
   ]
  },
  {
   "cell_type": "code",
   "execution_count": 6031,
   "metadata": {
    "scrolled": false
   },
   "outputs": [
    {
     "data": {
      "text/plain": [
       "Index(['Number of Open Accounts', 'Bankruptcies', 'Credit Score',\n",
       "       'Number of Credit Problems', 'Years in current job',\n",
       "       'Months since last delinquent', 'Maximum Open Credit', 'Monthly Debt',\n",
       "       'Current Loan Amount', 'Annual Income', 'Current Credit Balance',\n",
       "       'Years of Credit History', 'Tax Liens', 'Term', 'Home Ownership_1',\n",
       "       'Home Ownership_2', 'Home Ownership_3', 'Home Ownership_4',\n",
       "       'Purpose_business loan', 'Purpose_buy a car',\n",
       "       'Purpose_debt consolidation', 'Purpose_moving', 'Purpose_other',\n",
       "       'Purpose_small business'],\n",
       "      dtype='object')"
      ]
     },
     "execution_count": 6031,
     "metadata": {},
     "output_type": "execute_result"
    }
   ],
   "source": [
    "FEATURE_NAMES_SELECTED = df_final.drop(columns=[TARGET_NAME]).columns if ALL_NAMES else list(X_train.loc[:, rf.support_].columns)\n",
    "FEATURE_NAMES_SELECTED"
   ]
  },
  {
   "cell_type": "code",
   "execution_count": 6032,
   "metadata": {},
   "outputs": [
    {
     "name": "stderr",
     "output_type": "stream",
     "text": [
      "100%| ██████████ |14/14|00:00| , | Max_f1=0.53441 | last_f1=0.49677 | best={'learning_rate': 0.1, 'max_depth': 2, 'n_estimators': 400} |                                         current={'learning_rate': 0.1, 'max_depth': 3, 'n_estimators': 550}\n"
     ]
    },
    {
     "data": {
      "text/plain": [
       "(0.5344129554655872,\n",
       " {'learning_rate': 0.1, 'max_depth': 2, 'n_estimators': 400})"
      ]
     },
     "execution_count": 6032,
     "metadata": {},
     "output_type": "execute_result"
    }
   ],
   "source": [
    "gred_params = {\n",
    "    \"learning_rate\": [0.1],\n",
    "    \"max_depth\": [ 2, 3],\n",
    "    \"n_estimators\": range(250, 551, 50)\n",
    "}\n",
    "\n",
    "MODEL = lgbm.LGBMClassifier\n",
    "\n",
    "def gred_model(modelClassifier, gred_params, X_train, y_train, X_test, y_test):\n",
    "    max_f1 = result = 0\n",
    "    max_params = params = {}\n",
    "    iter_len = reduce(lambda x, y: x*y, [len(p) for p in gred_params.values()])\n",
    "    with tqdm(product(*gred_params.values()), \n",
    "              total=iter_len,  \n",
    "              bar_format='{l_bar} {bar} |{n_fmt}/{total_fmt}|{remaining}| {postfix}') as gred_dicts:\n",
    "        for i in gred_dicts:\n",
    "            params = dict(zip(gred_params.keys(), i))\n",
    "            model = modelClassifier(**params, random_state=21, silent=True)\n",
    "            model.fit(X_train, y_train)\n",
    "            y_test_pred = model.predict(X_test)\n",
    "            result = f1_score(y_test, y_test_pred)\n",
    "            if result > max_f1:\n",
    "                max_f1 = result\n",
    "                max_params = params\n",
    "            gred_dicts.set_postfix_str(s=f'| Max_f1={round(max_f1, 5)} | last_f1={round(result, 5)} | best={max_params} | \\\n",
    "                                        current={params}', refresh=True)\n",
    "    return max_f1, max_params\n",
    "\n",
    "gred_model(MODEL, gred_params, X_train[FEATURE_NAMES_SELECTED], y_train, X_test[FEATURE_NAMES_SELECTED], y_test)"
   ]
  },
  {
   "cell_type": "code",
   "execution_count": 5864,
   "metadata": {
    "scrolled": false
   },
   "outputs": [
    {
     "name": "stdout",
     "output_type": "stream",
     "text": [
      "TRAIN\n",
      "              precision    recall  f1-score   support\n",
      "\n",
      "           0       0.73      0.85      0.79      3746\n",
      "           1       0.76      0.61      0.67      2952\n",
      "\n",
      "    accuracy                           0.74      6698\n",
      "   macro avg       0.75      0.73      0.73      6698\n",
      "weighted avg       0.74      0.74      0.74      6698\n",
      "\n",
      "TEST\n",
      "              precision    recall  f1-score   support\n",
      "\n",
      "           0       0.81      0.82      0.82      1605\n",
      "           1       0.54      0.52      0.53       633\n",
      "\n",
      "    accuracy                           0.74      2238\n",
      "   macro avg       0.67      0.67      0.67      2238\n",
      "weighted avg       0.73      0.74      0.74      2238\n",
      "\n",
      "CONFUSION MATRIX\n",
      "\n",
      "col_0              0    1\n",
      "Credit Default           \n",
      "0               1322  283\n",
      "1                306  327\n",
      "0.5261464199517296\n"
     ]
    }
   ],
   "source": [
    "params = {\n",
    " 'n_estimators': 250,\n",
    " 'max_depth': 2,\n",
    " 'learning_rate': 0.1,\n",
    " }\n",
    "\n",
    "model = MODEL(**params, silent=True, random_state=21)\n",
    "model.fit(X_train[FEATURE_NAMES_SELECTED], y_train)\n",
    "\n",
    "y_train_pred = model.predict(X_train[FEATURE_NAMES_SELECTED])\n",
    "y_test_pred = model.predict(X_test[FEATURE_NAMES_SELECTED])\n",
    "\n",
    "get_classification_report(y_train, y_train_pred, y_test, y_test_pred)\n",
    "print(f1_score(y_test, y_test_pred))"
   ]
  },
  {
   "cell_type": "code",
   "execution_count": 5173,
   "metadata": {
    "scrolled": false
   },
   "outputs": [
    {
     "name": "stdout",
     "output_type": "stream",
     "text": [
      "Fitting 3 folds for each of 5000 candidates, totalling 15000 fits\n"
     ]
    },
    {
     "name": "stderr",
     "output_type": "stream",
     "text": [
      "[Parallel(n_jobs=4)]: Using backend LokyBackend with 4 concurrent workers.\n",
      "[Parallel(n_jobs=4)]: Done  42 tasks      | elapsed:    8.1s\n",
      "[Parallel(n_jobs=4)]: Done 192 tasks      | elapsed:   48.1s\n",
      "[Parallel(n_jobs=4)]: Done 442 tasks      | elapsed:  2.2min\n",
      "[Parallel(n_jobs=4)]: Done 792 tasks      | elapsed:  4.1min\n",
      "[Parallel(n_jobs=4)]: Done 1242 tasks      | elapsed:  6.7min\n",
      "[Parallel(n_jobs=4)]: Done 1792 tasks      | elapsed:  9.8min\n",
      "[Parallel(n_jobs=4)]: Done 2442 tasks      | elapsed: 13.2min\n",
      "[Parallel(n_jobs=4)]: Done 3192 tasks      | elapsed: 15.8min\n",
      "[Parallel(n_jobs=4)]: Done 4042 tasks      | elapsed: 19.0min\n",
      "[Parallel(n_jobs=4)]: Done 4992 tasks      | elapsed: 22.5min\n",
      "[Parallel(n_jobs=4)]: Done 6042 tasks      | elapsed: 26.4min\n",
      "[Parallel(n_jobs=4)]: Done 7192 tasks      | elapsed: 30.6min\n",
      "[Parallel(n_jobs=4)]: Done 8442 tasks      | elapsed: 35.1min\n",
      "[Parallel(n_jobs=4)]: Done 9792 tasks      | elapsed: 40.0min\n",
      "[Parallel(n_jobs=4)]: Done 11242 tasks      | elapsed: 45.4min\n",
      "[Parallel(n_jobs=4)]: Done 12792 tasks      | elapsed: 51.0min\n",
      "[Parallel(n_jobs=4)]: Done 14442 tasks      | elapsed: 56.9min\n",
      "[Parallel(n_jobs=4)]: Done 15000 out of 15000 | elapsed: 58.9min finished\n"
     ]
    },
    {
     "data": {
      "text/plain": [
       "RandomizedSearchCV(cv=StratifiedKFold(n_splits=3, random_state=21, shuffle=True),\n",
       "                   error_score='raise-deprecating',\n",
       "                   estimator=LGBMClassifier(boosting_type='gbdt',\n",
       "                                            class_weight=None,\n",
       "                                            colsample_bytree=1.0,\n",
       "                                            importance_type='split',\n",
       "                                            learning_rate=0.1, max_depth=2,\n",
       "                                            min_child_samples=20,\n",
       "                                            min_child_weight=0.001,\n",
       "                                            min_split_gain=0.0,\n",
       "                                            n_estimators=1600, n_jobs=-1,\n",
       "                                            num_leave...\n",
       "       0.6 , 0.65, 0.7 , 0.75, 0.8 , 0.85, 0.9 , 0.95]),\n",
       "                                        'reg_lambda': array([0.05, 0.1 , 0.15, 0.2 , 0.25, 0.3 , 0.35, 0.4 , 0.45, 0.5 , 0.55,\n",
       "       0.6 , 0.65, 0.7 , 0.75, 0.8 , 0.85, 0.9 , 0.95]),\n",
       "                                        'subsample': array([0.05, 0.1 , 0.15, 0.2 , 0.25, 0.3 , 0.35, 0.4 , 0.45, 0.5 , 0.55,\n",
       "       0.6 , 0.65, 0.7 , 0.75, 0.8 , 0.85, 0.9 , 0.95])},\n",
       "                   pre_dispatch='2*n_jobs', random_state=21, refit=True,\n",
       "                   return_train_score=False, scoring='neg_log_loss',\n",
       "                   verbose=True)"
      ]
     },
     "execution_count": 5173,
     "metadata": {},
     "output_type": "execute_result"
    }
   ],
   "source": [
    "param_distributions = {\n",
    "    'n_estimators': range(100, 2101, 50),\n",
    "    'max_depth': range(1, 9),\n",
    "    'learning_rate': [0.1],\n",
    "    \n",
    "    'subsample': np.linspace(0.05, 0.95, 19),\n",
    "    'colsample_bytree': np.linspace(0.6, 0.95, 19),\n",
    "    \n",
    "    'reg_alpha': np.linspace(0.05, 0.95, 19),\n",
    "    'reg_lambda': np.linspace(0.05, 0.95, 19)\n",
    "}\n",
    "\n",
    "n = 5000\n",
    "\n",
    "rs = RandomizedSearchCV(model, param_distributions=param_distributions, \n",
    "                        scoring='neg_log_loss', n_iter=n, cv=skf, n_jobs=4, verbose=True, random_state=21)\n",
    "# rs.fit(X_train[FEATURE_NAMES_SELECTED], y_train)"
   ]
  },
  {
   "cell_type": "code",
   "execution_count": 5174,
   "metadata": {},
   "outputs": [
    {
     "data": {
      "text/plain": [
       "-0.5208421283427522"
      ]
     },
     "execution_count": 5174,
     "metadata": {},
     "output_type": "execute_result"
    }
   ],
   "source": [
    "rs.best_score_"
   ]
  },
  {
   "cell_type": "code",
   "execution_count": 5222,
   "metadata": {},
   "outputs": [],
   "source": [
    "MODEL_PROBA = rs.best_estimator_"
   ]
  },
  {
   "cell_type": "code",
   "execution_count": 5179,
   "metadata": {},
   "outputs": [],
   "source": [
    "best_params = {'subsample': 0.95,\n",
    " 'reg_lambda': 0.55,\n",
    " 'reg_alpha': 0.05,\n",
    " 'n_estimators': 600,\n",
    " 'max_depth': 1,\n",
    " 'learning_rate': 0.1,\n",
    " 'colsample_bytree': 0.814}"
   ]
  },
  {
   "cell_type": "code",
   "execution_count": 1036,
   "metadata": {},
   "outputs": [],
   "source": [
    "def test_best_proba(y, y_proba, step):\n",
    "    f1_best = p_best = p = 0\n",
    "    while p < 1 + step/2:\n",
    "        f1 = f1_score(np.array(y_proba >= p).astype('int'), y)\n",
    "        if  f1 >= f1_best:\n",
    "            f1_best, p_best = f1, p\n",
    "        p += step\n",
    "    return p_best, f1_best            "
   ]
  },
  {
   "cell_type": "code",
   "execution_count": 3051,
   "metadata": {},
   "outputs": [
    {
     "name": "stdout",
     "output_type": "stream",
     "text": [
      "0.3900000000000003 0.7249962736622447\n"
     ]
    },
    {
     "name": "stderr",
     "output_type": "stream",
     "text": [
      "/home/kach/projects/gb-ds/ds_env/lib/python3.7/site-packages/sklearn/metrics/classification.py:1439: UndefinedMetricWarning: F-score is ill-defined and being set to 0.0 due to no true samples.\n",
      "  'recall', 'true', average, warn_for)\n"
     ]
    }
   ],
   "source": [
    "y_train_proba = model.predict_proba(X_train[FEATURE_NAMES_SELECTED])[:, 1]\n",
    "p, f1 = test_best_proba(y_train, y_train_proba, 0.001)\n",
    "print(p, f1)"
   ]
  },
  {
   "cell_type": "code",
   "execution_count": 3052,
   "metadata": {},
   "outputs": [
    {
     "name": "stdout",
     "output_type": "stream",
     "text": [
      "TRAIN\n",
      "              precision    recall  f1-score   support\n",
      "\n",
      "           0       0.82      0.65      0.72      3746\n",
      "           1       0.65      0.82      0.72      2952\n",
      "\n",
      "    accuracy                           0.72      6698\n",
      "   macro avg       0.74      0.74      0.72      6698\n",
      "weighted avg       0.75      0.72      0.72      6698\n",
      "\n",
      "TEST\n",
      "              precision    recall  f1-score   support\n",
      "\n",
      "           0       0.86      0.62      0.72      1605\n",
      "           1       0.44      0.75      0.55       633\n",
      "\n",
      "    accuracy                           0.66      2238\n",
      "   macro avg       0.65      0.68      0.64      2238\n",
      "weighted avg       0.74      0.66      0.67      2238\n",
      "\n",
      "CONFUSION MATRIX\n",
      "\n",
      "col_0             0    1\n",
      "Credit Default          \n",
      "0               995  610\n",
      "1               161  472\n"
     ]
    }
   ],
   "source": [
    "y_train_proba = model.predict_proba(X_train[FEATURE_NAMES_SELECTED])[:, 1]\n",
    "y_test_proba =  model.predict_proba(X_test[FEATURE_NAMES_SELECTED])[:, 1]\n",
    "\n",
    "eps = 0\n",
    "y_train_proba_bool = np.array(y_train_proba >= p-eps).astype('int')\n",
    "y_test_proba_bool  = np.array(y_test_proba  >= p-eps).astype('int')\n",
    "\n",
    "get_classification_report(y_train, y_train_proba_bool, y_test, y_test_proba_bool)"
   ]
  },
  {
   "cell_type": "code",
   "execution_count": 3053,
   "metadata": {},
   "outputs": [],
   "source": [
    "y_test_final_proba = model.predict_proba(df_final_test_scaled[FEATURE_NAMES_SELECTED])[:, 1]"
   ]
  },
  {
   "cell_type": "code",
   "execution_count": 3054,
   "metadata": {},
   "outputs": [],
   "source": [
    "y_pred = np.array(y_test_final_proba >= p-eps).astype('int')"
   ]
  },
  {
   "cell_type": "code",
   "execution_count": 3056,
   "metadata": {},
   "outputs": [
    {
     "data": {
      "text/plain": [
       "LGBMClassifier(boosting_type='gbdt', class_weight=None, colsample_bytree=1.0,\n",
       "               importance_type='split', learning_rate=0.1, max_depth=2,\n",
       "               min_child_samples=20, min_child_weight=0.001, min_split_gain=0.0,\n",
       "               n_estimators=250, n_jobs=-1, num_leaves=31, objective=None,\n",
       "               random_state=21, reg_alpha=0.0, reg_lambda=0.0, silent=True,\n",
       "               subsample=1.0, subsample_for_bin=200000, subsample_freq=0)"
      ]
     },
     "execution_count": 3056,
     "metadata": {},
     "output_type": "execute_result"
    }
   ],
   "source": [
    "model.fit(X[FEATURE_NAMES_SELECTED], y)"
   ]
  },
  {
   "cell_type": "code",
   "execution_count": 3060,
   "metadata": {},
   "outputs": [],
   "source": [
    "y_pred = model.predict(df_final_test_scaled[FEATURE_NAMES_SELECTED])"
   ]
  },
  {
   "cell_type": "code",
   "execution_count": 3061,
   "metadata": {},
   "outputs": [
    {
     "data": {
      "text/plain": [
       "(1507, 2109, 2327)"
      ]
     },
     "execution_count": 3061,
     "metadata": {},
     "output_type": "execute_result"
    }
   ],
   "source": [
    "sum(y_pred), sum(y), sum(y_train_pred)"
   ]
  },
  {
   "cell_type": "code",
   "execution_count": 1110,
   "metadata": {},
   "outputs": [
    {
     "data": {
      "text/plain": [
       "2500"
      ]
     },
     "execution_count": 1110,
     "metadata": {},
     "output_type": "execute_result"
    }
   ],
   "source": [
    "len(y_pred)"
   ]
  },
  {
   "cell_type": "code",
   "execution_count": 1104,
   "metadata": {},
   "outputs": [],
   "source": [
    "df_test[TARGET_NAME] = y_pred"
   ]
  },
  {
   "cell_type": "code",
   "execution_count": 1105,
   "metadata": {},
   "outputs": [],
   "source": [
    "df_test[['Id', TARGET_NAME]].astype('int').to_csv(PRED_OUTPUT_FILE, index=None)"
   ]
  }
 ],
 "metadata": {
  "kernelspec": {
   "display_name": "Python 3",
   "language": "python",
   "name": "python3"
  },
  "language_info": {
   "codemirror_mode": {
    "name": "ipython",
    "version": 3
   },
   "file_extension": ".py",
   "mimetype": "text/x-python",
   "name": "python",
   "nbconvert_exporter": "python",
   "pygments_lexer": "ipython3",
   "version": "3.7.4"
  }
 },
 "nbformat": 4,
 "nbformat_minor": 2
}
