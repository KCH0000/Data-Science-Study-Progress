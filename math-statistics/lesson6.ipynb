{
 "cells": [
  {
   "cell_type": "code",
   "execution_count": 1,
   "metadata": {},
   "outputs": [],
   "source": [
    "import numpy as np\n",
    "import pandas as pd\n",
    "from scipy.stats import norm, t\n",
    "from mylib import mean, std_unbiased\n",
    "from math import sqrt"
   ]
  },
  {
   "cell_type": "markdown",
   "metadata": {},
   "source": [
    "<h2>Задание 1 </h2> <br>\n",
    "<i>\n",
    "Даны значения величины заработной платы заемщиков банка (zp) и значения их поведенческого кредитного скоринга (ks):<br>\n",
    "zp = [35, 45, 190, 200, 40, 70, 54, 150, 120, 110],<br>\n",
    "ks = [401, 574, 874, 919, 459, 739, 653, 902, 746, 832].<br>\n",
    "Найдите ковариацию этих двух величин с помощью элементарных действий, а затем с помощью функции cov из numpy\n",
    "Полученные значения должны быть равны.<br>\n",
    "Найдите коэффициент корреляции Пирсона с помощью ковариации и среднеквадратичных отклонений двух признаков,\n",
    "а затем с использованием функций из библиотек numpy и pandas.\n",
    "</i>"
   ]
  },
  {
   "cell_type": "markdown",
   "metadata": {},
   "source": [
    "<b>Решение:</b>"
   ]
  },
  {
   "cell_type": "code",
   "execution_count": 2,
   "metadata": {},
   "outputs": [
    {
     "name": "stdout",
     "output_type": "stream",
     "text": [
      "Коварицая расчетная: 9157.84. Ковариация numpy: 9157.84\n"
     ]
    }
   ],
   "source": [
    "zp = np.array([35, 45, 190, 200, 40, 70, 54, 150, 120, 110])\n",
    "ks = np.array([401, 574, 874, 919, 459, 739, 653, 902, 746, 832])\n",
    "cov_ = (zp * ks).mean() - zp.mean() * ks.mean()\n",
    "cov_np = np.cov((zp, ks), ddof=0) #убираем смещение\n",
    "print(f'Коварицая расчетная: {round(cov_, 2)}. Ковариация numpy: {cov_np[0,1]}')"
   ]
  },
  {
   "cell_type": "code",
   "execution_count": 3,
   "metadata": {},
   "outputs": [
    {
     "name": "stdout",
     "output_type": "stream",
     "text": [
      "Корреляция расчетная: 0.8875. Корреляция numpy: 0.8875\n"
     ]
    }
   ],
   "source": [
    "r = cov_ / (zp.std() * ks.std())\n",
    "r_np = np.corrcoef(zp, ks)\n",
    "print(f'Корреляция расчетная: {round(r, 4)}. Корреляция numpy: {round(r_np[0,1], 4)}')"
   ]
  },
  {
   "cell_type": "markdown",
   "metadata": {},
   "source": [
    "<h2>Задание 2 </h2> <br>\n",
    "<i>\n",
    "Измерены значения IQ выборки студентов, \n",
    "обучающихся в местных технических вузах:<br>\n",
    "131, 125, 115, 122, 131, 115, 107, 99, 125, 111.<br>\n",
    "Известно, что в генеральной совокупности IQ распределен нормально.<br>\n",
    "Найдите доверительный интервал для математического ожидания с надежностью 0.95.\n",
    "</i>"
   ]
  },
  {
   "cell_type": "markdown",
   "metadata": {},
   "source": [
    "<b>Решение:</b> Т.к. диспесия генеральной совокупности неизвестна, то будем применять распределение Стьюдента"
   ]
  },
  {
   "cell_type": "code",
   "execution_count": 4,
   "metadata": {},
   "outputs": [
    {
     "name": "stdout",
     "output_type": "stream",
     "text": [
      "Доверительный интервал: [110.5561, 125.6439]\n"
     ]
    }
   ],
   "source": [
    "x = [131, 125, 115, 122, 131, 115, 107, 99, 125, 111]\n",
    "M, sigma, lambda_, n = mean(x), std_unbiased(x), 0.95, len(x)\n",
    "t_lambda_ = t.ppf((1 + lambda_) / 2, n - 1)\n",
    "delta = t_lambda_ * sigma / sqrt(n)\n",
    "print(f'Доверительный интервал: [{round(M - delta, 4)}, {round(M + delta, 4)}]')"
   ]
  },
  {
   "cell_type": "markdown",
   "metadata": {},
   "source": [
    "<h2>Задание 3 </h2> <br>\n",
    "<i>\n",
    "Известно, что рост футболистов в сборной распределен нормально\n",
    "с дисперсией генеральной совокупности, равной 25 кв.см. Объем выборки равен 27,\n",
    "среднее выборочное составляет 174.2. <br>\n",
    "Найдите доверительный интервал для математического \n",
    "ожидания с надежностью 0.95.\n",
    "</i>"
   ]
  },
  {
   "cell_type": "markdown",
   "metadata": {},
   "source": [
    "<b>Решение:</b> Известна диспесия генеральной совокупности - используем таблицу Лапласа"
   ]
  },
  {
   "cell_type": "code",
   "execution_count": 5,
   "metadata": {},
   "outputs": [
    {
     "name": "stdout",
     "output_type": "stream",
     "text": [
      "Доверительный интервал: [172.314, 176.086]\n"
     ]
    }
   ],
   "source": [
    "M, sigma, lambda_, n = 174.2, sqrt(25), 0.95, 27\n",
    "t_lambda_ = norm.ppf(lambda_/2 + 0.5)\n",
    "delta = t_lambda_ * sigma / sqrt(n)\n",
    "print(f'Доверительный интервал: [{round(M-delta, 4)}, {round(M+delta, 4)}]')"
   ]
  },
  {
   "cell_type": "markdown",
   "metadata": {},
   "source": [
    "<h2>Задание 4 </h2> <br>\n",
    "<i>\n",
    "Выберите тему для проектной работы по курсу Теории вероятностей и математической статистики\n",
    "и напишите ее в комментарии к Практическому заданию.\n",
    "</i>"
   ]
  },
  {
   "cell_type": "markdown",
   "metadata": {},
   "source": [
    "Пока не придумал, что конкретно исследовать, возьму imdb и попробую найти интересные зависимости. "
   ]
  }
 ],
 "metadata": {
  "kernelspec": {
   "display_name": "Python 3",
   "language": "python",
   "name": "python3"
  },
  "language_info": {
   "codemirror_mode": {
    "name": "ipython",
    "version": 3
   },
   "file_extension": ".py",
   "mimetype": "text/x-python",
   "name": "python",
   "nbconvert_exporter": "python",
   "pygments_lexer": "ipython3",
   "version": "3.6.7"
  }
 },
 "nbformat": 4,
 "nbformat_minor": 2
}
