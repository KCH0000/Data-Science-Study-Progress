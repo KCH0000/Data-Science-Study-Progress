{
 "cells": [
  {
   "cell_type": "code",
   "execution_count": 1,
   "metadata": {},
   "outputs": [],
   "source": [
    "import numpy as np"
   ]
  },
  {
   "cell_type": "markdown",
   "metadata": {},
   "source": [
    "<h2>Задание 1 </h2> <br>\n",
    "<i>\n",
    "Провести дисперсионный анализ для определения того, есть ли различия среднего роста среди взрослых футболистов, хоккеистов и штангистов. Даны значения роста в трех группах случайно выбранных спортсменов: <br>Футболисты: 173, 175, 180, 178, 177, 185, 183, 182. <br>Хоккеисты: 177, 179, 180, 188, 177, 172, 171, 184, 180. <br>Штангисты: 172, 173, 169, 177, 166, 180, 178, 177, 172, 166, 170.\n",
    "</i>"
   ]
  },
  {
   "cell_type": "code",
   "execution_count": 5,
   "metadata": {},
   "outputs": [],
   "source": [
    "h_f = np.array([173, 175, 180, 178, 177, 185, 183, 182])\n",
    "h_h = np.array([177, 179, 180, 188, 177, 172, 171, 184, 180])\n",
    "h_w = np.array([172, 173, 169, 177, 166, 180, 178, 177, 172, 166, 170])\n",
    "H = np.concatenate([h_f, h_h, h_w])"
   ]
  },
  {
   "cell_type": "code",
   "execution_count": 7,
   "metadata": {},
   "outputs": [],
   "source": [
    "h_f_len, h_h_len, h_w_len, H_len = len(h_f), len(h_h), len(h_w), len(H)"
   ]
  },
  {
   "cell_type": "code",
   "execution_count": 10,
   "metadata": {},
   "outputs": [],
   "source": [
    "h_f_mean, h_h_mean, h_w_mean, H_mean = h_f.mean(), h_h.mean(), h_w.mean(), H.mean()"
   ]
  },
  {
   "cell_type": "markdown",
   "metadata": {},
   "source": [
    "Проверка данных"
   ]
  },
  {
   "cell_type": "code",
   "execution_count": 18,
   "metadata": {},
   "outputs": [
    {
     "name": "stdout",
     "output_type": "stream",
     "text": [
      "Средний рост футболистов 179.125, количество 8\n",
      "Средний рост хоккеистов 178.66666666666666, количество 9\n",
      "Средний рост штагистов 172.72727272727272, количество 11\n",
      "Средний рост всех 176.46428571428572, количество 28\n"
     ]
    }
   ],
   "source": [
    "print('Средний рост футболистов {}, количество {}'.format(h_f_mean, h_f_len))\n",
    "print('Средний рост хоккеистов {}, количество {}'.format(h_h_mean, h_h_len))\n",
    "print('Средний рост штагистов {}, количество {}'.format(h_w_mean, h_w_len))\n",
    "print('Средний рост всех {}, количество {}'.format(H_mean, H_len))"
   ]
  },
  {
   "cell_type": "code",
   "execution_count": 33,
   "metadata": {},
   "outputs": [
    {
     "data": {
      "text/plain": [
       "(830.964285714286, 830.9642857142854)"
      ]
     },
     "execution_count": 33,
     "metadata": {},
     "output_type": "execute_result"
    }
   ],
   "source": [
    "H_s2 = np.sum((H - H_mean)**2)\n",
    "s2_f = (h_f_mean - H_mean)**2 * h_f_len + \\\n",
    "       (h_h_mean - H_mean)**2 * h_h_len + \\\n",
    "       (h_w_mean - H_mean)**2 * h_w_len\n",
    "s2_ost = np.sum((h_f - h_f_mean)**2) + \\\n",
    "         np.sum((h_h - h_h_mean)**2) + \\\n",
    "         np.sum((h_w - h_w_mean)**2)\n",
    "\n",
    "s2_f + s2_ost, H_s2"
   ]
  },
  {
   "cell_type": "code",
   "execution_count": 34,
   "metadata": {},
   "outputs": [],
   "source": [
    "s2_general = H_s2 / (H_len - 1)\n",
    "s2_factor  = s2_f / (3 - 1)\n",
    "s2_residual = s2_ost / (H_len - 3)"
   ]
  },
  {
   "cell_type": "code",
   "execution_count": 38,
   "metadata": {},
   "outputs": [
    {
     "data": {
      "text/plain": [
       "5.500053450812598"
      ]
     },
     "execution_count": 38,
     "metadata": {},
     "output_type": "execute_result"
    }
   ],
   "source": [
    "Factor_H = s2_factor / s2_residual\n",
    "Factor_H"
   ]
  },
  {
   "cell_type": "markdown",
   "metadata": {},
   "source": [
    "Данные для распределения Фишера-Снедекора"
   ]
  },
  {
   "cell_type": "code",
   "execution_count": 40,
   "metadata": {},
   "outputs": [
    {
     "data": {
      "text/plain": [
       "(2, 25)"
      ]
     },
     "execution_count": 40,
     "metadata": {},
     "output_type": "execute_result"
    }
   ],
   "source": [
    "alpha = 0.05\n",
    "v1 = 3 - 1\n",
    "v2 = H_len - 3\n",
    "v1, v2 "
   ]
  },
  {
   "cell_type": "code",
   "execution_count": 41,
   "metadata": {},
   "outputs": [],
   "source": [
    "Factor_kr = 3.38"
   ]
  },
  {
   "cell_type": "code",
   "execution_count": 42,
   "metadata": {},
   "outputs": [
    {
     "name": "stdout",
     "output_type": "stream",
     "text": [
      "Различиe существено\n"
     ]
    }
   ],
   "source": [
    "print('Различиe существено' if Factor_H > Factor_kr else 'Различие НЕ существено')"
   ]
  }
 ],
 "metadata": {
  "kernelspec": {
   "display_name": "Python 3",
   "language": "python",
   "name": "python3"
  },
  "language_info": {
   "codemirror_mode": {
    "name": "ipython",
    "version": 3
   },
   "file_extension": ".py",
   "mimetype": "text/x-python",
   "name": "python",
   "nbconvert_exporter": "python",
   "pygments_lexer": "ipython3",
   "version": "3.6.7"
  }
 },
 "nbformat": 4,
 "nbformat_minor": 2
}
