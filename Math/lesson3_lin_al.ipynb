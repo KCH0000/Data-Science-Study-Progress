{
 "cells": [
  {
   "cell_type": "code",
   "execution_count": 1,
   "metadata": {},
   "outputs": [],
   "source": [
    "import numpy as np"
   ]
  },
  {
   "cell_type": "markdown",
   "metadata": {},
   "source": [
    "__1.__ Найти собственные векторы и собственные значения для линейного оператора, заданного матрицей\n",
    "\n",
    "$$A=\\begin{pmatrix}\n",
    "-1 & -6\\\\ \n",
    "2 & 6\n",
    "\\end{pmatrix}.$$"
   ]
  },
  {
   "cell_type": "code",
   "execution_count": 52,
   "metadata": {},
   "outputs": [
    {
     "name": "stdout",
     "output_type": "stream",
     "text": [
      "Собсвенные числа для А \n",
      "[2. 3.]\n",
      "Собсвенные вектора для А \n",
      "[[-0.89442719  0.83205029]\n",
      " [ 0.4472136  -0.5547002 ]]\n"
     ]
    }
   ],
   "source": [
    "A = np.array([\n",
    "    [-1, -6],\n",
    "    [ 2,  6]\n",
    "])\n",
    "w, v = np.linalg.eig(A)\n",
    "print(f'Собсвенные числа для А \\n{w}')\n",
    "print(f'Собсвенные вектора для А \\n{v}')"
   ]
  },
  {
   "cell_type": "markdown",
   "metadata": {},
   "source": [
    "Проверим вектора из решения на листочке\n",
    "для <br>\n",
    "$\\lambda_{1} = 2$ $x_{1} = (-2, 1)$ <br>\n",
    "$\\lambda_{2} = 3$ $x_{2} = (-3, 2)$ <br>"
   ]
  },
  {
   "cell_type": "code",
   "execution_count": 53,
   "metadata": {},
   "outputs": [],
   "source": [
    "l1 = 2\n",
    "x1 = np.array([-2, 1])\n",
    "l2 = 3\n",
    "x2 = np.array([-3, 2])"
   ]
  },
  {
   "cell_type": "code",
   "execution_count": 55,
   "metadata": {
    "scrolled": true
   },
   "outputs": [
    {
     "data": {
      "text/plain": [
       "True"
      ]
     },
     "execution_count": 55,
     "metadata": {},
     "output_type": "execute_result"
    }
   ],
   "source": [
    "list(A.dot(x1)) == list(l1 * x1)"
   ]
  },
  {
   "cell_type": "code",
   "execution_count": 56,
   "metadata": {
    "scrolled": true
   },
   "outputs": [
    {
     "data": {
      "text/plain": [
       "True"
      ]
     },
     "execution_count": 56,
     "metadata": {},
     "output_type": "execute_result"
    }
   ],
   "source": [
    "list(A.dot(x2)) == list(l2 * x2)"
   ]
  },
  {
   "cell_type": "markdown",
   "metadata": {},
   "source": [
    "__2.__ Дан оператор поворота на 180 градусов, задаваемый матрицей \n",
    "\n",
    "$$A=\\begin{pmatrix}\n",
    "-1 & 0\\\\ \n",
    "0 & -1\n",
    "\\end{pmatrix}.$$\n",
    "\n",
    "Показать, что __любой__ вектор является для него собственным."
   ]
  },
  {
   "cell_type": "code",
   "execution_count": 57,
   "metadata": {},
   "outputs": [
    {
     "name": "stdout",
     "output_type": "stream",
     "text": [
      "Собсвенные числа для А \n",
      "[-1. -1.]\n",
      "Собсвенные вектора для А \n",
      "[[1. 0.]\n",
      " [0. 1.]]\n"
     ]
    }
   ],
   "source": [
    "A = np.array([\n",
    "    [-1, 0],\n",
    "    [ 0, -1]\n",
    "])\n",
    "w, v = np.linalg.eig(A)\n",
    "print(f'Собсвенные числа для А \\n{w}')\n",
    "print(f'Собсвенные вектора для А \\n{v}')"
   ]
  },
  {
   "cell_type": "markdown",
   "metadata": {},
   "source": [
    "Доказательство на листочке"
   ]
  },
  {
   "cell_type": "markdown",
   "metadata": {},
   "source": [
    "__3.__ Пусть линейный оператор задан матрицей\n",
    "\n",
    "$$A=\\begin{pmatrix}\n",
    "1 & 1\\\\ \n",
    "-1 & 3\n",
    "\\end{pmatrix}.$$\n",
    "\n",
    "Установить, является ли вектор $x=(1,1)$ собственным вектором этого линейного оператора."
   ]
  },
  {
   "cell_type": "code",
   "execution_count": 58,
   "metadata": {},
   "outputs": [
    {
     "name": "stdout",
     "output_type": "stream",
     "text": [
      "Собсвенные числа для А \n",
      "[2.00000002 1.99999998]\n"
     ]
    }
   ],
   "source": [
    "A = np.array([\n",
    "    [ 1, 1],\n",
    "    [-1, 3]\n",
    "])\n",
    "x = np.array([1, 1])\n",
    "w, v = np.linalg.eig(A)\n",
    "print(f'Собсвенные числа для А \\n{w}')"
   ]
  },
  {
   "cell_type": "code",
   "execution_count": 60,
   "metadata": {},
   "outputs": [
    {
     "data": {
      "text/plain": [
       "True"
      ]
     },
     "execution_count": 60,
     "metadata": {},
     "output_type": "execute_result"
    }
   ],
   "source": [
    "l = 2\n",
    "list(A.dot(x)) == list(2 * x)"
   ]
  },
  {
   "cell_type": "markdown",
   "metadata": {},
   "source": [
    "__4.__ Пусть линейный оператор задан матрицей\n",
    "\n",
    "$$A=\\begin{pmatrix}\n",
    "0 & 3 & 0\\\\ \n",
    "3 & 0 & 0\\\\\n",
    "0 & 0 & 3\n",
    "\\end{pmatrix}.$$\n",
    "\n",
    "Установить, является ли вектор $x=(3, -3, -4)$ собственным вектором этого линейного оператора.ь"
   ]
  },
  {
   "cell_type": "code",
   "execution_count": 61,
   "metadata": {},
   "outputs": [
    {
     "name": "stdout",
     "output_type": "stream",
     "text": [
      "Собсвенные числа для А \n",
      "[ 3. -3.  3.]\n"
     ]
    }
   ],
   "source": [
    "A = np.array([\n",
    "    [0, 3, 0],\n",
    "    [3, 0, 0],\n",
    "    [0, 0, 3],\n",
    "])\n",
    "x = np.array([3, -3, -4])\n",
    "w, v = np.linalg.eig(A)\n",
    "print(f'Собсвенные числа для А \\n{w}')"
   ]
  },
  {
   "cell_type": "code",
   "execution_count": 66,
   "metadata": {},
   "outputs": [
    {
     "name": "stdout",
     "output_type": "stream",
     "text": [
      "[6, -6, -8]\n",
      "[-9, 9, -12]\n",
      "False\n",
      "[-9, 9, 12]\n",
      "[-9, 9, -12]\n",
      "False\n",
      "[9, -9, -12]\n",
      "[-9, 9, -12]\n",
      "False\n"
     ]
    }
   ],
   "source": [
    "for w_ in w:\n",
    "    print(list(int(w_) * x))\n",
    "    print(list(A.dot(x)))\n",
    "    print(list(A.dot(x)) == list(w_ * x))"
   ]
  }
 ],
 "metadata": {
  "kernelspec": {
   "display_name": "Python 3",
   "language": "python",
   "name": "python3"
  },
  "language_info": {
   "codemirror_mode": {
    "name": "ipython",
    "version": 3
   },
   "file_extension": ".py",
   "mimetype": "text/x-python",
   "name": "python",
   "nbconvert_exporter": "python",
   "pygments_lexer": "ipython3",
   "version": "3.7.3"
  }
 },
 "nbformat": 4,
 "nbformat_minor": 2
}
