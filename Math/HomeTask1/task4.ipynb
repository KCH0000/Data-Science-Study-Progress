{
 "cells": [
  {
   "cell_type": "code",
   "execution_count": 1,
   "metadata": {},
   "outputs": [],
   "source": [
    "import numpy as np\n",
    "import math"
   ]
  },
  {
   "cell_type": "markdown",
   "metadata": {},
   "source": [
    "Задание 1\n",
    "Напишите код, моделирующий выпадение поля в рулетке (с учетом поля зеро)."
   ]
  },
  {
   "cell_type": "code",
   "execution_count": 2,
   "metadata": {},
   "outputs": [
    {
     "data": {
      "text/plain": [
       "'BLACK'"
      ]
     },
     "execution_count": 2,
     "metadata": {},
     "output_type": "execute_result"
    }
   ],
   "source": [
    "a = np.random.randint(0, 37)\n",
    "if a == 0:\n",
    "    b = 'ZERO'\n",
    "elif a % 2 == 0:\n",
    "    b = 'RED'\n",
    "else:\n",
    "    b = 'BLACK'\n",
    "b"
   ]
  },
  {
   "cell_type": "markdown",
   "metadata": {},
   "source": [
    "Задание 2.1 Напишите код, проверяющий любую из теорем сложения или умножения вероятности на примере подбрасывания монетки."
   ]
  },
  {
   "cell_type": "code",
   "execution_count": 3,
   "metadata": {},
   "outputs": [
    {
     "name": "stdout",
     "output_type": "stream",
     "text": [
      "P(k) =  0.326\n",
      "P(m) =  0.674\n",
      "P(k+m) =  1.0 P(k) + P(m) =  1.0\n"
     ]
    }
   ],
   "source": [
    "k, m = 0, 0\n",
    "N = 1000\n",
    "for i in range(N):\n",
    "    x = np.random.uniform(0, 100)\n",
    "    if x < 30:\n",
    "        k = k + 1\n",
    "    else:\n",
    "        m = m + 1\n",
    "print(\"P(k) = \", k / N)\n",
    "print(\"P(m) = \", m / N)\n",
    "print(\"P(k+m) = \", N / N, \"P(k) + P(m) = \", (k / N) + (m / N))"
   ]
  },
  {
   "cell_type": "markdown",
   "metadata": {},
   "source": [
    "Задание 2.2 Сгенерируйте десять выборок случайных чисел х0, …, х9.\n",
    "и постройте гистограмму распределения случайной суммы х0+х1+ …+ х9."
   ]
  },
  {
   "cell_type": "code",
   "execution_count": 4,
   "metadata": {},
   "outputs": [
    {
     "data": {
      "text/plain": [
       "(10, 10)"
      ]
     },
     "execution_count": 4,
     "metadata": {},
     "output_type": "execute_result"
    }
   ],
   "source": [
    "a = np.random.rand(10, 10)\n",
    "a.shape"
   ]
  },
  {
   "cell_type": "code",
   "execution_count": 5,
   "metadata": {},
   "outputs": [
    {
     "data": {
      "text/plain": [
       "<Figure size 640x480 with 1 Axes>"
      ]
     },
     "metadata": {},
     "output_type": "display_data"
    }
   ],
   "source": [
    "res = a.sum(axis=0)\n",
    "import matplotlib.pyplot as plt\n",
    "\n",
    "plt.hist(res, 10, density=1, alpha=0.5)\n",
    "\n",
    "plt.show()"
   ]
  },
  {
   "cell_type": "markdown",
   "metadata": {},
   "source": [
    "Задание 3 Дополните код Монте-Карло последовательности независимых испытаний расчетом соответствующих вероятностей (через биномиальное распределение) \n",
    "и сравните результаты."
   ]
  },
  {
   "cell_type": "code",
   "execution_count": 6,
   "metadata": {},
   "outputs": [],
   "source": [
    "def monte(k, n, N=10000):\n",
    "    c = 0\n",
    "    a = np.random.randint(0, 2, N * n)\n",
    "    a.shape = (N, n)\n",
    "    a_sum = np.sum(a, axis=1)\n",
    "    for i in range(N):\n",
    "        if a_sum[i] == k:\n",
    "            c = c + 1\n",
    "    return c / N"
   ]
  },
  {
   "cell_type": "code",
   "execution_count": 7,
   "metadata": {},
   "outputs": [],
   "source": [
    "def binom(k, n):\n",
    "    Ckn = math.factorial(n) / (math.factorial(k) * math.factorial(n - k))\n",
    "    return Ckn * (0.5**n) "
   ]
  },
  {
   "cell_type": "code",
   "execution_count": 8,
   "metadata": {},
   "outputs": [
    {
     "data": {
      "text/plain": [
       "array([[0.3735    , 0.375     ],\n",
       "       [0.2594    , 0.25      ],\n",
       "       [0.3147    , 0.3125    ],\n",
       "       [0.3073    , 0.3125    ],\n",
       "       [0.1579    , 0.15625   ],\n",
       "       [0.2276    , 0.234375  ],\n",
       "       [0.3122    , 0.3125    ],\n",
       "       [0.233     , 0.234375  ],\n",
       "       [0.0942    , 0.09375   ],\n",
       "       [0.1626    , 0.1640625 ],\n",
       "       [0.2742    , 0.2734375 ],\n",
       "       [0.2708    , 0.2734375 ],\n",
       "       [0.1643    , 0.1640625 ],\n",
       "       [0.0553    , 0.0546875 ],\n",
       "       [0.1065    , 0.109375  ],\n",
       "       [0.2185    , 0.21875   ],\n",
       "       [0.2714    , 0.2734375 ],\n",
       "       [0.2128    , 0.21875   ],\n",
       "       [0.1108    , 0.109375  ],\n",
       "       [0.0281    , 0.03125   ],\n",
       "       [0.0744    , 0.0703125 ],\n",
       "       [0.167     , 0.1640625 ],\n",
       "       [0.2459    , 0.24609375],\n",
       "       [0.2425    , 0.24609375],\n",
       "       [0.1675    , 0.1640625 ],\n",
       "       [0.0736    , 0.0703125 ],\n",
       "       [0.0162    , 0.01757812]])"
      ]
     },
     "execution_count": 8,
     "metadata": {},
     "output_type": "execute_result"
    }
   ],
   "source": [
    "a = []\n",
    "for n in range(4, 10):\n",
    "    for k in range(2, n):\n",
    "        a = np.append(a, [[monte(k, n), binom(k, n)]])\n",
    "a = np.array(a)\n",
    "a.shape = (int(len(a)/2), 2)\n",
    "a"
   ]
  },
  {
   "cell_type": "code",
   "execution_count": 9,
   "metadata": {},
   "outputs": [
    {
     "data": {
      "text/plain": [
       "0.9993895894502389"
      ]
     },
     "execution_count": 9,
     "metadata": {},
     "output_type": "execute_result"
    }
   ],
   "source": [
    "np.sum((a[:,0] - a[:,0].mean())*(a[:,1] - a[:,1].mean())) / math.sqrt((np.sum((a[:,0] - a[:,0].mean())**2)) * \n",
    "                                                                      (np.sum((a[:,1] - a[:,1].mean())**2)))"
   ]
  },
  {
   "cell_type": "code",
   "execution_count": 10,
   "metadata": {},
   "outputs": [
    {
     "data": {
      "text/plain": [
       "0.9993895894502386"
      ]
     },
     "execution_count": 10,
     "metadata": {},
     "output_type": "execute_result"
    }
   ],
   "source": [
    "c = np.corrcoef(a.T)\n",
    "c[1,0]"
   ]
  }
 ],
 "metadata": {
  "kernelspec": {
   "display_name": "Python 3",
   "language": "python",
   "name": "python3"
  },
  "language_info": {
   "codemirror_mode": {
    "name": "ipython",
    "version": 3
   },
   "file_extension": ".py",
   "mimetype": "text/x-python",
   "name": "python",
   "nbconvert_exporter": "python",
   "pygments_lexer": "ipython3",
   "version": "3.6.7"
  }
 },
 "nbformat": 4,
 "nbformat_minor": 2
}
