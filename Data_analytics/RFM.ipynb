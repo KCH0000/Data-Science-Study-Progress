{
 "cells": [
  {
   "cell_type": "code",
   "execution_count": 2,
   "metadata": {
    "pycharm": {
     "is_executing": false,
     "name": "#%%\n"
    }
   },
   "outputs": [],
   "source": [
    "import pandas as pd\n",
    "import numpy as np\n",
    "import matplotlib.pyplot as plt\n",
    "from datetime import datetime, timedelta\n",
    "from pylab import rcParams"
   ]
  },
  {
   "cell_type": "code",
   "execution_count": 3,
   "metadata": {
    "pycharm": {
     "is_executing": false,
     "name": "#%%\n"
    }
   },
   "outputs": [],
   "source": [
    "%matplotlib inline\n",
    "rcParams['figure.figsize'] = 16, 9"
   ]
  },
  {
   "cell_type": "code",
   "execution_count": 4,
   "metadata": {
    "pycharm": {
     "is_executing": false,
     "name": "#%%\n"
    }
   },
   "outputs": [],
   "source": [
    "user_df = pd.read_csv('user_data.csv')\n",
    "user_df['date'] = pd.to_datetime(user_df.date)"
   ]
  },
  {
   "cell_type": "code",
   "execution_count": 5,
   "metadata": {},
   "outputs": [
    {
     "data": {
      "text/plain": [
       "Index(['user', 'orders', 'cost', 'date'], dtype='object')"
      ]
     },
     "execution_count": 5,
     "metadata": {},
     "output_type": "execute_result"
    }
   ],
   "source": [
    "user_df.columns"
   ]
  },
  {
   "cell_type": "code",
   "execution_count": 6,
   "metadata": {},
   "outputs": [
    {
     "data": {
      "text/html": [
       "<div>\n",
       "<style scoped>\n",
       "    .dataframe tbody tr th:only-of-type {\n",
       "        vertical-align: middle;\n",
       "    }\n",
       "\n",
       "    .dataframe tbody tr th {\n",
       "        vertical-align: top;\n",
       "    }\n",
       "\n",
       "    .dataframe thead th {\n",
       "        text-align: right;\n",
       "    }\n",
       "</style>\n",
       "<table border=\"1\" class=\"dataframe\">\n",
       "  <thead>\n",
       "    <tr style=\"text-align: right;\">\n",
       "      <th></th>\n",
       "      <th>orders</th>\n",
       "      <th>cost</th>\n",
       "    </tr>\n",
       "  </thead>\n",
       "  <tbody>\n",
       "    <tr>\n",
       "      <th>count</th>\n",
       "      <td>1.015119e+06</td>\n",
       "      <td>1.015119e+06</td>\n",
       "    </tr>\n",
       "    <tr>\n",
       "      <th>mean</th>\n",
       "      <td>1.972975e+00</td>\n",
       "      <td>4.475029e+03</td>\n",
       "    </tr>\n",
       "    <tr>\n",
       "      <th>std</th>\n",
       "      <td>9.461065e+00</td>\n",
       "      <td>2.827953e+04</td>\n",
       "    </tr>\n",
       "    <tr>\n",
       "      <th>min</th>\n",
       "      <td>1.000000e+00</td>\n",
       "      <td>-1.848000e+02</td>\n",
       "    </tr>\n",
       "    <tr>\n",
       "      <th>25%</th>\n",
       "      <td>1.000000e+00</td>\n",
       "      <td>9.303000e+02</td>\n",
       "    </tr>\n",
       "    <tr>\n",
       "      <th>50%</th>\n",
       "      <td>1.000000e+00</td>\n",
       "      <td>1.840300e+03</td>\n",
       "    </tr>\n",
       "    <tr>\n",
       "      <th>75%</th>\n",
       "      <td>1.000000e+00</td>\n",
       "      <td>3.963050e+03</td>\n",
       "    </tr>\n",
       "    <tr>\n",
       "      <th>max</th>\n",
       "      <td>3.183000e+03</td>\n",
       "      <td>1.173418e+07</td>\n",
       "    </tr>\n",
       "  </tbody>\n",
       "</table>\n",
       "</div>"
      ],
      "text/plain": [
       "             orders          cost\n",
       "count  1.015119e+06  1.015119e+06\n",
       "mean   1.972975e+00  4.475029e+03\n",
       "std    9.461065e+00  2.827953e+04\n",
       "min    1.000000e+00 -1.848000e+02\n",
       "25%    1.000000e+00  9.303000e+02\n",
       "50%    1.000000e+00  1.840300e+03\n",
       "75%    1.000000e+00  3.963050e+03\n",
       "max    3.183000e+03  1.173418e+07"
      ]
     },
     "execution_count": 6,
     "metadata": {},
     "output_type": "execute_result"
    }
   ],
   "source": [
    "user_df[['orders', 'cost']].describe()"
   ]
  },
  {
   "cell_type": "markdown",
   "metadata": {},
   "source": [
    "<h2>Исследуем параметр F</h2>"
   ]
  },
  {
   "cell_type": "code",
   "execution_count": 7,
   "metadata": {
    "pycharm": {
     "is_executing": false,
     "name": "#%%\n"
    }
   },
   "outputs": [
    {
     "data": {
      "image/png": "[encoded data removed]",
      "text/plain": [
       "<Figure size 1152x648 with 4 Axes>"
      ]
     },
     "metadata": {
      "needs_background": "light"
     },
     "output_type": "display_data"
    }
   ],
   "source": [
    "data = user_df['orders']\n",
    "fig, axes = plt.subplots(nrows=2, ncols=2)\n",
    "axes[0, 0].hist(data, bins=np.linspace(1, 2, 2), color='red')\n",
    "axes[0, 1].hist(data, bins=np.linspace(3, 10, 7), color='red')\n",
    "axes[1, 0].hist(data, bins=np.linspace(10, 100, 10), color='red')\n",
    "axes[1, 1].hist(data, bins=np.linspace(100, data.max(), 20), color='red')\n",
    "plt.show()"
   ]
  },
  {
   "cell_type": "code",
   "execution_count": 8,
   "metadata": {
    "pycharm": {
     "is_executing": false,
     "name": "#%%\n"
    }
   },
   "outputs": [
    {
     "data": {
      "text/plain": [
       "[774497, 105007, 42759, 24046, 15569, 10625, 7775, 5828, 4565]"
      ]
     },
     "execution_count": 8,
     "metadata": {},
     "output_type": "execute_result"
    }
   ],
   "source": [
    "temp = [\n",
    "    user_df.loc[user_df['orders'] == i, 'orders'].count() for i in range(1, 10)\n",
    "]\n",
    "temp"
   ]
  },
  {
   "cell_type": "markdown",
   "metadata": {
    "pycharm": {
     "name": "#%%\n"
    }
   },
   "source": [
    "<b>Принимаем решение о градации F 1 = 1, [2, 5] = 2, [6, max) = 3<b/>"
   ]
  },
  {
   "cell_type": "code",
   "execution_count": 9,
   "metadata": {},
   "outputs": [
    {
     "name": "stdout",
     "output_type": "stream",
     "text": [
      "774497  со значением F 1\n",
      "187381  со значением F 2\n",
      "53241   со значением F 3\n"
     ]
    },
    {
     "data": {
      "text/plain": [
       "True"
      ]
     },
     "execution_count": 9,
     "metadata": {},
     "output_type": "execute_result"
    }
   ],
   "source": [
    "user_df.loc[user_df['orders'] == 1, 'F'] = 1\n",
    "user_df.loc[user_df['orders'].isin(range(2,6)), 'F'] = 2\n",
    "user_df.loc[user_df['orders']  >= 6, 'F'] = 3\n",
    "total = 0\n",
    "for i in range(1, 4):\n",
    "    F = user_df.loc[user_df['F'] == i, 'F'].count()\n",
    "    total += F \n",
    "    print('{:<7} со значением F {}'.format(F, i))\n",
    "total == len(user_df)"
   ]
  },
  {
   "cell_type": "markdown",
   "metadata": {},
   "source": [
    "<h2>Исследуем параметр R</h2>"
   ]
  },
  {
   "cell_type": "markdown",
   "metadata": {},
   "source": [
    "<b>Принимаем решение<br>\n",
    "R – 3 для клиентов, которые покупали <= 30 дней<br> \n",
    "R – 2 для клиентов, которые покупали > 30 и менее 60 дней<br>\n",
    "R - 1 для остальных клиентов"
   ]
  },
  {
   "cell_type": "code",
   "execution_count": 10,
   "metadata": {},
   "outputs": [
    {
     "data": {
      "text/plain": [
       "Timestamp('2017-12-31 00:00:00')"
      ]
     },
     "execution_count": 10,
     "metadata": {},
     "output_type": "execute_result"
    }
   ],
   "source": [
    "max_date = user_df['date'].max()\n",
    "max_date"
   ]
  },
  {
   "cell_type": "code",
   "execution_count": 11,
   "metadata": {},
   "outputs": [
    {
     "name": "stdout",
     "output_type": "stream",
     "text": [
      "788069  со значением F 1\n",
      "89210   со значением F 2\n",
      "137840  со значением F 3\n"
     ]
    },
    {
     "data": {
      "text/plain": [
       "True"
      ]
     },
     "execution_count": 11,
     "metadata": {},
     "output_type": "execute_result"
    }
   ],
   "source": [
    "user_df.loc[user_df['date'] <= max_date - timedelta(60), 'R'] = 1\n",
    "user_df.loc[(user_df['date'] < max_date - timedelta(30)) & (user_df['date'] >= max_date - timedelta(60)), 'R'] = 2\n",
    "user_df.loc[user_df['date'] >= max_date - timedelta(30), 'R'] = 3\n",
    "total = 0\n",
    "for i in range(1, 4):\n",
    "    R = user_df.loc[user_df['R'] == i, 'R'].count()\n",
    "    total += R \n",
    "    print('{:<7} со значением F {}'.format(R, i))\n",
    "total == len(user_df)"
   ]
  },
  {
   "cell_type": "markdown",
   "metadata": {},
   "source": [
    "<h2>Исследуем параметр M</h2>"
   ]
  },
  {
   "cell_type": "code",
   "execution_count": 12,
   "metadata": {},
   "outputs": [],
   "source": [
    "user_df = user_df.drop(user_df.loc[user_df['cost']<=0,].index.values)"
   ]
  },
  {
   "cell_type": "code",
   "execution_count": 12,
   "metadata": {
    "scrolled": false
   },
   "outputs": [
    {
     "data": {
      "image/png": "[encoded data removed]",
      "text/plain": [
       "<Figure size 1152x648 with 4 Axes>"
      ]
     },
     "metadata": {
      "needs_background": "light"
     },
     "output_type": "display_data"
    }
   ],
   "source": [
    "data = user_df['cost']\n",
    "fig, axes = plt.subplots(nrows=2, ncols=2)\n",
    "axes[0, 0].hist(data, bins=np.linspace(0, 5000, 500), color='green')\n",
    "axes[0, 1].hist(data, bins=np.linspace(5000, 20000, 1500), color='green')\n",
    "axes[1, 0].hist(data, bins=np.linspace(20000, 100000, 8000), color='green')\n",
    "axes[1, 1].hist(data, bins=np.linspace(100000, data.max(), 10000), color='green')\n",
    "plt.show()"
   ]
  },
  {
   "cell_type": "markdown",
   "metadata": {},
   "source": [
    "<b>Принимаем решение <br>М = 1 если покупки нe больше 4000\n",
    "    <br>M = 2 если покупики от 4000 до 10000\n",
    "        <br>M = 3 если покупики больше 10000"
   ]
  },
  {
   "cell_type": "code",
   "execution_count": 13,
   "metadata": {},
   "outputs": [
    {
     "name": "stdout",
     "output_type": "stream",
     "text": [
      "764038  со значением F 1\n",
      "158191  со значением F 2\n",
      "92886   со значением F 3\n"
     ]
    },
    {
     "data": {
      "text/plain": [
       "True"
      ]
     },
     "execution_count": 13,
     "metadata": {},
     "output_type": "execute_result"
    }
   ],
   "source": [
    "user_df.loc[user_df['cost'] <= 4000, 'M'] = 1\n",
    "user_df.loc[(user_df['cost'] > 4000) & (user_df['cost'] <= 10000), 'M'] = 2\n",
    "user_df.loc[user_df['cost'] > 10000, 'M'] = 3\n",
    "total = 0\n",
    "for i in range(1, 4):\n",
    "    M = user_df.loc[user_df['M'] == i, 'M'].count()\n",
    "    total += M \n",
    "    print('{:<7} со значением F {}'.format(M, i))\n",
    "total == len(user_df)"
   ]
  },
  {
   "cell_type": "code",
   "execution_count": 14,
   "metadata": {},
   "outputs": [
    {
     "name": "stdout",
     "output_type": "stream",
     "text": [
      "Всего VIP пользоватлей:  13597\n",
      "Оборот по VIP: 612283448. Процент от общего оборота 13.48%\n"
     ]
    },
    {
     "data": {
      "text/plain": [
       "22    234\n",
       "31    302\n",
       "39    337\n",
       "60    537\n",
       "68    721\n",
       "Name: user, dtype: int64"
      ]
     },
     "execution_count": 14,
     "metadata": {},
     "output_type": "execute_result"
    }
   ],
   "source": [
    "vip_users = user_df['user'][(user_df['F'] == 3) & (user_df['R'] == 3) & (user_df['M'] == 3)]\n",
    "vip_cost = user_df.loc[user_df['user'].isin(vip_users), 'cost'].sum()\n",
    "print('Всего VIP пользоватлей: ', vip_users.count())\n",
    "print('Оборот по VIP: {:0.0f}. Процент от общего оборота {:0.2%}'.format(vip_cost, vip_cost / user_df['cost'].sum()))\n",
    "vip_users.head()"
   ]
  },
  {
   "cell_type": "code",
   "execution_count": 15,
   "metadata": {},
   "outputs": [
    {
     "name": "stdout",
     "output_type": "stream",
     "text": [
      "|  Сегмент  |  Пользователей  |     Оборот      | Процент |\n",
      "| (1, 1, 1) |     543360      |    777553352    | 17.12%  |\n",
      "| (1, 1, 2) |      62865      |    371063272    |  8.17%  |\n",
      "| (1, 1, 3) |      17419      |    295479318    |  6.50%  |\n",
      "| (1, 2, 1) |      52043      |    79469365     |  1.75%  |\n",
      "| (1, 2, 2) |      6597       |    38471582     |  0.85%  |\n",
      "| (1, 2, 3) |      1604       |    27082507     |  0.60%  |\n",
      "| (1, 3, 1) |      80906      |    123869088    |  2.73%  |\n",
      "| (1, 3, 2) |      8144       |    46755607     |  1.03%  |\n",
      "| (1, 3, 3) |      1555       |    26835526     |  0.59%  |\n",
      "| (2, 1, 1) |      65747      |    146954055    |  3.23%  |\n",
      "| (2, 1, 2) |      48064      |    301587306    |  6.64%  |\n",
      "| (2, 1, 3) |      22240      |    422136925    |  9.29%  |\n",
      "| (2, 2, 1) |      7961       |    19367074     |  0.43%  |\n",
      "| (2, 2, 2) |      8303       |    52932115     |  1.17%  |\n",
      "| (2, 2, 3) |      4280       |    81064973     |  1.78%  |\n",
      "| (2, 3, 1) |      12616      |    30750964     |  0.68%  |\n",
      "| (2, 3, 2) |      12573      |    79629505     |  1.75%  |\n",
      "| (2, 3, 3) |      5597       |    102909421    |  2.27%  |\n",
      "| (3, 1, 1) |      1105       |     3270905     |  0.07%  |\n",
      "| (3, 1, 2) |      7479       |    53984383     |  1.19%  |\n",
      "| (3, 1, 3) |      19787      |    600122289    | 13.21%  |\n",
      "| (3, 2, 1) |       117       |     373859      |  0.01%  |\n",
      "| (3, 2, 2) |      1498       |    11102102     |  0.24%  |\n",
      "| (3, 2, 3) |      6807       |    217007306    |  4.78%  |\n",
      "| (3, 3, 1) |       183       |     575637      |  0.01%  |\n",
      "| (3, 3, 2) |      2668       |    20055744     |  0.44%  |\n",
      "| (3, 3, 3) |      13597      |    612283448    | 13.48%  |\n",
      "                                                  100.00%\n"
     ]
    }
   ],
   "source": [
    "segs = [(r, f, m) for r in range(1, 4) for f in range(1, 4) for m in range(1, 4)]\n",
    "total_cost = user_df['cost'].sum()\n",
    "percent_146 = 0\n",
    "print('| {:^9s} | {:^15s} | {:^15s} | {:^7s} |'.format('Сегмент', 'Пользователей', 'Оборот', 'Процент'))\n",
    "for seg in segs:\n",
    "    users = user_df['user'][(user_df['F'] == seg[0]) & (user_df['R'] == seg[1]) & (user_df['M'] == seg[2])]\n",
    "    cost = user_df.loc[user_df['user'].isin(users), 'cost'].sum()\n",
    "    percent_seg = cost / total_cost\n",
    "    percent_146 += percent_seg\n",
    "    print('| {:^9s} | {:^15d} | {:^15.0f} | {:^7.2%} |'.format(str(seg), users.count(), cost, percent_seg))\n",
    "print('{:57.2%}'.format(percent_146))"
   ]
  }
 ],
 "metadata": {
  "kernelspec": {
   "display_name": "Python 3",
   "language": "python",
   "name": "python3"
  },
  "language_info": {
   "codemirror_mode": {
    "name": "ipython",
    "version": 3
   },
   "file_extension": ".py",
   "mimetype": "text/x-python",
   "name": "python",
   "nbconvert_exporter": "python",
   "pygments_lexer": "ipython3",
   "version": "3.7.4"
  },
  "pycharm": {
   "stem_cell": {
    "cell_type": "raw",
    "metadata": {
     "collapsed": false
    },
    "source": []
   }
  }
 },
 "nbformat": 4,
 "nbformat_minor": 1
}
