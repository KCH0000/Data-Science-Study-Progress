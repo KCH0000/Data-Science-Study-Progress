{
 "cells": [
  {
   "cell_type": "code",
   "execution_count": 24,
   "metadata": {},
   "outputs": [],
   "source": [
    "import numpy as np\n",
    "import pandas as pd\n",
    "import matplotlib.pyplot as plt\n",
    "from math import *\n",
    "from datetime import datetime, timedelta, date\n",
    "from dateutil import relativedelta as rd"
   ]
  },
  {
   "cell_type": "code",
   "execution_count": 2,
   "metadata": {},
   "outputs": [],
   "source": [
    "orders = pd.read_csv('orders_20190822.csv', sep=';', decimal=\",\")"
   ]
  },
  {
   "cell_type": "code",
   "execution_count": 3,
   "metadata": {},
   "outputs": [
    {
     "data": {
      "text/plain": [
       "['id_o', 'user_id', 'price', 'o_date']"
      ]
     },
     "execution_count": 3,
     "metadata": {},
     "output_type": "execute_result"
    }
   ],
   "source": [
    "list(orders.columns)"
   ]
  },
  {
   "cell_type": "code",
   "execution_count": 4,
   "metadata": {},
   "outputs": [
    {
     "data": {
      "text/plain": [
       "['id', 'user', 'price', 'date']"
      ]
     },
     "execution_count": 4,
     "metadata": {},
     "output_type": "execute_result"
    }
   ],
   "source": [
    "orders = orders.rename(columns={'id_o': 'id', 'user_id': 'user', 'o_date': 'date'})\n",
    "list(orders.columns)"
   ]
  },
  {
   "cell_type": "code",
   "execution_count": 6,
   "metadata": {},
   "outputs": [
    {
     "data": {
      "text/plain": [
       "True"
      ]
     },
     "execution_count": 6,
     "metadata": {},
     "output_type": "execute_result"
    }
   ],
   "source": [
    "# Проверяем уникальность заказав\n",
    "len(orders) == len(orders['id'].unique())"
   ]
  },
  {
   "cell_type": "code",
   "execution_count": 8,
   "metadata": {},
   "outputs": [],
   "source": [
    "# Переводим в фортмат даты и удаяем фейковые заказы\n",
    "orders['date'] = pd.to_datetime(orders.date)\n",
    "orders = orders[~(orders['price']<=0)]"
   ]
  },
  {
   "cell_type": "code",
   "execution_count": 31,
   "metadata": {},
   "outputs": [
    {
     "data": {
      "text/plain": [
       "id_o                int64\n",
       "user_id             int64\n",
       "price             float64\n",
       "o_date     datetime64[ns]\n",
       "dtype: object"
      ]
     },
     "execution_count": 31,
     "metadata": {},
     "output_type": "execute_result"
    }
   ],
   "source": [
    "# Проверяем подготовленный ДатаФрейм\n",
    "DATA.dtypes"
   ]
  },
  {
   "cell_type": "code",
   "execution_count": 23,
   "metadata": {},
   "outputs": [],
   "source": [
    "# Вводим переменные и новые классы\n",
    "period_pred = (datetime(2017, 12, 1), datetime(2017, 12, 31)) #Период для пtimedeltaltaltaltaа\n",
    "days_lost = timedelta(180) # Количеств дней для того, чтобы считить пользователя потерянным \n",
    "CC_pred = 0 # Планируемы оборот\n",
    "order_price_mean = orders['price'].mean()"
   ]
  },
  {
   "cell_type": "code",
   "execution_count": 10,
   "metadata": {},
   "outputs": [
    {
     "data": {
      "text/plain": [
       "322948401.29999995"
      ]
     },
     "execution_count": 10,
     "metadata": {},
     "output_type": "execute_result"
    }
   ],
   "source": [
    "FACT = orders[orders['date'].between(*period_pred)]['price'].sum()\n",
    "FACT"
   ]
  },
  {
   "cell_type": "code",
   "execution_count": 11,
   "metadata": {},
   "outputs": [],
   "source": [
    "#Астивные пользователи, которые не считаются потерянныеми\n",
    "active_users = orders.groupby('user').filter(lambda o: o['id'].count() >= 3 and \n",
    "                                              o['date'].max() > period_pred[0] - days_lost)"
   ]
  },
  {
   "cell_type": "code",
   "execution_count": 12,
   "metadata": {},
   "outputs": [],
   "source": [
    "#Пользователи которые были активны, но перестали покупать\n",
    "lost_users = orders.groupby('user').filter(lambda o: o['id'].count() >= 3 and \n",
    "                                              o['date'].max() <= period_pred[0] - days_lost)"
   ]
  },
  {
   "cell_type": "code",
   "execution_count": 13,
   "metadata": {},
   "outputs": [],
   "source": [
    "#Пользователи, которы сделали всего 1 заказ\n",
    "one_users = orders.groupby('user').filter(lambda o: o['id'].count() == 1)"
   ]
  },
  {
   "cell_type": "code",
   "execution_count": 14,
   "metadata": {},
   "outputs": [],
   "source": [
    "#Пользователи, которы сделали всего 2 заказа\n",
    "two_users = orders.groupby('user').filter(lambda o: o['id'].count() == 2)"
   ]
  },
  {
   "cell_type": "code",
   "execution_count": 16,
   "metadata": {},
   "outputs": [
    {
     "data": {
      "text/plain": [
       "True"
      ]
     },
     "execution_count": 16,
     "metadata": {},
     "output_type": "execute_result"
    }
   ],
   "source": [
    "len(one_users) + len(two_users) + len(active_users) + len(lost_users) == len(orders)"
   ]
  },
  {
   "cell_type": "code",
   "execution_count": 80,
   "metadata": {},
   "outputs": [
    {
     "data": {
      "text/plain": [
       "72815771.55061553"
      ]
     },
     "execution_count": 80,
     "metadata": {},
     "output_type": "execute_result"
    }
   ],
   "source": [
    "# Расчет сколько сколько группа приносит в день и умножаем на кол-во дней\n",
    "active_users_price = active_users.groupby('date')['price'].sum().mean()*(period_pred[1] - period_pred[0]).days\n",
    "\n",
    "active_users_price"
   ]
  },
  {
   "cell_type": "code",
   "execution_count": 105,
   "metadata": {},
   "outputs": [
    {
     "data": {
      "text/plain": [
       "1.34786358"
      ]
     },
     "execution_count": 105,
     "metadata": {},
     "output_type": "execute_result"
    }
   ],
   "source": [
    "# Коэфцифент сезонности из прошлого урокеа\n",
    "season_coefs = [0.98050609, 0.87231913, 1.03665563, 1.04224875, 0.90690877,\n",
    "       0.82487778, 0.77827074, 0.8672703 , 0.88338003, 1.14733963,\n",
    "       1.31235957, 1.34786358]\n",
    "season_K  = season_coefs[period_pred[0].month - 1]\n",
    "season_K"
   ]
  },
  {
   "cell_type": "code",
   "execution_count": 39,
   "metadata": {},
   "outputs": [
    {
     "data": {
      "text/plain": [
       "1.1584786833624443"
      ]
     },
     "execution_count": 39,
     "metadata": {},
     "output_type": "execute_result"
    }
   ],
   "source": [
    "# Прогноз по новым пользователям\n",
    "one_users_mean_order = one_users['price'].mean() #средний заказ людей, которые покупают впервые\n",
    "period_fact = [d - rd.relativedelta(months=12) for d in period_pred]\n",
    "\n",
    "users_ly = one_users[one_users['date'].between(*period_fact)]['id'].count()\n",
    "users_ly_1 = one_users[one_users['date'].between(*[d - rd.relativedelta(months=1) for d in period_fact])]['id'].count()\n",
    "users_lm = one_users[one_users['date'].between(*[d - rd.relativedelta(months=1) for d in period_pred])]['id'].count()\n",
    "k = users_ly / users_ly_1 # Коэффициент проста по факту прошлого года\n",
    "k"
   ]
  },
  {
   "cell_type": "code",
   "execution_count": 41,
   "metadata": {},
   "outputs": [
    {
     "data": {
      "text/plain": [
       "148496824.29416004"
      ]
     },
     "execution_count": 41,
     "metadata": {},
     "output_type": "execute_result"
    }
   ],
   "source": [
    "one_users_price = users_lm * k * one_users_mean_order\n",
    "\n",
    "one_users_price"
   ]
  },
  {
   "cell_type": "code",
   "execution_count": 50,
   "metadata": {},
   "outputs": [],
   "source": [
    "# Рассмотрим пользователей с двумя заказами. Определи средний срок между двумя заками.\n",
    "# Найдем пользователей которые на самом деле отнотсят к группе людей с одним заказом\n",
    "# После сделаем прогноз по этим двум группам\n",
    "left = pd.DataFrame(two_users.groupby('user')['date'].min())\n",
    "right= pd.DataFrame(two_users.groupby('user')['date'].max())\n",
    "min_max_dates = left.merge(right, left_on='user', right_on='user')\n",
    "min_max_dates = min_max_dates.rename(columns={'date_x': 'min', 'date_y': 'max'})"
   ]
  },
  {
   "cell_type": "code",
   "execution_count": 52,
   "metadata": {},
   "outputs": [],
   "source": [
    "# Реальные пользователи с двумя заказами\n",
    "two_users_ids = min_max_dates[~(min_max_dates['min'] == min_max_dates['max'])] "
   ]
  },
  {
   "cell_type": "code",
   "execution_count": 53,
   "metadata": {},
   "outputs": [
    {
     "data": {
      "text/plain": [
       "83104560.93254729"
      ]
     },
     "execution_count": 53,
     "metadata": {},
     "output_type": "execute_result"
    }
   ],
   "source": [
    "# Остальные пользователи, которые сделали два заказа подряд и отностятся к пользователям с одним заказом\n",
    "# Сделаем по ним прогноз, как и ранее\n",
    "one_users_more = len(min_max_dates) - len(two_users_ids)\n",
    "one_users_price_more = one_users_more * k * one_users_mean_order\n",
    "\n",
    "one_users_price_more"
   ]
  },
  {
   "cell_type": "code",
   "execution_count": 54,
   "metadata": {},
   "outputs": [
    {
     "data": {
      "text/plain": [
       "145"
      ]
     },
     "execution_count": 54,
     "metadata": {},
     "output_type": "execute_result"
    }
   ],
   "source": [
    "return_days = (two_users_ids['max'] - two_users_ids['min']).mean().days\n",
    "return_days"
   ]
  },
  {
   "cell_type": "code",
   "execution_count": 55,
   "metadata": {},
   "outputs": [],
   "source": [
    "# Реальные заказа для пользователей с двумя заказми\n",
    "two_users = two_users[two_users['user'].isin(two_users_ids.index)]"
   ]
  },
  {
   "cell_type": "code",
   "execution_count": 56,
   "metadata": {},
   "outputs": [
    {
     "data": {
      "text/plain": [
       "0.15504492277226892"
      ]
     },
     "execution_count": 56,
     "metadata": {},
     "output_type": "execute_result"
    }
   ],
   "source": [
    "# Расчитаеи вероятность того, что пользователь с одним заказом купит еще раз\n",
    "p_from_one = len(two_users)/(len(one_users) + one_users_more + len(two_users))\n",
    "p_from_one"
   ]
  },
  {
   "cell_type": "code",
   "execution_count": 68,
   "metadata": {},
   "outputs": [
    {
     "data": {
      "text/plain": [
       "12655907.693455499"
      ]
     },
     "execution_count": 68,
     "metadata": {},
     "output_type": "execute_result"
    }
   ],
   "source": [
    "# Рассмотри сколько пользователей с одним заказом ранее купит в прогнозируемом периоде\n",
    "period_one_fact = [d - timedelta(return_days) for d in period_pred]\n",
    "two_users_price = one_users[one_users['date'].between(*period_one_fact)]['id'].count() * \\\n",
    "                        p_from_one  * (1 + one_users_more / len(one_users)) * one_users_mean_order\n",
    "\n",
    "two_users_price"
   ]
  },
  {
   "cell_type": "code",
   "execution_count": 61,
   "metadata": {},
   "outputs": [],
   "source": [
    "# Рассчитаем сколько пользователей из ранее потеряных купили еще раз, и расчитаем вероятность возвращения\n",
    "period_fact_lm = [d - rd.relativedelta(months=1) for d in period_pred]\n",
    "lost_users_ly = orders[orders['date'] < period_fact_lm[1]].groupby('user').\\\n",
    "    filter(lambda o: o['id'].count() >= 2 and o['date'].max() <= period_fact_lm[0] - days_lost)"
   ]
  },
  {
   "cell_type": "code",
   "execution_count": 64,
   "metadata": {},
   "outputs": [],
   "source": [
    "# Количество бывших активных пользователей, которые вернулись\n",
    "lost_users_returned = orders.loc[orders['date'].between(*period_fact_lm) & \\\n",
    "                                 orders['user'].isin(lost_users_ly['user'].unique())]"
   ]
  },
  {
   "cell_type": "code",
   "execution_count": 65,
   "metadata": {},
   "outputs": [
    {
     "data": {
      "text/plain": [
       "0.0003618003443563992"
      ]
     },
     "execution_count": 65,
     "metadata": {},
     "output_type": "execute_result"
    }
   ],
   "source": [
    "p_lost_return = len(lost_users_returned)/len(lost_users_ly)\n",
    "p_lost_return"
   ]
  },
  {
   "cell_type": "code",
   "execution_count": 66,
   "metadata": {},
   "outputs": [
    {
     "data": {
      "text/plain": [
       "212654.20432276005"
      ]
     },
     "execution_count": 66,
     "metadata": {},
     "output_type": "execute_result"
    }
   ],
   "source": [
    "lost_users_price = len(lost_users) * p_lost_return * k * order_price_mean\n",
    "lost_users_price"
   ]
  },
  {
   "cell_type": "code",
   "execution_count": 108,
   "metadata": {},
   "outputs": [],
   "source": [
    "TO = one_users_price + one_users_price_more + two_users_price + lost_users_price"
   ]
  },
  {
   "cell_type": "code",
   "execution_count": 113,
   "metadata": {},
   "outputs": [
    {
     "name": "stdout",
     "output_type": "stream",
     "text": [
      "Факт: 322948401, Прогноз: 329512138. Ошибка 2.032%\n"
     ]
    }
   ],
   "source": [
    "print('Факт: {:.0f}, Прогноз: {:.0f}. Ошибка {:0.3%}'.format(FACT, TO * season_K, TO * season_K/FACT - 1))"
   ]
  }
 ],
 "metadata": {
  "kernelspec": {
   "display_name": "Python 3",
   "language": "python",
   "name": "python3"
  },
  "language_info": {
   "codemirror_mode": {
    "name": "ipython",
    "version": 3
   },
   "file_extension": ".py",
   "mimetype": "text/x-python",
   "name": "python",
   "nbconvert_exporter": "python",
   "pygments_lexer": "ipython3",
   "version": "3.7.4"
  }
 },
 "nbformat": 4,
 "nbformat_minor": 2
}
