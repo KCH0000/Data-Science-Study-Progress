{
 "cells": [
  {
   "cell_type": "code",
   "execution_count": 307,
   "metadata": {},
   "outputs": [],
   "source": [
    "import numpy as np\n",
    "import matplotlib.pyplot as plt\n",
    "from sklearn.preprocessing import StandardScaler, MinMaxScaler, Normalizer\n",
    "from sklearn.datasets import make_regression"
   ]
  },
  {
   "cell_type": "code",
   "execution_count": 329,
   "metadata": {},
   "outputs": [],
   "source": [
    "calc_mse = lambda y, y_pred: np.mean((y - y_pred)**2)\n",
    "\n",
    "def eval_model(X, y, iterations=1e+6, alpha=1e-3, eps=1e-8, l1_alpha=0, l2_alpha=0, callback=None):\n",
    "    W = np.random.randn(X.shape[0])\n",
    "    n = X.shape[1]\n",
    "    err_prev, err_diff, i = 0, np.inf, 0\n",
    "    while err_diff > eps and i < iterations:\n",
    "        y_pred = np.dot(W, X)\n",
    "        err = calc_mse(y, y_pred)\n",
    "        err_diff , err_prev = abs(err_prev - err), err\n",
    "        l1_term = l1_alpha * np.sign(W) if l1_alpha else 0\n",
    "        l2_term = l2_alpha * W if l2_alpha else 0 \n",
    "        W -= (alpha * (1/n * 2 * np.sum(X * (y_pred - y), axis=1)) + l1_term + l2_term)\n",
    "        if callback:\n",
    "            callback(W=W, i=i, err=err)\n",
    "        i += 1\n",
    "    return W\n",
    "\n",
    "\n",
    "def eval_sgd_model(X, y, n_batch=3, iterations=1e+5, alpha=1e-3, eps=1e-8, callback=None):\n",
    "    W = np.random.randn(X.shape[0])\n",
    "    n = X.shape[1]\n",
    "    err_prev, err_diff, i = 0, np.inf, 0\n",
    "    \n",
    "    def split(n):\n",
    "        batch, rem = divmod(X.shape[1], n) \n",
    "        for i in range(0, X.shape[1] - rem, batch):\n",
    "            begin, end = i + min(i, rem), i + batch + min(i + batch, rem)\n",
    "            yield X[:, begin:end], y[begin:end]\n",
    "            \n",
    "    while err_diff > eps and i < iterations:\n",
    "        for X_batch, y_batch in split(n_batch):\n",
    "            y_batch_pred = np.dot(W, X_batch)\n",
    "            W -= (alpha * (1/n * 2 * np.sum(X_batch * (y_batch_pred - y_batch), axis=1)))\n",
    "            y_pred = np.dot(W, X)    \n",
    "            err = calc_mse(y, y_pred)\n",
    "            err_diff , err_prev = abs(err_prev - err), err\n",
    "            if callback:\n",
    "                callback(W=W, i=i, err=err)\n",
    "        i += 1\n",
    "    return W\n",
    "\n",
    "\n",
    "def print_w(W, i, err):\n",
    "    if i % 10000 == 0:\n",
    "        print(W, err)\n",
    "    "
   ]
  },
  {
   "cell_type": "code",
   "execution_count": 305,
   "metadata": {},
   "outputs": [],
   "source": [
    "X = np.array([[1, 1, 1, 1, 1, 1, 1, 1, 1, 1],\n",
    "              [1, 1, 2, 1, 3, 0, 5, 10, 1, 2],\n",
    "              [500, 700, 750, 600, 1450,\n",
    "               800, 1500, 2000, 450, 1000],\n",
    "              [1, 1, 2, 1, 2, \n",
    "               1, 3, 3, 1, 2]]).astype('float')\n",
    "\n",
    "y = [45, 55, 50, 59, 65,\n",
    "    35, 75, 80, 50, 60]"
   ]
  },
  {
   "cell_type": "code",
   "execution_count": 141,
   "metadata": {},
   "outputs": [],
   "source": []
  },
  {
   "cell_type": "code",
   "execution_count": 306,
   "metadata": {},
   "outputs": [
    {
     "data": {
      "text/plain": [
       "array([[ 1.        ,  1.        ,  1.        ,  1.        ,  1.        ,\n",
       "         1.        ,  1.        ,  1.        ,  1.        ,  1.        ],\n",
       "       [-0.57142857, -0.57142857, -0.21428571, -0.57142857,  0.14285714,\n",
       "        -0.92857143,  0.85714286,  2.64285714, -0.57142857, -0.21428571],\n",
       "       [-0.97958969, -0.56713087, -0.46401617, -0.77336028,  0.97958969,\n",
       "        -0.36090146,  1.08270439,  2.11385144, -1.08270439,  0.05155735],\n",
       "       [-0.89625816, -0.89625816,  0.38411064, -0.89625816,  0.38411064,\n",
       "        -0.89625816,  1.66447944,  1.66447944, -0.89625816,  0.38411064]])"
      ]
     },
     "execution_count": 306,
     "metadata": {},
     "output_type": "execute_result"
    }
   ],
   "source": [
    "scaler = StandardScaler()\n",
    "X[1:] = scaler.fit_transform(X[1:].T).T\n",
    "X"
   ]
  },
  {
   "cell_type": "markdown",
   "metadata": {},
   "source": [
    "<H2>Задание 1</H2>\n",
    "Сгенерировать датасет при помощи sklearn.datasets.make_regression и обучить линейную модель при помощи градиентного и стохастического градиентного спуска. Нанести среднеквадратичную ошибку для обоих методов на один график, сделать выводы о разнице скорости сходимости каждого из методов."
   ]
  },
  {
   "cell_type": "code",
   "execution_count": 318,
   "metadata": {},
   "outputs": [],
   "source": [
    "X_2, y_2 = make_regression(n_features=10, n_samples=1000, random_state=42)"
   ]
  },
  {
   "cell_type": "code",
   "execution_count": 330,
   "metadata": {},
   "outputs": [
    {
     "data": {
      "text/plain": [
       "array([32.12434212, 76.32834415, 33.6917284 ,  9.42818357,  5.16574961,\n",
       "       58.28673694, 29.43431643,  7.18124   , 10.30225533, 75.31936733])"
      ]
     },
     "execution_count": 330,
     "metadata": {},
     "output_type": "execute_result"
    }
   ],
   "source": [
    "eval_mse_iter = []\n",
    "eval_sgd_mse_iter = []\n",
    "\n",
    "def collect_eval_mse(err, **kwargs):\n",
    "     eval_mse_iter.append(err)\n",
    "        \n",
    "def collect_eval_sgd_mse(err, **kwargs):\n",
    "     eval_sgd_mse_iter.append(err)\n",
    "    \n",
    "eval_model(X_2.T, y_2, callback=collect_eval_mse)\n",
    "eval_sgd_model(X_2.T, y_2, callback=collect_eval_sgd_mse)"
   ]
  },
  {
   "cell_type": "code",
   "execution_count": 338,
   "metadata": {},
   "outputs": [
    {
     "data": {
      "image/png": "[encoded data removed]",
      "text/plain": [
       "<Figure size 936x432 with 1 Axes>"
      ]
     },
     "metadata": {
      "needs_background": "light"
     },
     "output_type": "display_data"
    }
   ],
   "source": [
    "plt.figure(figsize=(13, 6))\n",
    "plt.title('eval MSE VS eval sgd MSE')\n",
    "plt.xlabel('Iteration number')\n",
    "plt.ylabel('MSE')\n",
    "\n",
    "min_len = min(len(eval_mse_iter), len(eval_sgd_mse_iter))\n",
    "plt.plot(eval_mse_iter[:min_len], range(1, min_len + 1), label='EVAL MSE')\n",
    "plt.plot(eval_sgd_mse_iter[:min_len], range(1, min_len + 1), label='EVAL SGD MSE')\n",
    "plt.legend()\n",
    "plt.show()"
   ]
  },
  {
   "cell_type": "markdown",
   "metadata": {},
   "source": [
    "<h2>Задание 2</h2>\n",
    "Модифицировать решение первого задания путем добавления  L2 -регуляризации (в функцию, считающую MSE, нужно добавить норму вектора весов) и сравнить результаты."
   ]
  },
  {
   "cell_type": "markdown",
   "metadata": {},
   "source": [
    "***Ответ***<br>\n",
    "Добавлено в функции. см. описание."
   ]
  },
  {
   "cell_type": "markdown",
   "metadata": {},
   "source": [
    "<h2>Задание 3</h2>\n",
    "Постройте график зависимости весов всех признаков от lambda в L2-регуляризации (на данных из урока)."
   ]
  },
  {
   "cell_type": "code",
   "execution_count": 339,
   "metadata": {},
   "outputs": [
    {
     "data": {
      "text/plain": [
       "array([[ 1.        ,  1.        ,  1.        ,  1.        ,  1.        ,\n",
       "         1.        ,  1.        ,  1.        ,  1.        ,  1.        ],\n",
       "       [-0.57142857, -0.57142857, -0.21428571, -0.57142857,  0.14285714,\n",
       "        -0.92857143,  0.85714286,  2.64285714, -0.57142857, -0.21428571],\n",
       "       [-0.97958969, -0.56713087, -0.46401617, -0.77336028,  0.97958969,\n",
       "        -0.36090146,  1.08270439,  2.11385144, -1.08270439,  0.05155735],\n",
       "       [-0.89625816, -0.89625816,  0.38411064, -0.89625816,  0.38411064,\n",
       "        -0.89625816,  1.66447944,  1.66447944, -0.89625816,  0.38411064]])"
      ]
     },
     "execution_count": 339,
     "metadata": {},
     "output_type": "execute_result"
    }
   ],
   "source": [
    "X"
   ]
  },
  {
   "cell_type": "code",
   "execution_count": 391,
   "metadata": {},
   "outputs": [],
   "source": [
    "l2_weigths = []\n",
    "l2_vals = []\n",
    "l2_alpha = 0.1\n",
    "while l2_alpha > 1e-5:\n",
    "    l2_weigths.append(eval_model(X, y, l2_alpha=l2_alpha))\n",
    "    l2_vals.append(l2_alpha)\n",
    "    l2_alpha /= 1.3"
   ]
  },
  {
   "cell_type": "code",
   "execution_count": 392,
   "metadata": {},
   "outputs": [
    {
     "data": {
      "text/plain": [
       "(36, 4)"
      ]
     },
     "execution_count": 392,
     "metadata": {},
     "output_type": "execute_result"
    }
   ],
   "source": [
    "l2_weigths = np.array(l2_weigths)\n",
    "l2_weigths.shape"
   ]
  },
  {
   "cell_type": "code",
   "execution_count": 410,
   "metadata": {},
   "outputs": [
    {
     "data": {
      "image/png": "[encoded data removed]",
      "text/plain": [
       "<Figure size 936x432 with 1 Axes>"
      ]
     },
     "metadata": {
      "needs_background": "light"
     },
     "output_type": "display_data"
    }
   ],
   "source": [
    "plt.figure(figsize=(13, 6))\n",
    "for feat in range(l2_weigths.shape[1]):\n",
    "    plt.plot(l2_weigths[:, feat], l2_vals, label=f'Признак {feat + 1}')\n",
    "plt.xlim([0, 20])\n",
    "plt.ylim([-0.01, 1e-1])\n",
    "plt.title('Зависимость признаков от L2')\n",
    "plt.xlabel('Вес признака')\n",
    "plt.ylabel('l2_alpha')\n",
    "plt.legend()\n",
    "plt.show()"
   ]
  },
  {
   "cell_type": "markdown",
   "metadata": {},
   "source": [
    "<h2>Задание 4</h2>\n",
    "Можно ли к одному и тому же признаку применить сразу и нормализацию, и стандартизацию?"
   ]
  },
  {
   "cell_type": "markdown",
   "metadata": {},
   "source": [
    "***Ответ***<br>\n",
    "Нормализация отображает признаки на отрезок [0.1], при этом будут сохранены все пропорции, т.е. просле применения стандартизации к нормализованным данным, мы получим тот же рузельтат, если бы применяли стандартизацию без применения нормализации<br>\n",
    "Аналогично и в другой последовательности стандартизация -> нормальлизация."
   ]
  },
  {
   "cell_type": "markdown",
   "metadata": {},
   "source": [
    "<h2>Задание 5</h2>\n",
    "*. Напишите функцию наподобие eval_model_reg2, но для применения L1-регуляризации."
   ]
  },
  {
   "cell_type": "markdown",
   "metadata": {},
   "source": [
    "***Ответ***<br>\n",
    "См. функцию в начале"
   ]
  }
 ],
 "metadata": {
  "kernelspec": {
   "display_name": "Python 3",
   "language": "python",
   "name": "python3"
  },
  "language_info": {
   "codemirror_mode": {
    "name": "ipython",
    "version": 3
   },
   "file_extension": ".py",
   "mimetype": "text/x-python",
   "name": "python",
   "nbconvert_exporter": "python",
   "pygments_lexer": "ipython3",
   "version": "3.7.4"
  }
 },
 "nbformat": 4,
 "nbformat_minor": 2
}
